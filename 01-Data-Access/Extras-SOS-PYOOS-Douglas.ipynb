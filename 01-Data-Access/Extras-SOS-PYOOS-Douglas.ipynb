{
 "cells": [
  {
   "cell_type": "code",
   "execution_count": null,
   "metadata": {
    "slideshow": {
     "slide_type": "fragment"
    }
   },
   "outputs": [],
   "source": [
    "code = \"ep082020\"\n",
    "hurricane = f\"{code}_5day\""
   ]
  },
  {
   "cell_type": "code",
   "execution_count": null,
   "metadata": {
    "slideshow": {
     "slide_type": "skip"
    }
   },
   "outputs": [],
   "source": [
    "import os\n",
    "import sys\n",
    "from urllib.request import urlopen, urlretrieve\n",
    "\n",
    "import lxml.html\n",
    "\n",
    "\n",
    "\n",
    "def url_lister(url):\n",
    "    urls = []\n",
    "    connection = urlopen(url)\n",
    "    dom = lxml.html.fromstring(connection.read())\n",
    "    for link in dom.xpath(\"//a/@href\"):\n",
    "        urls.append(link)\n",
    "    return urls\n",
    "\n",
    "def download(url, path):\n",
    "    sys.stdout.write(fname + \"\\n\")\n",
    "    if not os.path.isfile(path):\n",
    "        urlretrieve(\n",
    "            url,\n",
    "            filename=path,\n",
    "            reporthook=progress_hook(sys.stdout)\n",
    "        )\n",
    "        sys.stdout.write(\"\\n\")\n",
    "        sys.stdout.flush()\n",
    "\n",
    "\n",
    "def progress_hook(out):\n",
    "    \"\"\"\n",
    "    Return a progress hook function, suitable for passing to\n",
    "    urllib.retrieve, that writes to the file object *out*.\n",
    "    \"\"\"\n",
    "\n",
    "    def it(n, bs, ts):\n",
    "        got = n * bs\n",
    "        if ts < 0:\n",
    "            outof = \"\"\n",
    "        else:\n",
    "            # On the last block n*bs can exceed ts, so we clamp it\n",
    "            # to avoid awkward questions.\n",
    "            got = min(got, ts)\n",
    "            outof = \"/%d [%d%%]\" % (ts, 100 * got // ts)\n",
    "        out.write(\"\\r  %d%s\" % (got, outof))\n",
    "        out.flush()\n",
    "    return it"
   ]
  },
  {
   "cell_type": "code",
   "execution_count": null,
   "metadata": {
    "slideshow": {
     "slide_type": "slide"
    }
   },
   "outputs": [],
   "source": [
    "nhc = \"http://www.nhc.noaa.gov/gis/forecast/archive/\"\n",
    "\n",
    "fnames = [\n",
    "    fname for fname in url_lister(nhc)\n",
    "    if fname.startswith(hurricane) and \"latest\" not in fname\n",
    "]"
   ]
  },
  {
   "cell_type": "code",
   "execution_count": null,
   "metadata": {
    "slideshow": {
     "slide_type": "skip"
    }
   },
   "outputs": [],
   "source": [
    "base = os.path.abspath(\n",
    "    os.path.join(os.path.curdir, \"data\", hurricane)\n",
    ")\n",
    "\n",
    "if not os.path.exists(base):\n",
    "    os.makedirs(base)"
   ]
  },
  {
   "cell_type": "code",
   "execution_count": null,
   "metadata": {
    "scrolled": true,
    "slideshow": {
     "slide_type": "slide"
    }
   },
   "outputs": [],
   "source": [
    "for fname in fnames:\n",
    "    url = f\"{nhc}/{fname}\"\n",
    "    print(url)\n",
    "    path = os.path.join(base, fname)\n",
    "    download(url, path)"
   ]
  },
  {
   "cell_type": "code",
   "execution_count": null,
   "metadata": {
    "slideshow": {
     "slide_type": "skip"
    }
   },
   "outputs": [],
   "source": [
    "import os\n",
    "\n",
    "\n",
    "os.environ[\"CPL_ZIP_ENCODING\"] = \"UTF-8\"\n",
    "os.environ[\"TZ\"] = \"GMT0\""
   ]
  },
  {
   "cell_type": "code",
   "execution_count": null,
   "metadata": {
    "slideshow": {
     "slide_type": "slide"
    }
   },
   "outputs": [],
   "source": [
    "from glob import glob\n",
    "import geopandas\n",
    "\n",
    "\n",
    "cones, points = [], []\n",
    "for fname in sorted(\n",
    "    glob(os.path.join(base, f\"{hurricane}_0*.zip\"))\n",
    "):\n",
    "    number = os.path.splitext(\n",
    "        os.path.split(fname)[-1])[0].split(\"_\")[-1]\n",
    "    pgn = geopandas.read_file(\n",
    "        f\"/{code}-{number}_5day_pgn.shp\",\n",
    "        vfs=f\"zip://{fname}\"\n",
    "    )\n",
    "    cones.append(pgn)\n",
    "\n",
    "    pts = geopandas.read_file(\n",
    "        f\"/{code}-{number}_5day_pts.shp\",\n",
    "        vfs=f\"zip://{fname}\"\n",
    "    )\n",
    "    # Only the first \"obsevartion.\"\n",
    "    points.append(pts.iloc[0])"
   ]
  },
  {
   "cell_type": "code",
   "execution_count": null,
   "metadata": {
    "slideshow": {
     "slide_type": "-"
    }
   },
   "outputs": [],
   "source": [
    "colors = {\n",
    "    \"Subtropical Depression\": \"yellow\",\n",
    "    \"Tropical Depression\": \"yellow\",\n",
    "    \"Tropical Storm\": \"orange\",\n",
    "    \"Subtropical Storm\": \"orange\",\n",
    "    \"Hurricane\": \"red\",\n",
    "    \"Major Hurricane\": \"crimson\"\n",
    "}"
   ]
  },
  {
   "cell_type": "code",
   "execution_count": null,
   "metadata": {
    "slideshow": {
     "slide_type": "-"
    }
   },
   "outputs": [],
   "source": [
    "import dateutil\n",
    "\n",
    "\n",
    "start = points[0][\"FLDATELBL\"].strip(\" HST\")\n",
    "end = points[-1][\"FLDATELBL\"].strip(\" HST\")\n",
    "\n",
    "start = dateutil.parser.parse(start)\n",
    "end = dateutil.parser.parse(end)"
   ]
  },
  {
   "cell_type": "code",
   "execution_count": null,
   "metadata": {
    "slideshow": {
     "slide_type": "-"
    }
   },
   "outputs": [],
   "source": [
    "from shapely.geometry import LineString\n",
    "from shapely.ops import cascaded_union\n",
    "\n",
    "last_cone = cones[-1][\"geometry\"].iloc[0]\n",
    "track = LineString([point[\"geometry\"] for point in points])\n",
    "\n",
    "polygon = cascaded_union([last_cone, track])\n",
    "\n",
    "# Add a buffer to find the stations along the track.\n",
    "bbox = polygon.buffer(2).bounds"
   ]
  },
  {
   "cell_type": "code",
   "execution_count": null,
   "metadata": {
    "slideshow": {
     "slide_type": "-"
    }
   },
   "outputs": [],
   "source": [
    "strbbox = \", \".join(format(v, \".2f\") for v in bbox)\n",
    "print(f\"bbox: {strbbox}\\nstart: {start}\\n  end: {end}\")"
   ]
  },
  {
   "cell_type": "code",
   "execution_count": null,
   "metadata": {
    "slideshow": {
     "slide_type": "skip"
    }
   },
   "outputs": [],
   "source": [
    "import cf_units\n",
    "from ioos_tools.ioos import collector2table\n",
    "import pandas as pd\n",
    "from pyoos.collectors.coops.coops_sos import CoopsSos\n",
    "from retrying import retry\n",
    "\n",
    "\n",
    "@retry(stop_max_attempt_number=5, wait_fixed=3000)\n",
    "def get_coops(start, end, sos_name, units, bbox, verbose=False):\n",
    "    collector = CoopsSos()\n",
    "    collector.set_bbox(bbox)\n",
    "    collector.end_time = end\n",
    "    collector.start_time = start\n",
    "    collector.variables = [sos_name]\n",
    "    ofrs = collector.server.offerings\n",
    "    title = collector.server.identification.title\n",
    "    config = dict(\n",
    "        units=units,\n",
    "        sos_name=sos_name,\n",
    "    )\n",
    "\n",
    "    data = collector2table(\n",
    "        collector=collector,\n",
    "        config=config,\n",
    "        col=f\"{sos_name} ({units.format(cf_units.UT_ISO_8859_1)})\"\n",
    "    )\n",
    "\n",
    "    # Clean the table.\n",
    "    table = dict(\n",
    "        station_name=[s._metadata.get(\"station_name\") for s in data],\n",
    "        station_code=[s._metadata.get(\"station_code\") for s in data],\n",
    "        sensor=[s._metadata.get(\"sensor\") for s in data],\n",
    "        lon=[s._metadata.get(\"lon\") for s in data],\n",
    "        lat=[s._metadata.get(\"lat\") for s in data],\n",
    "        depth=[s._metadata.get(\"depth\", \"NA\") for s in data],\n",
    "    )\n",
    "\n",
    "    table = pd.DataFrame(table).set_index(\"station_name\")\n",
    "    if verbose:\n",
    "        print(\"Collector offerings\")\n",
    "        print(f\"{title}: {len(ofrs)} offerings\")\n",
    "    return data, table"
   ]
  },
  {
   "cell_type": "code",
   "execution_count": null,
   "metadata": {
    "scrolled": false,
    "slideshow": {
     "slide_type": "slide"
    }
   },
   "outputs": [],
   "source": [
    "ssh, ssh_table = get_coops(\n",
    "    start=start,\n",
    "    end=end,\n",
    "    sos_name=\"water_surface_height_above_reference_datum\",\n",
    "    units=cf_units.Unit(\"meters\"),\n",
    "    bbox=bbox,\n",
    ")"
   ]
  },
  {
   "cell_type": "code",
   "execution_count": null,
   "metadata": {
    "slideshow": {
     "slide_type": "slide"
    }
   },
   "outputs": [],
   "source": [
    "ssh_table.head()"
   ]
  },
  {
   "cell_type": "code",
   "execution_count": null,
   "metadata": {
    "slideshow": {
     "slide_type": "slide"
    }
   },
   "outputs": [],
   "source": [
    "wind_speed, wind_speed_table = get_coops(\n",
    "    start=start,\n",
    "    end=end,\n",
    "    sos_name=\"wind_speed\",\n",
    "    units=cf_units.Unit(\"m/s\"),\n",
    "    bbox=bbox,\n",
    ")"
   ]
  },
  {
   "cell_type": "code",
   "execution_count": null,
   "metadata": {
    "slideshow": {
     "slide_type": "slide"
    }
   },
   "outputs": [],
   "source": [
    "wind_speed_table.tail()"
   ]
  },
  {
   "cell_type": "code",
   "execution_count": null,
   "metadata": {
    "slideshow": {
     "slide_type": "slide"
    }
   },
   "outputs": [],
   "source": [
    "common = set(\n",
    "    ssh_table[\"station_code\"]\n",
    ").intersection(wind_speed_table[\"station_code\"])"
   ]
  },
  {
   "cell_type": "code",
   "execution_count": null,
   "metadata": {
    "slideshow": {
     "slide_type": "-"
    }
   },
   "outputs": [],
   "source": [
    "ssh_obs, win_obs = [], []\n",
    "for station in common:\n",
    "    ssh_obs.extend(\n",
    "        [\n",
    "            obs for obs in ssh if\n",
    "            obs._metadata[\"station_code\"] == station\n",
    "        ]\n",
    "    )\n",
    "    win_obs.extend(\n",
    "        [\n",
    "            obs for obs in wind_speed if\n",
    "            obs._metadata[\"station_code\"] == station\n",
    "        ]\n",
    "    )"
   ]
  },
  {
   "cell_type": "code",
   "execution_count": null,
   "metadata": {
    "slideshow": {
     "slide_type": "slide"
    }
   },
   "outputs": [],
   "source": [
    "index = pd.date_range(\n",
    "    start=start,\n",
    "    end=end,\n",
    "    freq=\"15min\"\n",
    ")\n",
    "\n",
    "# Re-index and rename series.\n",
    "ssh_observations = []\n",
    "for series in ssh_obs:\n",
    "    _metadata = series._metadata\n",
    "    series.index = series.index.tz_localize(None)\n",
    "    obs = series.reindex(index=index, limit=1, method=\"nearest\")\n",
    "    obs._metadata = _metadata\n",
    "    obs.name = _metadata[\"station_name\"]\n",
    "    ssh_observations.append(obs)\n",
    "\n",
    "winds_observations = []\n",
    "for series in win_obs:\n",
    "    _metadata = series._metadata\n",
    "    series.index = series.index.tz_localize(None)\n",
    "    obs = series.reindex(index=index, limit=1, method=\"nearest\")\n",
    "    obs._metadata = _metadata\n",
    "    obs.name = _metadata[\"station_name\"]\n",
    "    winds_observations.append(obs)"
   ]
  },
  {
   "cell_type": "code",
   "execution_count": null,
   "metadata": {
    "code_folding": [
     12
    ],
    "slideshow": {
     "slide_type": "skip"
    }
   },
   "outputs": [],
   "source": [
    "from bokeh.resources import CDN\n",
    "from bokeh.plotting import figure\n",
    "from bokeh.embed import file_html\n",
    "from bokeh.models import Range1d, LinearAxis, HoverTool\n",
    "\n",
    "from folium import IFrame\n",
    "\n",
    "# Plot defaults.\n",
    "tools = \"pan,box_zoom,reset\"\n",
    "width, height = 750, 250\n",
    "\n",
    "\n",
    "def make_plot(ssh, wind):\n",
    "    p = figure(toolbar_location=\"above\",\n",
    "               x_axis_type=\"datetime\",\n",
    "               width=width,\n",
    "               height=height,\n",
    "               tools=tools,\n",
    "               title=ssh.name)\n",
    "\n",
    "    p.yaxis.axis_label = \"wind speed (m/s)\"\n",
    "\n",
    "    l0 = p.line(\n",
    "        x=wind.index,\n",
    "        y=wind.values,\n",
    "        line_width=5,\n",
    "        line_cap=\"round\",\n",
    "        line_join=\"round\",\n",
    "        legend=\"wind speed (m/s)\",\n",
    "        color=\"#9900cc\",\n",
    "        alpha=0.5,\n",
    "    )\n",
    "\n",
    "    p.extra_y_ranges = {}\n",
    "    p.extra_y_ranges[\"y2\"] = Range1d(\n",
    "        start=-1,\n",
    "        end=3.5\n",
    "    )\n",
    "\n",
    "    p.add_layout(\n",
    "        LinearAxis(\n",
    "            y_range_name=\"y2\",\n",
    "            axis_label=\"ssh (m)\"),\n",
    "        \"right\"\n",
    "    )\n",
    "\n",
    "    l1 = p.line(\n",
    "        x=ssh.index,\n",
    "        y=ssh.values,\n",
    "        line_width=5,\n",
    "        line_cap=\"round\",\n",
    "        line_join=\"round\",\n",
    "        legend=\"ssh (m)\",\n",
    "        color=\"#0000ff\",\n",
    "        alpha=0.5,\n",
    "        y_range_name=\"y2\",\n",
    "    )\n",
    "\n",
    "    p.legend.location = \"top_left\"\n",
    "\n",
    "    p.add_tools(\n",
    "        HoverTool(\n",
    "            tooltips=[\n",
    "                (\"wind speed (m/s)\", \"@y\"),\n",
    "            ],\n",
    "            renderers=[l0],\n",
    "        ),\n",
    "        HoverTool(\n",
    "            tooltips=[\n",
    "                (\"ssh (m)\", \"@y\"),\n",
    "            ],\n",
    "            renderers=[l1],\n",
    "        ),\n",
    "    )\n",
    "    return p\n",
    "\n",
    "\n",
    "def make_marker(p, location, fname):\n",
    "    html = file_html(p, CDN, fname)\n",
    "    iframe = IFrame(html, width=width+45, height=height+80)\n",
    "\n",
    "    popup = folium.Popup(iframe, max_width=2650)\n",
    "    icon = folium.Icon(color=\"green\", icon=\"stats\")\n",
    "    marker = folium.Marker(location=location,\n",
    "                           popup=popup,\n",
    "                           icon=icon)\n",
    "    return marker"
   ]
  },
  {
   "cell_type": "markdown",
   "metadata": {
    "slideshow": {
     "slide_type": "slide"
    }
   },
   "source": [
    "### Let's assemble all the parts in our map!"
   ]
  },
  {
   "cell_type": "code",
   "execution_count": null,
   "metadata": {
    "slideshow": {
     "slide_type": "-"
    }
   },
   "outputs": [],
   "source": [
    "import folium\n",
    "from folium.plugins import Fullscreen, MarkerCluster\n",
    "from ioos_tools.ioos import get_coordinates\n",
    "\n",
    "\n",
    "lon = track.centroid.x\n",
    "lat = track.centroid.y\n",
    "\n",
    "m = folium.Map(\n",
    "    location=[lat, lon], tiles=\"OpenStreetMap\", zoom_start=4)\n",
    "\n",
    "Fullscreen(\n",
    "    position=\"topright\", force_separate_button=True).add_to(m)\n",
    "\n",
    "marker_cluster0 = MarkerCluster(name=\"Observations\")\n",
    "marker_cluster1 = MarkerCluster(name=\"Past predictions\")\n",
    "marker_cluster0.add_to(m)\n",
    "marker_cluster1.add_to(m);"
   ]
  },
  {
   "cell_type": "code",
   "execution_count": null,
   "metadata": {
    "slideshow": {
     "slide_type": "slide"
    }
   },
   "outputs": [],
   "source": [
    "url = (\"http://oos.soest.hawaii.edu/thredds/wms/hioos/\"\n",
    "       \"satellite/dhw_5km\")\n",
    "w = folium.WmsTileLayer(\n",
    "    url,\n",
    "    name=\"Sea Surface Temperature\",\n",
    "    fmt=\"image/png\",\n",
    "    layers=\"CRW_SST\",\n",
    "    attr=\"PacIOOS TDS\",\n",
    "    overlay=True,\n",
    "    transparent=True)\n",
    "\n",
    "w.add_to(m);"
   ]
  },
  {
   "cell_type": "code",
   "execution_count": null,
   "metadata": {
    "slideshow": {
     "slide_type": "slide"
    }
   },
   "outputs": [],
   "source": [
    "def style_function(feature):\n",
    "    return {\n",
    "        \"fillOpacity\": 0,\n",
    "        \"color\": \"black\",\n",
    "        \"stroke\": 1,\n",
    "        \"weight\": 0.5,\n",
    "        \"opacity\": 0.2,\n",
    "    }\n",
    "\n",
    "# Past cone predictions.\n",
    "for cone in cones[:-1]:\n",
    "    folium.GeoJson(\n",
    "        data=cone.__geo_interface__,\n",
    "        style_function=style_function,\n",
    "    ).add_to(marker_cluster1)\n",
    "\n",
    "# Latest cone prediction.\n",
    "latest = cones[-1]\n",
    "folium.GeoJson(\n",
    "    data=latest.__geo_interface__,\n",
    "    name=f\"Cone prediction as of {latest['ADVDATE'].values[0]}\",\n",
    ").add_to(m);"
   ]
  },
  {
   "cell_type": "code",
   "execution_count": null,
   "metadata": {
    "slideshow": {
     "slide_type": "slide"
    }
   },
   "outputs": [],
   "source": [
    "# Latest points prediction.\n",
    "for k, row in pts.iterrows():\n",
    "    date = row[\"FLDATELBL\"]\n",
    "    hclass = row[\"TCDVLP\"]\n",
    "    location = row[\"LAT\"], row[\"LON\"]\n",
    "    popup = f\"{date}<br>{hclass}\"\n",
    "    folium.CircleMarker(\n",
    "        location=location,\n",
    "        radius=10,\n",
    "        fill=True,\n",
    "        color=colors[hclass],\n",
    "        popup=popup,\n",
    "    ).add_to(m);"
   ]
  },
  {
   "cell_type": "code",
   "execution_count": null,
   "metadata": {
    "slideshow": {
     "slide_type": "slide"
    }
   },
   "outputs": [],
   "source": [
    "# All the points along the track.\n",
    "for point in points:\n",
    "    date = point[\"FLDATELBL\"]\n",
    "    hclass = point[\"TCDVLP\"]\n",
    "    location = point[\"LAT\"], point[\"LON\"]\n",
    "    popup = f\"{date}<br>{hclass}\"\n",
    "    folium.CircleMarker(\n",
    "        location=location,\n",
    "        radius=5,\n",
    "        fill=True,\n",
    "        color=colors[hclass],\n",
    "        popup=popup,\n",
    "    ).add_to(m);"
   ]
  },
  {
   "cell_type": "code",
   "execution_count": null,
   "metadata": {
    "slideshow": {
     "slide_type": "slide"
    }
   },
   "outputs": [],
   "source": [
    "# Observations.\n",
    "for ssh, wind in zip(ssh_observations, winds_observations):\n",
    "    fname = ssh._metadata[\"station_code\"]\n",
    "    location = ssh._metadata[\"lat\"], ssh._metadata[\"lon\"]\n",
    "    p = make_plot(ssh, wind)\n",
    "    marker = make_marker(p, location=location, fname=fname)\n",
    "    marker.add_to(marker_cluster0)\n",
    "\n",
    "folium.LayerControl().add_to(m)\n",
    "\n",
    "p = folium.PolyLine(get_coordinates(bbox),\n",
    "                    color=\"#009933\",\n",
    "                    weight=1,\n",
    "                    opacity=0.2)\n",
    "\n",
    "p.add_to(m);"
   ]
  },
  {
   "cell_type": "code",
   "execution_count": null,
   "metadata": {
    "slideshow": {
     "slide_type": "skip"
    }
   },
   "outputs": [],
   "source": [
    "import warnings\n",
    "warnings.simplefilter(\"ignore\")\n",
    "\n",
    "\n",
    "def embed_map(m):\n",
    "    from IPython.display import HTML\n",
    "    m.save(\"index.html\")\n",
    "    with open(\"index.html\") as f:\n",
    "        html = f.read()\n",
    "\n",
    "    srcdoc = html.replace('\"', '&quot;')\n",
    "    iframe = f'<iframe srcdoc=\"{srcdoc}\" style=\"width: 100%; height: 750px; border: none\"></iframe>'\n",
    "    return HTML(iframe)"
   ]
  },
  {
   "cell_type": "code",
   "execution_count": null,
   "metadata": {
    "slideshow": {
     "slide_type": "slide"
    }
   },
   "outputs": [],
   "source": [
    "embed_map(m)"
   ]
  }
 ],
 "metadata": {
  "_draft": {
   "nbviewer_url": "https://gist.github.com/08bdb4c3f05d8449ded5c01c73238e15"
  },
  "anaconda-cloud": {},
  "gist": {
   "data": {
    "description": "Hurricane Irma GIS map",
    "public": true
   },
   "id": "08bdb4c3f05d8449ded5c01c73238e15"
  },
  "kernelspec": {
   "display_name": "Python 3",
   "language": "python",
   "name": "python3"
  },
  "language_info": {
   "codemirror_mode": {
    "name": "ipython",
    "version": 3
   },
   "file_extension": ".py",
   "mimetype": "text/x-python",
   "name": "python",
   "nbconvert_exporter": "python",
   "pygments_lexer": "ipython3",
   "version": "3.8.5"
  },
  "livereveal": {
   "auto_select": "none",
   "autolaunch": "false",
   "footer": " ",
   "header": "<script src='static/theme/reveal.js'></script>",
   "start_slideshow_at": "selected"
  }
 },
 "nbformat": 4,
 "nbformat_minor": 1
}
