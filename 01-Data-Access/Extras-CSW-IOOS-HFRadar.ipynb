{
 "cells": [
  {
   "cell_type": "code",
   "execution_count": 1,
   "metadata": {
    "slideshow": {
     "slide_type": "skip"
    }
   },
   "outputs": [],
   "source": [
    "%matplotlib inline"
   ]
  },
  {
   "cell_type": "markdown",
   "metadata": {
    "slideshow": {
     "slide_type": "slide"
    }
   },
   "source": [
    "# Fetching data from the IOOS CSW catalog\n",
    "\n",
    "This notebook shows a typical workflow to query a [Catalog Service for the Web (CSW)](https://en.wikipedia.org/wiki/Catalog_Service_for_the_Web) and create a request for data endpoints that are suitable for download.\n",
    "\n",
    "The first step is to create the data filter based on the **geographical** region bounding box, the **time** span, and the CF **variable** standard name."
   ]
  },
  {
   "cell_type": "markdown",
   "metadata": {
    "slideshow": {
     "slide_type": "slide"
    }
   },
   "source": [
    "### Region: west coast"
   ]
  },
  {
   "cell_type": "code",
   "execution_count": 2,
   "metadata": {
    "slideshow": {
     "slide_type": "-"
    }
   },
   "outputs": [],
   "source": [
    "min_lon, max_lon = -123, -121\n",
    "min_lat, max_lat = 36, 40\n",
    "\n",
    "bbox = [min_lon, min_lat, max_lon, max_lat]\n",
    "crs = \"urn:ogc:def:crs:OGC:1.3:CRS84\""
   ]
  },
  {
   "cell_type": "markdown",
   "metadata": {
    "slideshow": {
     "slide_type": "slide"
    }
   },
   "source": [
    "### Temporal range: past week"
   ]
  },
  {
   "cell_type": "code",
   "execution_count": 3,
   "metadata": {
    "slideshow": {
     "slide_type": "-"
    }
   },
   "outputs": [],
   "source": [
    "from datetime import datetime\n",
    "\n",
    "start, stop = datetime(2019, 7, 1), datetime(2019, 7, 14)"
   ]
  },
  {
   "cell_type": "markdown",
   "metadata": {
    "slideshow": {
     "slide_type": "slide"
    }
   },
   "source": [
    "### Surface velocity CF names"
   ]
  },
  {
   "cell_type": "code",
   "execution_count": 4,
   "metadata": {
    "slideshow": {
     "slide_type": "-"
    }
   },
   "outputs": [],
   "source": [
    "cf_names = [\n",
    "    \"surface_northward_sea_water_velocity\",\n",
    "    \"surface_eastward_sea_water_velocity\",\n",
    "]"
   ]
  },
  {
   "cell_type": "code",
   "execution_count": 5,
   "metadata": {
    "slideshow": {
     "slide_type": "slide"
    }
   },
   "outputs": [
    {
     "name": "stdout",
     "output_type": "stream",
     "text": [
      "\n",
      "*standard_names*: ['surface_northward_sea_water_velocity', 'surface_eastward_sea_water_velocity']\n",
      "*start and stop dates*: 2019-07-01 00:00:00 to 2019-07-14 00:00:00\n",
      "*bounding box*:[-123, 36, -121, 40]\n",
      "*crs*: urn:ogc:def:crs:OGC:1.3:CRS84\n"
     ]
    }
   ],
   "source": [
    "print(\n",
    "    f\"\"\"\n",
    "*standard_names*: {cf_names}\n",
    "*start and stop dates*: {start} to {stop}\n",
    "*bounding box*:{bbox}\n",
    "*crs*: {crs}\"\"\"\n",
    ")"
   ]
  },
  {
   "cell_type": "markdown",
   "metadata": {
    "slideshow": {
     "slide_type": "slide"
    }
   },
   "source": [
    "Now it is possible to assemble a [OGC Filter Encoding (FE)](http://www.opengeospatial.org/standards/filter) for the search using `owslib.fes`\\*. Note that the final result is only a list with all the filtering conditions.\n",
    "\n",
    "\\* OWSLib is a Python package for client programming with Open Geospatial Consortium (OGC) web service (hence OWS) interface standards, and their related content models."
   ]
  },
  {
   "cell_type": "code",
   "execution_count": 6,
   "metadata": {
    "slideshow": {
     "slide_type": "slide"
    }
   },
   "outputs": [],
   "source": [
    "from owslib import fes\n",
    "\n",
    "\n",
    "def fes_date_filter(start, stop, constraint=\"overlaps\"):\n",
    "    start = start.strftime(\"%Y-%m-%d %H:00\")\n",
    "    stop = stop.strftime(\"%Y-%m-%d %H:00\")\n",
    "    if constraint == \"overlaps\":\n",
    "        propertyname = \"apiso:TempExtent_begin\"\n",
    "        begin = fes.PropertyIsLessThanOrEqualTo(propertyname=propertyname, literal=stop)\n",
    "        propertyname = \"apiso:TempExtent_end\"\n",
    "        end = fes.PropertyIsGreaterThanOrEqualTo(\n",
    "            propertyname=propertyname, literal=start\n",
    "        )\n",
    "    elif constraint == \"within\":\n",
    "        propertyname = \"apiso:TempExtent_begin\"\n",
    "        begin = fes.PropertyIsGreaterThanOrEqualTo(\n",
    "            propertyname=propertyname, literal=start\n",
    "        )\n",
    "        propertyname = \"apiso:TempExtent_end\"\n",
    "        end = fes.PropertyIsLessThanOrEqualTo(propertyname=propertyname, literal=stop)\n",
    "    else:\n",
    "        raise NameError(f\"Unrecognized constraint {constraint}\")\n",
    "    return begin, end"
   ]
  },
  {
   "cell_type": "markdown",
   "metadata": {
    "slideshow": {
     "slide_type": "slide"
    }
   },
   "source": [
    "### Create the filter"
   ]
  },
  {
   "cell_type": "code",
   "execution_count": 7,
   "metadata": {
    "slideshow": {
     "slide_type": "-"
    }
   },
   "outputs": [],
   "source": [
    "kw = dict(wildCard=\"*\", escapeChar=\"\\\\\", singleChar=\"?\", propertyname=\"apiso:AnyText\")\n",
    "\n",
    "or_filt = fes.Or([fes.PropertyIsLike(literal=(\"*%s*\" % val), **kw) for val in cf_names])\n",
    "\n",
    "# Exclude GNOME returns.\n",
    "not_filt = fes.Not([fes.PropertyIsLike(literal=\"*GNOME*\", **kw)])\n",
    "\n",
    "begin, end = fes_date_filter(start, stop)\n",
    "bbox_crs = fes.BBox(bbox, crs=crs)\n",
    "filter_list = [fes.And([bbox_crs, begin, end, or_filt, not_filt])]"
   ]
  },
  {
   "cell_type": "code",
   "execution_count": 8,
   "metadata": {
    "slideshow": {
     "slide_type": "slide"
    }
   },
   "outputs": [],
   "source": [
    "def get_csw_records(csw, filter_list, pagesize=10, maxrecords=1000):\n",
    "    \"\"\"Iterate maxrecords/pagesize times until the requested\n",
    "    value in maxrecords is reached.\"\"\"\n",
    "    from owslib.fes import SortBy, SortProperty\n",
    "\n",
    "    sortby = SortBy([SortProperty(\"dc:title\", \"ASC\")])\n",
    "    csw_records = {}\n",
    "    startposition = 0\n",
    "    nextrecord = getattr(csw, \"results\", 1)\n",
    "    while nextrecord != 0:\n",
    "        csw.getrecords2(\n",
    "            constraints=filter_list,\n",
    "            startposition=startposition,\n",
    "            maxrecords=pagesize,\n",
    "            sortby=sortby,\n",
    "        )\n",
    "        csw_records.update(csw.records)\n",
    "        if csw.results[\"nextrecord\"] == 0:\n",
    "            break\n",
    "        startposition += pagesize + 1  # Last one is included.\n",
    "        if startposition >= maxrecords:\n",
    "            break\n",
    "    csw.records.update(csw_records)"
   ]
  },
  {
   "cell_type": "code",
   "execution_count": 9,
   "metadata": {
    "slideshow": {
     "slide_type": "slide"
    }
   },
   "outputs": [],
   "source": [
    "from owslib.csw import CatalogueServiceWeb\n",
    "\n",
    "endpoint = \"https://data.ioos.us/csw\"\n",
    "\n",
    "csw = CatalogueServiceWeb(endpoint, timeout=60)\n",
    "get_csw_records(csw, filter_list, pagesize=10, maxrecords=1000)\n",
    "\n",
    "records = \"\\n\".join(csw.records.keys())"
   ]
  },
  {
   "cell_type": "code",
   "execution_count": 10,
   "metadata": {
    "slideshow": {
     "slide_type": "slide"
    }
   },
   "outputs": [
    {
     "name": "stdout",
     "output_type": "stream",
     "text": [
      "Found 5 records.\n",
      "\n",
      "[Near-Real Time Surface Ocean Velocity, U.S. West Coast, 1km Resolution]: edu.ucsd.cordc:202004230600siohfruwlsrtvuswc1km\n",
      "[Near-Real Time Surface Ocean Velocity, U.S. West Coast, 2km Resolution]: edu.ucsd.cordc:202004230600siohfruwlsrtvuswc2km\n",
      "[Near-Real Time Surface Ocean Velocity, U.S. West Coast, 500m Resolution]: edu.ucsd.cordc:202004230600siohfruwlsrtvuswc500m\n",
      "[Near-Real Time Surface Ocean Velocity, U.S. West Coast, 6km Resolution]: edu.ucsd.cordc:202004230600siohfruwlsrtvuswc6km\n",
      "[UCSC California Current System ROMS Nowcast 10km]: UCSC\n"
     ]
    }
   ],
   "source": [
    "print(f\"Found {len(csw.records.keys())} records.\\n\")\n",
    "for key, value in list(csw.records.items()):\n",
    "    print(f\"[{value.title}]: {key}\")"
   ]
  },
  {
   "cell_type": "markdown",
   "metadata": {
    "slideshow": {
     "slide_type": "slide"
    }
   },
   "source": [
    "Let us check the 6 km resolution metadata record we found above."
   ]
  },
  {
   "cell_type": "code",
   "execution_count": 11,
   "metadata": {
    "slideshow": {
     "slide_type": "-"
    }
   },
   "outputs": [
    {
     "name": "stdout",
     "output_type": "stream",
     "text": [
      "Surface ocean velocities estimated from HF-Radar are representative \n",
      "of the upper 2.4 meters of the ocean.  The main objective of \n",
      "near-real time processing is to produce the best product from \n",
      "available data at the time of processing.  Radial velocity \n",
      "measurements are obtained from individual radar sites through the \n",
      "U.S. HF-Radar Network. Hourly radial data are processed by unweighted \n",
      "least squares on a 6km resolution grid of the U.S. West Coast to \n",
      "produce near real-time surface current maps.\n"
     ]
    }
   ],
   "source": [
    "value = csw.records[\"edu.ucsd.cordc:202004230600siohfruwlsrtvuswc6km\"]\n",
    "\n",
    "print(value.abstract)"
   ]
  },
  {
   "cell_type": "code",
   "execution_count": 12,
   "metadata": {
    "slideshow": {
     "slide_type": "slide"
    }
   },
   "outputs": [
    {
     "data": {
      "text/plain": [
       "['abstract',\n",
       " 'bbox',\n",
       " 'identifier',\n",
       " 'identifiers',\n",
       " 'modified',\n",
       " 'references',\n",
       " 'subjects',\n",
       " 'title',\n",
       " 'type',\n",
       " 'xml']"
      ]
     },
     "execution_count": 12,
     "metadata": {},
     "output_type": "execute_result"
    }
   ],
   "source": [
    "attrs = [attr for attr in dir(value) if not attr.startswith(\"_\")]\n",
    "nonzero = [attr for attr in attrs if getattr(value, attr)]\n",
    "nonzero"
   ]
  },
  {
   "cell_type": "markdown",
   "metadata": {
    "slideshow": {
     "slide_type": "slide"
    }
   },
   "source": [
    "### What is in there?"
   ]
  },
  {
   "cell_type": "code",
   "execution_count": 13,
   "metadata": {
    "scrolled": false,
    "slideshow": {
     "slide_type": "-"
    }
   },
   "outputs": [
    {
     "data": {
      "text/plain": [
       "['Earth Science',\n",
       " 'Oceans',\n",
       " 'Sea Surface',\n",
       " 'Coastal Processes',\n",
       " 'Marine \\nEnvironment Monitoring',\n",
       " 'Ocean Circulation',\n",
       " 'Ocean Currents',\n",
       " 'Wind-Driven Circulation',\n",
       " 'Tides',\n",
       " 'Tidal Currents',\n",
       " 'Pacific Ocean',\n",
       " 'North \\nPacific Ocean',\n",
       " 'SIO/UCSD',\n",
       " 'surface_eastward_sea_water_velocity',\n",
       " 'surface_northward_sea_water_velocity',\n",
       " 'depth',\n",
       " 'forecast_period',\n",
       " 'latitude',\n",
       " 'longitude',\n",
       " 'time',\n",
       " 'forecast_reference_time',\n",
       " 'climatologyMeteorologyAtmosphere']"
      ]
     },
     "execution_count": 13,
     "metadata": {},
     "output_type": "execute_result"
    }
   ],
   "source": [
    "value.subjects"
   ]
  },
  {
   "cell_type": "markdown",
   "metadata": {
    "slideshow": {
     "slide_type": "slide"
    }
   },
   "source": [
    "### Is it up-to-date?"
   ]
  },
  {
   "cell_type": "code",
   "execution_count": 14,
   "metadata": {
    "slideshow": {
     "slide_type": "-"
    }
   },
   "outputs": [
    {
     "data": {
      "text/plain": [
       "'2020-04-23'"
      ]
     },
     "execution_count": 14,
     "metadata": {},
     "output_type": "execute_result"
    }
   ],
   "source": [
    "value.modified"
   ]
  },
  {
   "cell_type": "markdown",
   "metadata": {
    "slideshow": {
     "slide_type": "slide"
    }
   },
   "source": [
    "### The actual bounding box of the data"
   ]
  },
  {
   "cell_type": "code",
   "execution_count": 15,
   "metadata": {
    "slideshow": {
     "slide_type": "-"
    }
   },
   "outputs": [
    {
     "data": {
      "text/plain": [
       "('-130.36', '30.25', '-115.81', '49.99')"
      ]
     },
     "execution_count": 15,
     "metadata": {},
     "output_type": "execute_result"
    }
   ],
   "source": [
    "bbox = (value.bbox.minx, value.bbox.miny, value.bbox.maxx, value.bbox.maxy)\n",
    "bbox"
   ]
  },
  {
   "cell_type": "markdown",
   "metadata": {
    "slideshow": {
     "slide_type": "slide"
    }
   },
   "source": [
    "### Now we can \"sniff\" the URLs with *geolinks*"
   ]
  },
  {
   "cell_type": "code",
   "execution_count": 16,
   "metadata": {
    "scrolled": true,
    "slideshow": {
     "slide_type": "-"
    }
   },
   "outputs": [
    {
     "name": "stdout",
     "output_type": "stream",
     "text": [
      "geolink: WWW:LINK\n",
      "scheme: WWW:LINK\n",
      "URL: http://hfrnet-tds.ucsd.edu/thredds/dodsC/HFR/USWC/6km/hourly/RTV/HFRADAR_US_West_Coast_6km_Resolution_Hourly_RTV_best.ncd.html\n",
      "\n",
      "geolink: None\n",
      "scheme: WWW:LINK\n",
      "URL: http://www.ncdc.noaa.gov/oa/wct/wct-jnlp-beta.php?singlefile=http://hfrnet-tds.ucsd.edu/thredds/dodsC/HFR/USWC/6km/hourly/RTV/HFRADAR_US_West_Coast_6km_Resolution_Hourly_RTV_best.ncd\n",
      "\n",
      "geolink: None\n",
      "scheme: OPeNDAP:OPeNDAP\n",
      "URL: http://hfrnet-tds.ucsd.edu/thredds/dodsC/HFR/USWC/6km/hourly/RTV/HFRADAR_US_West_Coast_6km_Resolution_Hourly_RTV_best.ncd\n",
      "\n",
      "geolink: OGC:WCS\n",
      "scheme: OGC:WCS\n",
      "URL: http://hfrnet-tds.ucsd.edu/thredds/wcs/HFR/USWC/6km/hourly/RTV/HFRADAR_US_West_Coast_6km_Resolution_Hourly_RTV_best.ncd?service=WCS&version=1.0.0&request=GetCapabilities\n",
      "\n",
      "geolink: OGC:WMS\n",
      "scheme: OGC:WMS\n",
      "URL: http://hfrnet-tds.ucsd.edu/thredds/wms/HFR/USWC/6km/hourly/RTV/HFRADAR_US_West_Coast_6km_Resolution_Hourly_RTV_best.ncd?service=WMS&version=1.3.0&request=GetCapabilities\n",
      "\n",
      "geolink: UNIDATA:NCSS\n",
      "scheme: UNIDATA:NCSS\n",
      "URL: http://hfrnet-tds.ucsd.edu/thredds/ncss/grid/HFR/USWC/6km/hourly/RTV/HFRADAR_US_West_Coast_6km_Resolution_Hourly_RTV_best.ncd/dataset.html\n",
      "\n"
     ]
    }
   ],
   "source": [
    "from geolinks import sniff_link\n",
    "\n",
    "for ref in value.references:\n",
    "    if ref[\"scheme\"] == \"OPeNDAP:OPeNDAP\":\n",
    "        url = ref[\"url\"]  # save the opendap for later\n",
    "    geolink = sniff_link(ref[\"url\"])\n",
    "    msg = f\"geolink: {geolink}\\nscheme: {ref['scheme']}\\n\" f\"URL: {ref['url']}\\n\"\n",
    "    print(msg)"
   ]
  },
  {
   "cell_type": "markdown",
   "metadata": {
    "slideshow": {
     "slide_type": "slide"
    }
   },
   "source": [
    "For a detailed description of what those `geolink` results mean check the [lookup](https://github.com/OSGeo/Cat-Interop/blob/master/LinkPropertyLookupTable.csv) table.\n",
    "There are Web Coverage Service (WCS), Web Map Service (WMS),\n",
    "direct links, and OPeNDAP services available.\n",
    "\n",
    "We can use any of those to obtain the data but the easiest one to explore interactively is the open OPeNDAP endpoint."
   ]
  },
  {
   "cell_type": "code",
   "execution_count": 17,
   "metadata": {
    "scrolled": false,
    "slideshow": {
     "slide_type": "slide"
    }
   },
   "outputs": [
    {
     "data": {
      "text/html": [
       "<div><svg style=\"position: absolute; width: 0; height: 0; overflow: hidden\">\n",
       "<defs>\n",
       "<symbol id=\"icon-database\" viewBox=\"0 0 32 32\">\n",
       "<path d=\"M16 0c-8.837 0-16 2.239-16 5v4c0 2.761 7.163 5 16 5s16-2.239 16-5v-4c0-2.761-7.163-5-16-5z\"></path>\n",
       "<path d=\"M16 17c-8.837 0-16-2.239-16-5v6c0 2.761 7.163 5 16 5s16-2.239 16-5v-6c0 2.761-7.163 5-16 5z\"></path>\n",
       "<path d=\"M16 26c-8.837 0-16-2.239-16-5v6c0 2.761 7.163 5 16 5s16-2.239 16-5v-6c0 2.761-7.163 5-16 5z\"></path>\n",
       "</symbol>\n",
       "<symbol id=\"icon-file-text2\" viewBox=\"0 0 32 32\">\n",
       "<path d=\"M28.681 7.159c-0.694-0.947-1.662-2.053-2.724-3.116s-2.169-2.030-3.116-2.724c-1.612-1.182-2.393-1.319-2.841-1.319h-15.5c-1.378 0-2.5 1.121-2.5 2.5v27c0 1.378 1.122 2.5 2.5 2.5h23c1.378 0 2.5-1.122 2.5-2.5v-19.5c0-0.448-0.137-1.23-1.319-2.841zM24.543 5.457c0.959 0.959 1.712 1.825 2.268 2.543h-4.811v-4.811c0.718 0.556 1.584 1.309 2.543 2.268zM28 29.5c0 0.271-0.229 0.5-0.5 0.5h-23c-0.271 0-0.5-0.229-0.5-0.5v-27c0-0.271 0.229-0.5 0.5-0.5 0 0 15.499-0 15.5 0v7c0 0.552 0.448 1 1 1h7v19.5z\"></path>\n",
       "<path d=\"M23 26h-14c-0.552 0-1-0.448-1-1s0.448-1 1-1h14c0.552 0 1 0.448 1 1s-0.448 1-1 1z\"></path>\n",
       "<path d=\"M23 22h-14c-0.552 0-1-0.448-1-1s0.448-1 1-1h14c0.552 0 1 0.448 1 1s-0.448 1-1 1z\"></path>\n",
       "<path d=\"M23 18h-14c-0.552 0-1-0.448-1-1s0.448-1 1-1h14c0.552 0 1 0.448 1 1s-0.448 1-1 1z\"></path>\n",
       "</symbol>\n",
       "</defs>\n",
       "</svg>\n",
       "<style>/* CSS stylesheet for displaying xarray objects in jupyterlab.\n",
       " *\n",
       " */\n",
       "\n",
       ":root {\n",
       "  --xr-font-color0: var(--jp-content-font-color0, rgba(0, 0, 0, 1));\n",
       "  --xr-font-color2: var(--jp-content-font-color2, rgba(0, 0, 0, 0.54));\n",
       "  --xr-font-color3: var(--jp-content-font-color3, rgba(0, 0, 0, 0.38));\n",
       "  --xr-border-color: var(--jp-border-color2, #e0e0e0);\n",
       "  --xr-disabled-color: var(--jp-layout-color3, #bdbdbd);\n",
       "  --xr-background-color: var(--jp-layout-color0, white);\n",
       "  --xr-background-color-row-even: var(--jp-layout-color1, white);\n",
       "  --xr-background-color-row-odd: var(--jp-layout-color2, #eeeeee);\n",
       "}\n",
       "\n",
       "html[theme=dark],\n",
       "body.vscode-dark {\n",
       "  --xr-font-color0: rgba(255, 255, 255, 1);\n",
       "  --xr-font-color2: rgba(255, 255, 255, 0.54);\n",
       "  --xr-font-color3: rgba(255, 255, 255, 0.38);\n",
       "  --xr-border-color: #1F1F1F;\n",
       "  --xr-disabled-color: #515151;\n",
       "  --xr-background-color: #111111;\n",
       "  --xr-background-color-row-even: #111111;\n",
       "  --xr-background-color-row-odd: #313131;\n",
       "}\n",
       "\n",
       ".xr-wrap {\n",
       "  display: block;\n",
       "  min-width: 300px;\n",
       "  max-width: 700px;\n",
       "}\n",
       "\n",
       ".xr-text-repr-fallback {\n",
       "  /* fallback to plain text repr when CSS is not injected (untrusted notebook) */\n",
       "  display: none;\n",
       "}\n",
       "\n",
       ".xr-header {\n",
       "  padding-top: 6px;\n",
       "  padding-bottom: 6px;\n",
       "  margin-bottom: 4px;\n",
       "  border-bottom: solid 1px var(--xr-border-color);\n",
       "}\n",
       "\n",
       ".xr-header > div,\n",
       ".xr-header > ul {\n",
       "  display: inline;\n",
       "  margin-top: 0;\n",
       "  margin-bottom: 0;\n",
       "}\n",
       "\n",
       ".xr-obj-type,\n",
       ".xr-array-name {\n",
       "  margin-left: 2px;\n",
       "  margin-right: 10px;\n",
       "}\n",
       "\n",
       ".xr-obj-type {\n",
       "  color: var(--xr-font-color2);\n",
       "}\n",
       "\n",
       ".xr-sections {\n",
       "  padding-left: 0 !important;\n",
       "  display: grid;\n",
       "  grid-template-columns: 150px auto auto 1fr 20px 20px;\n",
       "}\n",
       "\n",
       ".xr-section-item {\n",
       "  display: contents;\n",
       "}\n",
       "\n",
       ".xr-section-item input {\n",
       "  display: none;\n",
       "}\n",
       "\n",
       ".xr-section-item input + label {\n",
       "  color: var(--xr-disabled-color);\n",
       "}\n",
       "\n",
       ".xr-section-item input:enabled + label {\n",
       "  cursor: pointer;\n",
       "  color: var(--xr-font-color2);\n",
       "}\n",
       "\n",
       ".xr-section-item input:enabled + label:hover {\n",
       "  color: var(--xr-font-color0);\n",
       "}\n",
       "\n",
       ".xr-section-summary {\n",
       "  grid-column: 1;\n",
       "  color: var(--xr-font-color2);\n",
       "  font-weight: 500;\n",
       "}\n",
       "\n",
       ".xr-section-summary > span {\n",
       "  display: inline-block;\n",
       "  padding-left: 0.5em;\n",
       "}\n",
       "\n",
       ".xr-section-summary-in:disabled + label {\n",
       "  color: var(--xr-font-color2);\n",
       "}\n",
       "\n",
       ".xr-section-summary-in + label:before {\n",
       "  display: inline-block;\n",
       "  content: '►';\n",
       "  font-size: 11px;\n",
       "  width: 15px;\n",
       "  text-align: center;\n",
       "}\n",
       "\n",
       ".xr-section-summary-in:disabled + label:before {\n",
       "  color: var(--xr-disabled-color);\n",
       "}\n",
       "\n",
       ".xr-section-summary-in:checked + label:before {\n",
       "  content: '▼';\n",
       "}\n",
       "\n",
       ".xr-section-summary-in:checked + label > span {\n",
       "  display: none;\n",
       "}\n",
       "\n",
       ".xr-section-summary,\n",
       ".xr-section-inline-details {\n",
       "  padding-top: 4px;\n",
       "  padding-bottom: 4px;\n",
       "}\n",
       "\n",
       ".xr-section-inline-details {\n",
       "  grid-column: 2 / -1;\n",
       "}\n",
       "\n",
       ".xr-section-details {\n",
       "  display: none;\n",
       "  grid-column: 1 / -1;\n",
       "  margin-bottom: 5px;\n",
       "}\n",
       "\n",
       ".xr-section-summary-in:checked ~ .xr-section-details {\n",
       "  display: contents;\n",
       "}\n",
       "\n",
       ".xr-array-wrap {\n",
       "  grid-column: 1 / -1;\n",
       "  display: grid;\n",
       "  grid-template-columns: 20px auto;\n",
       "}\n",
       "\n",
       ".xr-array-wrap > label {\n",
       "  grid-column: 1;\n",
       "  vertical-align: top;\n",
       "}\n",
       "\n",
       ".xr-preview {\n",
       "  color: var(--xr-font-color3);\n",
       "}\n",
       "\n",
       ".xr-array-preview,\n",
       ".xr-array-data {\n",
       "  padding: 0 5px !important;\n",
       "  grid-column: 2;\n",
       "}\n",
       "\n",
       ".xr-array-data,\n",
       ".xr-array-in:checked ~ .xr-array-preview {\n",
       "  display: none;\n",
       "}\n",
       "\n",
       ".xr-array-in:checked ~ .xr-array-data,\n",
       ".xr-array-preview {\n",
       "  display: inline-block;\n",
       "}\n",
       "\n",
       ".xr-dim-list {\n",
       "  display: inline-block !important;\n",
       "  list-style: none;\n",
       "  padding: 0 !important;\n",
       "  margin: 0;\n",
       "}\n",
       "\n",
       ".xr-dim-list li {\n",
       "  display: inline-block;\n",
       "  padding: 0;\n",
       "  margin: 0;\n",
       "}\n",
       "\n",
       ".xr-dim-list:before {\n",
       "  content: '(';\n",
       "}\n",
       "\n",
       ".xr-dim-list:after {\n",
       "  content: ')';\n",
       "}\n",
       "\n",
       ".xr-dim-list li:not(:last-child):after {\n",
       "  content: ',';\n",
       "  padding-right: 5px;\n",
       "}\n",
       "\n",
       ".xr-has-index {\n",
       "  font-weight: bold;\n",
       "}\n",
       "\n",
       ".xr-var-list,\n",
       ".xr-var-item {\n",
       "  display: contents;\n",
       "}\n",
       "\n",
       ".xr-var-item > div,\n",
       ".xr-var-item label,\n",
       ".xr-var-item > .xr-var-name span {\n",
       "  background-color: var(--xr-background-color-row-even);\n",
       "  margin-bottom: 0;\n",
       "}\n",
       "\n",
       ".xr-var-item > .xr-var-name:hover span {\n",
       "  padding-right: 5px;\n",
       "}\n",
       "\n",
       ".xr-var-list > li:nth-child(odd) > div,\n",
       ".xr-var-list > li:nth-child(odd) > label,\n",
       ".xr-var-list > li:nth-child(odd) > .xr-var-name span {\n",
       "  background-color: var(--xr-background-color-row-odd);\n",
       "}\n",
       "\n",
       ".xr-var-name {\n",
       "  grid-column: 1;\n",
       "}\n",
       "\n",
       ".xr-var-dims {\n",
       "  grid-column: 2;\n",
       "}\n",
       "\n",
       ".xr-var-dtype {\n",
       "  grid-column: 3;\n",
       "  text-align: right;\n",
       "  color: var(--xr-font-color2);\n",
       "}\n",
       "\n",
       ".xr-var-preview {\n",
       "  grid-column: 4;\n",
       "}\n",
       "\n",
       ".xr-var-name,\n",
       ".xr-var-dims,\n",
       ".xr-var-dtype,\n",
       ".xr-preview,\n",
       ".xr-attrs dt {\n",
       "  white-space: nowrap;\n",
       "  overflow: hidden;\n",
       "  text-overflow: ellipsis;\n",
       "  padding-right: 10px;\n",
       "}\n",
       "\n",
       ".xr-var-name:hover,\n",
       ".xr-var-dims:hover,\n",
       ".xr-var-dtype:hover,\n",
       ".xr-attrs dt:hover {\n",
       "  overflow: visible;\n",
       "  width: auto;\n",
       "  z-index: 1;\n",
       "}\n",
       "\n",
       ".xr-var-attrs,\n",
       ".xr-var-data {\n",
       "  display: none;\n",
       "  background-color: var(--xr-background-color) !important;\n",
       "  padding-bottom: 5px !important;\n",
       "}\n",
       "\n",
       ".xr-var-attrs-in:checked ~ .xr-var-attrs,\n",
       ".xr-var-data-in:checked ~ .xr-var-data {\n",
       "  display: block;\n",
       "}\n",
       "\n",
       ".xr-var-data > table {\n",
       "  float: right;\n",
       "}\n",
       "\n",
       ".xr-var-name span,\n",
       ".xr-var-data,\n",
       ".xr-attrs {\n",
       "  padding-left: 25px !important;\n",
       "}\n",
       "\n",
       ".xr-attrs,\n",
       ".xr-var-attrs,\n",
       ".xr-var-data {\n",
       "  grid-column: 1 / -1;\n",
       "}\n",
       "\n",
       "dl.xr-attrs {\n",
       "  padding: 0;\n",
       "  margin: 0;\n",
       "  display: grid;\n",
       "  grid-template-columns: 125px auto;\n",
       "}\n",
       "\n",
       ".xr-attrs dt, dd {\n",
       "  padding: 0;\n",
       "  margin: 0;\n",
       "  float: left;\n",
       "  padding-right: 10px;\n",
       "  width: auto;\n",
       "}\n",
       "\n",
       ".xr-attrs dt {\n",
       "  font-weight: normal;\n",
       "  grid-column: 1;\n",
       "}\n",
       "\n",
       ".xr-attrs dt:hover span {\n",
       "  display: inline-block;\n",
       "  background: var(--xr-background-color);\n",
       "  padding-right: 10px;\n",
       "}\n",
       "\n",
       ".xr-attrs dd {\n",
       "  grid-column: 2;\n",
       "  white-space: pre-wrap;\n",
       "  word-break: break-all;\n",
       "}\n",
       "\n",
       ".xr-icon-database,\n",
       ".xr-icon-file-text2 {\n",
       "  display: inline-block;\n",
       "  vertical-align: middle;\n",
       "  width: 1em;\n",
       "  height: 1.5em !important;\n",
       "  stroke-width: 0;\n",
       "  stroke: currentColor;\n",
       "  fill: currentColor;\n",
       "}\n",
       "</style><pre class='xr-text-repr-fallback'>&lt;xarray.Dataset&gt;\n",
       "Dimensions:                (lat: 367, lon: 234, nv: 2, time: 74162, time_1: 1)\n",
       "Coordinates:\n",
       "  * lat                    (lat) float32 30.25 30.30394 ... 49.9381 49.99204\n",
       "  * lon                    (lon) float32 -130.36 -130.29753 ... -115.805565\n",
       "  * time                   (time) datetime64[ns] 2012-01-01 ... 2020-08-01T17...\n",
       "    time_run               (time) datetime64[ns] 2012-01-01 ... 2020-08-01T17...\n",
       "Dimensions without coordinates: nv, time_1\n",
       "Data variables:\n",
       "    time_bnds              (time_1, nv) int32 1594737000 1594740600\n",
       "    depth_bnds             (nv) float32 0.0 2.4\n",
       "    wgs84                  int8 -127\n",
       "    processing_parameters  int8 -127\n",
       "    radial_metadata        int8 -127\n",
       "    depth                  float32 1.4\n",
       "    time_offset            (time) datetime64[ns] 2012-01-01 ... 2012-01-01\n",
       "    u                      (time, lat, lon) float32 ...\n",
       "    v                      (time, lat, lon) float32 ...\n",
       "    dopx                   (time, lat, lon) float32 ...\n",
       "    dopy                   (time, lat, lon) float32 ...\n",
       "    hdop                   (time, lat, lon) float32 ...\n",
       "    number_of_sites        (time, lat, lon) float32 ...\n",
       "    number_of_radials      (time, lat, lon) float32 ...\n",
       "Attributes:\n",
       "    Conventions:               CF-1.4, ACDD-1.3\n",
       "    id:                        202007141500siohfruwlsrtvuswc6km\n",
       "    date_created:              2020-07-14T17:22:59Z\n",
       "    source:                    surface ocean velocity field from hf-radar\n",
       "    program:                   Integrated Ocean Observing System (IOOS)\n",
       "    title:                     Near-Real Time Surface Ocean Velocity, U.S. We...\n",
       "    summary:                   Surface ocean velocities estimated from HF-Rad...\n",
       "    instrument:                Earth Remote Sensing Instruments, Active Remot...\n",
       "    keywords:                  Earth Science, Oceans, Sea Surface, Coastal Pr...\n",
       "    geospatial_lat_min:        30.25\n",
       "    geospatial_lat_max:        49.99204\n",
       "    geospatial_lon_min:        -130.36\n",
       "    geospatial_lon_max:        -115.805565\n",
       "    processing_level:          Near real-time dataset with automated data acq...\n",
       "    history:                   2020-07-14T16:23:32Z hfrnet rtvMergeData: Savi...\n",
       "    references:                Terrill, E. et al., 2006. Data Management and ...\n",
       "    institution:               Coastal Observing Research and Development Cen...\n",
       "    creator_type:              group\n",
       "    creator_name:              HFRNet Administrators\n",
       "    creator_email:             hfrnet.administrators@sio.ucsd.edu\n",
       "    creator_url:               http://cordc.ucsd.edu/projects/mapping/\n",
       "    naming_authority:          edu.ucsd.cordc\n",
       "    standard_name_vocabulary:  CF Standard Name Table, Version 51\n",
       "    keywords_vocabulary:       Global Change Master Directory (GCMD) Keywords...\n",
       "    instrument_vocabulary:     Global Change Master Directory (GCMD) Keywords...\n",
       "    format_version:            1.1.00\n",
       "    product_version:           2.0.00\n",
       "    _CoordSysBuilder:          ucar.nc2.dataset.conv.CF1Convention\n",
       "    cdm_data_type:             GRID\n",
       "    featureType:               GRID\n",
       "    location:                  Proto fmrc:HFRADAR_US_West_Coast_6km_Resolutio...</pre><div class='xr-wrap' hidden><div class='xr-header'><div class='xr-obj-type'>xarray.Dataset</div></div><ul class='xr-sections'><li class='xr-section-item'><input id='section-59b198d8-5d00-400b-abfb-3a6047ce93dc' class='xr-section-summary-in' type='checkbox' disabled ><label for='section-59b198d8-5d00-400b-abfb-3a6047ce93dc' class='xr-section-summary'  title='Expand/collapse section'>Dimensions:</label><div class='xr-section-inline-details'><ul class='xr-dim-list'><li><span class='xr-has-index'>lat</span>: 367</li><li><span class='xr-has-index'>lon</span>: 234</li><li><span>nv</span>: 2</li><li><span class='xr-has-index'>time</span>: 74162</li><li><span>time_1</span>: 1</li></ul></div><div class='xr-section-details'></div></li><li class='xr-section-item'><input id='section-4933dd32-3582-40fe-948e-97bd0fb0a54f' class='xr-section-summary-in' type='checkbox'  checked><label for='section-4933dd32-3582-40fe-948e-97bd0fb0a54f' class='xr-section-summary' >Coordinates: <span>(4)</span></label><div class='xr-section-inline-details'></div><div class='xr-section-details'><ul class='xr-var-list'><li class='xr-var-item'><div class='xr-var-name'><span class='xr-has-index'>lat</span></div><div class='xr-var-dims'>(lat)</div><div class='xr-var-dtype'>float32</div><div class='xr-var-preview xr-preview'>30.25 30.30394 ... 49.9381 49.99204</div><input id='attrs-e888119f-37ad-43d7-85c7-26f5f2cc1114' class='xr-var-attrs-in' type='checkbox' ><label for='attrs-e888119f-37ad-43d7-85c7-26f5f2cc1114' title='Show/Hide attributes'><svg class='icon xr-icon-file-text2'><use xlink:href='#icon-file-text2'></use></svg></label><input id='data-b18b5285-012c-40d1-bc9d-5728f93e56f3' class='xr-var-data-in' type='checkbox'><label for='data-b18b5285-012c-40d1-bc9d-5728f93e56f3' title='Show/Hide data repr'><svg class='icon xr-icon-database'><use xlink:href='#icon-database'></use></svg></label><div class='xr-var-attrs'><dl class='xr-attrs'><dt><span>units :</span></dt><dd>degrees_north</dd><dt><span>long_name :</span></dt><dd>latitude</dd><dt><span>standard_name :</span></dt><dd>latitude</dd><dt><span>_ChunkSizes :</span></dt><dd>367</dd><dt><span>_CoordinateAxisType :</span></dt><dd>Lat</dd></dl></div><div class='xr-var-data'><pre>array([30.25   , 30.30394, 30.35788, ..., 49.88416, 49.9381 , 49.99204],\n",
       "      dtype=float32)</pre></div></li><li class='xr-var-item'><div class='xr-var-name'><span class='xr-has-index'>lon</span></div><div class='xr-var-dims'>(lon)</div><div class='xr-var-dtype'>float32</div><div class='xr-var-preview xr-preview'>-130.36 -130.29753 ... -115.805565</div><input id='attrs-7dd6760c-e5ef-4e0e-a93b-95c820134b9e' class='xr-var-attrs-in' type='checkbox' ><label for='attrs-7dd6760c-e5ef-4e0e-a93b-95c820134b9e' title='Show/Hide attributes'><svg class='icon xr-icon-file-text2'><use xlink:href='#icon-file-text2'></use></svg></label><input id='data-8bdde5bc-4703-4aa5-9a95-71d44541facb' class='xr-var-data-in' type='checkbox'><label for='data-8bdde5bc-4703-4aa5-9a95-71d44541facb' title='Show/Hide data repr'><svg class='icon xr-icon-database'><use xlink:href='#icon-database'></use></svg></label><div class='xr-var-attrs'><dl class='xr-attrs'><dt><span>units :</span></dt><dd>degrees_east</dd><dt><span>long_name :</span></dt><dd>longitude</dd><dt><span>standard_name :</span></dt><dd>longitude</dd><dt><span>_ChunkSizes :</span></dt><dd>234</dd><dt><span>_CoordinateAxisType :</span></dt><dd>Lon</dd></dl></div><div class='xr-var-data'><pre>array([-130.36    , -130.29753 , -130.23506 , ..., -115.9305  , -115.86803 ,\n",
       "       -115.805565], dtype=float32)</pre></div></li><li class='xr-var-item'><div class='xr-var-name'><span class='xr-has-index'>time</span></div><div class='xr-var-dims'>(time)</div><div class='xr-var-dtype'>datetime64[ns]</div><div class='xr-var-preview xr-preview'>2012-01-01 ... 2020-08-01T17:00:00</div><input id='attrs-46747f68-5c4a-4bf4-9691-38ac3e393a8a' class='xr-var-attrs-in' type='checkbox' ><label for='attrs-46747f68-5c4a-4bf4-9691-38ac3e393a8a' title='Show/Hide attributes'><svg class='icon xr-icon-file-text2'><use xlink:href='#icon-file-text2'></use></svg></label><input id='data-14e1a97a-9970-4562-9876-d57fb00a90de' class='xr-var-data-in' type='checkbox'><label for='data-14e1a97a-9970-4562-9876-d57fb00a90de' title='Show/Hide data repr'><svg class='icon xr-icon-database'><use xlink:href='#icon-database'></use></svg></label><div class='xr-var-attrs'><dl class='xr-attrs'><dt><span>long_name :</span></dt><dd>Forecast time for ForecastModelRunCollection</dd><dt><span>standard_name :</span></dt><dd>time</dd><dt><span>_CoordinateAxisType :</span></dt><dd>Time</dd></dl></div><div class='xr-var-data'><pre>array([&#x27;2012-01-01T00:00:00.000000000&#x27;, &#x27;2012-01-01T01:00:00.000000000&#x27;,\n",
       "       &#x27;2012-01-01T02:00:00.000000000&#x27;, ..., &#x27;2020-08-01T15:00:00.000000000&#x27;,\n",
       "       &#x27;2020-08-01T16:00:00.000000000&#x27;, &#x27;2020-08-01T17:00:00.000000000&#x27;],\n",
       "      dtype=&#x27;datetime64[ns]&#x27;)</pre></div></li><li class='xr-var-item'><div class='xr-var-name'><span>time_run</span></div><div class='xr-var-dims'>(time)</div><div class='xr-var-dtype'>datetime64[ns]</div><div class='xr-var-preview xr-preview'>...</div><input id='attrs-64065acb-e4f0-4853-affc-364058884798' class='xr-var-attrs-in' type='checkbox' ><label for='attrs-64065acb-e4f0-4853-affc-364058884798' title='Show/Hide attributes'><svg class='icon xr-icon-file-text2'><use xlink:href='#icon-file-text2'></use></svg></label><input id='data-b6636c9c-3cc2-4750-b452-d10e38fb1e34' class='xr-var-data-in' type='checkbox'><label for='data-b6636c9c-3cc2-4750-b452-d10e38fb1e34' title='Show/Hide data repr'><svg class='icon xr-icon-database'><use xlink:href='#icon-database'></use></svg></label><div class='xr-var-attrs'><dl class='xr-attrs'><dt><span>long_name :</span></dt><dd>run times for coordinate = time</dd><dt><span>standard_name :</span></dt><dd>forecast_reference_time</dd><dt><span>_CoordinateAxisType :</span></dt><dd>RunTime</dd></dl></div><div class='xr-var-data'><pre>array([&#x27;2012-01-01T00:00:00.000000000&#x27;, &#x27;2012-01-01T01:00:00.000000000&#x27;,\n",
       "       &#x27;2012-01-01T02:00:00.000000000&#x27;, ..., &#x27;2020-08-01T15:00:00.000000000&#x27;,\n",
       "       &#x27;2020-08-01T16:00:00.000000000&#x27;, &#x27;2020-08-01T17:00:00.000000000&#x27;],\n",
       "      dtype=&#x27;datetime64[ns]&#x27;)</pre></div></li></ul></div></li><li class='xr-section-item'><input id='section-da3a70b5-fbf7-4bd7-aecb-8052457fa15b' class='xr-section-summary-in' type='checkbox'  checked><label for='section-da3a70b5-fbf7-4bd7-aecb-8052457fa15b' class='xr-section-summary' >Data variables: <span>(14)</span></label><div class='xr-section-inline-details'></div><div class='xr-section-details'><ul class='xr-var-list'><li class='xr-var-item'><div class='xr-var-name'><span>time_bnds</span></div><div class='xr-var-dims'>(time_1, nv)</div><div class='xr-var-dtype'>int32</div><div class='xr-var-preview xr-preview'>...</div><input id='attrs-bf030e4f-1d8f-46e3-8167-fd96e3144888' class='xr-var-attrs-in' type='checkbox' ><label for='attrs-bf030e4f-1d8f-46e3-8167-fd96e3144888' title='Show/Hide attributes'><svg class='icon xr-icon-file-text2'><use xlink:href='#icon-file-text2'></use></svg></label><input id='data-3af8d5ac-2b9a-4c7e-aff6-7738cd4424b0' class='xr-var-data-in' type='checkbox'><label for='data-3af8d5ac-2b9a-4c7e-aff6-7738cd4424b0' title='Show/Hide data repr'><svg class='icon xr-icon-database'><use xlink:href='#icon-database'></use></svg></label><div class='xr-var-attrs'><dl class='xr-attrs'><dt><span>_ChunkSizes :</span></dt><dd>[1 2]</dd></dl></div><div class='xr-var-data'><pre>array([[1594737000, 1594740600]], dtype=int32)</pre></div></li><li class='xr-var-item'><div class='xr-var-name'><span>depth_bnds</span></div><div class='xr-var-dims'>(nv)</div><div class='xr-var-dtype'>float32</div><div class='xr-var-preview xr-preview'>...</div><input id='attrs-399ff415-8182-4713-a06a-a30145f39d4e' class='xr-var-attrs-in' type='checkbox' ><label for='attrs-399ff415-8182-4713-a06a-a30145f39d4e' title='Show/Hide attributes'><svg class='icon xr-icon-file-text2'><use xlink:href='#icon-file-text2'></use></svg></label><input id='data-dc5fc632-fda5-4e3b-98b7-64dba4b20d7e' class='xr-var-data-in' type='checkbox'><label for='data-dc5fc632-fda5-4e3b-98b7-64dba4b20d7e' title='Show/Hide data repr'><svg class='icon xr-icon-database'><use xlink:href='#icon-database'></use></svg></label><div class='xr-var-attrs'><dl class='xr-attrs'><dt><span>_ChunkSizes :</span></dt><dd>2</dd></dl></div><div class='xr-var-data'><pre>array([0. , 2.4], dtype=float32)</pre></div></li><li class='xr-var-item'><div class='xr-var-name'><span>wgs84</span></div><div class='xr-var-dims'>()</div><div class='xr-var-dtype'>int8</div><div class='xr-var-preview xr-preview'>...</div><input id='attrs-eb029a63-ed0c-42ae-ad1b-974c5a633a5d' class='xr-var-attrs-in' type='checkbox' ><label for='attrs-eb029a63-ed0c-42ae-ad1b-974c5a633a5d' title='Show/Hide attributes'><svg class='icon xr-icon-file-text2'><use xlink:href='#icon-file-text2'></use></svg></label><input id='data-6f401516-b5ff-4ec7-b45e-7d0294a218b8' class='xr-var-data-in' type='checkbox'><label for='data-6f401516-b5ff-4ec7-b45e-7d0294a218b8' title='Show/Hide data repr'><svg class='icon xr-icon-database'><use xlink:href='#icon-database'></use></svg></label><div class='xr-var-attrs'><dl class='xr-attrs'><dt><span>grid_mapping_name :</span></dt><dd>latitude_longitude</dd><dt><span>longitude_of_prime_meridian :</span></dt><dd>0.0</dd><dt><span>semi_major_axis :</span></dt><dd>6378137.0</dd><dt><span>inverse_flattening :</span></dt><dd>298.257223563</dd><dt><span>_CoordinateTransformType :</span></dt><dd>Projection</dd><dt><span>_CoordinateAxisTypes :</span></dt><dd>GeoX GeoY</dd></dl></div><div class='xr-var-data'><pre>array(-127, dtype=int8)</pre></div></li><li class='xr-var-item'><div class='xr-var-name'><span>processing_parameters</span></div><div class='xr-var-dims'>()</div><div class='xr-var-dtype'>int8</div><div class='xr-var-preview xr-preview'>...</div><input id='attrs-8d842b54-e45f-4766-8ec0-dc933eefe7c9' class='xr-var-attrs-in' type='checkbox' ><label for='attrs-8d842b54-e45f-4766-8ec0-dc933eefe7c9' title='Show/Hide attributes'><svg class='icon xr-icon-file-text2'><use xlink:href='#icon-file-text2'></use></svg></label><input id='data-a5fab27b-dbd1-491f-9a31-529091636de9' class='xr-var-data-in' type='checkbox'><label for='data-a5fab27b-dbd1-491f-9a31-529091636de9' title='Show/Hide data repr'><svg class='icon xr-icon-database'><use xlink:href='#icon-database'></use></svg></label><div class='xr-var-attrs'><dl class='xr-attrs'><dt><span>long_name :</span></dt><dd>Methods and parameters used to compute total solutions</dd><dt><span>combine_method_name :</span></dt><dd>Unweighted Least Squares</dd><dt><span>combine_method_description :</span></dt><dd>Method used to compute total solutions from radial velocities</dd><dt><span>grid_search_radius :</span></dt><dd>10.0</dd><dt><span>grid_search_radius_units :</span></dt><dd>km</dd><dt><span>grid_search_radius_description :</span></dt><dd>Search radius used for finding contributing radial velocities</dd><dt><span>max_radial_speed :</span></dt><dd>100</dd><dt><span>max_radial_speed_units :</span></dt><dd>cm s-1</dd><dt><span>max_radial_speed_description :</span></dt><dd>Maximum radial speed allowed to contribute to total solutions</dd><dt><span>max_rtv_speed :</span></dt><dd>100</dd><dt><span>max_rtv_speed_units :</span></dt><dd>cm s-1</dd><dt><span>max_rtv_speed_description :</span></dt><dd>Maximum allowed total speed</dd><dt><span>min_radar_sites :</span></dt><dd>2</dd><dt><span>min_radar_sites_description :</span></dt><dd>Minimum number of radar sites required to make a total solution</dd><dt><span>min_radials :</span></dt><dd>3</dd><dt><span>min_radials_description :</span></dt><dd>Minimum number of radials required to make a solution</dd><dt><span>max_hdop :</span></dt><dd>1.25</dd><dt><span>max_hdop_description :</span></dt><dd>Maximum allowed HDOP</dd></dl></div><div class='xr-var-data'><pre>array(-127, dtype=int8)</pre></div></li><li class='xr-var-item'><div class='xr-var-name'><span>radial_metadata</span></div><div class='xr-var-dims'>()</div><div class='xr-var-dtype'>int8</div><div class='xr-var-preview xr-preview'>...</div><input id='attrs-78d62c62-20ac-4844-9a27-2558d320b12e' class='xr-var-attrs-in' type='checkbox' ><label for='attrs-78d62c62-20ac-4844-9a27-2558d320b12e' title='Show/Hide attributes'><svg class='icon xr-icon-file-text2'><use xlink:href='#icon-file-text2'></use></svg></label><input id='data-3c1a3c41-40e1-405f-a62a-5773c2f60635' class='xr-var-data-in' type='checkbox'><label for='data-3c1a3c41-40e1-405f-a62a-5773c2f60635' title='Show/Hide data repr'><svg class='icon xr-icon-database'><use xlink:href='#icon-database'></use></svg></label><div class='xr-var-attrs'><dl class='xr-attrs'><dt><span>long_name :</span></dt><dd>Metadata on radial velocities used to compute total solutions</dd><dt><span>number_files_loaded :</span></dt><dd>53</dd><dt><span>number_files_loaded_description :</span></dt><dd>Number of radial files loaded</dd><dt><span>files_loaded :</span></dt><dd>RDL_m_BML_BML1_2020_07_14_1500.ruv\n",
       "RDL_m_BML_GCVE_2020_07_14_1500.ruv\n",
       "RDL_m_NPS_BIGC_2020_07_14_1500.ruv\n",
       "RDL_m_NPS_GCYN_2020_07_14_1500.ruv\n",
       "RDL_m_NPS_PPNS_2020_07_14_1500.ruv\n",
       "RDL_m_NPS_SCRZ_2020_07_14_1500.ruv\n",
       "RDL_i_SIO_SDBP_2020_07_14_1500.ruv\n",
       "RDL_m_SIO_SDDP_2020_07_14_1500.ruv\n",
       "RDL_m_SIO_SDPL_2020_07_14_1500.ruv\n",
       "RDL_m_SIO_SDSC_2020_07_14_1500.ruv\n",
       "RDL_m_SIO_SDSE_2020_07_14_1500.ruv\n",
       "RDL_m_SIO_SDSL_2020_07_14_1500.ruv\n",
       "RDL_m_SIO_SDUT_2020_07_14_1500.ruv\n",
       "RDL_m_SIO_SDWW_2020_07_14_1500.ruv\n",
       "RDL_i_SLO_AGL1_2020_07_14_1500.ruv\n",
       "RDL_m_SLO_DCLR_2020_07_14_1500.ruv\n",
       "RDL_m_SLO_DCSR_2020_07_14_1500.ruv\n",
       "RDL_m_SLO_ESTR_2020_07_14_1500.ruv\n",
       "RDL_m_SLO_FBK1_2020_07_14_1500.ruv\n",
       "RDL_m_SLO_PTC1_2020_07_14_1500.ruv\n",
       "RDL_m_SLO_RAGG_2020_07_14_1500.ruv\n",
       "RDL_m_UCSB_COP1_2020_07_14_1500.ruv\n",
       "RDL_m_UCSB_MGS1_2020_07_14_1500.ruv\n",
       "RDL_m_UCSB_NIC1_2020_07_14_1500.ruv\n",
       "RDL_i_UCSB_PTM1_2020_07_14_1500.ruv\n",
       "RDL_m_UCSB_RFG1_2020_07_14_1500.ruv\n",
       "RDL_m_UCSB_SCI1_2020_07_14_1500.ruv\n",
       "RDL_m_UCSB_SNI1_2020_07_14_1500.ruv\n",
       "RDL_m_UCSB_SSD1_2020_07_14_1500.ruv\n",
       "RDL_m_USC_SCDB_2020_07_14_1500.ruv\n",
       "RDL_i_USC_SCDH_2020_07_14_1500.ruv\n",
       "RDL_m_USC_SCNB_2020_07_14_1500.ruv\n",
       "RDL_i_CODAR_ANGL_2020_07_14_1500.ruv\n",
       "RDL_m_CODAR_CRIS_2020_07_14_1500.ruv\n",
       "RDL_m_CODAR_EXPL_2020_07_14_1500.ruv\n",
       "RDL_m_CODAR_FORT_2020_07_14_1500.ruv\n",
       "RDL_m_CODAR_MONT_2020_07_14_1500.ruv\n",
       "RDL_m_CODAR_PBON_2020_07_14_1500.ruv\n",
       "RDL_m_CODAR_RTC1_2020_07_14_1500.ruv\n",
       "RDL_m_CODAR_SAUS_2020_07_14_1500.ruv\n",
       "RDL_m_CODAR_SLID_2020_07_14_1500.ruv\n",
       "RDL_m_NPS_MLML_2020_07_14_1500.ruv\n",
       "RDL_m_NPS_NPGS_2020_07_14_1500.ruv\n",
       "RDL_i_OSU_WIN1_2020_07_14_1500.ruv\n",
       "RDL_i_OSU_WLD2_2020_07_14_1500.ruv\n",
       "RDL_i_OSU_WSH1_2020_07_14_1500.ruv\n",
       "RDL_i_OSU_YHS2_2020_07_14_1500.ruv\n",
       "RDL_m_ONC_VATK_2020_07_14_1500.ruv\n",
       "RDL_m_ONC_VCOL_2020_07_14_1500.ruv\n",
       "RDL_m_ONC_VGPT_2020_07_14_1500.ruv\n",
       "RDL_m_ONC_VION_2020_07_14_1500.ruv\n",
       "RDL_m_ONC_VJOR_2020_07_14_1500.ruv\n",
       "RDL_m_ONC_VROC_2020_07_14_1500.ruv</dd><dt><span>files_loaded_description :</span></dt><dd>Radial file names loaded</dd></dl></div><div class='xr-var-data'><pre>array(-127, dtype=int8)</pre></div></li><li class='xr-var-item'><div class='xr-var-name'><span>depth</span></div><div class='xr-var-dims'>()</div><div class='xr-var-dtype'>float32</div><div class='xr-var-preview xr-preview'>...</div><input id='attrs-562cfd20-dc1c-4fe1-8726-d3a00c5dcc8c' class='xr-var-attrs-in' type='checkbox' ><label for='attrs-562cfd20-dc1c-4fe1-8726-d3a00c5dcc8c' title='Show/Hide attributes'><svg class='icon xr-icon-file-text2'><use xlink:href='#icon-file-text2'></use></svg></label><input id='data-7b3bf0d4-3ec0-4cd0-9172-043676ec1c40' class='xr-var-data-in' type='checkbox'><label for='data-7b3bf0d4-3ec0-4cd0-9172-043676ec1c40' title='Show/Hide data repr'><svg class='icon xr-icon-database'><use xlink:href='#icon-database'></use></svg></label><div class='xr-var-attrs'><dl class='xr-attrs'><dt><span>units :</span></dt><dd>m</dd><dt><span>long_name :</span></dt><dd>depth</dd><dt><span>standard_name :</span></dt><dd>depth</dd><dt><span>bounds :</span></dt><dd>depth_bnds</dd><dt><span>comment :</span></dt><dd>Nominal depth (and corresponding bounds) based on contributing radars</dd></dl></div><div class='xr-var-data'><pre>array(1.4, dtype=float32)</pre></div></li><li class='xr-var-item'><div class='xr-var-name'><span>time_offset</span></div><div class='xr-var-dims'>(time)</div><div class='xr-var-dtype'>datetime64[ns]</div><div class='xr-var-preview xr-preview'>...</div><input id='attrs-e0445d12-1ab9-42bf-8cc3-8e9f31552407' class='xr-var-attrs-in' type='checkbox' ><label for='attrs-e0445d12-1ab9-42bf-8cc3-8e9f31552407' title='Show/Hide attributes'><svg class='icon xr-icon-file-text2'><use xlink:href='#icon-file-text2'></use></svg></label><input id='data-55f64a35-fae6-4990-a6e7-e627b44b34ae' class='xr-var-data-in' type='checkbox'><label for='data-55f64a35-fae6-4990-a6e7-e627b44b34ae' title='Show/Hide data repr'><svg class='icon xr-icon-database'><use xlink:href='#icon-database'></use></svg></label><div class='xr-var-attrs'><dl class='xr-attrs'><dt><span>long_name :</span></dt><dd>offset hour from start of run for coordinate = time</dd><dt><span>standard_name :</span></dt><dd>forecast_period</dd></dl></div><div class='xr-var-data'><pre>array([&#x27;2012-01-01T00:00:00.000000000&#x27;, &#x27;2012-01-01T00:00:00.000000000&#x27;,\n",
       "       &#x27;2012-01-01T00:00:00.000000000&#x27;, ..., &#x27;2012-01-01T00:00:00.000000000&#x27;,\n",
       "       &#x27;2012-01-01T00:00:00.000000000&#x27;, &#x27;2012-01-01T00:00:00.000000000&#x27;],\n",
       "      dtype=&#x27;datetime64[ns]&#x27;)</pre></div></li><li class='xr-var-item'><div class='xr-var-name'><span>u</span></div><div class='xr-var-dims'>(time, lat, lon)</div><div class='xr-var-dtype'>float32</div><div class='xr-var-preview xr-preview'>...</div><input id='attrs-e9623aa7-05d6-4f9f-85af-7fa3c538a428' class='xr-var-attrs-in' type='checkbox' ><label for='attrs-e9623aa7-05d6-4f9f-85af-7fa3c538a428' title='Show/Hide attributes'><svg class='icon xr-icon-file-text2'><use xlink:href='#icon-file-text2'></use></svg></label><input id='data-6ae843a5-7983-401e-bc38-34256ea544b6' class='xr-var-data-in' type='checkbox'><label for='data-6ae843a5-7983-401e-bc38-34256ea544b6' title='Show/Hide data repr'><svg class='icon xr-icon-database'><use xlink:href='#icon-database'></use></svg></label><div class='xr-var-attrs'><dl class='xr-attrs'><dt><span>units :</span></dt><dd>m s-1</dd><dt><span>long_name :</span></dt><dd>surface_eastward_sea_water_velocity</dd><dt><span>standard_name :</span></dt><dd>surface_eastward_sea_water_velocity</dd><dt><span>grid_mapping :</span></dt><dd>wgs84</dd><dt><span>cell_methods :</span></dt><dd>depth: mean time: mean</dd><dt><span>ancillary_variables :</span></dt><dd>dopx</dd><dt><span>_ChunkSizes :</span></dt><dd>[  1 367 234]</dd></dl></div><div class='xr-var-data'><pre>[6368884236 values with dtype=float32]</pre></div></li><li class='xr-var-item'><div class='xr-var-name'><span>v</span></div><div class='xr-var-dims'>(time, lat, lon)</div><div class='xr-var-dtype'>float32</div><div class='xr-var-preview xr-preview'>...</div><input id='attrs-7337bae6-02e0-40d9-b201-ef6d3da9b2f8' class='xr-var-attrs-in' type='checkbox' ><label for='attrs-7337bae6-02e0-40d9-b201-ef6d3da9b2f8' title='Show/Hide attributes'><svg class='icon xr-icon-file-text2'><use xlink:href='#icon-file-text2'></use></svg></label><input id='data-9a5e6bf7-239c-42f2-8c90-2700f09c0003' class='xr-var-data-in' type='checkbox'><label for='data-9a5e6bf7-239c-42f2-8c90-2700f09c0003' title='Show/Hide data repr'><svg class='icon xr-icon-database'><use xlink:href='#icon-database'></use></svg></label><div class='xr-var-attrs'><dl class='xr-attrs'><dt><span>units :</span></dt><dd>m s-1</dd><dt><span>long_name :</span></dt><dd>surface_northward_sea_water_velocity</dd><dt><span>standard_name :</span></dt><dd>surface_northward_sea_water_velocity</dd><dt><span>grid_mapping :</span></dt><dd>wgs84</dd><dt><span>cell_methods :</span></dt><dd>depth: mean time: mean</dd><dt><span>ancillary_variables :</span></dt><dd>dopy</dd><dt><span>_ChunkSizes :</span></dt><dd>[  1 367 234]</dd></dl></div><div class='xr-var-data'><pre>[6368884236 values with dtype=float32]</pre></div></li><li class='xr-var-item'><div class='xr-var-name'><span>dopx</span></div><div class='xr-var-dims'>(time, lat, lon)</div><div class='xr-var-dtype'>float32</div><div class='xr-var-preview xr-preview'>...</div><input id='attrs-e4edc9f7-5fba-425d-b56e-1084ecee0b3c' class='xr-var-attrs-in' type='checkbox' ><label for='attrs-e4edc9f7-5fba-425d-b56e-1084ecee0b3c' title='Show/Hide attributes'><svg class='icon xr-icon-file-text2'><use xlink:href='#icon-file-text2'></use></svg></label><input id='data-e913eeb0-ec70-43e9-9d7b-40e48c8f58fa' class='xr-var-data-in' type='checkbox'><label for='data-e913eeb0-ec70-43e9-9d7b-40e48c8f58fa' title='Show/Hide data repr'><svg class='icon xr-icon-database'><use xlink:href='#icon-database'></use></svg></label><div class='xr-var-attrs'><dl class='xr-attrs'><dt><span>long_name :</span></dt><dd>longitudinal dilution of precision</dd><dt><span>comment :</span></dt><dd>The longitudinal dilution of precision (dopx) represents the \n",
       "contribution of radial geometry to uncertainty in the eastward \n",
       "velocity estimate (u).</dd><dt><span>grid_mapping :</span></dt><dd>wgs84</dd><dt><span>_ChunkSizes :</span></dt><dd>[  1 367 234]</dd></dl></div><div class='xr-var-data'><pre>[6368884236 values with dtype=float32]</pre></div></li><li class='xr-var-item'><div class='xr-var-name'><span>dopy</span></div><div class='xr-var-dims'>(time, lat, lon)</div><div class='xr-var-dtype'>float32</div><div class='xr-var-preview xr-preview'>...</div><input id='attrs-d58697a1-62be-46c8-bd4d-18d83b84f776' class='xr-var-attrs-in' type='checkbox' ><label for='attrs-d58697a1-62be-46c8-bd4d-18d83b84f776' title='Show/Hide attributes'><svg class='icon xr-icon-file-text2'><use xlink:href='#icon-file-text2'></use></svg></label><input id='data-b4c210b8-c725-4dce-925e-1d4350ab9e43' class='xr-var-data-in' type='checkbox'><label for='data-b4c210b8-c725-4dce-925e-1d4350ab9e43' title='Show/Hide data repr'><svg class='icon xr-icon-database'><use xlink:href='#icon-database'></use></svg></label><div class='xr-var-attrs'><dl class='xr-attrs'><dt><span>long_name :</span></dt><dd>latitudinal dilution of precision</dd><dt><span>comment :</span></dt><dd>The latitudinal dilution of precision (dopy) represents the \n",
       "contribution of radial geometry to uncertainty in the northward \n",
       "velocity estimate (v).</dd><dt><span>grid_mapping :</span></dt><dd>wgs84</dd><dt><span>_ChunkSizes :</span></dt><dd>[  1 367 234]</dd></dl></div><div class='xr-var-data'><pre>[6368884236 values with dtype=float32]</pre></div></li><li class='xr-var-item'><div class='xr-var-name'><span>hdop</span></div><div class='xr-var-dims'>(time, lat, lon)</div><div class='xr-var-dtype'>float32</div><div class='xr-var-preview xr-preview'>...</div><input id='attrs-6061ecf0-36c3-4b57-9abf-edcc11af6a17' class='xr-var-attrs-in' type='checkbox' ><label for='attrs-6061ecf0-36c3-4b57-9abf-edcc11af6a17' title='Show/Hide attributes'><svg class='icon xr-icon-file-text2'><use xlink:href='#icon-file-text2'></use></svg></label><input id='data-61df6ff3-fb69-4669-b0db-27513d3805bb' class='xr-var-data-in' type='checkbox'><label for='data-61df6ff3-fb69-4669-b0db-27513d3805bb' title='Show/Hide data repr'><svg class='icon xr-icon-database'><use xlink:href='#icon-database'></use></svg></label><div class='xr-var-attrs'><dl class='xr-attrs'><dt><span>long_name :</span></dt><dd>horizontal dilution of precision</dd><dt><span>comment :</span></dt><dd>The horizontal dilution of precision (hdop) is the vector length \n",
       "(magnitude) of the eastward (dopx) and northward (dopy) dilution of \n",
       "precision.  It represents the contribution of radial geometry to the \n",
       "overall uncertainty in the total velocity (u and v) estimate.</dd><dt><span>grid_mapping :</span></dt><dd>wgs84</dd><dt><span>ancillary_variables :</span></dt><dd>dopx dopy</dd><dt><span>_ChunkSizes :</span></dt><dd>[  1 367 234]</dd></dl></div><div class='xr-var-data'><pre>[6368884236 values with dtype=float32]</pre></div></li><li class='xr-var-item'><div class='xr-var-name'><span>number_of_sites</span></div><div class='xr-var-dims'>(time, lat, lon)</div><div class='xr-var-dtype'>float32</div><div class='xr-var-preview xr-preview'>...</div><input id='attrs-7c2594b3-c42c-4fc8-a395-3ef4b8a2c7ee' class='xr-var-attrs-in' type='checkbox' ><label for='attrs-7c2594b3-c42c-4fc8-a395-3ef4b8a2c7ee' title='Show/Hide attributes'><svg class='icon xr-icon-file-text2'><use xlink:href='#icon-file-text2'></use></svg></label><input id='data-fa29384a-e9b6-4d00-92a8-f1007873dc67' class='xr-var-data-in' type='checkbox'><label for='data-fa29384a-e9b6-4d00-92a8-f1007873dc67' title='Show/Hide data repr'><svg class='icon xr-icon-database'><use xlink:href='#icon-database'></use></svg></label><div class='xr-var-attrs'><dl class='xr-attrs'><dt><span>units :</span></dt><dd>count</dd><dt><span>long_name :</span></dt><dd>number of contributing radars</dd><dt><span>comment :</span></dt><dd>Number of radars contributing radials to the total solution</dd><dt><span>grid_mapping :</span></dt><dd>wgs84</dd><dt><span>_ChunkSizes :</span></dt><dd>[  1 367 234]</dd></dl></div><div class='xr-var-data'><pre>[6368884236 values with dtype=float32]</pre></div></li><li class='xr-var-item'><div class='xr-var-name'><span>number_of_radials</span></div><div class='xr-var-dims'>(time, lat, lon)</div><div class='xr-var-dtype'>float32</div><div class='xr-var-preview xr-preview'>...</div><input id='attrs-f6caf1dc-6f86-4fda-a653-08c38ce0b07e' class='xr-var-attrs-in' type='checkbox' ><label for='attrs-f6caf1dc-6f86-4fda-a653-08c38ce0b07e' title='Show/Hide attributes'><svg class='icon xr-icon-file-text2'><use xlink:href='#icon-file-text2'></use></svg></label><input id='data-7728edc8-a9e7-4198-a2dc-03596e1d56a7' class='xr-var-data-in' type='checkbox'><label for='data-7728edc8-a9e7-4198-a2dc-03596e1d56a7' title='Show/Hide data repr'><svg class='icon xr-icon-database'><use xlink:href='#icon-database'></use></svg></label><div class='xr-var-attrs'><dl class='xr-attrs'><dt><span>units :</span></dt><dd>count</dd><dt><span>long_name :</span></dt><dd>number of contributing radials</dd><dt><span>comment :</span></dt><dd>Number of radials contributing to the total solution</dd><dt><span>grid_mapping :</span></dt><dd>wgs84</dd><dt><span>_ChunkSizes :</span></dt><dd>[  1 367 234]</dd></dl></div><div class='xr-var-data'><pre>[6368884236 values with dtype=float32]</pre></div></li></ul></div></li><li class='xr-section-item'><input id='section-4dae4794-ae16-4006-b0a6-9a6e56a16573' class='xr-section-summary-in' type='checkbox'  ><label for='section-4dae4794-ae16-4006-b0a6-9a6e56a16573' class='xr-section-summary' >Attributes: <span>(31)</span></label><div class='xr-section-inline-details'></div><div class='xr-section-details'><dl class='xr-attrs'><dt><span>Conventions :</span></dt><dd>CF-1.4, ACDD-1.3</dd><dt><span>id :</span></dt><dd>202007141500siohfruwlsrtvuswc6km</dd><dt><span>date_created :</span></dt><dd>2020-07-14T17:22:59Z</dd><dt><span>source :</span></dt><dd>surface ocean velocity field from hf-radar</dd><dt><span>program :</span></dt><dd>Integrated Ocean Observing System (IOOS)</dd><dt><span>title :</span></dt><dd>Near-Real Time Surface Ocean Velocity, U.S. West Coast, 6km Resolution</dd><dt><span>summary :</span></dt><dd>Surface ocean velocities estimated from HF-Radar are representative \n",
       "of the upper 2.4 meters of the ocean.  The main objective of \n",
       "near-real time processing is to produce the best product from \n",
       "available data at the time of processing.  Radial velocity \n",
       "measurements are obtained from individual radar sites through the \n",
       "U.S. HF-Radar Network. Hourly radial data are processed by unweighted \n",
       "least squares on a 6km resolution grid of the U.S. West Coast to \n",
       "produce near real-time surface current maps.</dd><dt><span>instrument :</span></dt><dd>Earth Remote Sensing Instruments, Active Remote Sensing, \n",
       "Profilers/Sounders, Radar Sounders, Doppler RADAR</dd><dt><span>keywords :</span></dt><dd>Earth Science, Oceans, Sea Surface, Coastal Processes, Marine \n",
       "Environment Monitoring, Ocean Circulation, Ocean Currents, \n",
       "Wind-Driven Circulation, Tides, Tidal Currents, Pacific Ocean, North \n",
       "Pacific Ocean</dd><dt><span>geospatial_lat_min :</span></dt><dd>30.25</dd><dt><span>geospatial_lat_max :</span></dt><dd>49.99204</dd><dt><span>geospatial_lon_min :</span></dt><dd>-130.36</dd><dt><span>geospatial_lon_max :</span></dt><dd>-115.805565</dd><dt><span>processing_level :</span></dt><dd>Near real-time dataset with automated data acquisition and processing \n",
       "quality control</dd><dt><span>history :</span></dt><dd>2020-07-14T16:23:32Z hfrnet rtvMergeData: Saving 1088 new solutions\n",
       "2020-07-14T16:52:41Z hfrnet rtvMergeData: Saving 3379 solutions; 2937 \n",
       "new or updated, 442 unmodified from previous run(s)\n",
       "2020-07-14T17:22:59Z hfrnet rtvMergeData: Saving 4367 solutions; 3115 \n",
       "new or updated, 1252 unmodified from previous run(s)\n",
       "2020-07-14T17:22:59Z hfrnet rtvSaveNetcdf: Removed 684 solutions \n",
       "exceeding HDOP threshold of 1.25 ;\n",
       "FMRC Best Dataset</dd><dt><span>references :</span></dt><dd>Terrill, E. et al., 2006. Data Management and Real-time Distribution \n",
       "in the HF-Radar National Network. Proceedings of the MTS/IEEE Oceans \n",
       "2006 Conference, Boston MA, September 2006.</dd><dt><span>institution :</span></dt><dd>Coastal Observing Research and Development Center, Scripps Institution of Oceanography</dd><dt><span>creator_type :</span></dt><dd>group</dd><dt><span>creator_name :</span></dt><dd>HFRNet Administrators</dd><dt><span>creator_email :</span></dt><dd>hfrnet.administrators@sio.ucsd.edu</dd><dt><span>creator_url :</span></dt><dd>http://cordc.ucsd.edu/projects/mapping/</dd><dt><span>naming_authority :</span></dt><dd>edu.ucsd.cordc</dd><dt><span>standard_name_vocabulary :</span></dt><dd>CF Standard Name Table, Version 51</dd><dt><span>keywords_vocabulary :</span></dt><dd>Global Change Master Directory (GCMD) Keywords, Version 8.6</dd><dt><span>instrument_vocabulary :</span></dt><dd>Global Change Master Directory (GCMD) Keywords, Version 8.6</dd><dt><span>format_version :</span></dt><dd>1.1.00</dd><dt><span>product_version :</span></dt><dd>2.0.00</dd><dt><span>_CoordSysBuilder :</span></dt><dd>ucar.nc2.dataset.conv.CF1Convention</dd><dt><span>cdm_data_type :</span></dt><dd>GRID</dd><dt><span>featureType :</span></dt><dd>GRID</dd><dt><span>location :</span></dt><dd>Proto fmrc:HFRADAR_US_West_Coast_6km_Resolution_Hourly_RTV</dd></dl></div></li></ul></div></div>"
      ],
      "text/plain": [
       "<xarray.Dataset>\n",
       "Dimensions:                (lat: 367, lon: 234, nv: 2, time: 74162, time_1: 1)\n",
       "Coordinates:\n",
       "  * lat                    (lat) float32 30.25 30.30394 ... 49.9381 49.99204\n",
       "  * lon                    (lon) float32 -130.36 -130.29753 ... -115.805565\n",
       "  * time                   (time) datetime64[ns] 2012-01-01 ... 2020-08-01T17...\n",
       "    time_run               (time) datetime64[ns] ...\n",
       "Dimensions without coordinates: nv, time_1\n",
       "Data variables:\n",
       "    time_bnds              (time_1, nv) int32 ...\n",
       "    depth_bnds             (nv) float32 ...\n",
       "    wgs84                  int8 ...\n",
       "    processing_parameters  int8 ...\n",
       "    radial_metadata        int8 ...\n",
       "    depth                  float32 ...\n",
       "    time_offset            (time) datetime64[ns] ...\n",
       "    u                      (time, lat, lon) float32 ...\n",
       "    v                      (time, lat, lon) float32 ...\n",
       "    dopx                   (time, lat, lon) float32 ...\n",
       "    dopy                   (time, lat, lon) float32 ...\n",
       "    hdop                   (time, lat, lon) float32 ...\n",
       "    number_of_sites        (time, lat, lon) float32 ...\n",
       "    number_of_radials      (time, lat, lon) float32 ...\n",
       "Attributes:\n",
       "    Conventions:               CF-1.4, ACDD-1.3\n",
       "    id:                        202007141500siohfruwlsrtvuswc6km\n",
       "    date_created:              2020-07-14T17:22:59Z\n",
       "    source:                    surface ocean velocity field from hf-radar\n",
       "    program:                   Integrated Ocean Observing System (IOOS)\n",
       "    title:                     Near-Real Time Surface Ocean Velocity, U.S. We...\n",
       "    summary:                   Surface ocean velocities estimated from HF-Rad...\n",
       "    instrument:                Earth Remote Sensing Instruments, Active Remot...\n",
       "    keywords:                  Earth Science, Oceans, Sea Surface, Coastal Pr...\n",
       "    geospatial_lat_min:        30.25\n",
       "    geospatial_lat_max:        49.99204\n",
       "    geospatial_lon_min:        -130.36\n",
       "    geospatial_lon_max:        -115.805565\n",
       "    processing_level:          Near real-time dataset with automated data acq...\n",
       "    history:                   2020-07-14T16:23:32Z hfrnet rtvMergeData: Savi...\n",
       "    references:                Terrill, E. et al., 2006. Data Management and ...\n",
       "    institution:               Coastal Observing Research and Development Cen...\n",
       "    creator_type:              group\n",
       "    creator_name:              HFRNet Administrators\n",
       "    creator_email:             hfrnet.administrators@sio.ucsd.edu\n",
       "    creator_url:               http://cordc.ucsd.edu/projects/mapping/\n",
       "    naming_authority:          edu.ucsd.cordc\n",
       "    standard_name_vocabulary:  CF Standard Name Table, Version 51\n",
       "    keywords_vocabulary:       Global Change Master Directory (GCMD) Keywords...\n",
       "    instrument_vocabulary:     Global Change Master Directory (GCMD) Keywords...\n",
       "    format_version:            1.1.00\n",
       "    product_version:           2.0.00\n",
       "    _CoordSysBuilder:          ucar.nc2.dataset.conv.CF1Convention\n",
       "    cdm_data_type:             GRID\n",
       "    featureType:               GRID\n",
       "    location:                  Proto fmrc:HFRADAR_US_West_Coast_6km_Resolutio..."
      ]
     },
     "execution_count": 17,
     "metadata": {},
     "output_type": "execute_result"
    }
   ],
   "source": [
    "import xarray as xr\n",
    "\n",
    "ds = xr.open_dataset(url)\n",
    "ds"
   ]
  },
  {
   "cell_type": "markdown",
   "metadata": {
    "slideshow": {
     "slide_type": "slide"
    }
   },
   "source": [
    "### Select \"last week\" data"
   ]
  },
  {
   "cell_type": "code",
   "execution_count": 18,
   "metadata": {
    "scrolled": false,
    "slideshow": {
     "slide_type": "-"
    }
   },
   "outputs": [
    {
     "data": {
      "text/html": [
       "<div><svg style=\"position: absolute; width: 0; height: 0; overflow: hidden\">\n",
       "<defs>\n",
       "<symbol id=\"icon-database\" viewBox=\"0 0 32 32\">\n",
       "<path d=\"M16 0c-8.837 0-16 2.239-16 5v4c0 2.761 7.163 5 16 5s16-2.239 16-5v-4c0-2.761-7.163-5-16-5z\"></path>\n",
       "<path d=\"M16 17c-8.837 0-16-2.239-16-5v6c0 2.761 7.163 5 16 5s16-2.239 16-5v-6c0 2.761-7.163 5-16 5z\"></path>\n",
       "<path d=\"M16 26c-8.837 0-16-2.239-16-5v6c0 2.761 7.163 5 16 5s16-2.239 16-5v-6c0 2.761-7.163 5-16 5z\"></path>\n",
       "</symbol>\n",
       "<symbol id=\"icon-file-text2\" viewBox=\"0 0 32 32\">\n",
       "<path d=\"M28.681 7.159c-0.694-0.947-1.662-2.053-2.724-3.116s-2.169-2.030-3.116-2.724c-1.612-1.182-2.393-1.319-2.841-1.319h-15.5c-1.378 0-2.5 1.121-2.5 2.5v27c0 1.378 1.122 2.5 2.5 2.5h23c1.378 0 2.5-1.122 2.5-2.5v-19.5c0-0.448-0.137-1.23-1.319-2.841zM24.543 5.457c0.959 0.959 1.712 1.825 2.268 2.543h-4.811v-4.811c0.718 0.556 1.584 1.309 2.543 2.268zM28 29.5c0 0.271-0.229 0.5-0.5 0.5h-23c-0.271 0-0.5-0.229-0.5-0.5v-27c0-0.271 0.229-0.5 0.5-0.5 0 0 15.499-0 15.5 0v7c0 0.552 0.448 1 1 1h7v19.5z\"></path>\n",
       "<path d=\"M23 26h-14c-0.552 0-1-0.448-1-1s0.448-1 1-1h14c0.552 0 1 0.448 1 1s-0.448 1-1 1z\"></path>\n",
       "<path d=\"M23 22h-14c-0.552 0-1-0.448-1-1s0.448-1 1-1h14c0.552 0 1 0.448 1 1s-0.448 1-1 1z\"></path>\n",
       "<path d=\"M23 18h-14c-0.552 0-1-0.448-1-1s0.448-1 1-1h14c0.552 0 1 0.448 1 1s-0.448 1-1 1z\"></path>\n",
       "</symbol>\n",
       "</defs>\n",
       "</svg>\n",
       "<style>/* CSS stylesheet for displaying xarray objects in jupyterlab.\n",
       " *\n",
       " */\n",
       "\n",
       ":root {\n",
       "  --xr-font-color0: var(--jp-content-font-color0, rgba(0, 0, 0, 1));\n",
       "  --xr-font-color2: var(--jp-content-font-color2, rgba(0, 0, 0, 0.54));\n",
       "  --xr-font-color3: var(--jp-content-font-color3, rgba(0, 0, 0, 0.38));\n",
       "  --xr-border-color: var(--jp-border-color2, #e0e0e0);\n",
       "  --xr-disabled-color: var(--jp-layout-color3, #bdbdbd);\n",
       "  --xr-background-color: var(--jp-layout-color0, white);\n",
       "  --xr-background-color-row-even: var(--jp-layout-color1, white);\n",
       "  --xr-background-color-row-odd: var(--jp-layout-color2, #eeeeee);\n",
       "}\n",
       "\n",
       "html[theme=dark],\n",
       "body.vscode-dark {\n",
       "  --xr-font-color0: rgba(255, 255, 255, 1);\n",
       "  --xr-font-color2: rgba(255, 255, 255, 0.54);\n",
       "  --xr-font-color3: rgba(255, 255, 255, 0.38);\n",
       "  --xr-border-color: #1F1F1F;\n",
       "  --xr-disabled-color: #515151;\n",
       "  --xr-background-color: #111111;\n",
       "  --xr-background-color-row-even: #111111;\n",
       "  --xr-background-color-row-odd: #313131;\n",
       "}\n",
       "\n",
       ".xr-wrap {\n",
       "  display: block;\n",
       "  min-width: 300px;\n",
       "  max-width: 700px;\n",
       "}\n",
       "\n",
       ".xr-text-repr-fallback {\n",
       "  /* fallback to plain text repr when CSS is not injected (untrusted notebook) */\n",
       "  display: none;\n",
       "}\n",
       "\n",
       ".xr-header {\n",
       "  padding-top: 6px;\n",
       "  padding-bottom: 6px;\n",
       "  margin-bottom: 4px;\n",
       "  border-bottom: solid 1px var(--xr-border-color);\n",
       "}\n",
       "\n",
       ".xr-header > div,\n",
       ".xr-header > ul {\n",
       "  display: inline;\n",
       "  margin-top: 0;\n",
       "  margin-bottom: 0;\n",
       "}\n",
       "\n",
       ".xr-obj-type,\n",
       ".xr-array-name {\n",
       "  margin-left: 2px;\n",
       "  margin-right: 10px;\n",
       "}\n",
       "\n",
       ".xr-obj-type {\n",
       "  color: var(--xr-font-color2);\n",
       "}\n",
       "\n",
       ".xr-sections {\n",
       "  padding-left: 0 !important;\n",
       "  display: grid;\n",
       "  grid-template-columns: 150px auto auto 1fr 20px 20px;\n",
       "}\n",
       "\n",
       ".xr-section-item {\n",
       "  display: contents;\n",
       "}\n",
       "\n",
       ".xr-section-item input {\n",
       "  display: none;\n",
       "}\n",
       "\n",
       ".xr-section-item input + label {\n",
       "  color: var(--xr-disabled-color);\n",
       "}\n",
       "\n",
       ".xr-section-item input:enabled + label {\n",
       "  cursor: pointer;\n",
       "  color: var(--xr-font-color2);\n",
       "}\n",
       "\n",
       ".xr-section-item input:enabled + label:hover {\n",
       "  color: var(--xr-font-color0);\n",
       "}\n",
       "\n",
       ".xr-section-summary {\n",
       "  grid-column: 1;\n",
       "  color: var(--xr-font-color2);\n",
       "  font-weight: 500;\n",
       "}\n",
       "\n",
       ".xr-section-summary > span {\n",
       "  display: inline-block;\n",
       "  padding-left: 0.5em;\n",
       "}\n",
       "\n",
       ".xr-section-summary-in:disabled + label {\n",
       "  color: var(--xr-font-color2);\n",
       "}\n",
       "\n",
       ".xr-section-summary-in + label:before {\n",
       "  display: inline-block;\n",
       "  content: '►';\n",
       "  font-size: 11px;\n",
       "  width: 15px;\n",
       "  text-align: center;\n",
       "}\n",
       "\n",
       ".xr-section-summary-in:disabled + label:before {\n",
       "  color: var(--xr-disabled-color);\n",
       "}\n",
       "\n",
       ".xr-section-summary-in:checked + label:before {\n",
       "  content: '▼';\n",
       "}\n",
       "\n",
       ".xr-section-summary-in:checked + label > span {\n",
       "  display: none;\n",
       "}\n",
       "\n",
       ".xr-section-summary,\n",
       ".xr-section-inline-details {\n",
       "  padding-top: 4px;\n",
       "  padding-bottom: 4px;\n",
       "}\n",
       "\n",
       ".xr-section-inline-details {\n",
       "  grid-column: 2 / -1;\n",
       "}\n",
       "\n",
       ".xr-section-details {\n",
       "  display: none;\n",
       "  grid-column: 1 / -1;\n",
       "  margin-bottom: 5px;\n",
       "}\n",
       "\n",
       ".xr-section-summary-in:checked ~ .xr-section-details {\n",
       "  display: contents;\n",
       "}\n",
       "\n",
       ".xr-array-wrap {\n",
       "  grid-column: 1 / -1;\n",
       "  display: grid;\n",
       "  grid-template-columns: 20px auto;\n",
       "}\n",
       "\n",
       ".xr-array-wrap > label {\n",
       "  grid-column: 1;\n",
       "  vertical-align: top;\n",
       "}\n",
       "\n",
       ".xr-preview {\n",
       "  color: var(--xr-font-color3);\n",
       "}\n",
       "\n",
       ".xr-array-preview,\n",
       ".xr-array-data {\n",
       "  padding: 0 5px !important;\n",
       "  grid-column: 2;\n",
       "}\n",
       "\n",
       ".xr-array-data,\n",
       ".xr-array-in:checked ~ .xr-array-preview {\n",
       "  display: none;\n",
       "}\n",
       "\n",
       ".xr-array-in:checked ~ .xr-array-data,\n",
       ".xr-array-preview {\n",
       "  display: inline-block;\n",
       "}\n",
       "\n",
       ".xr-dim-list {\n",
       "  display: inline-block !important;\n",
       "  list-style: none;\n",
       "  padding: 0 !important;\n",
       "  margin: 0;\n",
       "}\n",
       "\n",
       ".xr-dim-list li {\n",
       "  display: inline-block;\n",
       "  padding: 0;\n",
       "  margin: 0;\n",
       "}\n",
       "\n",
       ".xr-dim-list:before {\n",
       "  content: '(';\n",
       "}\n",
       "\n",
       ".xr-dim-list:after {\n",
       "  content: ')';\n",
       "}\n",
       "\n",
       ".xr-dim-list li:not(:last-child):after {\n",
       "  content: ',';\n",
       "  padding-right: 5px;\n",
       "}\n",
       "\n",
       ".xr-has-index {\n",
       "  font-weight: bold;\n",
       "}\n",
       "\n",
       ".xr-var-list,\n",
       ".xr-var-item {\n",
       "  display: contents;\n",
       "}\n",
       "\n",
       ".xr-var-item > div,\n",
       ".xr-var-item label,\n",
       ".xr-var-item > .xr-var-name span {\n",
       "  background-color: var(--xr-background-color-row-even);\n",
       "  margin-bottom: 0;\n",
       "}\n",
       "\n",
       ".xr-var-item > .xr-var-name:hover span {\n",
       "  padding-right: 5px;\n",
       "}\n",
       "\n",
       ".xr-var-list > li:nth-child(odd) > div,\n",
       ".xr-var-list > li:nth-child(odd) > label,\n",
       ".xr-var-list > li:nth-child(odd) > .xr-var-name span {\n",
       "  background-color: var(--xr-background-color-row-odd);\n",
       "}\n",
       "\n",
       ".xr-var-name {\n",
       "  grid-column: 1;\n",
       "}\n",
       "\n",
       ".xr-var-dims {\n",
       "  grid-column: 2;\n",
       "}\n",
       "\n",
       ".xr-var-dtype {\n",
       "  grid-column: 3;\n",
       "  text-align: right;\n",
       "  color: var(--xr-font-color2);\n",
       "}\n",
       "\n",
       ".xr-var-preview {\n",
       "  grid-column: 4;\n",
       "}\n",
       "\n",
       ".xr-var-name,\n",
       ".xr-var-dims,\n",
       ".xr-var-dtype,\n",
       ".xr-preview,\n",
       ".xr-attrs dt {\n",
       "  white-space: nowrap;\n",
       "  overflow: hidden;\n",
       "  text-overflow: ellipsis;\n",
       "  padding-right: 10px;\n",
       "}\n",
       "\n",
       ".xr-var-name:hover,\n",
       ".xr-var-dims:hover,\n",
       ".xr-var-dtype:hover,\n",
       ".xr-attrs dt:hover {\n",
       "  overflow: visible;\n",
       "  width: auto;\n",
       "  z-index: 1;\n",
       "}\n",
       "\n",
       ".xr-var-attrs,\n",
       ".xr-var-data {\n",
       "  display: none;\n",
       "  background-color: var(--xr-background-color) !important;\n",
       "  padding-bottom: 5px !important;\n",
       "}\n",
       "\n",
       ".xr-var-attrs-in:checked ~ .xr-var-attrs,\n",
       ".xr-var-data-in:checked ~ .xr-var-data {\n",
       "  display: block;\n",
       "}\n",
       "\n",
       ".xr-var-data > table {\n",
       "  float: right;\n",
       "}\n",
       "\n",
       ".xr-var-name span,\n",
       ".xr-var-data,\n",
       ".xr-attrs {\n",
       "  padding-left: 25px !important;\n",
       "}\n",
       "\n",
       ".xr-attrs,\n",
       ".xr-var-attrs,\n",
       ".xr-var-data {\n",
       "  grid-column: 1 / -1;\n",
       "}\n",
       "\n",
       "dl.xr-attrs {\n",
       "  padding: 0;\n",
       "  margin: 0;\n",
       "  display: grid;\n",
       "  grid-template-columns: 125px auto;\n",
       "}\n",
       "\n",
       ".xr-attrs dt, dd {\n",
       "  padding: 0;\n",
       "  margin: 0;\n",
       "  float: left;\n",
       "  padding-right: 10px;\n",
       "  width: auto;\n",
       "}\n",
       "\n",
       ".xr-attrs dt {\n",
       "  font-weight: normal;\n",
       "  grid-column: 1;\n",
       "}\n",
       "\n",
       ".xr-attrs dt:hover span {\n",
       "  display: inline-block;\n",
       "  background: var(--xr-background-color);\n",
       "  padding-right: 10px;\n",
       "}\n",
       "\n",
       ".xr-attrs dd {\n",
       "  grid-column: 2;\n",
       "  white-space: pre-wrap;\n",
       "  word-break: break-all;\n",
       "}\n",
       "\n",
       ".xr-icon-database,\n",
       ".xr-icon-file-text2 {\n",
       "  display: inline-block;\n",
       "  vertical-align: middle;\n",
       "  width: 1em;\n",
       "  height: 1.5em !important;\n",
       "  stroke-width: 0;\n",
       "  stroke: currentColor;\n",
       "  fill: currentColor;\n",
       "}\n",
       "</style><pre class='xr-text-repr-fallback'>&lt;xarray.Dataset&gt;\n",
       "Dimensions:                (lat: 367, lon: 234, nv: 2, time_1: 1)\n",
       "Coordinates:\n",
       "  * lat                    (lat) float32 30.25 30.30394 ... 49.9381 49.99204\n",
       "  * lon                    (lon) float32 -130.36 -130.29753 ... -115.805565\n",
       "    time                   datetime64[ns] 2020-07-31\n",
       "    time_run               datetime64[ns] 2020-07-31\n",
       "Dimensions without coordinates: nv, time_1\n",
       "Data variables:\n",
       "    time_bnds              (time_1, nv) int32 1594737000 1594740600\n",
       "    depth_bnds             (nv) float32 0.0 2.4\n",
       "    wgs84                  int8 -127\n",
       "    processing_parameters  int8 -127\n",
       "    radial_metadata        int8 -127\n",
       "    depth                  float32 1.4\n",
       "    time_offset            datetime64[ns] 2012-01-01\n",
       "    u                      (lat, lon) float32 nan nan nan nan ... nan nan nan\n",
       "    v                      (lat, lon) float32 nan nan nan nan ... nan nan nan\n",
       "    dopx                   (lat, lon) float32 nan nan nan nan ... nan nan nan\n",
       "    dopy                   (lat, lon) float32 nan nan nan nan ... nan nan nan\n",
       "    hdop                   (lat, lon) float32 nan nan nan nan ... nan nan nan\n",
       "    number_of_sites        (lat, lon) float32 nan nan nan nan ... nan nan nan\n",
       "    number_of_radials      (lat, lon) float32 nan nan nan nan ... nan nan nan\n",
       "Attributes:\n",
       "    Conventions:               CF-1.4, ACDD-1.3\n",
       "    id:                        202007141500siohfruwlsrtvuswc6km\n",
       "    date_created:              2020-07-14T17:22:59Z\n",
       "    source:                    surface ocean velocity field from hf-radar\n",
       "    program:                   Integrated Ocean Observing System (IOOS)\n",
       "    title:                     Near-Real Time Surface Ocean Velocity, U.S. We...\n",
       "    summary:                   Surface ocean velocities estimated from HF-Rad...\n",
       "    instrument:                Earth Remote Sensing Instruments, Active Remot...\n",
       "    keywords:                  Earth Science, Oceans, Sea Surface, Coastal Pr...\n",
       "    geospatial_lat_min:        30.25\n",
       "    geospatial_lat_max:        49.99204\n",
       "    geospatial_lon_min:        -130.36\n",
       "    geospatial_lon_max:        -115.805565\n",
       "    processing_level:          Near real-time dataset with automated data acq...\n",
       "    history:                   2020-07-14T16:23:32Z hfrnet rtvMergeData: Savi...\n",
       "    references:                Terrill, E. et al., 2006. Data Management and ...\n",
       "    institution:               Coastal Observing Research and Development Cen...\n",
       "    creator_type:              group\n",
       "    creator_name:              HFRNet Administrators\n",
       "    creator_email:             hfrnet.administrators@sio.ucsd.edu\n",
       "    creator_url:               http://cordc.ucsd.edu/projects/mapping/\n",
       "    naming_authority:          edu.ucsd.cordc\n",
       "    standard_name_vocabulary:  CF Standard Name Table, Version 51\n",
       "    keywords_vocabulary:       Global Change Master Directory (GCMD) Keywords...\n",
       "    instrument_vocabulary:     Global Change Master Directory (GCMD) Keywords...\n",
       "    format_version:            1.1.00\n",
       "    product_version:           2.0.00\n",
       "    _CoordSysBuilder:          ucar.nc2.dataset.conv.CF1Convention\n",
       "    cdm_data_type:             GRID\n",
       "    featureType:               GRID\n",
       "    location:                  Proto fmrc:HFRADAR_US_West_Coast_6km_Resolutio...</pre><div class='xr-wrap' hidden><div class='xr-header'><div class='xr-obj-type'>xarray.Dataset</div></div><ul class='xr-sections'><li class='xr-section-item'><input id='section-41b0387d-cefd-4c5e-a431-1b0f68f5fcdf' class='xr-section-summary-in' type='checkbox' disabled ><label for='section-41b0387d-cefd-4c5e-a431-1b0f68f5fcdf' class='xr-section-summary'  title='Expand/collapse section'>Dimensions:</label><div class='xr-section-inline-details'><ul class='xr-dim-list'><li><span class='xr-has-index'>lat</span>: 367</li><li><span class='xr-has-index'>lon</span>: 234</li><li><span>nv</span>: 2</li><li><span>time_1</span>: 1</li></ul></div><div class='xr-section-details'></div></li><li class='xr-section-item'><input id='section-07c861f6-1050-4458-a45e-e17903faf58d' class='xr-section-summary-in' type='checkbox'  checked><label for='section-07c861f6-1050-4458-a45e-e17903faf58d' class='xr-section-summary' >Coordinates: <span>(4)</span></label><div class='xr-section-inline-details'></div><div class='xr-section-details'><ul class='xr-var-list'><li class='xr-var-item'><div class='xr-var-name'><span class='xr-has-index'>lat</span></div><div class='xr-var-dims'>(lat)</div><div class='xr-var-dtype'>float32</div><div class='xr-var-preview xr-preview'>30.25 30.30394 ... 49.9381 49.99204</div><input id='attrs-ec9aa589-0ff9-43cf-bcbb-e95d30cc506c' class='xr-var-attrs-in' type='checkbox' ><label for='attrs-ec9aa589-0ff9-43cf-bcbb-e95d30cc506c' title='Show/Hide attributes'><svg class='icon xr-icon-file-text2'><use xlink:href='#icon-file-text2'></use></svg></label><input id='data-61eb10cd-3d94-4085-a81a-7b3cc2f35165' class='xr-var-data-in' type='checkbox'><label for='data-61eb10cd-3d94-4085-a81a-7b3cc2f35165' title='Show/Hide data repr'><svg class='icon xr-icon-database'><use xlink:href='#icon-database'></use></svg></label><div class='xr-var-attrs'><dl class='xr-attrs'><dt><span>units :</span></dt><dd>degrees_north</dd><dt><span>long_name :</span></dt><dd>latitude</dd><dt><span>standard_name :</span></dt><dd>latitude</dd><dt><span>_ChunkSizes :</span></dt><dd>367</dd><dt><span>_CoordinateAxisType :</span></dt><dd>Lat</dd></dl></div><div class='xr-var-data'><pre>array([30.25   , 30.30394, 30.35788, ..., 49.88416, 49.9381 , 49.99204],\n",
       "      dtype=float32)</pre></div></li><li class='xr-var-item'><div class='xr-var-name'><span class='xr-has-index'>lon</span></div><div class='xr-var-dims'>(lon)</div><div class='xr-var-dtype'>float32</div><div class='xr-var-preview xr-preview'>-130.36 -130.29753 ... -115.805565</div><input id='attrs-0650f97a-1eec-4881-b3b5-d483f41549d9' class='xr-var-attrs-in' type='checkbox' ><label for='attrs-0650f97a-1eec-4881-b3b5-d483f41549d9' title='Show/Hide attributes'><svg class='icon xr-icon-file-text2'><use xlink:href='#icon-file-text2'></use></svg></label><input id='data-9352aa67-7865-4b87-9070-bcd95f3e0d69' class='xr-var-data-in' type='checkbox'><label for='data-9352aa67-7865-4b87-9070-bcd95f3e0d69' title='Show/Hide data repr'><svg class='icon xr-icon-database'><use xlink:href='#icon-database'></use></svg></label><div class='xr-var-attrs'><dl class='xr-attrs'><dt><span>units :</span></dt><dd>degrees_east</dd><dt><span>long_name :</span></dt><dd>longitude</dd><dt><span>standard_name :</span></dt><dd>longitude</dd><dt><span>_ChunkSizes :</span></dt><dd>234</dd><dt><span>_CoordinateAxisType :</span></dt><dd>Lon</dd></dl></div><div class='xr-var-data'><pre>array([-130.36    , -130.29753 , -130.23506 , ..., -115.9305  , -115.86803 ,\n",
       "       -115.805565], dtype=float32)</pre></div></li><li class='xr-var-item'><div class='xr-var-name'><span>time</span></div><div class='xr-var-dims'>()</div><div class='xr-var-dtype'>datetime64[ns]</div><div class='xr-var-preview xr-preview'>2020-07-31</div><input id='attrs-a9a88300-ebe9-4b5c-b39a-9044e2fd1b93' class='xr-var-attrs-in' type='checkbox' ><label for='attrs-a9a88300-ebe9-4b5c-b39a-9044e2fd1b93' title='Show/Hide attributes'><svg class='icon xr-icon-file-text2'><use xlink:href='#icon-file-text2'></use></svg></label><input id='data-ce339d0c-3997-47f7-9aeb-c59acca0f1b5' class='xr-var-data-in' type='checkbox'><label for='data-ce339d0c-3997-47f7-9aeb-c59acca0f1b5' title='Show/Hide data repr'><svg class='icon xr-icon-database'><use xlink:href='#icon-database'></use></svg></label><div class='xr-var-attrs'><dl class='xr-attrs'><dt><span>long_name :</span></dt><dd>Forecast time for ForecastModelRunCollection</dd><dt><span>standard_name :</span></dt><dd>time</dd><dt><span>_CoordinateAxisType :</span></dt><dd>Time</dd></dl></div><div class='xr-var-data'><pre>array(&#x27;2020-07-31T00:00:00.000000000&#x27;, dtype=&#x27;datetime64[ns]&#x27;)</pre></div></li><li class='xr-var-item'><div class='xr-var-name'><span>time_run</span></div><div class='xr-var-dims'>()</div><div class='xr-var-dtype'>datetime64[ns]</div><div class='xr-var-preview xr-preview'>2020-07-31</div><input id='attrs-d9eb34d5-a6f4-4034-bafa-2fd46d81a6c6' class='xr-var-attrs-in' type='checkbox' ><label for='attrs-d9eb34d5-a6f4-4034-bafa-2fd46d81a6c6' title='Show/Hide attributes'><svg class='icon xr-icon-file-text2'><use xlink:href='#icon-file-text2'></use></svg></label><input id='data-2c37665a-b8ff-4193-aed9-a93405716efb' class='xr-var-data-in' type='checkbox'><label for='data-2c37665a-b8ff-4193-aed9-a93405716efb' title='Show/Hide data repr'><svg class='icon xr-icon-database'><use xlink:href='#icon-database'></use></svg></label><div class='xr-var-attrs'><dl class='xr-attrs'><dt><span>long_name :</span></dt><dd>run times for coordinate = time</dd><dt><span>standard_name :</span></dt><dd>forecast_reference_time</dd><dt><span>_CoordinateAxisType :</span></dt><dd>RunTime</dd></dl></div><div class='xr-var-data'><pre>array(&#x27;2020-07-31T00:00:00.000000000&#x27;, dtype=&#x27;datetime64[ns]&#x27;)</pre></div></li></ul></div></li><li class='xr-section-item'><input id='section-57d69883-e5bd-4287-9572-7b78dfcc1e43' class='xr-section-summary-in' type='checkbox'  checked><label for='section-57d69883-e5bd-4287-9572-7b78dfcc1e43' class='xr-section-summary' >Data variables: <span>(14)</span></label><div class='xr-section-inline-details'></div><div class='xr-section-details'><ul class='xr-var-list'><li class='xr-var-item'><div class='xr-var-name'><span>time_bnds</span></div><div class='xr-var-dims'>(time_1, nv)</div><div class='xr-var-dtype'>int32</div><div class='xr-var-preview xr-preview'>1594737000 1594740600</div><input id='attrs-526b2b7a-d0ae-4902-9a96-d57090e2af3a' class='xr-var-attrs-in' type='checkbox' ><label for='attrs-526b2b7a-d0ae-4902-9a96-d57090e2af3a' title='Show/Hide attributes'><svg class='icon xr-icon-file-text2'><use xlink:href='#icon-file-text2'></use></svg></label><input id='data-09a71b07-8212-469c-945c-3e0573d27282' class='xr-var-data-in' type='checkbox'><label for='data-09a71b07-8212-469c-945c-3e0573d27282' title='Show/Hide data repr'><svg class='icon xr-icon-database'><use xlink:href='#icon-database'></use></svg></label><div class='xr-var-attrs'><dl class='xr-attrs'><dt><span>_ChunkSizes :</span></dt><dd>[1 2]</dd></dl></div><div class='xr-var-data'><pre>array([[1594737000, 1594740600]], dtype=int32)</pre></div></li><li class='xr-var-item'><div class='xr-var-name'><span>depth_bnds</span></div><div class='xr-var-dims'>(nv)</div><div class='xr-var-dtype'>float32</div><div class='xr-var-preview xr-preview'>0.0 2.4</div><input id='attrs-45a31f6f-67ef-421b-8266-2a60ac07d1ae' class='xr-var-attrs-in' type='checkbox' ><label for='attrs-45a31f6f-67ef-421b-8266-2a60ac07d1ae' title='Show/Hide attributes'><svg class='icon xr-icon-file-text2'><use xlink:href='#icon-file-text2'></use></svg></label><input id='data-9b777cdd-a7b0-498f-9e06-f9d753df9a15' class='xr-var-data-in' type='checkbox'><label for='data-9b777cdd-a7b0-498f-9e06-f9d753df9a15' title='Show/Hide data repr'><svg class='icon xr-icon-database'><use xlink:href='#icon-database'></use></svg></label><div class='xr-var-attrs'><dl class='xr-attrs'><dt><span>_ChunkSizes :</span></dt><dd>2</dd></dl></div><div class='xr-var-data'><pre>array([0. , 2.4], dtype=float32)</pre></div></li><li class='xr-var-item'><div class='xr-var-name'><span>wgs84</span></div><div class='xr-var-dims'>()</div><div class='xr-var-dtype'>int8</div><div class='xr-var-preview xr-preview'>-127</div><input id='attrs-d9b7351a-8936-4d36-b72f-fd07875cfca5' class='xr-var-attrs-in' type='checkbox' ><label for='attrs-d9b7351a-8936-4d36-b72f-fd07875cfca5' title='Show/Hide attributes'><svg class='icon xr-icon-file-text2'><use xlink:href='#icon-file-text2'></use></svg></label><input id='data-5df6bfbf-d32e-4615-9d47-cea157d0743e' class='xr-var-data-in' type='checkbox'><label for='data-5df6bfbf-d32e-4615-9d47-cea157d0743e' title='Show/Hide data repr'><svg class='icon xr-icon-database'><use xlink:href='#icon-database'></use></svg></label><div class='xr-var-attrs'><dl class='xr-attrs'><dt><span>grid_mapping_name :</span></dt><dd>latitude_longitude</dd><dt><span>longitude_of_prime_meridian :</span></dt><dd>0.0</dd><dt><span>semi_major_axis :</span></dt><dd>6378137.0</dd><dt><span>inverse_flattening :</span></dt><dd>298.257223563</dd><dt><span>_CoordinateTransformType :</span></dt><dd>Projection</dd><dt><span>_CoordinateAxisTypes :</span></dt><dd>GeoX GeoY</dd></dl></div><div class='xr-var-data'><pre>array(-127, dtype=int8)</pre></div></li><li class='xr-var-item'><div class='xr-var-name'><span>processing_parameters</span></div><div class='xr-var-dims'>()</div><div class='xr-var-dtype'>int8</div><div class='xr-var-preview xr-preview'>-127</div><input id='attrs-7213949b-7f5c-407c-a438-abb20c33eedc' class='xr-var-attrs-in' type='checkbox' ><label for='attrs-7213949b-7f5c-407c-a438-abb20c33eedc' title='Show/Hide attributes'><svg class='icon xr-icon-file-text2'><use xlink:href='#icon-file-text2'></use></svg></label><input id='data-9c0911d1-9aeb-4723-9928-a7235248a49d' class='xr-var-data-in' type='checkbox'><label for='data-9c0911d1-9aeb-4723-9928-a7235248a49d' title='Show/Hide data repr'><svg class='icon xr-icon-database'><use xlink:href='#icon-database'></use></svg></label><div class='xr-var-attrs'><dl class='xr-attrs'><dt><span>long_name :</span></dt><dd>Methods and parameters used to compute total solutions</dd><dt><span>combine_method_name :</span></dt><dd>Unweighted Least Squares</dd><dt><span>combine_method_description :</span></dt><dd>Method used to compute total solutions from radial velocities</dd><dt><span>grid_search_radius :</span></dt><dd>10.0</dd><dt><span>grid_search_radius_units :</span></dt><dd>km</dd><dt><span>grid_search_radius_description :</span></dt><dd>Search radius used for finding contributing radial velocities</dd><dt><span>max_radial_speed :</span></dt><dd>100</dd><dt><span>max_radial_speed_units :</span></dt><dd>cm s-1</dd><dt><span>max_radial_speed_description :</span></dt><dd>Maximum radial speed allowed to contribute to total solutions</dd><dt><span>max_rtv_speed :</span></dt><dd>100</dd><dt><span>max_rtv_speed_units :</span></dt><dd>cm s-1</dd><dt><span>max_rtv_speed_description :</span></dt><dd>Maximum allowed total speed</dd><dt><span>min_radar_sites :</span></dt><dd>2</dd><dt><span>min_radar_sites_description :</span></dt><dd>Minimum number of radar sites required to make a total solution</dd><dt><span>min_radials :</span></dt><dd>3</dd><dt><span>min_radials_description :</span></dt><dd>Minimum number of radials required to make a solution</dd><dt><span>max_hdop :</span></dt><dd>1.25</dd><dt><span>max_hdop_description :</span></dt><dd>Maximum allowed HDOP</dd></dl></div><div class='xr-var-data'><pre>array(-127, dtype=int8)</pre></div></li><li class='xr-var-item'><div class='xr-var-name'><span>radial_metadata</span></div><div class='xr-var-dims'>()</div><div class='xr-var-dtype'>int8</div><div class='xr-var-preview xr-preview'>-127</div><input id='attrs-e5aa60a2-1e39-4dbd-b3b6-1e58be4d42fa' class='xr-var-attrs-in' type='checkbox' ><label for='attrs-e5aa60a2-1e39-4dbd-b3b6-1e58be4d42fa' title='Show/Hide attributes'><svg class='icon xr-icon-file-text2'><use xlink:href='#icon-file-text2'></use></svg></label><input id='data-d921d0a8-ebad-4eb2-8db7-758c81ee9f71' class='xr-var-data-in' type='checkbox'><label for='data-d921d0a8-ebad-4eb2-8db7-758c81ee9f71' title='Show/Hide data repr'><svg class='icon xr-icon-database'><use xlink:href='#icon-database'></use></svg></label><div class='xr-var-attrs'><dl class='xr-attrs'><dt><span>long_name :</span></dt><dd>Metadata on radial velocities used to compute total solutions</dd><dt><span>number_files_loaded :</span></dt><dd>53</dd><dt><span>number_files_loaded_description :</span></dt><dd>Number of radial files loaded</dd><dt><span>files_loaded :</span></dt><dd>RDL_m_BML_BML1_2020_07_14_1500.ruv\n",
       "RDL_m_BML_GCVE_2020_07_14_1500.ruv\n",
       "RDL_m_NPS_BIGC_2020_07_14_1500.ruv\n",
       "RDL_m_NPS_GCYN_2020_07_14_1500.ruv\n",
       "RDL_m_NPS_PPNS_2020_07_14_1500.ruv\n",
       "RDL_m_NPS_SCRZ_2020_07_14_1500.ruv\n",
       "RDL_i_SIO_SDBP_2020_07_14_1500.ruv\n",
       "RDL_m_SIO_SDDP_2020_07_14_1500.ruv\n",
       "RDL_m_SIO_SDPL_2020_07_14_1500.ruv\n",
       "RDL_m_SIO_SDSC_2020_07_14_1500.ruv\n",
       "RDL_m_SIO_SDSE_2020_07_14_1500.ruv\n",
       "RDL_m_SIO_SDSL_2020_07_14_1500.ruv\n",
       "RDL_m_SIO_SDUT_2020_07_14_1500.ruv\n",
       "RDL_m_SIO_SDWW_2020_07_14_1500.ruv\n",
       "RDL_i_SLO_AGL1_2020_07_14_1500.ruv\n",
       "RDL_m_SLO_DCLR_2020_07_14_1500.ruv\n",
       "RDL_m_SLO_DCSR_2020_07_14_1500.ruv\n",
       "RDL_m_SLO_ESTR_2020_07_14_1500.ruv\n",
       "RDL_m_SLO_FBK1_2020_07_14_1500.ruv\n",
       "RDL_m_SLO_PTC1_2020_07_14_1500.ruv\n",
       "RDL_m_SLO_RAGG_2020_07_14_1500.ruv\n",
       "RDL_m_UCSB_COP1_2020_07_14_1500.ruv\n",
       "RDL_m_UCSB_MGS1_2020_07_14_1500.ruv\n",
       "RDL_m_UCSB_NIC1_2020_07_14_1500.ruv\n",
       "RDL_i_UCSB_PTM1_2020_07_14_1500.ruv\n",
       "RDL_m_UCSB_RFG1_2020_07_14_1500.ruv\n",
       "RDL_m_UCSB_SCI1_2020_07_14_1500.ruv\n",
       "RDL_m_UCSB_SNI1_2020_07_14_1500.ruv\n",
       "RDL_m_UCSB_SSD1_2020_07_14_1500.ruv\n",
       "RDL_m_USC_SCDB_2020_07_14_1500.ruv\n",
       "RDL_i_USC_SCDH_2020_07_14_1500.ruv\n",
       "RDL_m_USC_SCNB_2020_07_14_1500.ruv\n",
       "RDL_i_CODAR_ANGL_2020_07_14_1500.ruv\n",
       "RDL_m_CODAR_CRIS_2020_07_14_1500.ruv\n",
       "RDL_m_CODAR_EXPL_2020_07_14_1500.ruv\n",
       "RDL_m_CODAR_FORT_2020_07_14_1500.ruv\n",
       "RDL_m_CODAR_MONT_2020_07_14_1500.ruv\n",
       "RDL_m_CODAR_PBON_2020_07_14_1500.ruv\n",
       "RDL_m_CODAR_RTC1_2020_07_14_1500.ruv\n",
       "RDL_m_CODAR_SAUS_2020_07_14_1500.ruv\n",
       "RDL_m_CODAR_SLID_2020_07_14_1500.ruv\n",
       "RDL_m_NPS_MLML_2020_07_14_1500.ruv\n",
       "RDL_m_NPS_NPGS_2020_07_14_1500.ruv\n",
       "RDL_i_OSU_WIN1_2020_07_14_1500.ruv\n",
       "RDL_i_OSU_WLD2_2020_07_14_1500.ruv\n",
       "RDL_i_OSU_WSH1_2020_07_14_1500.ruv\n",
       "RDL_i_OSU_YHS2_2020_07_14_1500.ruv\n",
       "RDL_m_ONC_VATK_2020_07_14_1500.ruv\n",
       "RDL_m_ONC_VCOL_2020_07_14_1500.ruv\n",
       "RDL_m_ONC_VGPT_2020_07_14_1500.ruv\n",
       "RDL_m_ONC_VION_2020_07_14_1500.ruv\n",
       "RDL_m_ONC_VJOR_2020_07_14_1500.ruv\n",
       "RDL_m_ONC_VROC_2020_07_14_1500.ruv</dd><dt><span>files_loaded_description :</span></dt><dd>Radial file names loaded</dd></dl></div><div class='xr-var-data'><pre>array(-127, dtype=int8)</pre></div></li><li class='xr-var-item'><div class='xr-var-name'><span>depth</span></div><div class='xr-var-dims'>()</div><div class='xr-var-dtype'>float32</div><div class='xr-var-preview xr-preview'>1.4</div><input id='attrs-defb0f97-2a8f-4e90-8093-e05beacd9ecc' class='xr-var-attrs-in' type='checkbox' ><label for='attrs-defb0f97-2a8f-4e90-8093-e05beacd9ecc' title='Show/Hide attributes'><svg class='icon xr-icon-file-text2'><use xlink:href='#icon-file-text2'></use></svg></label><input id='data-57e04adf-1181-4d33-a0b8-5171dea19f99' class='xr-var-data-in' type='checkbox'><label for='data-57e04adf-1181-4d33-a0b8-5171dea19f99' title='Show/Hide data repr'><svg class='icon xr-icon-database'><use xlink:href='#icon-database'></use></svg></label><div class='xr-var-attrs'><dl class='xr-attrs'><dt><span>units :</span></dt><dd>m</dd><dt><span>long_name :</span></dt><dd>depth</dd><dt><span>standard_name :</span></dt><dd>depth</dd><dt><span>bounds :</span></dt><dd>depth_bnds</dd><dt><span>comment :</span></dt><dd>Nominal depth (and corresponding bounds) based on contributing radars</dd></dl></div><div class='xr-var-data'><pre>array(1.4, dtype=float32)</pre></div></li><li class='xr-var-item'><div class='xr-var-name'><span>time_offset</span></div><div class='xr-var-dims'>()</div><div class='xr-var-dtype'>datetime64[ns]</div><div class='xr-var-preview xr-preview'>2012-01-01</div><input id='attrs-54469aa3-b736-466e-a971-6def162db2aa' class='xr-var-attrs-in' type='checkbox' ><label for='attrs-54469aa3-b736-466e-a971-6def162db2aa' title='Show/Hide attributes'><svg class='icon xr-icon-file-text2'><use xlink:href='#icon-file-text2'></use></svg></label><input id='data-96bc76be-c4e0-4308-ae3e-d94d75faae42' class='xr-var-data-in' type='checkbox'><label for='data-96bc76be-c4e0-4308-ae3e-d94d75faae42' title='Show/Hide data repr'><svg class='icon xr-icon-database'><use xlink:href='#icon-database'></use></svg></label><div class='xr-var-attrs'><dl class='xr-attrs'><dt><span>long_name :</span></dt><dd>offset hour from start of run for coordinate = time</dd><dt><span>standard_name :</span></dt><dd>forecast_period</dd></dl></div><div class='xr-var-data'><pre>array(&#x27;2012-01-01T00:00:00.000000000&#x27;, dtype=&#x27;datetime64[ns]&#x27;)</pre></div></li><li class='xr-var-item'><div class='xr-var-name'><span>u</span></div><div class='xr-var-dims'>(lat, lon)</div><div class='xr-var-dtype'>float32</div><div class='xr-var-preview xr-preview'>...</div><input id='attrs-81bd83a9-7bee-44b9-ab2f-498732811583' class='xr-var-attrs-in' type='checkbox' ><label for='attrs-81bd83a9-7bee-44b9-ab2f-498732811583' title='Show/Hide attributes'><svg class='icon xr-icon-file-text2'><use xlink:href='#icon-file-text2'></use></svg></label><input id='data-0c716e47-79ea-4176-8ddc-9b65dbe98695' class='xr-var-data-in' type='checkbox'><label for='data-0c716e47-79ea-4176-8ddc-9b65dbe98695' title='Show/Hide data repr'><svg class='icon xr-icon-database'><use xlink:href='#icon-database'></use></svg></label><div class='xr-var-attrs'><dl class='xr-attrs'><dt><span>units :</span></dt><dd>m s-1</dd><dt><span>long_name :</span></dt><dd>surface_eastward_sea_water_velocity</dd><dt><span>standard_name :</span></dt><dd>surface_eastward_sea_water_velocity</dd><dt><span>grid_mapping :</span></dt><dd>wgs84</dd><dt><span>cell_methods :</span></dt><dd>depth: mean time: mean</dd><dt><span>ancillary_variables :</span></dt><dd>dopx</dd><dt><span>_ChunkSizes :</span></dt><dd>[  1 367 234]</dd></dl></div><div class='xr-var-data'><pre>array([[nan, nan, nan, ..., nan, nan, nan],\n",
       "       [nan, nan, nan, ..., nan, nan, nan],\n",
       "       [nan, nan, nan, ..., nan, nan, nan],\n",
       "       ...,\n",
       "       [nan, nan, nan, ..., nan, nan, nan],\n",
       "       [nan, nan, nan, ..., nan, nan, nan],\n",
       "       [nan, nan, nan, ..., nan, nan, nan]], dtype=float32)</pre></div></li><li class='xr-var-item'><div class='xr-var-name'><span>v</span></div><div class='xr-var-dims'>(lat, lon)</div><div class='xr-var-dtype'>float32</div><div class='xr-var-preview xr-preview'>...</div><input id='attrs-bd8ac99f-fcdd-4956-ae39-c48b142e316c' class='xr-var-attrs-in' type='checkbox' ><label for='attrs-bd8ac99f-fcdd-4956-ae39-c48b142e316c' title='Show/Hide attributes'><svg class='icon xr-icon-file-text2'><use xlink:href='#icon-file-text2'></use></svg></label><input id='data-ffa62abe-d0ba-47ea-be20-ed59330fa279' class='xr-var-data-in' type='checkbox'><label for='data-ffa62abe-d0ba-47ea-be20-ed59330fa279' title='Show/Hide data repr'><svg class='icon xr-icon-database'><use xlink:href='#icon-database'></use></svg></label><div class='xr-var-attrs'><dl class='xr-attrs'><dt><span>units :</span></dt><dd>m s-1</dd><dt><span>long_name :</span></dt><dd>surface_northward_sea_water_velocity</dd><dt><span>standard_name :</span></dt><dd>surface_northward_sea_water_velocity</dd><dt><span>grid_mapping :</span></dt><dd>wgs84</dd><dt><span>cell_methods :</span></dt><dd>depth: mean time: mean</dd><dt><span>ancillary_variables :</span></dt><dd>dopy</dd><dt><span>_ChunkSizes :</span></dt><dd>[  1 367 234]</dd></dl></div><div class='xr-var-data'><pre>array([[nan, nan, nan, ..., nan, nan, nan],\n",
       "       [nan, nan, nan, ..., nan, nan, nan],\n",
       "       [nan, nan, nan, ..., nan, nan, nan],\n",
       "       ...,\n",
       "       [nan, nan, nan, ..., nan, nan, nan],\n",
       "       [nan, nan, nan, ..., nan, nan, nan],\n",
       "       [nan, nan, nan, ..., nan, nan, nan]], dtype=float32)</pre></div></li><li class='xr-var-item'><div class='xr-var-name'><span>dopx</span></div><div class='xr-var-dims'>(lat, lon)</div><div class='xr-var-dtype'>float32</div><div class='xr-var-preview xr-preview'>...</div><input id='attrs-8d02e256-0dbd-4b02-8901-fa78fa6b0221' class='xr-var-attrs-in' type='checkbox' ><label for='attrs-8d02e256-0dbd-4b02-8901-fa78fa6b0221' title='Show/Hide attributes'><svg class='icon xr-icon-file-text2'><use xlink:href='#icon-file-text2'></use></svg></label><input id='data-1a5470dc-8dea-42f6-80aa-ad49267a4e51' class='xr-var-data-in' type='checkbox'><label for='data-1a5470dc-8dea-42f6-80aa-ad49267a4e51' title='Show/Hide data repr'><svg class='icon xr-icon-database'><use xlink:href='#icon-database'></use></svg></label><div class='xr-var-attrs'><dl class='xr-attrs'><dt><span>long_name :</span></dt><dd>longitudinal dilution of precision</dd><dt><span>comment :</span></dt><dd>The longitudinal dilution of precision (dopx) represents the \n",
       "contribution of radial geometry to uncertainty in the eastward \n",
       "velocity estimate (u).</dd><dt><span>grid_mapping :</span></dt><dd>wgs84</dd><dt><span>_ChunkSizes :</span></dt><dd>[  1 367 234]</dd></dl></div><div class='xr-var-data'><pre>array([[nan, nan, nan, ..., nan, nan, nan],\n",
       "       [nan, nan, nan, ..., nan, nan, nan],\n",
       "       [nan, nan, nan, ..., nan, nan, nan],\n",
       "       ...,\n",
       "       [nan, nan, nan, ..., nan, nan, nan],\n",
       "       [nan, nan, nan, ..., nan, nan, nan],\n",
       "       [nan, nan, nan, ..., nan, nan, nan]], dtype=float32)</pre></div></li><li class='xr-var-item'><div class='xr-var-name'><span>dopy</span></div><div class='xr-var-dims'>(lat, lon)</div><div class='xr-var-dtype'>float32</div><div class='xr-var-preview xr-preview'>...</div><input id='attrs-67c18ff2-ad1e-4dad-bb19-6bc97202025b' class='xr-var-attrs-in' type='checkbox' ><label for='attrs-67c18ff2-ad1e-4dad-bb19-6bc97202025b' title='Show/Hide attributes'><svg class='icon xr-icon-file-text2'><use xlink:href='#icon-file-text2'></use></svg></label><input id='data-e1e02bc4-5291-45b4-9625-2ca8d6efa55d' class='xr-var-data-in' type='checkbox'><label for='data-e1e02bc4-5291-45b4-9625-2ca8d6efa55d' title='Show/Hide data repr'><svg class='icon xr-icon-database'><use xlink:href='#icon-database'></use></svg></label><div class='xr-var-attrs'><dl class='xr-attrs'><dt><span>long_name :</span></dt><dd>latitudinal dilution of precision</dd><dt><span>comment :</span></dt><dd>The latitudinal dilution of precision (dopy) represents the \n",
       "contribution of radial geometry to uncertainty in the northward \n",
       "velocity estimate (v).</dd><dt><span>grid_mapping :</span></dt><dd>wgs84</dd><dt><span>_ChunkSizes :</span></dt><dd>[  1 367 234]</dd></dl></div><div class='xr-var-data'><pre>array([[nan, nan, nan, ..., nan, nan, nan],\n",
       "       [nan, nan, nan, ..., nan, nan, nan],\n",
       "       [nan, nan, nan, ..., nan, nan, nan],\n",
       "       ...,\n",
       "       [nan, nan, nan, ..., nan, nan, nan],\n",
       "       [nan, nan, nan, ..., nan, nan, nan],\n",
       "       [nan, nan, nan, ..., nan, nan, nan]], dtype=float32)</pre></div></li><li class='xr-var-item'><div class='xr-var-name'><span>hdop</span></div><div class='xr-var-dims'>(lat, lon)</div><div class='xr-var-dtype'>float32</div><div class='xr-var-preview xr-preview'>...</div><input id='attrs-9e56a574-3c38-403f-a654-92fea4f7776f' class='xr-var-attrs-in' type='checkbox' ><label for='attrs-9e56a574-3c38-403f-a654-92fea4f7776f' title='Show/Hide attributes'><svg class='icon xr-icon-file-text2'><use xlink:href='#icon-file-text2'></use></svg></label><input id='data-e8917414-2bf0-4a62-9027-6463584671dd' class='xr-var-data-in' type='checkbox'><label for='data-e8917414-2bf0-4a62-9027-6463584671dd' title='Show/Hide data repr'><svg class='icon xr-icon-database'><use xlink:href='#icon-database'></use></svg></label><div class='xr-var-attrs'><dl class='xr-attrs'><dt><span>long_name :</span></dt><dd>horizontal dilution of precision</dd><dt><span>comment :</span></dt><dd>The horizontal dilution of precision (hdop) is the vector length \n",
       "(magnitude) of the eastward (dopx) and northward (dopy) dilution of \n",
       "precision.  It represents the contribution of radial geometry to the \n",
       "overall uncertainty in the total velocity (u and v) estimate.</dd><dt><span>grid_mapping :</span></dt><dd>wgs84</dd><dt><span>ancillary_variables :</span></dt><dd>dopx dopy</dd><dt><span>_ChunkSizes :</span></dt><dd>[  1 367 234]</dd></dl></div><div class='xr-var-data'><pre>array([[nan, nan, nan, ..., nan, nan, nan],\n",
       "       [nan, nan, nan, ..., nan, nan, nan],\n",
       "       [nan, nan, nan, ..., nan, nan, nan],\n",
       "       ...,\n",
       "       [nan, nan, nan, ..., nan, nan, nan],\n",
       "       [nan, nan, nan, ..., nan, nan, nan],\n",
       "       [nan, nan, nan, ..., nan, nan, nan]], dtype=float32)</pre></div></li><li class='xr-var-item'><div class='xr-var-name'><span>number_of_sites</span></div><div class='xr-var-dims'>(lat, lon)</div><div class='xr-var-dtype'>float32</div><div class='xr-var-preview xr-preview'>...</div><input id='attrs-7b243e08-ab2f-4e30-bb26-cf93eda50bda' class='xr-var-attrs-in' type='checkbox' ><label for='attrs-7b243e08-ab2f-4e30-bb26-cf93eda50bda' title='Show/Hide attributes'><svg class='icon xr-icon-file-text2'><use xlink:href='#icon-file-text2'></use></svg></label><input id='data-58e95919-93c7-488a-a724-8ac235434a53' class='xr-var-data-in' type='checkbox'><label for='data-58e95919-93c7-488a-a724-8ac235434a53' title='Show/Hide data repr'><svg class='icon xr-icon-database'><use xlink:href='#icon-database'></use></svg></label><div class='xr-var-attrs'><dl class='xr-attrs'><dt><span>units :</span></dt><dd>count</dd><dt><span>long_name :</span></dt><dd>number of contributing radars</dd><dt><span>comment :</span></dt><dd>Number of radars contributing radials to the total solution</dd><dt><span>grid_mapping :</span></dt><dd>wgs84</dd><dt><span>_ChunkSizes :</span></dt><dd>[  1 367 234]</dd></dl></div><div class='xr-var-data'><pre>array([[nan, nan, nan, ..., nan, nan, nan],\n",
       "       [nan, nan, nan, ..., nan, nan, nan],\n",
       "       [nan, nan, nan, ..., nan, nan, nan],\n",
       "       ...,\n",
       "       [nan, nan, nan, ..., nan, nan, nan],\n",
       "       [nan, nan, nan, ..., nan, nan, nan],\n",
       "       [nan, nan, nan, ..., nan, nan, nan]], dtype=float32)</pre></div></li><li class='xr-var-item'><div class='xr-var-name'><span>number_of_radials</span></div><div class='xr-var-dims'>(lat, lon)</div><div class='xr-var-dtype'>float32</div><div class='xr-var-preview xr-preview'>...</div><input id='attrs-c456753f-6612-4b67-a472-21511c6921bf' class='xr-var-attrs-in' type='checkbox' ><label for='attrs-c456753f-6612-4b67-a472-21511c6921bf' title='Show/Hide attributes'><svg class='icon xr-icon-file-text2'><use xlink:href='#icon-file-text2'></use></svg></label><input id='data-8e740a7a-3840-4b85-99f8-52bbe52d49bf' class='xr-var-data-in' type='checkbox'><label for='data-8e740a7a-3840-4b85-99f8-52bbe52d49bf' title='Show/Hide data repr'><svg class='icon xr-icon-database'><use xlink:href='#icon-database'></use></svg></label><div class='xr-var-attrs'><dl class='xr-attrs'><dt><span>units :</span></dt><dd>count</dd><dt><span>long_name :</span></dt><dd>number of contributing radials</dd><dt><span>comment :</span></dt><dd>Number of radials contributing to the total solution</dd><dt><span>grid_mapping :</span></dt><dd>wgs84</dd><dt><span>_ChunkSizes :</span></dt><dd>[  1 367 234]</dd></dl></div><div class='xr-var-data'><pre>array([[nan, nan, nan, ..., nan, nan, nan],\n",
       "       [nan, nan, nan, ..., nan, nan, nan],\n",
       "       [nan, nan, nan, ..., nan, nan, nan],\n",
       "       ...,\n",
       "       [nan, nan, nan, ..., nan, nan, nan],\n",
       "       [nan, nan, nan, ..., nan, nan, nan],\n",
       "       [nan, nan, nan, ..., nan, nan, nan]], dtype=float32)</pre></div></li></ul></div></li><li class='xr-section-item'><input id='section-ffc368ec-45da-4a77-a838-905b5e498cab' class='xr-section-summary-in' type='checkbox'  ><label for='section-ffc368ec-45da-4a77-a838-905b5e498cab' class='xr-section-summary' >Attributes: <span>(31)</span></label><div class='xr-section-inline-details'></div><div class='xr-section-details'><dl class='xr-attrs'><dt><span>Conventions :</span></dt><dd>CF-1.4, ACDD-1.3</dd><dt><span>id :</span></dt><dd>202007141500siohfruwlsrtvuswc6km</dd><dt><span>date_created :</span></dt><dd>2020-07-14T17:22:59Z</dd><dt><span>source :</span></dt><dd>surface ocean velocity field from hf-radar</dd><dt><span>program :</span></dt><dd>Integrated Ocean Observing System (IOOS)</dd><dt><span>title :</span></dt><dd>Near-Real Time Surface Ocean Velocity, U.S. West Coast, 6km Resolution</dd><dt><span>summary :</span></dt><dd>Surface ocean velocities estimated from HF-Radar are representative \n",
       "of the upper 2.4 meters of the ocean.  The main objective of \n",
       "near-real time processing is to produce the best product from \n",
       "available data at the time of processing.  Radial velocity \n",
       "measurements are obtained from individual radar sites through the \n",
       "U.S. HF-Radar Network. Hourly radial data are processed by unweighted \n",
       "least squares on a 6km resolution grid of the U.S. West Coast to \n",
       "produce near real-time surface current maps.</dd><dt><span>instrument :</span></dt><dd>Earth Remote Sensing Instruments, Active Remote Sensing, \n",
       "Profilers/Sounders, Radar Sounders, Doppler RADAR</dd><dt><span>keywords :</span></dt><dd>Earth Science, Oceans, Sea Surface, Coastal Processes, Marine \n",
       "Environment Monitoring, Ocean Circulation, Ocean Currents, \n",
       "Wind-Driven Circulation, Tides, Tidal Currents, Pacific Ocean, North \n",
       "Pacific Ocean</dd><dt><span>geospatial_lat_min :</span></dt><dd>30.25</dd><dt><span>geospatial_lat_max :</span></dt><dd>49.99204</dd><dt><span>geospatial_lon_min :</span></dt><dd>-130.36</dd><dt><span>geospatial_lon_max :</span></dt><dd>-115.805565</dd><dt><span>processing_level :</span></dt><dd>Near real-time dataset with automated data acquisition and processing \n",
       "quality control</dd><dt><span>history :</span></dt><dd>2020-07-14T16:23:32Z hfrnet rtvMergeData: Saving 1088 new solutions\n",
       "2020-07-14T16:52:41Z hfrnet rtvMergeData: Saving 3379 solutions; 2937 \n",
       "new or updated, 442 unmodified from previous run(s)\n",
       "2020-07-14T17:22:59Z hfrnet rtvMergeData: Saving 4367 solutions; 3115 \n",
       "new or updated, 1252 unmodified from previous run(s)\n",
       "2020-07-14T17:22:59Z hfrnet rtvSaveNetcdf: Removed 684 solutions \n",
       "exceeding HDOP threshold of 1.25 ;\n",
       "FMRC Best Dataset</dd><dt><span>references :</span></dt><dd>Terrill, E. et al., 2006. Data Management and Real-time Distribution \n",
       "in the HF-Radar National Network. Proceedings of the MTS/IEEE Oceans \n",
       "2006 Conference, Boston MA, September 2006.</dd><dt><span>institution :</span></dt><dd>Coastal Observing Research and Development Center, Scripps Institution of Oceanography</dd><dt><span>creator_type :</span></dt><dd>group</dd><dt><span>creator_name :</span></dt><dd>HFRNet Administrators</dd><dt><span>creator_email :</span></dt><dd>hfrnet.administrators@sio.ucsd.edu</dd><dt><span>creator_url :</span></dt><dd>http://cordc.ucsd.edu/projects/mapping/</dd><dt><span>naming_authority :</span></dt><dd>edu.ucsd.cordc</dd><dt><span>standard_name_vocabulary :</span></dt><dd>CF Standard Name Table, Version 51</dd><dt><span>keywords_vocabulary :</span></dt><dd>Global Change Master Directory (GCMD) Keywords, Version 8.6</dd><dt><span>instrument_vocabulary :</span></dt><dd>Global Change Master Directory (GCMD) Keywords, Version 8.6</dd><dt><span>format_version :</span></dt><dd>1.1.00</dd><dt><span>product_version :</span></dt><dd>2.0.00</dd><dt><span>_CoordSysBuilder :</span></dt><dd>ucar.nc2.dataset.conv.CF1Convention</dd><dt><span>cdm_data_type :</span></dt><dd>GRID</dd><dt><span>featureType :</span></dt><dd>GRID</dd><dt><span>location :</span></dt><dd>Proto fmrc:HFRADAR_US_West_Coast_6km_Resolution_Hourly_RTV</dd></dl></div></li></ul></div></div>"
      ],
      "text/plain": [
       "<xarray.Dataset>\n",
       "Dimensions:                (lat: 367, lon: 234, nv: 2, time_1: 1)\n",
       "Coordinates:\n",
       "  * lat                    (lat) float32 30.25 30.30394 ... 49.9381 49.99204\n",
       "  * lon                    (lon) float32 -130.36 -130.29753 ... -115.805565\n",
       "    time                   datetime64[ns] 2020-07-31\n",
       "    time_run               datetime64[ns] 2020-07-31\n",
       "Dimensions without coordinates: nv, time_1\n",
       "Data variables:\n",
       "    time_bnds              (time_1, nv) int32 1594737000 1594740600\n",
       "    depth_bnds             (nv) float32 0.0 2.4\n",
       "    wgs84                  int8 -127\n",
       "    processing_parameters  int8 -127\n",
       "    radial_metadata        int8 -127\n",
       "    depth                  float32 1.4\n",
       "    time_offset            datetime64[ns] 2012-01-01\n",
       "    u                      (lat, lon) float32 ...\n",
       "    v                      (lat, lon) float32 ...\n",
       "    dopx                   (lat, lon) float32 ...\n",
       "    dopy                   (lat, lon) float32 ...\n",
       "    hdop                   (lat, lon) float32 ...\n",
       "    number_of_sites        (lat, lon) float32 ...\n",
       "    number_of_radials      (lat, lon) float32 ...\n",
       "Attributes:\n",
       "    Conventions:               CF-1.4, ACDD-1.3\n",
       "    id:                        202007141500siohfruwlsrtvuswc6km\n",
       "    date_created:              2020-07-14T17:22:59Z\n",
       "    source:                    surface ocean velocity field from hf-radar\n",
       "    program:                   Integrated Ocean Observing System (IOOS)\n",
       "    title:                     Near-Real Time Surface Ocean Velocity, U.S. We...\n",
       "    summary:                   Surface ocean velocities estimated from HF-Rad...\n",
       "    instrument:                Earth Remote Sensing Instruments, Active Remot...\n",
       "    keywords:                  Earth Science, Oceans, Sea Surface, Coastal Pr...\n",
       "    geospatial_lat_min:        30.25\n",
       "    geospatial_lat_max:        49.99204\n",
       "    geospatial_lon_min:        -130.36\n",
       "    geospatial_lon_max:        -115.805565\n",
       "    processing_level:          Near real-time dataset with automated data acq...\n",
       "    history:                   2020-07-14T16:23:32Z hfrnet rtvMergeData: Savi...\n",
       "    references:                Terrill, E. et al., 2006. Data Management and ...\n",
       "    institution:               Coastal Observing Research and Development Cen...\n",
       "    creator_type:              group\n",
       "    creator_name:              HFRNet Administrators\n",
       "    creator_email:             hfrnet.administrators@sio.ucsd.edu\n",
       "    creator_url:               http://cordc.ucsd.edu/projects/mapping/\n",
       "    naming_authority:          edu.ucsd.cordc\n",
       "    standard_name_vocabulary:  CF Standard Name Table, Version 51\n",
       "    keywords_vocabulary:       Global Change Master Directory (GCMD) Keywords...\n",
       "    instrument_vocabulary:     Global Change Master Directory (GCMD) Keywords...\n",
       "    format_version:            1.1.00\n",
       "    product_version:           2.0.00\n",
       "    _CoordSysBuilder:          ucar.nc2.dataset.conv.CF1Convention\n",
       "    cdm_data_type:             GRID\n",
       "    featureType:               GRID\n",
       "    location:                  Proto fmrc:HFRADAR_US_West_Coast_6km_Resolutio..."
      ]
     },
     "execution_count": 18,
     "metadata": {},
     "output_type": "execute_result"
    }
   ],
   "source": [
    "from datetime import date, timedelta\n",
    "\n",
    "yesterday = date.today() - timedelta(days=1)\n",
    "sliced = ds.sel(time=yesterday.strftime(\"%Y-%m-%d 00:00:00\"))\n",
    "sliced"
   ]
  },
  {
   "cell_type": "markdown",
   "metadata": {
    "slideshow": {
     "slide_type": "slide"
    }
   },
   "source": [
    "### Compute the speed while masking invalid values"
   ]
  },
  {
   "cell_type": "code",
   "execution_count": 19,
   "metadata": {
    "slideshow": {
     "slide_type": "-"
    }
   },
   "outputs": [],
   "source": [
    "import numpy.ma as ma\n",
    "\n",
    "u = sliced[\"u\"].data\n",
    "v = sliced[\"v\"].data\n",
    "\n",
    "lon = sliced.coords[\"lon\"].data\n",
    "lat = sliced.coords[\"lat\"].data\n",
    "time = sliced.coords[\"time\"].data\n",
    "\n",
    "u = ma.masked_invalid(u)\n",
    "v = ma.masked_invalid(v)"
   ]
  },
  {
   "cell_type": "markdown",
   "metadata": {
    "slideshow": {
     "slide_type": "slide"
    }
   },
   "source": [
    "This cell is only a trick to show all quiver arrows with the same length,\n",
    "for visualization purposes,\n",
    "and indicate the vector magnitude with colors instead."
   ]
  },
  {
   "cell_type": "code",
   "execution_count": 20,
   "metadata": {
    "slideshow": {
     "slide_type": "fragment"
    }
   },
   "outputs": [],
   "source": [
    "import numpy as np\n",
    "from oceans.ocfis import spdir2uv, uv2spdir\n",
    "\n",
    "angle, speed = uv2spdir(u, v)\n",
    "us, vs = spdir2uv(np.ones_like(speed), angle, deg=True)"
   ]
  },
  {
   "cell_type": "markdown",
   "metadata": {
    "slideshow": {
     "slide_type": "slide"
    }
   },
   "source": [
    "### And now we are ready to create the plot"
   ]
  },
  {
   "cell_type": "code",
   "execution_count": 21,
   "metadata": {
    "slideshow": {
     "slide_type": "-"
    }
   },
   "outputs": [],
   "source": [
    "import cartopy.crs as ccrs\n",
    "import matplotlib.pyplot as plt\n",
    "from cartopy import feature\n",
    "from cartopy.mpl.gridliner import LATITUDE_FORMATTER, LONGITUDE_FORMATTER\n",
    "\n",
    "LAND = feature.NaturalEarthFeature(\n",
    "    \"physical\", \"land\", \"10m\", edgecolor=\"face\", facecolor=\"lightgray\",\n",
    ")\n",
    "\n",
    "sub = 2\n",
    "dx = dy = 0.5\n",
    "center = -122.416667, 37.783333  # San Francisco.\n",
    "bbox = lon.min(), lon.max(), lat.min(), lat.max()"
   ]
  },
  {
   "cell_type": "code",
   "execution_count": 22,
   "metadata": {
    "slideshow": {
     "slide_type": "skip"
    }
   },
   "outputs": [],
   "source": [
    "def plot_hfradar():\n",
    "    fig, (ax0, ax1) = plt.subplots(\n",
    "        ncols=2, figsize=(20, 20), subplot_kw=dict(projection=ccrs.PlateCarree())\n",
    "    )\n",
    "\n",
    "    ax0.set_extent(bbox)\n",
    "    cs = ax0.pcolormesh(lon, lat, ma.masked_invalid(speed))\n",
    "    gl = ax0.gridlines(draw_labels=True)\n",
    "    gl.xlabels_top = gl.ylabels_right = False\n",
    "    gl.xformatter = LONGITUDE_FORMATTER\n",
    "    gl.yformatter = LATITUDE_FORMATTER\n",
    "\n",
    "    cbar = fig.colorbar(cs, ax=ax0, shrink=0.45, extend=\"both\")\n",
    "    cbar.ax.set_title(r\"speed m s$^{-1}$\", loc=\"left\")\n",
    "\n",
    "    ax0.add_feature(LAND, zorder=0, edgecolor=\"black\")\n",
    "    ax0.set_title(f\"{value.title}\\n{ds['time'].values}\")\n",
    "\n",
    "    ax1.set_extent(\n",
    "        [center[0] - dx - dx, center[0] + dx, center[1] - dy, center[1] + dy]\n",
    "    )\n",
    "    q = ax1.quiver(\n",
    "        lon[::sub],\n",
    "        lat[::sub],\n",
    "        us[::sub, ::sub],\n",
    "        vs[::sub, ::sub],\n",
    "        speed[::sub, ::sub],\n",
    "        scale=30,\n",
    "    )\n",
    "    ax1.quiverkey(q, 0.5, 0.85, 1, r\"1 m s$^{-1}$\", coordinates=\"axes\")\n",
    "    gl = ax1.gridlines(draw_labels=True)\n",
    "    gl.top_labels = gl.right_labels = False\n",
    "    gl.xformatter = LONGITUDE_FORMATTER\n",
    "    gl.yformatter = LATITUDE_FORMATTER\n",
    "\n",
    "    ax1.add_feature(LAND, zorder=0, edgecolor=\"black\")\n",
    "    ax1.set_title(\"San Francisco Bay area\")"
   ]
  },
  {
   "cell_type": "code",
   "execution_count": 23,
   "metadata": {
    "slideshow": {
     "slide_type": "slide"
    }
   },
   "outputs": [
    {
     "name": "stderr",
     "output_type": "stream",
     "text": [
      "/home/filipe/miniconda3/envs/OHW20/lib/python3.8/site-packages/cartopy/mpl/gridliner.py:307: UserWarning: The .xlabels_top attribute is deprecated. Please use .top_labels to toggle visibility instead.\n",
      "  warnings.warn('The .xlabels_top attribute is deprecated. Please '\n",
      "/home/filipe/miniconda3/envs/OHW20/lib/python3.8/site-packages/cartopy/mpl/gridliner.py:343: UserWarning: The .ylabels_right attribute is deprecated. Please use .right_labels to toggle visibility instead.\n",
      "  warnings.warn('The .ylabels_right attribute is deprecated. Please '\n"
     ]
    },
    {
     "data": {
      "image/png": "[encoded data removed]",
      "text/plain": [
       "<Figure size 1440x1440 with 3 Axes>"
      ]
     },
     "metadata": {
      "needs_background": "light"
     },
     "output_type": "display_data"
    }
   ],
   "source": [
    "plot_hfradar()"
   ]
  },
  {
   "cell_type": "markdown",
   "metadata": {
    "slideshow": {
     "slide_type": "slide"
    }
   },
   "source": [
    "### Try to create your own filter and enjoy data!\n",
    "\n",
    "```python\n",
    "filter_list = [\n",
    "    fes.And(\n",
    "        [\n",
    "            bbox_crs,\n",
    "            begin, end,\n",
    "            or_filt, not_filt,\n",
    "        ]\n",
    "    )\n",
    "]\n",
    "```"
   ]
  }
 ],
 "metadata": {
  "_draft": {
   "nbviewer_url": "https://gist.github.com/e2ebe5b43f81f728d8f4b5089c8e798a"
  },
  "celltoolbar": "Slideshow",
  "gist": {
   "data": {
    "description": "2017-05-04-finding_HFRadar_currents.ipynb",
    "public": true
   },
   "id": "e2ebe5b43f81f728d8f4b5089c8e798a"
  },
  "kernelspec": {
   "display_name": "Python 3",
   "language": "python",
   "name": "python3"
  },
  "language_info": {
   "codemirror_mode": {
    "name": "ipython",
    "version": 3
   },
   "file_extension": ".py",
   "mimetype": "text/x-python",
   "name": "python",
   "nbconvert_exporter": "python",
   "pygments_lexer": "ipython3",
   "version": "3.8.5"
  }
 },
 "nbformat": 4,
 "nbformat_minor": 1
}
