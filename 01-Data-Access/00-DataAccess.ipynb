{
 "cells": [
  {
   "cell_type": "code",
   "execution_count": 1,
   "metadata": {
    "slideshow": {
     "slide_type": "skip"
    }
   },
   "outputs": [],
   "source": [
    "%matplotlib inline\n",
    "from pandas.plotting import register_matplotlib_converters\n",
    "\n",
    "register_matplotlib_converters()\n",
    "\n",
    "import warnings\n",
    "\n",
    "warnings.filterwarnings(\"ignore\")"
   ]
  },
  {
   "cell_type": "markdown",
   "metadata": {
    "slideshow": {
     "slide_type": "slide"
    }
   },
   "source": [
    "# Data Access\n",
    "\n",
    "## servers, servers everywhere and not a bit to flip\n",
    "\n",
    "![](https://imgs.xkcd.com/comics/digital_data.png)"
   ]
  },
  {
   "cell_type": "markdown",
   "metadata": {
    "slideshow": {
     "slide_type": "slide"
    }
   },
   "source": [
    "# whoami\n",
    "\n",
    "`ocefpaf` (Filipe Fernandes)\n",
    "\n",
    "- Physical Oceanographer\n",
    "- Data Plumber\n",
    "- Code Janitor\n",
    "- CI babysitter\n",
    "- Amazon-Dash-Button for conda-forge"
   ]
  },
  {
   "cell_type": "markdown",
   "metadata": {
    "slideshow": {
     "slide_type": "slide"
    }
   },
   "source": [
    "# My day job: IOOS\n",
    "\n",
    "\n",
    "![](https://raw.githubusercontent.com/ocefpaf/2018-SciPy-talk/gh-pages/images/IOOS-RAs.jpg)"
   ]
  },
  {
   "cell_type": "markdown",
   "metadata": {
    "slideshow": {
     "slide_type": "slide"
    }
   },
   "source": [
    "# Big or small we need data!\n",
    "\n",
    "- There are various sources: variety of servers, APIs, and web services. Just to list a few: OPeNDAP, ERDDAP, THREDDS, ftp, http(s), S3, LAS, etc.\n",
    "\n",
    "![](https://imgs.xkcd.com/comics/data_pipeline.png)"
   ]
  },
  {
   "cell_type": "markdown",
   "metadata": {
    "slideshow": {
     "slide_type": "slide"
    }
   },
   "source": [
    "# Web Services/Type of servers\n",
    "\n",
    "| Data Type                              | Web Service                       | Response    |\n",
    "|----------------------------------------|-----------------------------------|-------------|\n",
    "| In-situ data<br>(buoys, stations, etc) | OGC SOS                           | XML/CSV     |\n",
    "| Gridded data (models, satellite)       | OPeNDAP                           | Binary      |\n",
    "| Raster Images                          | OGC WMS                           | GeoTIFF/PNG |\n",
    "| ERDDAP                                 | Restful API                       | *           |\n",
    "\n",
    "* You imagination is the limit!"
   ]
  },
  {
   "cell_type": "markdown",
   "metadata": {
    "slideshow": {
     "slide_type": "slide"
    }
   },
   "source": [
    "# What are we going to see in this tutorial?\n",
    "## Browse and access data from:\n",
    "\n",
    "1. ERDDAP\n",
    "2. OPeNDAP\n",
    "3. SOS\n",
    "4. WMS\n",
    "5. CSW\\*\n",
    "* Not really a server but a \"server\" aggregator."
   ]
  },
  {
   "cell_type": "markdown",
   "metadata": {
    "slideshow": {
     "slide_type": "slide"
    }
   },
   "source": [
    "## 1) ERDDAP\n",
    "## Exploring the IOOS glider DAC server\n",
    "\n",
    "### Learning objectives:\n",
    "\n",
    "- Explore an ERDDAP server with the python interface (erddapy);\n",
    "- Find a glider for a time/region of interest;\n",
    "- Download the data with a familiar format and create some plots."
   ]
  },
  {
   "cell_type": "markdown",
   "metadata": {
    "slideshow": {
     "slide_type": "slide"
    }
   },
   "source": [
    "## What is ERDDAP?\n",
    "\n",
    "- Flexible outputs: `.html` table, ESRI `.asc` and `.csv`, Google Earth `.kml`, OPeNDAP binary, `.mat`, `.nc`, ODV `.txt`, `.csvp`, `.tsv`, `.json`, and `.xhtml`\n",
    "- RESTful API to access the data\n",
    "- Standardize dates and time in the results\n",
    "- Server-side searching and slicing"
   ]
  },
  {
   "cell_type": "code",
   "execution_count": 2,
   "metadata": {
    "slideshow": {
     "slide_type": "slide"
    }
   },
   "outputs": [],
   "source": [
    "from erddapy import ERDDAP\n",
    "\n",
    "e = ERDDAP(\n",
    "    server=\"https://data.ioos.us/gliders/erddap\",\n",
    "    protocol=\"tabledap\"\n",
    ")"
   ]
  },
  {
   "cell_type": "markdown",
   "metadata": {
    "slideshow": {
     "slide_type": "slide"
    }
   },
   "source": [
    "### What services are available in the server?"
   ]
  },
  {
   "cell_type": "code",
   "execution_count": 3,
   "metadata": {
    "slideshow": {
     "slide_type": "fragment"
    }
   },
   "outputs": [],
   "source": [
    "import pandas as pd\n",
    "\n",
    "df = pd.read_csv(\n",
    "    e.get_search_url(response=\"csv\", search_for=\"all\")\n",
    ")"
   ]
  },
  {
   "cell_type": "code",
   "execution_count": 4,
   "metadata": {
    "slideshow": {
     "slide_type": "fragment"
    }
   },
   "outputs": [
    {
     "name": "stdout",
     "output_type": "stream",
     "text": [
      "We have 748 tabledap, 0 griddap, and 0 wms.\n"
     ]
    }
   ],
   "source": [
    "print(\n",
    "    f'We have {len(set(df[\"tabledap\"].dropna()))} '\n",
    "    f'tabledap, {len(set(df[\"griddap\"].dropna()))} '\n",
    "    f'griddap, and {len(set(df[\"wms\"].dropna()))} wms.'\n",
    ")"
   ]
  },
  {
   "cell_type": "markdown",
   "metadata": {
    "slideshow": {
     "slide_type": "slide"
    }
   },
   "source": [
    "### Let's query all the datasets that have the \"trajectoryprofile\" CDM data type."
   ]
  },
  {
   "cell_type": "code",
   "execution_count": 5,
   "metadata": {
    "slideshow": {
     "slide_type": "fragment"
    }
   },
   "outputs": [
    {
     "name": "stdout",
     "output_type": "stream",
     "text": [
      "Found 747 datasets\n"
     ]
    }
   ],
   "source": [
    "url = e.get_categorize_url(\n",
    "    categorize_by=\"cdm_data_type\",\n",
    "    value=\"trajectoryprofile\",\n",
    "    response=\"csv\",\n",
    ")\n",
    "\n",
    "df = pd.read_csv(url)\n",
    "dataset_ids = df.loc[\n",
    "    ~df[\"tabledap\"].isnull(), \"Dataset ID\"\n",
    "].tolist()\n",
    "\n",
    "dataset_ids_list = \"\\n\".join(dataset_ids)\n",
    "print(f\"Found {len(dataset_ids)} datasets\")"
   ]
  },
  {
   "cell_type": "markdown",
   "metadata": {
    "slideshow": {
     "slide_type": "slide"
    }
   },
   "source": [
    "### Let us narrow our search to deployments that within a lon/lat/time extent."
   ]
  },
  {
   "cell_type": "code",
   "execution_count": 6,
   "metadata": {
    "slideshow": {
     "slide_type": "fragment"
    }
   },
   "outputs": [],
   "source": [
    "from ipyleaflet import Map, Rectangle\n",
    "\n",
    "min_lon, max_lon = -72, -69\n",
    "min_lat, max_lat = 38, 41\n",
    "\n",
    "rectangle = Rectangle(\n",
    "    bounds=((min_lat, min_lon), (max_lat, max_lon))\n",
    ")\n",
    "\n",
    "m = Map(\n",
    "    center=((min_lat + max_lat) / 2,\n",
    "            (min_lon + max_lon) / 2), zoom=6\n",
    ")\n",
    "m.add_layer(rectangle)"
   ]
  },
  {
   "cell_type": "code",
   "execution_count": 7,
   "metadata": {
    "slideshow": {
     "slide_type": "slide"
    }
   },
   "outputs": [
    {
     "data": {
      "application/vnd.jupyter.widget-view+json": {
       "model_id": "056637aefa004a4c8ec0a6f9a9ff8e7e",
       "version_major": 2,
       "version_minor": 0
      },
      "text/plain": [
       "Map(center=[39.5, -70.5], controls=(ZoomControl(options=['position', 'zoom_in_text', 'zoom_in_title', 'zoom_ou…"
      ]
     },
     "metadata": {},
     "output_type": "display_data"
    }
   ],
   "source": [
    "m"
   ]
  },
  {
   "cell_type": "code",
   "execution_count": 8,
   "metadata": {
    "slideshow": {
     "slide_type": "fragment"
    }
   },
   "outputs": [],
   "source": [
    "kw = {\n",
    "    \"min_time\": \"2016-07-10T00:00:00Z\",\n",
    "    \"max_time\": \"2017-02-10T00:00:00Z\",\n",
    "    \"min_lon\": min_lon,\n",
    "    \"max_lon\": max_lon,\n",
    "    \"min_lat\": min_lat,\n",
    "    \"max_lat\": max_lat,\n",
    "}"
   ]
  },
  {
   "cell_type": "code",
   "execution_count": 9,
   "metadata": {
    "scrolled": true,
    "slideshow": {
     "slide_type": "slide"
    }
   },
   "outputs": [],
   "source": [
    "search_url = e.get_search_url(response=\"csv\", **kw)\n",
    "search = pd.read_csv(search_url)\n",
    "dataset_ids = search[\"Dataset ID\"].values\n",
    "\n",
    "dataset_ids_list = \"\\n\".join(dataset_ids)"
   ]
  },
  {
   "cell_type": "code",
   "execution_count": 10,
   "metadata": {
    "slideshow": {
     "slide_type": "slide"
    }
   },
   "outputs": [
    {
     "name": "stdout",
     "output_type": "stream",
     "text": [
      "Found 16 Datasets:\n",
      "blue-20160818T1448\n",
      "cp_335-20170116T1459\n",
      "cp_336-20161011T0027\n",
      "cp_336-20170116T1254\n",
      "cp_340-20160809T0230\n",
      "cp_374-20160529T0035\n",
      "cp_374-20161011T0106\n",
      "cp_376-20160527T2050\n",
      "cp_379-20170116T1246\n",
      "cp_380-20161011T2046\n",
      "cp_387-20160404T1858\n",
      "cp_388-20160809T1409\n",
      "cp_389-20161011T2040\n",
      "silbo-20160413T1534\n",
      "sp022-20170209T1616\n",
      "whoi_406-20160902T1700\n"
     ]
    }
   ],
   "source": [
    "print(f\"Found {len(dataset_ids)} Datasets:\\n{dataset_ids_list}\")"
   ]
  },
  {
   "cell_type": "code",
   "execution_count": 11,
   "metadata": {
    "slideshow": {
     "slide_type": "slide"
    }
   },
   "outputs": [
    {
     "name": "stdout",
     "output_type": "stream",
     "text": [
      "https://data.ioos.us/gliders/erddap/tabledap/whoi_406-20160902T1700.html?depth,latitude,longitude,salinity,temperature,time\n"
     ]
    }
   ],
   "source": [
    "e.dataset_id = \"whoi_406-20160902T1700\"\n",
    "\n",
    "e.variables = [\n",
    "    \"depth\",\n",
    "    \"latitude\",\n",
    "    \"longitude\",\n",
    "    \"salinity\",\n",
    "    \"temperature\",\n",
    "    \"time\",\n",
    "]\n",
    "\n",
    "url = e.get_download_url()\n",
    "print(url)"
   ]
  },
  {
   "cell_type": "code",
   "execution_count": 12,
   "metadata": {
    "scrolled": true,
    "slideshow": {
     "slide_type": "slide"
    }
   },
   "outputs": [
    {
     "data": {
      "text/html": [
       "<div>\n",
       "<style scoped>\n",
       "    .dataframe tbody tr th:only-of-type {\n",
       "        vertical-align: middle;\n",
       "    }\n",
       "\n",
       "    .dataframe tbody tr th {\n",
       "        vertical-align: top;\n",
       "    }\n",
       "\n",
       "    .dataframe thead th {\n",
       "        text-align: right;\n",
       "    }\n",
       "</style>\n",
       "<table border=\"1\" class=\"dataframe\">\n",
       "  <thead>\n",
       "    <tr style=\"text-align: right;\">\n",
       "      <th></th>\n",
       "      <th>depth (m)</th>\n",
       "      <th>latitude (degrees_north)</th>\n",
       "      <th>longitude (degrees_east)</th>\n",
       "      <th>salinity (1)</th>\n",
       "      <th>temperature (Celsius)</th>\n",
       "    </tr>\n",
       "    <tr>\n",
       "      <th>time (UTC)</th>\n",
       "      <th></th>\n",
       "      <th></th>\n",
       "      <th></th>\n",
       "      <th></th>\n",
       "      <th></th>\n",
       "    </tr>\n",
       "  </thead>\n",
       "  <tbody>\n",
       "    <tr>\n",
       "      <th>2016-09-02 17:05:38+00:00</th>\n",
       "      <td>6.43</td>\n",
       "      <td>41.120018</td>\n",
       "      <td>-71.017118</td>\n",
       "      <td>32.079258</td>\n",
       "      <td>20.5407</td>\n",
       "    </tr>\n",
       "    <tr>\n",
       "      <th>2016-09-02 17:05:38+00:00</th>\n",
       "      <td>7.82</td>\n",
       "      <td>41.120018</td>\n",
       "      <td>-71.017118</td>\n",
       "      <td>32.095406</td>\n",
       "      <td>20.5071</td>\n",
       "    </tr>\n",
       "    <tr>\n",
       "      <th>2016-09-02 17:05:38+00:00</th>\n",
       "      <td>8.69</td>\n",
       "      <td>41.120018</td>\n",
       "      <td>-71.017118</td>\n",
       "      <td>32.111920</td>\n",
       "      <td>20.4904</td>\n",
       "    </tr>\n",
       "    <tr>\n",
       "      <th>2016-09-02 17:05:38+00:00</th>\n",
       "      <td>9.54</td>\n",
       "      <td>41.120018</td>\n",
       "      <td>-71.017118</td>\n",
       "      <td>32.126587</td>\n",
       "      <td>20.4897</td>\n",
       "    </tr>\n",
       "    <tr>\n",
       "      <th>2016-09-02 17:05:38+00:00</th>\n",
       "      <td>10.32</td>\n",
       "      <td>41.120018</td>\n",
       "      <td>-71.017118</td>\n",
       "      <td>32.140717</td>\n",
       "      <td>20.4909</td>\n",
       "    </tr>\n",
       "  </tbody>\n",
       "</table>\n",
       "</div>"
      ],
      "text/plain": [
       "                           depth (m)  latitude (degrees_north)  \\\n",
       "time (UTC)                                                       \n",
       "2016-09-02 17:05:38+00:00       6.43                 41.120018   \n",
       "2016-09-02 17:05:38+00:00       7.82                 41.120018   \n",
       "2016-09-02 17:05:38+00:00       8.69                 41.120018   \n",
       "2016-09-02 17:05:38+00:00       9.54                 41.120018   \n",
       "2016-09-02 17:05:38+00:00      10.32                 41.120018   \n",
       "\n",
       "                           longitude (degrees_east)  salinity (1)  \\\n",
       "time (UTC)                                                          \n",
       "2016-09-02 17:05:38+00:00                -71.017118     32.079258   \n",
       "2016-09-02 17:05:38+00:00                -71.017118     32.095406   \n",
       "2016-09-02 17:05:38+00:00                -71.017118     32.111920   \n",
       "2016-09-02 17:05:38+00:00                -71.017118     32.126587   \n",
       "2016-09-02 17:05:38+00:00                -71.017118     32.140717   \n",
       "\n",
       "                           temperature (Celsius)  \n",
       "time (UTC)                                        \n",
       "2016-09-02 17:05:38+00:00                20.5407  \n",
       "2016-09-02 17:05:38+00:00                20.5071  \n",
       "2016-09-02 17:05:38+00:00                20.4904  \n",
       "2016-09-02 17:05:38+00:00                20.4897  \n",
       "2016-09-02 17:05:38+00:00                20.4909  "
      ]
     },
     "execution_count": 12,
     "metadata": {},
     "output_type": "execute_result"
    }
   ],
   "source": [
    "import pandas as pd\n",
    "\n",
    "df = e.to_pandas(\n",
    "    index_col=\"time (UTC)\",\n",
    "    parse_dates=True\n",
    ").dropna()\n",
    "df.head()"
   ]
  },
  {
   "cell_type": "markdown",
   "metadata": {
    "slideshow": {
     "slide_type": "slide"
    }
   },
   "source": [
    "Exercise: experiment with the `e.to_xarray()` method. Think about why/where use one or the other?"
   ]
  },
  {
   "cell_type": "code",
   "execution_count": 13,
   "metadata": {
    "slideshow": {
     "slide_type": "skip"
    }
   },
   "outputs": [],
   "source": [
    "import cartopy.crs as ccrs\n",
    "import matplotlib.pyplot as plt\n",
    "\n",
    "\n",
    "def plot_track(df):\n",
    "    x = df[\"longitude (degrees_east)\"]\n",
    "    y = df[\"latitude (degrees_north)\"]\n",
    "    dx, dy = 2, 4\n",
    "\n",
    "    fig, ax = plt.subplots(\n",
    "        figsize=(9, 9), subplot_kw={\"projection\": ccrs.PlateCarree()}\n",
    "    )\n",
    "    cs = ax.scatter(\n",
    "        x, y, c=df[\"temperature (Celsius)\"], s=50, alpha=0.5, edgecolor=\"none\"\n",
    "    )\n",
    "    cbar = fig.colorbar(\n",
    "        cs, orientation=\"vertical\", fraction=0.1, shrink=0.9, extend=\"both\"\n",
    "    )\n",
    "    ax.coastlines(\"10m\")\n",
    "    ax.set_extent([x.min() - dx, x.max() + dx, y.min() - dy, y.max() + dy])\n",
    "    return fig, ax"
   ]
  },
  {
   "cell_type": "code",
   "execution_count": 14,
   "metadata": {
    "slideshow": {
     "slide_type": "slide"
    }
   },
   "outputs": [
    {
     "data": {
      "image/png": "[encoded data removed]",
      "text/plain": [
       "<Figure size 648x648 with 2 Axes>"
      ]
     },
     "metadata": {
      "needs_background": "light"
     },
     "output_type": "display_data"
    }
   ],
   "source": [
    "fig, ax = plot_track(df)"
   ]
  },
  {
   "cell_type": "code",
   "execution_count": 15,
   "metadata": {
    "slideshow": {
     "slide_type": "skip"
    }
   },
   "outputs": [],
   "source": [
    "import matplotlib.dates as mdates\n",
    "import matplotlib.pyplot as plt\n",
    "import palettable\n",
    "from palettable.cmocean.sequential import Thermal_20\n",
    "\n",
    "cmap = Thermal_20.mpl_colormap\n",
    "\n",
    "\n",
    "def plot_glider(df):\n",
    "    fig, ax = plt.subplots(figsize=(17, 2))\n",
    "    cs = ax.scatter(\n",
    "        df.index,\n",
    "        df[\"depth (m)\"],\n",
    "        s=15,\n",
    "        c=df[\"temperature (Celsius)\"],\n",
    "        marker=\"o\",\n",
    "        edgecolor=\"none\",\n",
    "        cmap=cmap,\n",
    "    )\n",
    "\n",
    "    ax.invert_yaxis()\n",
    "    xfmt = mdates.DateFormatter(\"%H:%Mh\\n%d-%b\")\n",
    "    ax.xaxis.set_major_formatter(xfmt)\n",
    "\n",
    "    cbar = fig.colorbar(cs, orientation=\"vertical\", extend=\"both\")\n",
    "    cbar.ax.set_ylabel(\"Temperature ($^\\circ$C)\")\n",
    "    ax.set_ylabel(\"Depth (m)\")\n",
    "    return fig, ax"
   ]
  },
  {
   "cell_type": "code",
   "execution_count": 16,
   "metadata": {
    "slideshow": {
     "slide_type": "slide"
    }
   },
   "outputs": [
    {
     "data": {
      "image/png": "[encoded data removed]",
      "text/plain": [
       "<Figure size 1224x144 with 2 Axes>"
      ]
     },
     "metadata": {
      "needs_background": "light"
     },
     "output_type": "display_data"
    }
   ],
   "source": [
    "fig, ax = plot_glider(df)"
   ]
  },
  {
   "cell_type": "code",
   "execution_count": 17,
   "metadata": {
    "slideshow": {
     "slide_type": "skip"
    }
   },
   "outputs": [],
   "source": [
    "import gsw\n",
    "import numpy as np\n",
    "\n",
    "\n",
    "def plot_ts():\n",
    "    fig, ax = plt.subplots(figsize=(5, 5))\n",
    "\n",
    "    s = np.linspace(0, 42, 100)\n",
    "    t = np.linspace(-2, 40, 100)\n",
    "\n",
    "    s, t = np.meshgrid(s, t)\n",
    "    sigma = gsw.sigma0(s, t)\n",
    "\n",
    "    cnt = np.arange(-7, 40, 5)\n",
    "    cs = ax.contour(s, t, sigma, colors=\"gray\", levels=cnt)\n",
    "    ax.clabel(cs, fontsize=9, inline=1, fmt=\"%2i\")\n",
    "\n",
    "    ax.set_xlabel(\"Salinity [g kg$^{-1}$]\")\n",
    "    ax.set_ylabel(\"Temperature [$^{\\circ}$C]\")\n",
    "    ax.scatter(df[\"temperature (Celsius)\"], df[\"salinity (1)\"], s=10, alpha=0.25)\n",
    "\n",
    "    ax.grid(True)\n",
    "    ax.axis([9, 23, 28, 37.5])\n",
    "    return fig, ax"
   ]
  },
  {
   "cell_type": "code",
   "execution_count": 18,
   "metadata": {
    "slideshow": {
     "slide_type": "slide"
    }
   },
   "outputs": [
    {
     "data": {
      "image/png": "[encoded data removed]",
      "text/plain": [
       "<Figure size 360x360 with 1 Axes>"
      ]
     },
     "metadata": {
      "needs_background": "light"
     },
     "output_type": "display_data"
    }
   ],
   "source": [
    "plot_ts();"
   ]
  },
  {
   "cell_type": "code",
   "execution_count": 19,
   "metadata": {
    "slideshow": {
     "slide_type": "slide"
    }
   },
   "outputs": [
    {
     "name": "stdout",
     "output_type": "stream",
     "text": [
      "https://data.ioos.us/gliders/erddap/tabledap/whoi_406-20160902T1700.mat?depth,latitude,longitude,salinity,temperature,time\n",
      "\n",
      "https://data.ioos.us/gliders/erddap/tabledap/whoi_406-20160902T1700.json?depth,latitude,longitude,salinity,temperature,time\n",
      "\n",
      "https://data.ioos.us/gliders/erddap/tabledap/whoi_406-20160902T1700.ncCF?depth,latitude,longitude,salinity,temperature,time\n",
      "\n",
      "https://data.ioos.us/gliders/erddap/tabledap/whoi_406-20160902T1700.ncCFHeader?depth,latitude,longitude,salinity,temperature,time\n",
      "\n"
     ]
    }
   ],
   "source": [
    "responses = [\"mat\", \"json\", \"ncCF\", \"ncCFHeader\"]\n",
    "\n",
    "for response in responses:\n",
    "    print(f\"{e.get_download_url(response=response)}\\n\")"
   ]
  },
  {
   "cell_type": "markdown",
   "metadata": {
    "slideshow": {
     "slide_type": "slide"
    }
   },
   "source": [
    "Exercise: explore the web interface for the OOI server URL:\n",
    "\n",
    "https://erddap-uncabled.oceanobservatories.org/uncabled/erddap\n",
    "\n",
    "or the IOOS glider dac:\n",
    "\n",
    "https://gliders.ioos.us/erddap\n",
    "\n",
    "and find a dataset of interested, download a format that you are familiar with and plot it (using the web interface or the Python, your choice)."
   ]
  },
  {
   "cell_type": "markdown",
   "metadata": {
    "slideshow": {
     "slide_type": "slide"
    }
   },
   "source": [
    "# 2) OPeNDAP\n",
    "## Load ocean model data from a THREDDS server\n",
    "\n",
    "### Learning objectives:\n",
    "\n",
    "- Open a dataset from an OPeNDAP server with `xarray`;\n",
    "- Discuss the differences with an `erddapy` request;\n",
    "- Plot it using `xarray` interface."
   ]
  },
  {
   "cell_type": "code",
   "execution_count": 20,
   "metadata": {
    "scrolled": true,
    "slideshow": {
     "slide_type": "slide"
    }
   },
   "outputs": [
    {
     "data": {
      "text/html": [
       "<div><svg style=\"position: absolute; width: 0; height: 0; overflow: hidden\">\n",
       "<defs>\n",
       "<symbol id=\"icon-database\" viewBox=\"0 0 32 32\">\n",
       "<path d=\"M16 0c-8.837 0-16 2.239-16 5v4c0 2.761 7.163 5 16 5s16-2.239 16-5v-4c0-2.761-7.163-5-16-5z\"></path>\n",
       "<path d=\"M16 17c-8.837 0-16-2.239-16-5v6c0 2.761 7.163 5 16 5s16-2.239 16-5v-6c0 2.761-7.163 5-16 5z\"></path>\n",
       "<path d=\"M16 26c-8.837 0-16-2.239-16-5v6c0 2.761 7.163 5 16 5s16-2.239 16-5v-6c0 2.761-7.163 5-16 5z\"></path>\n",
       "</symbol>\n",
       "<symbol id=\"icon-file-text2\" viewBox=\"0 0 32 32\">\n",
       "<path d=\"M28.681 7.159c-0.694-0.947-1.662-2.053-2.724-3.116s-2.169-2.030-3.116-2.724c-1.612-1.182-2.393-1.319-2.841-1.319h-15.5c-1.378 0-2.5 1.121-2.5 2.5v27c0 1.378 1.122 2.5 2.5 2.5h23c1.378 0 2.5-1.122 2.5-2.5v-19.5c0-0.448-0.137-1.23-1.319-2.841zM24.543 5.457c0.959 0.959 1.712 1.825 2.268 2.543h-4.811v-4.811c0.718 0.556 1.584 1.309 2.543 2.268zM28 29.5c0 0.271-0.229 0.5-0.5 0.5h-23c-0.271 0-0.5-0.229-0.5-0.5v-27c0-0.271 0.229-0.5 0.5-0.5 0 0 15.499-0 15.5 0v7c0 0.552 0.448 1 1 1h7v19.5z\"></path>\n",
       "<path d=\"M23 26h-14c-0.552 0-1-0.448-1-1s0.448-1 1-1h14c0.552 0 1 0.448 1 1s-0.448 1-1 1z\"></path>\n",
       "<path d=\"M23 22h-14c-0.552 0-1-0.448-1-1s0.448-1 1-1h14c0.552 0 1 0.448 1 1s-0.448 1-1 1z\"></path>\n",
       "<path d=\"M23 18h-14c-0.552 0-1-0.448-1-1s0.448-1 1-1h14c0.552 0 1 0.448 1 1s-0.448 1-1 1z\"></path>\n",
       "</symbol>\n",
       "</defs>\n",
       "</svg>\n",
       "<style>/* CSS stylesheet for displaying xarray objects in jupyterlab.\n",
       " *\n",
       " */\n",
       "\n",
       ":root {\n",
       "  --xr-font-color0: var(--jp-content-font-color0, rgba(0, 0, 0, 1));\n",
       "  --xr-font-color2: var(--jp-content-font-color2, rgba(0, 0, 0, 0.54));\n",
       "  --xr-font-color3: var(--jp-content-font-color3, rgba(0, 0, 0, 0.38));\n",
       "  --xr-border-color: var(--jp-border-color2, #e0e0e0);\n",
       "  --xr-disabled-color: var(--jp-layout-color3, #bdbdbd);\n",
       "  --xr-background-color: var(--jp-layout-color0, white);\n",
       "  --xr-background-color-row-even: var(--jp-layout-color1, white);\n",
       "  --xr-background-color-row-odd: var(--jp-layout-color2, #eeeeee);\n",
       "}\n",
       "\n",
       "html[theme=dark],\n",
       "body.vscode-dark {\n",
       "  --xr-font-color0: rgba(255, 255, 255, 1);\n",
       "  --xr-font-color2: rgba(255, 255, 255, 0.54);\n",
       "  --xr-font-color3: rgba(255, 255, 255, 0.38);\n",
       "  --xr-border-color: #1F1F1F;\n",
       "  --xr-disabled-color: #515151;\n",
       "  --xr-background-color: #111111;\n",
       "  --xr-background-color-row-even: #111111;\n",
       "  --xr-background-color-row-odd: #313131;\n",
       "}\n",
       "\n",
       ".xr-wrap {\n",
       "  display: block;\n",
       "  min-width: 300px;\n",
       "  max-width: 700px;\n",
       "}\n",
       "\n",
       ".xr-text-repr-fallback {\n",
       "  /* fallback to plain text repr when CSS is not injected (untrusted notebook) */\n",
       "  display: none;\n",
       "}\n",
       "\n",
       ".xr-header {\n",
       "  padding-top: 6px;\n",
       "  padding-bottom: 6px;\n",
       "  margin-bottom: 4px;\n",
       "  border-bottom: solid 1px var(--xr-border-color);\n",
       "}\n",
       "\n",
       ".xr-header > div,\n",
       ".xr-header > ul {\n",
       "  display: inline;\n",
       "  margin-top: 0;\n",
       "  margin-bottom: 0;\n",
       "}\n",
       "\n",
       ".xr-obj-type,\n",
       ".xr-array-name {\n",
       "  margin-left: 2px;\n",
       "  margin-right: 10px;\n",
       "}\n",
       "\n",
       ".xr-obj-type {\n",
       "  color: var(--xr-font-color2);\n",
       "}\n",
       "\n",
       ".xr-sections {\n",
       "  padding-left: 0 !important;\n",
       "  display: grid;\n",
       "  grid-template-columns: 150px auto auto 1fr 20px 20px;\n",
       "}\n",
       "\n",
       ".xr-section-item {\n",
       "  display: contents;\n",
       "}\n",
       "\n",
       ".xr-section-item input {\n",
       "  display: none;\n",
       "}\n",
       "\n",
       ".xr-section-item input + label {\n",
       "  color: var(--xr-disabled-color);\n",
       "}\n",
       "\n",
       ".xr-section-item input:enabled + label {\n",
       "  cursor: pointer;\n",
       "  color: var(--xr-font-color2);\n",
       "}\n",
       "\n",
       ".xr-section-item input:enabled + label:hover {\n",
       "  color: var(--xr-font-color0);\n",
       "}\n",
       "\n",
       ".xr-section-summary {\n",
       "  grid-column: 1;\n",
       "  color: var(--xr-font-color2);\n",
       "  font-weight: 500;\n",
       "}\n",
       "\n",
       ".xr-section-summary > span {\n",
       "  display: inline-block;\n",
       "  padding-left: 0.5em;\n",
       "}\n",
       "\n",
       ".xr-section-summary-in:disabled + label {\n",
       "  color: var(--xr-font-color2);\n",
       "}\n",
       "\n",
       ".xr-section-summary-in + label:before {\n",
       "  display: inline-block;\n",
       "  content: '►';\n",
       "  font-size: 11px;\n",
       "  width: 15px;\n",
       "  text-align: center;\n",
       "}\n",
       "\n",
       ".xr-section-summary-in:disabled + label:before {\n",
       "  color: var(--xr-disabled-color);\n",
       "}\n",
       "\n",
       ".xr-section-summary-in:checked + label:before {\n",
       "  content: '▼';\n",
       "}\n",
       "\n",
       ".xr-section-summary-in:checked + label > span {\n",
       "  display: none;\n",
       "}\n",
       "\n",
       ".xr-section-summary,\n",
       ".xr-section-inline-details {\n",
       "  padding-top: 4px;\n",
       "  padding-bottom: 4px;\n",
       "}\n",
       "\n",
       ".xr-section-inline-details {\n",
       "  grid-column: 2 / -1;\n",
       "}\n",
       "\n",
       ".xr-section-details {\n",
       "  display: none;\n",
       "  grid-column: 1 / -1;\n",
       "  margin-bottom: 5px;\n",
       "}\n",
       "\n",
       ".xr-section-summary-in:checked ~ .xr-section-details {\n",
       "  display: contents;\n",
       "}\n",
       "\n",
       ".xr-array-wrap {\n",
       "  grid-column: 1 / -1;\n",
       "  display: grid;\n",
       "  grid-template-columns: 20px auto;\n",
       "}\n",
       "\n",
       ".xr-array-wrap > label {\n",
       "  grid-column: 1;\n",
       "  vertical-align: top;\n",
       "}\n",
       "\n",
       ".xr-preview {\n",
       "  color: var(--xr-font-color3);\n",
       "}\n",
       "\n",
       ".xr-array-preview,\n",
       ".xr-array-data {\n",
       "  padding: 0 5px !important;\n",
       "  grid-column: 2;\n",
       "}\n",
       "\n",
       ".xr-array-data,\n",
       ".xr-array-in:checked ~ .xr-array-preview {\n",
       "  display: none;\n",
       "}\n",
       "\n",
       ".xr-array-in:checked ~ .xr-array-data,\n",
       ".xr-array-preview {\n",
       "  display: inline-block;\n",
       "}\n",
       "\n",
       ".xr-dim-list {\n",
       "  display: inline-block !important;\n",
       "  list-style: none;\n",
       "  padding: 0 !important;\n",
       "  margin: 0;\n",
       "}\n",
       "\n",
       ".xr-dim-list li {\n",
       "  display: inline-block;\n",
       "  padding: 0;\n",
       "  margin: 0;\n",
       "}\n",
       "\n",
       ".xr-dim-list:before {\n",
       "  content: '(';\n",
       "}\n",
       "\n",
       ".xr-dim-list:after {\n",
       "  content: ')';\n",
       "}\n",
       "\n",
       ".xr-dim-list li:not(:last-child):after {\n",
       "  content: ',';\n",
       "  padding-right: 5px;\n",
       "}\n",
       "\n",
       ".xr-has-index {\n",
       "  font-weight: bold;\n",
       "}\n",
       "\n",
       ".xr-var-list,\n",
       ".xr-var-item {\n",
       "  display: contents;\n",
       "}\n",
       "\n",
       ".xr-var-item > div,\n",
       ".xr-var-item label,\n",
       ".xr-var-item > .xr-var-name span {\n",
       "  background-color: var(--xr-background-color-row-even);\n",
       "  margin-bottom: 0;\n",
       "}\n",
       "\n",
       ".xr-var-item > .xr-var-name:hover span {\n",
       "  padding-right: 5px;\n",
       "}\n",
       "\n",
       ".xr-var-list > li:nth-child(odd) > div,\n",
       ".xr-var-list > li:nth-child(odd) > label,\n",
       ".xr-var-list > li:nth-child(odd) > .xr-var-name span {\n",
       "  background-color: var(--xr-background-color-row-odd);\n",
       "}\n",
       "\n",
       ".xr-var-name {\n",
       "  grid-column: 1;\n",
       "}\n",
       "\n",
       ".xr-var-dims {\n",
       "  grid-column: 2;\n",
       "}\n",
       "\n",
       ".xr-var-dtype {\n",
       "  grid-column: 3;\n",
       "  text-align: right;\n",
       "  color: var(--xr-font-color2);\n",
       "}\n",
       "\n",
       ".xr-var-preview {\n",
       "  grid-column: 4;\n",
       "}\n",
       "\n",
       ".xr-var-name,\n",
       ".xr-var-dims,\n",
       ".xr-var-dtype,\n",
       ".xr-preview,\n",
       ".xr-attrs dt {\n",
       "  white-space: nowrap;\n",
       "  overflow: hidden;\n",
       "  text-overflow: ellipsis;\n",
       "  padding-right: 10px;\n",
       "}\n",
       "\n",
       ".xr-var-name:hover,\n",
       ".xr-var-dims:hover,\n",
       ".xr-var-dtype:hover,\n",
       ".xr-attrs dt:hover {\n",
       "  overflow: visible;\n",
       "  width: auto;\n",
       "  z-index: 1;\n",
       "}\n",
       "\n",
       ".xr-var-attrs,\n",
       ".xr-var-data {\n",
       "  display: none;\n",
       "  background-color: var(--xr-background-color) !important;\n",
       "  padding-bottom: 5px !important;\n",
       "}\n",
       "\n",
       ".xr-var-attrs-in:checked ~ .xr-var-attrs,\n",
       ".xr-var-data-in:checked ~ .xr-var-data {\n",
       "  display: block;\n",
       "}\n",
       "\n",
       ".xr-var-data > table {\n",
       "  float: right;\n",
       "}\n",
       "\n",
       ".xr-var-name span,\n",
       ".xr-var-data,\n",
       ".xr-attrs {\n",
       "  padding-left: 25px !important;\n",
       "}\n",
       "\n",
       ".xr-attrs,\n",
       ".xr-var-attrs,\n",
       ".xr-var-data {\n",
       "  grid-column: 1 / -1;\n",
       "}\n",
       "\n",
       "dl.xr-attrs {\n",
       "  padding: 0;\n",
       "  margin: 0;\n",
       "  display: grid;\n",
       "  grid-template-columns: 125px auto;\n",
       "}\n",
       "\n",
       ".xr-attrs dt, dd {\n",
       "  padding: 0;\n",
       "  margin: 0;\n",
       "  float: left;\n",
       "  padding-right: 10px;\n",
       "  width: auto;\n",
       "}\n",
       "\n",
       ".xr-attrs dt {\n",
       "  font-weight: normal;\n",
       "  grid-column: 1;\n",
       "}\n",
       "\n",
       ".xr-attrs dt:hover span {\n",
       "  display: inline-block;\n",
       "  background: var(--xr-background-color);\n",
       "  padding-right: 10px;\n",
       "}\n",
       "\n",
       ".xr-attrs dd {\n",
       "  grid-column: 2;\n",
       "  white-space: pre-wrap;\n",
       "  word-break: break-all;\n",
       "}\n",
       "\n",
       ".xr-icon-database,\n",
       ".xr-icon-file-text2 {\n",
       "  display: inline-block;\n",
       "  vertical-align: middle;\n",
       "  width: 1em;\n",
       "  height: 1.5em !important;\n",
       "  stroke-width: 0;\n",
       "  stroke: currentColor;\n",
       "  fill: currentColor;\n",
       "}\n",
       "</style><pre class='xr-text-repr-fallback'>&lt;xarray.Dataset&gt;\n",
       "Dimensions:      (eta_rho: 181, eta_u: 181, eta_v: 180, ocean_time: 1, time: 3496, xi_rho: 186, xi_u: 185, xi_v: 186, z: 11)\n",
       "Coordinates:\n",
       "    lat_rho      (eta_rho, xi_rho) float64 30.0 30.0 30.0 ... 48.0 48.0 48.0\n",
       "    lat_u        (eta_u, xi_u) float64 30.0 30.0 30.0 30.0 ... 48.0 48.0 48.0\n",
       "    lat_v        (eta_v, xi_v) float64 30.05 30.05 30.05 ... 47.95 47.95 47.95\n",
       "    lon_rho      (eta_rho, xi_rho) float64 -134.0 -133.9 ... -115.6 -115.5\n",
       "    lon_u        (eta_u, xi_u) float64 -133.9 -133.9 -133.8 ... -115.7 -115.5\n",
       "    lon_v        (eta_v, xi_v) float64 -134.0 -133.9 -133.8 ... -115.6 -115.5\n",
       "  * ocean_time   (ocean_time) datetime64[ns] 2020-03-09\n",
       "  * z            (z) float64 -250.0 -200.0 -150.0 -100.0 ... -10.0 -5.0 -2.0\n",
       "  * time         (time) datetime64[ns] 2011-01-02 2011-01-03 ... 2020-07-28\n",
       "    time_run     (time) datetime64[ns] 2011-01-02 2011-01-03 ... 2020-07-28\n",
       "Dimensions without coordinates: eta_rho, eta_u, eta_v, xi_rho, xi_u, xi_v\n",
       "Data variables:\n",
       "    angle        (eta_rho, xi_rho) float64 0.0004363 0.0004363 ... 0.0006485\n",
       "    h            (eta_rho, xi_rho) float64 4.497e+03 4.497e+03 ... 10.0 10.0\n",
       "    mask_rho     (eta_rho, xi_rho) float64 1.0 1.0 1.0 1.0 ... 0.0 0.0 0.0 0.0\n",
       "    mask_u       (eta_u, xi_u) float64 1.0 1.0 1.0 1.0 1.0 ... 0.0 0.0 0.0 0.0\n",
       "    mask_v       (eta_v, xi_v) float64 1.0 1.0 1.0 1.0 1.0 ... 0.0 0.0 0.0 0.0\n",
       "    ubar         (time, eta_u, xi_u) float64 ...\n",
       "    vbar         (time, eta_v, xi_v) float64 ...\n",
       "    zeta         (time, eta_rho, xi_rho) float64 ...\n",
       "    temp         (time, z, eta_rho, xi_rho) float32 ...\n",
       "    salt         (time, z, eta_rho, xi_rho) float32 ...\n",
       "    rho          (time, z, eta_rho, xi_rho) float32 ...\n",
       "    u            (time, z, eta_u, xi_u) float32 ...\n",
       "    v            (time, z, eta_v, xi_v) float32 ...\n",
       "    w            (time, z, eta_rho, xi_rho) float32 ...\n",
       "    time_offset  (time) datetime64[ns] 2011-01-02 2011-01-02 ... 2011-01-02\n",
       "Attributes:\n",
       "    file:                            output/da_fwd_002.nc\n",
       "    format:                          netCDF-3 64bit offset file\n",
       "    Conventions:                     CF-1.4, _Coordinates\n",
       "    type:                            ROMS/TOMS history file\n",
       "    title:                           UCSC California Current System, wc12.0_c...\n",
       "    state_vector:                    zeta, ubar, vbar, u, v, temp, salt\n",
       "    rst_file:                        output/da_rst.nc\n",
       "    his_file:                        output/da_fwd_002.nc\n",
       "    grd_file:                        /proj/ocemod_cencoos_1/ccsrt_v0.2_sys/gr...\n",
       "    ini_file:                        ncfiles/wc12.0_ini_20200306.nc\n",
       "    itl_file:                        ncfiles/da_itl.nc\n",
       "    nrm_file:                        ncfiles/wc12_nrm_i_v7.nc.HAJOON.OLDC_sta...\n",
       "    obs_file:                        ncfiles/wc12.0_ssh_cmems_hfradar_ucsd_ss...\n",
       "    frc_file_01:                     /proj/ocemod_cencoos_2/coamps/joined/wc1...\n",
       "    frc_file_02:                     /proj/ocemod_cencoos_2/coamps/joined/wc1...\n",
       "    frc_file_03:                     /proj/ocemod_cencoos_2/coamps/joined/wc1...\n",
       "    frc_file_04:                     /proj/ocemod_cencoos_2/coamps/joined/wc1...\n",
       "    frc_file_05:                     /proj/ocemod_cencoos_2/coamps/joined/wc1...\n",
       "    frc_file_06:                     /proj/ocemod_cencoos_2/coamps/joined/wc1...\n",
       "    frc_file_07:                     /proj/ocemod_cencoos_2/coamps/joined/wc1...\n",
       "    bry_file:                        /proj/ocemod_cencoos_1/ccsrt_v0.2_runs/w...\n",
       "    fwd_file:                        output/da_fwd_001.nc\n",
       "    script_file:                     \n",
       "    apar_file:                       is4dvar_phys_only_737jpm_pauls_setup_as_...\n",
       "    NLM_LBC:                         \\nEDGE:  WEST   SOUTH  EAST   NORTH  \\nz...\n",
       "    ADM_LBC:                         \\nEDGE:  WEST   SOUTH  EAST   NORTH  \\nz...\n",
       "    svn_url:                         https://www.myroms.org/svn/src/trunk\n",
       "    svn_rev:                         exported\n",
       "    code_dir:                        /auto/proj/pmattern/roms/code/roms_737_all\n",
       "    header_dir:                      /proj/ocemod_cencoos_1/ccsrt_v0.2_sys/ro...\n",
       "    header_file:                     wc12_ccsra.h\n",
       "    os:                              Linux\n",
       "    cpu:                             x86_64\n",
       "    compiler_system:                 pgi\n",
       "    compiler_command:                /soft/openmpi_1.10.2/CentOS_6_pgi/bin/mp...\n",
       "    compiler_flags:                   -O3 -Mfree\n",
       "    tiling:                          004x003\n",
       "    history:                         Wed Mar 11 16:26:21 2020: ncks -v ocean_...\n",
       "    ana_file:                        ROMS/Functionals/ana_btflux.h\n",
       "    CPP_options:                     WC12_CCSRA, ADJOINT, ANA_BSFLUX, ANA_BTF...\n",
       "    NCO:                             &quot;4.5.2&quot;\n",
       "    cdm_data_type:                   GRID\n",
       "    CF%3afeature_type:               GRID\n",
       "    location:                        Proto fmrc:CCSRA 2016a Phys ROMS z-level...\n",
       "    DODS_EXTRA.Unlimited_Dimension:  ocean_time</pre><div class='xr-wrap' hidden><div class='xr-header'><div class='xr-obj-type'>xarray.Dataset</div></div><ul class='xr-sections'><li class='xr-section-item'><input id='section-81f5f51f-c6e3-4497-a781-2166c619e984' class='xr-section-summary-in' type='checkbox' disabled ><label for='section-81f5f51f-c6e3-4497-a781-2166c619e984' class='xr-section-summary'  title='Expand/collapse section'>Dimensions:</label><div class='xr-section-inline-details'><ul class='xr-dim-list'><li><span>eta_rho</span>: 181</li><li><span>eta_u</span>: 181</li><li><span>eta_v</span>: 180</li><li><span class='xr-has-index'>ocean_time</span>: 1</li><li><span class='xr-has-index'>time</span>: 3496</li><li><span>xi_rho</span>: 186</li><li><span>xi_u</span>: 185</li><li><span>xi_v</span>: 186</li><li><span class='xr-has-index'>z</span>: 11</li></ul></div><div class='xr-section-details'></div></li><li class='xr-section-item'><input id='section-10c075be-b983-4933-af6b-5c744fce5d2d' class='xr-section-summary-in' type='checkbox'  checked><label for='section-10c075be-b983-4933-af6b-5c744fce5d2d' class='xr-section-summary' >Coordinates: <span>(10)</span></label><div class='xr-section-inline-details'></div><div class='xr-section-details'><ul class='xr-var-list'><li class='xr-var-item'><div class='xr-var-name'><span>lat_rho</span></div><div class='xr-var-dims'>(eta_rho, xi_rho)</div><div class='xr-var-dtype'>float64</div><div class='xr-var-preview xr-preview'>...</div><input id='attrs-43f527f9-6456-4d4c-afec-cb2e93779246' class='xr-var-attrs-in' type='checkbox' ><label for='attrs-43f527f9-6456-4d4c-afec-cb2e93779246' title='Show/Hide attributes'><svg class='icon xr-icon-file-text2'><use xlink:href='#icon-file-text2'></use></svg></label><input id='data-0416ceb7-857f-47d6-b841-302d6dba2f48' class='xr-var-data-in' type='checkbox'><label for='data-0416ceb7-857f-47d6-b841-302d6dba2f48' title='Show/Hide data repr'><svg class='icon xr-icon-database'><use xlink:href='#icon-database'></use></svg></label><div class='xr-var-attrs'><dl class='xr-attrs'><dt><span>units :</span></dt><dd>degrees_north</dd><dt><span>long_name :</span></dt><dd>latitude of RHO-points</dd><dt><span>standard_name :</span></dt><dd>latitude</dd><dt><span>field :</span></dt><dd>lat_rho, scalar</dd><dt><span>_CoordinateAxisType :</span></dt><dd>Lat</dd></dl></div><div class='xr-var-data'><pre>array([[30. , 30. , 30. , ..., 30. , 30. , 30. ],\n",
       "       [30.1, 30.1, 30.1, ..., 30.1, 30.1, 30.1],\n",
       "       [30.2, 30.2, 30.2, ..., 30.2, 30.2, 30.2],\n",
       "       ...,\n",
       "       [47.8, 47.8, 47.8, ..., 47.8, 47.8, 47.8],\n",
       "       [47.9, 47.9, 47.9, ..., 47.9, 47.9, 47.9],\n",
       "       [48. , 48. , 48. , ..., 48. , 48. , 48. ]])</pre></div></li><li class='xr-var-item'><div class='xr-var-name'><span>lat_u</span></div><div class='xr-var-dims'>(eta_u, xi_u)</div><div class='xr-var-dtype'>float64</div><div class='xr-var-preview xr-preview'>...</div><input id='attrs-277c5876-eafb-4be8-b0d3-67565e656869' class='xr-var-attrs-in' type='checkbox' ><label for='attrs-277c5876-eafb-4be8-b0d3-67565e656869' title='Show/Hide attributes'><svg class='icon xr-icon-file-text2'><use xlink:href='#icon-file-text2'></use></svg></label><input id='data-b947fd9d-0ea5-4eed-8a0a-5b5a9b78b45d' class='xr-var-data-in' type='checkbox'><label for='data-b947fd9d-0ea5-4eed-8a0a-5b5a9b78b45d' title='Show/Hide data repr'><svg class='icon xr-icon-database'><use xlink:href='#icon-database'></use></svg></label><div class='xr-var-attrs'><dl class='xr-attrs'><dt><span>units :</span></dt><dd>degrees_north</dd><dt><span>long_name :</span></dt><dd>latitude of U-points</dd><dt><span>standard_name :</span></dt><dd>latitude</dd><dt><span>field :</span></dt><dd>lat_u, scalar</dd><dt><span>_CoordinateAxisType :</span></dt><dd>Lat</dd></dl></div><div class='xr-var-data'><pre>array([[30. , 30. , 30. , ..., 30. , 30. , 30. ],\n",
       "       [30.1, 30.1, 30.1, ..., 30.1, 30.1, 30.1],\n",
       "       [30.2, 30.2, 30.2, ..., 30.2, 30.2, 30.2],\n",
       "       ...,\n",
       "       [47.8, 47.8, 47.8, ..., 47.8, 47.8, 47.8],\n",
       "       [47.9, 47.9, 47.9, ..., 47.9, 47.9, 47.9],\n",
       "       [48. , 48. , 48. , ..., 48. , 48. , 48. ]])</pre></div></li><li class='xr-var-item'><div class='xr-var-name'><span>lat_v</span></div><div class='xr-var-dims'>(eta_v, xi_v)</div><div class='xr-var-dtype'>float64</div><div class='xr-var-preview xr-preview'>...</div><input id='attrs-db8056ec-087b-49f9-9888-1b65e6298e9a' class='xr-var-attrs-in' type='checkbox' ><label for='attrs-db8056ec-087b-49f9-9888-1b65e6298e9a' title='Show/Hide attributes'><svg class='icon xr-icon-file-text2'><use xlink:href='#icon-file-text2'></use></svg></label><input id='data-f44f6741-cf11-4e42-830a-5b3edaf43908' class='xr-var-data-in' type='checkbox'><label for='data-f44f6741-cf11-4e42-830a-5b3edaf43908' title='Show/Hide data repr'><svg class='icon xr-icon-database'><use xlink:href='#icon-database'></use></svg></label><div class='xr-var-attrs'><dl class='xr-attrs'><dt><span>units :</span></dt><dd>degrees_north</dd><dt><span>long_name :</span></dt><dd>latitude of V-points</dd><dt><span>standard_name :</span></dt><dd>latitude</dd><dt><span>field :</span></dt><dd>lat_v, scalar</dd><dt><span>_CoordinateAxisType :</span></dt><dd>Lat</dd></dl></div><div class='xr-var-data'><pre>array([[30.05, 30.05, 30.05, ..., 30.05, 30.05, 30.05],\n",
       "       [30.15, 30.15, 30.15, ..., 30.15, 30.15, 30.15],\n",
       "       [30.25, 30.25, 30.25, ..., 30.25, 30.25, 30.25],\n",
       "       ...,\n",
       "       [47.75, 47.75, 47.75, ..., 47.75, 47.75, 47.75],\n",
       "       [47.85, 47.85, 47.85, ..., 47.85, 47.85, 47.85],\n",
       "       [47.95, 47.95, 47.95, ..., 47.95, 47.95, 47.95]])</pre></div></li><li class='xr-var-item'><div class='xr-var-name'><span>lon_rho</span></div><div class='xr-var-dims'>(eta_rho, xi_rho)</div><div class='xr-var-dtype'>float64</div><div class='xr-var-preview xr-preview'>...</div><input id='attrs-07f6f473-b3e9-4dc5-ba5d-0b148764acdc' class='xr-var-attrs-in' type='checkbox' ><label for='attrs-07f6f473-b3e9-4dc5-ba5d-0b148764acdc' title='Show/Hide attributes'><svg class='icon xr-icon-file-text2'><use xlink:href='#icon-file-text2'></use></svg></label><input id='data-38ac2a6c-4e1e-4766-83bb-08783e44ec86' class='xr-var-data-in' type='checkbox'><label for='data-38ac2a6c-4e1e-4766-83bb-08783e44ec86' title='Show/Hide data repr'><svg class='icon xr-icon-database'><use xlink:href='#icon-database'></use></svg></label><div class='xr-var-attrs'><dl class='xr-attrs'><dt><span>units :</span></dt><dd>degrees_east</dd><dt><span>long_name :</span></dt><dd>longitude of RHO-points</dd><dt><span>standard_name :</span></dt><dd>longitude</dd><dt><span>field :</span></dt><dd>lon_rho, scalar</dd><dt><span>_CoordinateAxisType :</span></dt><dd>Lon</dd></dl></div><div class='xr-var-data'><pre>array([[-134. , -133.9, -133.8, ..., -115.7, -115.6, -115.5],\n",
       "       [-134. , -133.9, -133.8, ..., -115.7, -115.6, -115.5],\n",
       "       [-134. , -133.9, -133.8, ..., -115.7, -115.6, -115.5],\n",
       "       ...,\n",
       "       [-134. , -133.9, -133.8, ..., -115.7, -115.6, -115.5],\n",
       "       [-134. , -133.9, -133.8, ..., -115.7, -115.6, -115.5],\n",
       "       [-134. , -133.9, -133.8, ..., -115.7, -115.6, -115.5]])</pre></div></li><li class='xr-var-item'><div class='xr-var-name'><span>lon_u</span></div><div class='xr-var-dims'>(eta_u, xi_u)</div><div class='xr-var-dtype'>float64</div><div class='xr-var-preview xr-preview'>...</div><input id='attrs-bfa6ac2a-e769-4665-8959-65bfecbb481c' class='xr-var-attrs-in' type='checkbox' ><label for='attrs-bfa6ac2a-e769-4665-8959-65bfecbb481c' title='Show/Hide attributes'><svg class='icon xr-icon-file-text2'><use xlink:href='#icon-file-text2'></use></svg></label><input id='data-b8ca7707-4f4e-4612-a7a5-be6794614b6c' class='xr-var-data-in' type='checkbox'><label for='data-b8ca7707-4f4e-4612-a7a5-be6794614b6c' title='Show/Hide data repr'><svg class='icon xr-icon-database'><use xlink:href='#icon-database'></use></svg></label><div class='xr-var-attrs'><dl class='xr-attrs'><dt><span>units :</span></dt><dd>degrees_east</dd><dt><span>long_name :</span></dt><dd>longitude of U-points</dd><dt><span>standard_name :</span></dt><dd>longitude</dd><dt><span>field :</span></dt><dd>lon_u, scalar</dd><dt><span>_CoordinateAxisType :</span></dt><dd>Lon</dd></dl></div><div class='xr-var-data'><pre>array([[-133.95, -133.85, -133.75, ..., -115.75, -115.65, -115.55],\n",
       "       [-133.95, -133.85, -133.75, ..., -115.75, -115.65, -115.55],\n",
       "       [-133.95, -133.85, -133.75, ..., -115.75, -115.65, -115.55],\n",
       "       ...,\n",
       "       [-133.95, -133.85, -133.75, ..., -115.75, -115.65, -115.55],\n",
       "       [-133.95, -133.85, -133.75, ..., -115.75, -115.65, -115.55],\n",
       "       [-133.95, -133.85, -133.75, ..., -115.75, -115.65, -115.55]])</pre></div></li><li class='xr-var-item'><div class='xr-var-name'><span>lon_v</span></div><div class='xr-var-dims'>(eta_v, xi_v)</div><div class='xr-var-dtype'>float64</div><div class='xr-var-preview xr-preview'>...</div><input id='attrs-09b92631-5973-4f71-8199-953b07b9c485' class='xr-var-attrs-in' type='checkbox' ><label for='attrs-09b92631-5973-4f71-8199-953b07b9c485' title='Show/Hide attributes'><svg class='icon xr-icon-file-text2'><use xlink:href='#icon-file-text2'></use></svg></label><input id='data-6dd9d5e9-ee3a-4d3b-9954-133de9b22c56' class='xr-var-data-in' type='checkbox'><label for='data-6dd9d5e9-ee3a-4d3b-9954-133de9b22c56' title='Show/Hide data repr'><svg class='icon xr-icon-database'><use xlink:href='#icon-database'></use></svg></label><div class='xr-var-attrs'><dl class='xr-attrs'><dt><span>units :</span></dt><dd>degrees_east</dd><dt><span>long_name :</span></dt><dd>longitude of V-points</dd><dt><span>standard_name :</span></dt><dd>longitude</dd><dt><span>field :</span></dt><dd>lon_v, scalar</dd><dt><span>_CoordinateAxisType :</span></dt><dd>Lon</dd></dl></div><div class='xr-var-data'><pre>array([[-134. , -133.9, -133.8, ..., -115.7, -115.6, -115.5],\n",
       "       [-134. , -133.9, -133.8, ..., -115.7, -115.6, -115.5],\n",
       "       [-134. , -133.9, -133.8, ..., -115.7, -115.6, -115.5],\n",
       "       ...,\n",
       "       [-134. , -133.9, -133.8, ..., -115.7, -115.6, -115.5],\n",
       "       [-134. , -133.9, -133.8, ..., -115.7, -115.6, -115.5],\n",
       "       [-134. , -133.9, -133.8, ..., -115.7, -115.6, -115.5]])</pre></div></li><li class='xr-var-item'><div class='xr-var-name'><span class='xr-has-index'>ocean_time</span></div><div class='xr-var-dims'>(ocean_time)</div><div class='xr-var-dtype'>datetime64[ns]</div><div class='xr-var-preview xr-preview'>2020-03-09</div><input id='attrs-1d826fee-2b76-4edc-8060-533798f22d76' class='xr-var-attrs-in' type='checkbox' ><label for='attrs-1d826fee-2b76-4edc-8060-533798f22d76' title='Show/Hide attributes'><svg class='icon xr-icon-file-text2'><use xlink:href='#icon-file-text2'></use></svg></label><input id='data-acf88bb7-eab9-42b9-9b22-e3ddd88c3fa1' class='xr-var-data-in' type='checkbox'><label for='data-acf88bb7-eab9-42b9-9b22-e3ddd88c3fa1' title='Show/Hide data repr'><svg class='icon xr-icon-database'><use xlink:href='#icon-database'></use></svg></label><div class='xr-var-attrs'><dl class='xr-attrs'><dt><span>long_name :</span></dt><dd>time since initialization</dd><dt><span>field :</span></dt><dd>time, scalar, series</dd><dt><span>_CoordinateAxisType :</span></dt><dd>Time</dd></dl></div><div class='xr-var-data'><pre>array([&#x27;2020-03-09T00:00:00.000000000&#x27;], dtype=&#x27;datetime64[ns]&#x27;)</pre></div></li><li class='xr-var-item'><div class='xr-var-name'><span class='xr-has-index'>z</span></div><div class='xr-var-dims'>(z)</div><div class='xr-var-dtype'>float64</div><div class='xr-var-preview xr-preview'>-250.0 -200.0 -150.0 ... -5.0 -2.0</div><input id='attrs-7958496e-b617-4647-aa8d-df0503a7cf55' class='xr-var-attrs-in' type='checkbox' ><label for='attrs-7958496e-b617-4647-aa8d-df0503a7cf55' title='Show/Hide attributes'><svg class='icon xr-icon-file-text2'><use xlink:href='#icon-file-text2'></use></svg></label><input id='data-9a4d6906-4afe-4dc3-b4b2-cb235357d000' class='xr-var-data-in' type='checkbox'><label for='data-9a4d6906-4afe-4dc3-b4b2-cb235357d000' title='Show/Hide data repr'><svg class='icon xr-icon-database'><use xlink:href='#icon-database'></use></svg></label><div class='xr-var-attrs'><dl class='xr-attrs'><dt><span>units :</span></dt><dd>meters</dd><dt><span>long_name :</span></dt><dd>height above free surface</dd><dt><span>positive :</span></dt><dd>up</dd><dt><span>_CoordinateAxisType :</span></dt><dd>Height</dd><dt><span>_CoordinateZisPositive :</span></dt><dd>up</dd></dl></div><div class='xr-var-data'><pre>array([-250., -200., -150., -100.,  -80.,  -60.,  -40.,  -20.,  -10.,   -5.,\n",
       "         -2.])</pre></div></li><li class='xr-var-item'><div class='xr-var-name'><span class='xr-has-index'>time</span></div><div class='xr-var-dims'>(time)</div><div class='xr-var-dtype'>datetime64[ns]</div><div class='xr-var-preview xr-preview'>2011-01-02 ... 2020-07-28</div><input id='attrs-1db0f1ac-ce26-464d-adf8-e292c313cf65' class='xr-var-attrs-in' type='checkbox' ><label for='attrs-1db0f1ac-ce26-464d-adf8-e292c313cf65' title='Show/Hide attributes'><svg class='icon xr-icon-file-text2'><use xlink:href='#icon-file-text2'></use></svg></label><input id='data-0f588c57-2dd3-4a6b-9072-ec2c6f308429' class='xr-var-data-in' type='checkbox'><label for='data-0f588c57-2dd3-4a6b-9072-ec2c6f308429' title='Show/Hide data repr'><svg class='icon xr-icon-database'><use xlink:href='#icon-database'></use></svg></label><div class='xr-var-attrs'><dl class='xr-attrs'><dt><span>long_name :</span></dt><dd>Forecast time for ForecastModelRunCollection</dd><dt><span>standard_name :</span></dt><dd>time</dd><dt><span>_CoordinateAxisType :</span></dt><dd>Time</dd></dl></div><div class='xr-var-data'><pre>array([&#x27;2011-01-02T00:00:00.000000000&#x27;, &#x27;2011-01-03T00:00:00.000000000&#x27;,\n",
       "       &#x27;2011-01-04T00:00:00.000000000&#x27;, ..., &#x27;2020-07-26T00:00:00.000000000&#x27;,\n",
       "       &#x27;2020-07-27T00:00:00.000000000&#x27;, &#x27;2020-07-28T00:00:00.000000000&#x27;],\n",
       "      dtype=&#x27;datetime64[ns]&#x27;)</pre></div></li><li class='xr-var-item'><div class='xr-var-name'><span>time_run</span></div><div class='xr-var-dims'>(time)</div><div class='xr-var-dtype'>datetime64[ns]</div><div class='xr-var-preview xr-preview'>...</div><input id='attrs-773ea4d7-2561-4450-8625-9ed33579f4a5' class='xr-var-attrs-in' type='checkbox' ><label for='attrs-773ea4d7-2561-4450-8625-9ed33579f4a5' title='Show/Hide attributes'><svg class='icon xr-icon-file-text2'><use xlink:href='#icon-file-text2'></use></svg></label><input id='data-8a61cdc1-5a4b-44be-b12f-380142c3c46d' class='xr-var-data-in' type='checkbox'><label for='data-8a61cdc1-5a4b-44be-b12f-380142c3c46d' title='Show/Hide data repr'><svg class='icon xr-icon-database'><use xlink:href='#icon-database'></use></svg></label><div class='xr-var-attrs'><dl class='xr-attrs'><dt><span>long_name :</span></dt><dd>run times for coordinate = time</dd><dt><span>standard_name :</span></dt><dd>forecast_reference_time</dd><dt><span>_CoordinateAxisType :</span></dt><dd>RunTime</dd></dl></div><div class='xr-var-data'><pre>array([&#x27;2011-01-02T00:00:00.000000000&#x27;, &#x27;2011-01-03T00:00:00.000000000&#x27;,\n",
       "       &#x27;2011-01-04T00:00:00.000000000&#x27;, ..., &#x27;2020-07-26T00:00:00.000000000&#x27;,\n",
       "       &#x27;2020-07-27T00:00:00.000000000&#x27;, &#x27;2020-07-28T00:00:00.000000000&#x27;],\n",
       "      dtype=&#x27;datetime64[ns]&#x27;)</pre></div></li></ul></div></li><li class='xr-section-item'><input id='section-9064b4bf-ac0d-4ead-95ff-4a7f9332d179' class='xr-section-summary-in' type='checkbox'  ><label for='section-9064b4bf-ac0d-4ead-95ff-4a7f9332d179' class='xr-section-summary' >Data variables: <span>(15)</span></label><div class='xr-section-inline-details'></div><div class='xr-section-details'><ul class='xr-var-list'><li class='xr-var-item'><div class='xr-var-name'><span>angle</span></div><div class='xr-var-dims'>(eta_rho, xi_rho)</div><div class='xr-var-dtype'>float64</div><div class='xr-var-preview xr-preview'>...</div><input id='attrs-612aebd8-d60e-41a1-a146-daec360119ee' class='xr-var-attrs-in' type='checkbox' ><label for='attrs-612aebd8-d60e-41a1-a146-daec360119ee' title='Show/Hide attributes'><svg class='icon xr-icon-file-text2'><use xlink:href='#icon-file-text2'></use></svg></label><input id='data-603815e6-0bcb-44aa-ba82-237201a5da8c' class='xr-var-data-in' type='checkbox'><label for='data-603815e6-0bcb-44aa-ba82-237201a5da8c' title='Show/Hide data repr'><svg class='icon xr-icon-database'><use xlink:href='#icon-database'></use></svg></label><div class='xr-var-attrs'><dl class='xr-attrs'><dt><span>units :</span></dt><dd>radians</dd><dt><span>long_name :</span></dt><dd>angle between XI-axis and EAST</dd><dt><span>field :</span></dt><dd>angle, scalar</dd></dl></div><div class='xr-var-data'><pre>array([[0.000436, 0.000436, 0.000436, ..., 0.000436, 0.000436, 0.000436],\n",
       "       [0.000438, 0.000438, 0.000438, ..., 0.000438, 0.000438, 0.000438],\n",
       "       [0.000439, 0.000439, 0.000439, ..., 0.000439, 0.000439, 0.000439],\n",
       "       ...,\n",
       "       [0.000646, 0.000646, 0.000646, ..., 0.000646, 0.000646, 0.000646],\n",
       "       [0.000647, 0.000647, 0.000647, ..., 0.000647, 0.000647, 0.000647],\n",
       "       [0.000649, 0.000649, 0.000649, ..., 0.000649, 0.000649, 0.000649]])</pre></div></li><li class='xr-var-item'><div class='xr-var-name'><span>h</span></div><div class='xr-var-dims'>(eta_rho, xi_rho)</div><div class='xr-var-dtype'>float64</div><div class='xr-var-preview xr-preview'>...</div><input id='attrs-93056805-542d-49f5-9c64-ecd6e35dd4dc' class='xr-var-attrs-in' type='checkbox' ><label for='attrs-93056805-542d-49f5-9c64-ecd6e35dd4dc' title='Show/Hide attributes'><svg class='icon xr-icon-file-text2'><use xlink:href='#icon-file-text2'></use></svg></label><input id='data-a459032e-6b1f-4127-8687-ada27df15deb' class='xr-var-data-in' type='checkbox'><label for='data-a459032e-6b1f-4127-8687-ada27df15deb' title='Show/Hide data repr'><svg class='icon xr-icon-database'><use xlink:href='#icon-database'></use></svg></label><div class='xr-var-attrs'><dl class='xr-attrs'><dt><span>units :</span></dt><dd>meter</dd><dt><span>long_name :</span></dt><dd>bathymetry at RHO-points</dd><dt><span>field :</span></dt><dd>bath, scalar</dd></dl></div><div class='xr-var-data'><pre>array([[4496.546263, 4496.546263, 4495.655575, ...,   49.742998,   39.021841,\n",
       "          39.021841],\n",
       "       [4496.546263, 4496.546263, 4495.655575, ...,   49.742998,   39.021841,\n",
       "          39.021841],\n",
       "       [4480.911476, 4480.911476, 4478.767786, ...,   44.34183 ,   34.805866,\n",
       "          34.805866],\n",
       "       ...,\n",
       "       [3747.554452, 3747.554452, 3673.049255, ...,   10.      ,   10.      ,\n",
       "          10.      ],\n",
       "       [3731.239302, 3731.239302, 3650.499561, ...,   10.      ,   10.      ,\n",
       "          10.      ],\n",
       "       [3731.239302, 3731.239302, 3650.499561, ...,   10.      ,   10.      ,\n",
       "          10.      ]])</pre></div></li><li class='xr-var-item'><div class='xr-var-name'><span>mask_rho</span></div><div class='xr-var-dims'>(eta_rho, xi_rho)</div><div class='xr-var-dtype'>float64</div><div class='xr-var-preview xr-preview'>...</div><input id='attrs-33f98267-a8cb-47c3-9fd6-7263488addda' class='xr-var-attrs-in' type='checkbox' ><label for='attrs-33f98267-a8cb-47c3-9fd6-7263488addda' title='Show/Hide attributes'><svg class='icon xr-icon-file-text2'><use xlink:href='#icon-file-text2'></use></svg></label><input id='data-31ba9026-85e7-46a0-acc9-89185899b675' class='xr-var-data-in' type='checkbox'><label for='data-31ba9026-85e7-46a0-acc9-89185899b675' title='Show/Hide data repr'><svg class='icon xr-icon-database'><use xlink:href='#icon-database'></use></svg></label><div class='xr-var-attrs'><dl class='xr-attrs'><dt><span>long_name :</span></dt><dd>mask on RHO-points</dd><dt><span>flag_values :</span></dt><dd>[0. 1.]</dd><dt><span>flag_meanings :</span></dt><dd>land water</dd></dl></div><div class='xr-var-data'><pre>array([[1., 1., 1., ..., 0., 0., 0.],\n",
       "       [1., 1., 1., ..., 0., 0., 0.],\n",
       "       [1., 1., 1., ..., 0., 0., 0.],\n",
       "       ...,\n",
       "       [1., 1., 1., ..., 0., 0., 0.],\n",
       "       [1., 1., 1., ..., 0., 0., 0.],\n",
       "       [1., 1., 1., ..., 0., 0., 0.]])</pre></div></li><li class='xr-var-item'><div class='xr-var-name'><span>mask_u</span></div><div class='xr-var-dims'>(eta_u, xi_u)</div><div class='xr-var-dtype'>float64</div><div class='xr-var-preview xr-preview'>...</div><input id='attrs-1e325f41-4aeb-4c80-8c6e-3c64b29a61cf' class='xr-var-attrs-in' type='checkbox' ><label for='attrs-1e325f41-4aeb-4c80-8c6e-3c64b29a61cf' title='Show/Hide attributes'><svg class='icon xr-icon-file-text2'><use xlink:href='#icon-file-text2'></use></svg></label><input id='data-0cec7822-436a-49c3-afd3-5d076b5c316c' class='xr-var-data-in' type='checkbox'><label for='data-0cec7822-436a-49c3-afd3-5d076b5c316c' title='Show/Hide data repr'><svg class='icon xr-icon-database'><use xlink:href='#icon-database'></use></svg></label><div class='xr-var-attrs'><dl class='xr-attrs'><dt><span>long_name :</span></dt><dd>mask on U-points</dd><dt><span>flag_values :</span></dt><dd>[0. 1.]</dd><dt><span>flag_meanings :</span></dt><dd>land water</dd></dl></div><div class='xr-var-data'><pre>array([[1., 1., 1., ..., 0., 0., 0.],\n",
       "       [1., 1., 1., ..., 0., 0., 0.],\n",
       "       [1., 1., 1., ..., 0., 0., 0.],\n",
       "       ...,\n",
       "       [1., 1., 1., ..., 0., 0., 0.],\n",
       "       [1., 1., 1., ..., 0., 0., 0.],\n",
       "       [1., 1., 1., ..., 0., 0., 0.]])</pre></div></li><li class='xr-var-item'><div class='xr-var-name'><span>mask_v</span></div><div class='xr-var-dims'>(eta_v, xi_v)</div><div class='xr-var-dtype'>float64</div><div class='xr-var-preview xr-preview'>...</div><input id='attrs-23e240ba-3c2b-469e-8258-a178e38ea1f6' class='xr-var-attrs-in' type='checkbox' ><label for='attrs-23e240ba-3c2b-469e-8258-a178e38ea1f6' title='Show/Hide attributes'><svg class='icon xr-icon-file-text2'><use xlink:href='#icon-file-text2'></use></svg></label><input id='data-66186b0b-9742-45a0-a261-352d0168d07c' class='xr-var-data-in' type='checkbox'><label for='data-66186b0b-9742-45a0-a261-352d0168d07c' title='Show/Hide data repr'><svg class='icon xr-icon-database'><use xlink:href='#icon-database'></use></svg></label><div class='xr-var-attrs'><dl class='xr-attrs'><dt><span>long_name :</span></dt><dd>mask on V-points</dd><dt><span>flag_values :</span></dt><dd>[0. 1.]</dd><dt><span>flag_meanings :</span></dt><dd>land water</dd></dl></div><div class='xr-var-data'><pre>array([[1., 1., 1., ..., 0., 0., 0.],\n",
       "       [1., 1., 1., ..., 0., 0., 0.],\n",
       "       [1., 1., 1., ..., 0., 0., 0.],\n",
       "       ...,\n",
       "       [1., 1., 1., ..., 0., 0., 0.],\n",
       "       [1., 1., 1., ..., 0., 0., 0.],\n",
       "       [1., 1., 1., ..., 0., 0., 0.]])</pre></div></li><li class='xr-var-item'><div class='xr-var-name'><span>ubar</span></div><div class='xr-var-dims'>(time, eta_u, xi_u)</div><div class='xr-var-dtype'>float64</div><div class='xr-var-preview xr-preview'>...</div><input id='attrs-f9ced87a-6f8f-4569-ac0d-9c36cd0f2856' class='xr-var-attrs-in' type='checkbox' ><label for='attrs-f9ced87a-6f8f-4569-ac0d-9c36cd0f2856' title='Show/Hide attributes'><svg class='icon xr-icon-file-text2'><use xlink:href='#icon-file-text2'></use></svg></label><input id='data-24a8cb85-df7f-4805-8c8d-2b35a6c92b64' class='xr-var-data-in' type='checkbox'><label for='data-24a8cb85-df7f-4805-8c8d-2b35a6c92b64' title='Show/Hide data repr'><svg class='icon xr-icon-database'><use xlink:href='#icon-database'></use></svg></label><div class='xr-var-attrs'><dl class='xr-attrs'><dt><span>units :</span></dt><dd>meter second-1</dd><dt><span>long_name :</span></dt><dd>vertically integrated u-momentum component</dd><dt><span>time :</span></dt><dd>ocean_time</dd><dt><span>field :</span></dt><dd>ubar-velocity, scalar, series</dd></dl></div><div class='xr-var-data'><pre>[117063560 values with dtype=float64]</pre></div></li><li class='xr-var-item'><div class='xr-var-name'><span>vbar</span></div><div class='xr-var-dims'>(time, eta_v, xi_v)</div><div class='xr-var-dtype'>float64</div><div class='xr-var-preview xr-preview'>...</div><input id='attrs-45b0cb37-b80c-4f11-8140-aa1c1da4f1af' class='xr-var-attrs-in' type='checkbox' ><label for='attrs-45b0cb37-b80c-4f11-8140-aa1c1da4f1af' title='Show/Hide attributes'><svg class='icon xr-icon-file-text2'><use xlink:href='#icon-file-text2'></use></svg></label><input id='data-94c81d36-40a1-4446-8ad9-66f31709da40' class='xr-var-data-in' type='checkbox'><label for='data-94c81d36-40a1-4446-8ad9-66f31709da40' title='Show/Hide data repr'><svg class='icon xr-icon-database'><use xlink:href='#icon-database'></use></svg></label><div class='xr-var-attrs'><dl class='xr-attrs'><dt><span>units :</span></dt><dd>meter second-1</dd><dt><span>long_name :</span></dt><dd>vertically integrated v-momentum component</dd><dt><span>time :</span></dt><dd>ocean_time</dd><dt><span>field :</span></dt><dd>vbar-velocity, scalar, series</dd></dl></div><div class='xr-var-data'><pre>[117046080 values with dtype=float64]</pre></div></li><li class='xr-var-item'><div class='xr-var-name'><span>zeta</span></div><div class='xr-var-dims'>(time, eta_rho, xi_rho)</div><div class='xr-var-dtype'>float64</div><div class='xr-var-preview xr-preview'>...</div><input id='attrs-8cff2f8e-4910-4926-ba14-8a0a57d8d924' class='xr-var-attrs-in' type='checkbox' ><label for='attrs-8cff2f8e-4910-4926-ba14-8a0a57d8d924' title='Show/Hide attributes'><svg class='icon xr-icon-file-text2'><use xlink:href='#icon-file-text2'></use></svg></label><input id='data-0034bd22-9ba0-4e71-83df-734eb764189f' class='xr-var-data-in' type='checkbox'><label for='data-0034bd22-9ba0-4e71-83df-734eb764189f' title='Show/Hide data repr'><svg class='icon xr-icon-database'><use xlink:href='#icon-database'></use></svg></label><div class='xr-var-attrs'><dl class='xr-attrs'><dt><span>units :</span></dt><dd>meter</dd><dt><span>long_name :</span></dt><dd>free-surface</dd><dt><span>time :</span></dt><dd>ocean_time</dd><dt><span>field :</span></dt><dd>free-surface, scalar, series</dd></dl></div><div class='xr-var-data'><pre>[117696336 values with dtype=float64]</pre></div></li><li class='xr-var-item'><div class='xr-var-name'><span>temp</span></div><div class='xr-var-dims'>(time, z, eta_rho, xi_rho)</div><div class='xr-var-dtype'>float32</div><div class='xr-var-preview xr-preview'>...</div><input id='attrs-3448b4fa-70c5-44f8-8872-41f0304f90f1' class='xr-var-attrs-in' type='checkbox' ><label for='attrs-3448b4fa-70c5-44f8-8872-41f0304f90f1' title='Show/Hide attributes'><svg class='icon xr-icon-file-text2'><use xlink:href='#icon-file-text2'></use></svg></label><input id='data-58e218b2-7002-47d8-b96f-8d7ac8a79c77' class='xr-var-data-in' type='checkbox'><label for='data-58e218b2-7002-47d8-b96f-8d7ac8a79c77' title='Show/Hide data repr'><svg class='icon xr-icon-database'><use xlink:href='#icon-database'></use></svg></label><div class='xr-var-attrs'><dl class='xr-attrs'><dt><span>units :</span></dt><dd>Celsius</dd><dt><span>long_name :</span></dt><dd>potential temperature</dd><dt><span>time :</span></dt><dd>ocean_time</dd><dt><span>field :</span></dt><dd>temperature, scalar, series</dd></dl></div><div class='xr-var-data'><pre>[1294659696 values with dtype=float32]</pre></div></li><li class='xr-var-item'><div class='xr-var-name'><span>salt</span></div><div class='xr-var-dims'>(time, z, eta_rho, xi_rho)</div><div class='xr-var-dtype'>float32</div><div class='xr-var-preview xr-preview'>...</div><input id='attrs-0c3145c6-6b5c-404c-ae1a-e5a7a005215b' class='xr-var-attrs-in' type='checkbox' ><label for='attrs-0c3145c6-6b5c-404c-ae1a-e5a7a005215b' title='Show/Hide attributes'><svg class='icon xr-icon-file-text2'><use xlink:href='#icon-file-text2'></use></svg></label><input id='data-4267d806-f4d3-4ac1-a7af-327255d161ac' class='xr-var-data-in' type='checkbox'><label for='data-4267d806-f4d3-4ac1-a7af-327255d161ac' title='Show/Hide data repr'><svg class='icon xr-icon-database'><use xlink:href='#icon-database'></use></svg></label><div class='xr-var-attrs'><dl class='xr-attrs'><dt><span>units :</span></dt><dd>PSU</dd><dt><span>long_name :</span></dt><dd>salinity</dd><dt><span>time :</span></dt><dd>ocean_time</dd><dt><span>field :</span></dt><dd>salinity, scalar, series</dd></dl></div><div class='xr-var-data'><pre>[1294659696 values with dtype=float32]</pre></div></li><li class='xr-var-item'><div class='xr-var-name'><span>rho</span></div><div class='xr-var-dims'>(time, z, eta_rho, xi_rho)</div><div class='xr-var-dtype'>float32</div><div class='xr-var-preview xr-preview'>...</div><input id='attrs-19c96ba5-3dc5-46d4-bdbd-ba249068e8a5' class='xr-var-attrs-in' type='checkbox' ><label for='attrs-19c96ba5-3dc5-46d4-bdbd-ba249068e8a5' title='Show/Hide attributes'><svg class='icon xr-icon-file-text2'><use xlink:href='#icon-file-text2'></use></svg></label><input id='data-f5bd8c86-4bc2-492d-bc42-3e36077bc538' class='xr-var-data-in' type='checkbox'><label for='data-f5bd8c86-4bc2-492d-bc42-3e36077bc538' title='Show/Hide data repr'><svg class='icon xr-icon-database'><use xlink:href='#icon-database'></use></svg></label><div class='xr-var-attrs'><dl class='xr-attrs'><dt><span>units :</span></dt><dd>kilogram meter-3</dd><dt><span>long_name :</span></dt><dd>density anomaly</dd><dt><span>time :</span></dt><dd>ocean_time</dd><dt><span>field :</span></dt><dd>density, scalar, series</dd></dl></div><div class='xr-var-data'><pre>[1294659696 values with dtype=float32]</pre></div></li><li class='xr-var-item'><div class='xr-var-name'><span>u</span></div><div class='xr-var-dims'>(time, z, eta_u, xi_u)</div><div class='xr-var-dtype'>float32</div><div class='xr-var-preview xr-preview'>...</div><input id='attrs-8d7d37f1-32fb-4df6-8a11-00871509e00a' class='xr-var-attrs-in' type='checkbox' ><label for='attrs-8d7d37f1-32fb-4df6-8a11-00871509e00a' title='Show/Hide attributes'><svg class='icon xr-icon-file-text2'><use xlink:href='#icon-file-text2'></use></svg></label><input id='data-772b5dec-f051-4e54-97b3-19b11dcf86c0' class='xr-var-data-in' type='checkbox'><label for='data-772b5dec-f051-4e54-97b3-19b11dcf86c0' title='Show/Hide data repr'><svg class='icon xr-icon-database'><use xlink:href='#icon-database'></use></svg></label><div class='xr-var-attrs'><dl class='xr-attrs'><dt><span>units :</span></dt><dd>meter second-1</dd><dt><span>long_name :</span></dt><dd>u-momentum component</dd><dt><span>time :</span></dt><dd>ocean_time</dd><dt><span>field :</span></dt><dd>u-velocity, scalar, series</dd></dl></div><div class='xr-var-data'><pre>[1287699160 values with dtype=float32]</pre></div></li><li class='xr-var-item'><div class='xr-var-name'><span>v</span></div><div class='xr-var-dims'>(time, z, eta_v, xi_v)</div><div class='xr-var-dtype'>float32</div><div class='xr-var-preview xr-preview'>...</div><input id='attrs-736af0da-61b1-4c28-897e-601ba93e728e' class='xr-var-attrs-in' type='checkbox' ><label for='attrs-736af0da-61b1-4c28-897e-601ba93e728e' title='Show/Hide attributes'><svg class='icon xr-icon-file-text2'><use xlink:href='#icon-file-text2'></use></svg></label><input id='data-2d50a442-84fa-4566-8bd3-fadaefb6d3d9' class='xr-var-data-in' type='checkbox'><label for='data-2d50a442-84fa-4566-8bd3-fadaefb6d3d9' title='Show/Hide data repr'><svg class='icon xr-icon-database'><use xlink:href='#icon-database'></use></svg></label><div class='xr-var-attrs'><dl class='xr-attrs'><dt><span>units :</span></dt><dd>meter second-1</dd><dt><span>long_name :</span></dt><dd>v-momentum component</dd><dt><span>time :</span></dt><dd>ocean_time</dd><dt><span>field :</span></dt><dd>v-velocity, scalar, series</dd></dl></div><div class='xr-var-data'><pre>[1287506880 values with dtype=float32]</pre></div></li><li class='xr-var-item'><div class='xr-var-name'><span>w</span></div><div class='xr-var-dims'>(time, z, eta_rho, xi_rho)</div><div class='xr-var-dtype'>float32</div><div class='xr-var-preview xr-preview'>...</div><input id='attrs-ba4df653-6434-4bb2-8153-74536285d197' class='xr-var-attrs-in' type='checkbox' ><label for='attrs-ba4df653-6434-4bb2-8153-74536285d197' title='Show/Hide attributes'><svg class='icon xr-icon-file-text2'><use xlink:href='#icon-file-text2'></use></svg></label><input id='data-8aae9447-0122-4d43-bad7-c3045b5817fe' class='xr-var-data-in' type='checkbox'><label for='data-8aae9447-0122-4d43-bad7-c3045b5817fe' title='Show/Hide data repr'><svg class='icon xr-icon-database'><use xlink:href='#icon-database'></use></svg></label><div class='xr-var-attrs'><dl class='xr-attrs'><dt><span>units :</span></dt><dd>meter second-1</dd><dt><span>long_name :</span></dt><dd>vertical momentum component</dd><dt><span>time :</span></dt><dd>ocean_time</dd><dt><span>field :</span></dt><dd>w-velocity, scalar, series</dd></dl></div><div class='xr-var-data'><pre>[1294659696 values with dtype=float32]</pre></div></li><li class='xr-var-item'><div class='xr-var-name'><span>time_offset</span></div><div class='xr-var-dims'>(time)</div><div class='xr-var-dtype'>datetime64[ns]</div><div class='xr-var-preview xr-preview'>...</div><input id='attrs-32ce14eb-e903-43de-bafa-4083884f2d36' class='xr-var-attrs-in' type='checkbox' ><label for='attrs-32ce14eb-e903-43de-bafa-4083884f2d36' title='Show/Hide attributes'><svg class='icon xr-icon-file-text2'><use xlink:href='#icon-file-text2'></use></svg></label><input id='data-fd5c1ca7-c2d2-4322-8c09-46a715d0ff6b' class='xr-var-data-in' type='checkbox'><label for='data-fd5c1ca7-c2d2-4322-8c09-46a715d0ff6b' title='Show/Hide data repr'><svg class='icon xr-icon-database'><use xlink:href='#icon-database'></use></svg></label><div class='xr-var-attrs'><dl class='xr-attrs'><dt><span>long_name :</span></dt><dd>offset hour from start of run for coordinate = time</dd><dt><span>standard_name :</span></dt><dd>forecast_period</dd></dl></div><div class='xr-var-data'><pre>array([&#x27;2011-01-02T00:00:00.000000000&#x27;, &#x27;2011-01-02T00:00:00.000000000&#x27;,\n",
       "       &#x27;2011-01-02T00:00:00.000000000&#x27;, ..., &#x27;2011-01-02T00:00:00.000000000&#x27;,\n",
       "       &#x27;2011-01-02T00:00:00.000000000&#x27;, &#x27;2011-01-02T00:00:00.000000000&#x27;],\n",
       "      dtype=&#x27;datetime64[ns]&#x27;)</pre></div></li></ul></div></li><li class='xr-section-item'><input id='section-47461cf8-770a-44f2-9cf6-b4cae74efac1' class='xr-section-summary-in' type='checkbox'  ><label for='section-47461cf8-770a-44f2-9cf6-b4cae74efac1' class='xr-section-summary' >Attributes: <span>(45)</span></label><div class='xr-section-inline-details'></div><div class='xr-section-details'><dl class='xr-attrs'><dt><span>file :</span></dt><dd>output/da_fwd_002.nc</dd><dt><span>format :</span></dt><dd>netCDF-3 64bit offset file</dd><dt><span>Conventions :</span></dt><dd>CF-1.4, _Coordinates</dd><dt><span>type :</span></dt><dd>ROMS/TOMS history file</dd><dt><span>title :</span></dt><dd>UCSC California Current System, wc12.0_coamps_hycom_kpp_v737jpm_ra_tave24_01/phys_only</dd><dt><span>state_vector :</span></dt><dd>zeta, ubar, vbar, u, v, temp, salt</dd><dt><span>rst_file :</span></dt><dd>output/da_rst.nc</dd><dt><span>his_file :</span></dt><dd>output/da_fwd_002.nc</dd><dt><span>grd_file :</span></dt><dd>/proj/ocemod_cencoos_1/ccsrt_v0.2_sys/grids/wc12_grd.nc.0</dd><dt><span>ini_file :</span></dt><dd>ncfiles/wc12.0_ini_20200306.nc</dd><dt><span>itl_file :</span></dt><dd>ncfiles/da_itl.nc</dd><dt><span>nrm_file :</span></dt><dd>ncfiles/wc12_nrm_i_v7.nc.HAJOON.OLDC_start_on_7735.00.nc</dd><dt><span>obs_file :</span></dt><dd>ncfiles/wc12.0_ssh_cmems_hfradar_ucsd_sst_ostia_ts_ucsd_glider_ts_ioos_glider_ts_usgodae_argo_float_merged_resuper_obs_20200306_20200309.nc</dd><dt><span>frc_file_01 :</span></dt><dd>/proj/ocemod_cencoos_2/coamps/joined/wc12.0/joined/coamps_wc12.0_wind_20200305_20200310_tave24.nc</dd><dt><span>frc_file_02 :</span></dt><dd>/proj/ocemod_cencoos_2/coamps/joined/wc12.0/joined/coamps_wc12.0_swrad_20200305_20200310_tave24.nc</dd><dt><span>frc_file_03 :</span></dt><dd>/proj/ocemod_cencoos_2/coamps/joined/wc12.0/joined/coamps_wc12.0_lwrad_down_20200305_20200310_tave24.nc</dd><dt><span>frc_file_04 :</span></dt><dd>/proj/ocemod_cencoos_2/coamps/joined/wc12.0/joined/coamps_wc12.0_Qair_20200305_20200310_tave24.nc</dd><dt><span>frc_file_05 :</span></dt><dd>/proj/ocemod_cencoos_2/coamps/joined/wc12.0/joined/coamps_wc12.0_Tair_20200305_20200310_tave24.nc</dd><dt><span>frc_file_06 :</span></dt><dd>/proj/ocemod_cencoos_2/coamps/joined/wc12.0/joined/coamps_wc12.0_rain_20200305_20200310_tave24.nc</dd><dt><span>frc_file_07 :</span></dt><dd>/proj/ocemod_cencoos_2/coamps/joined/wc12.0/joined/coamps_wc12.0_Pair_20200305_20200310_tave24.nc</dd><dt><span>bry_file :</span></dt><dd>/proj/ocemod_cencoos_1/ccsrt_v0.2_runs/wc12.0/wc12.0_coamps_hycom_kpp_v737jpm_ra_tave24_01/phys_only/20200306_20200309_da/ncfiles/hycom_wc12.0_20200303_20200310_bry.nc</dd><dt><span>fwd_file :</span></dt><dd>output/da_fwd_001.nc</dd><dt><span>script_file :</span></dt><dd></dd><dt><span>apar_file :</span></dt><dd>is4dvar_phys_only_737jpm_pauls_setup_as_of_20150511.in</dd><dt><span>NLM_LBC :</span></dt><dd>\n",
       "EDGE:  WEST   SOUTH  EAST   NORTH  \n",
       "zeta:  Cha    Cha    Clo    Cha    \n",
       "ubar:  Fla    Fla    Clo    Fla    \n",
       "vbar:  Fla    Fla    Clo    Fla    \n",
       "u:     Cla    Cla    Clo    Cla    \n",
       "v:     Cla    Cla    Clo    Cla    \n",
       "temp:  Cla    Cla    Clo    Cla    \n",
       "salt:  Cla    Cla    Clo    Cla</dd><dt><span>ADM_LBC :</span></dt><dd>\n",
       "EDGE:  WEST   SOUTH  EAST   NORTH  \n",
       "zeta:  Cla    Cla    Clo    Cla    \n",
       "ubar:  Cla    Cla    Clo    Cla    \n",
       "vbar:  Cla    Cla    Clo    Cla    \n",
       "u:     Cla    Cla    Clo    Cla    \n",
       "v:     Cla    Cla    Clo    Cla    \n",
       "temp:  Cla    Cla    Clo    Cla    \n",
       "salt:  Cla    Cla    Clo    Cla</dd><dt><span>svn_url :</span></dt><dd>https://www.myroms.org/svn/src/trunk</dd><dt><span>svn_rev :</span></dt><dd>exported</dd><dt><span>code_dir :</span></dt><dd>/auto/proj/pmattern/roms/code/roms_737_all</dd><dt><span>header_dir :</span></dt><dd>/proj/ocemod_cencoos_1/ccsrt_v0.2_sys/roms/compile_roms_737_all_as_pauls_setup</dd><dt><span>header_file :</span></dt><dd>wc12_ccsra.h</dd><dt><span>os :</span></dt><dd>Linux</dd><dt><span>cpu :</span></dt><dd>x86_64</dd><dt><span>compiler_system :</span></dt><dd>pgi</dd><dt><span>compiler_command :</span></dt><dd>/soft/openmpi_1.10.2/CentOS_6_pgi/bin/mpif90</dd><dt><span>compiler_flags :</span></dt><dd> -O3 -Mfree</dd><dt><span>tiling :</span></dt><dd>004x003</dd><dt><span>history :</span></dt><dd>Wed Mar 11 16:26:21 2020: ncks -v ocean_time,angle,h,zeta,ubar,vbar,mask_rho,mask_u,mask_v /proj/ocemod_cencoos_1/ccsrt_v0.2_runs/wc12.0/wc12.0_coamps_hycom_kpp_v737jpm_ra_tave24_01/phys_only/bestDaily/da/2020/20200309/20200309_da_fwd_002.nc /proj/ocemod_cencoos_1/ccsrt_v0.2_runs/wc12.0/wc12.0_coamps_hycom_kpp_v737jpm_ra_tave24_01/phys_only/bestDaily/da/2020/20200309/20200309_da_fwd_002_zlevs.nc.tmp\n",
       "Wed Mar 11 16:10:21 2020: ncks -O -d ocean_time,3 /proj/ocemod_cencoos_1/ccsrt_v0.2_runs/wc12.0/wc12.0_coamps_hycom_kpp_v737jpm_ra_tave24_01/phys_only/20200306_20200309_da/output/da_fwd_002.nc 20200309_da_fwd_002.nc\n",
       "ROMS/TOMS, Version 3.7, Wednesday - March 11, 2020 -  2:28:59 PM ;\n",
       "FMRC Best Dataset</dd><dt><span>ana_file :</span></dt><dd>ROMS/Functionals/ana_btflux.h</dd><dt><span>CPP_options :</span></dt><dd>WC12_CCSRA, ADJOINT, ANA_BSFLUX, ANA_BTFLUX, ASSUMED_SHAPE, BACKGROUND, BULK_FLUXES, CURVGRID, DJ_GRADPS, DOUBLE_PRECISION, EMINUSP, FORWARD_MIXING, FORWARD_READ, FORWARD_WRITE, !FULL_GRID, IMPLICIT_VCONV, IS4DVAR, L4DVAR, !OBS_LOGTRANSFORMED, LMD_BKPP, LMD_CONVEC, LMD_MIXING, LMD_NONLOCAL, LMD_RIMIX, LMD_SHAPIRO, LMD_SKPP, LONGWAVE_OUT, MASKING, MIX_GEO_TS, MIX_S_UV, MPI, NL_BULK_FLUXES, NONLINEAR, NONLIN_EOS, OBSERVATIONS, OBSTHRESH, OUT_DOUBLE, POWER_LAW, PROFILE, !RST_SINGLE, SALINITY, SOLAR_SOURCE, SOLVE3D, SPLINES, TANGENT, TS_U3HADVECTION, TS_U3HADVECTION_TL, TS_C4VADVECTION, TS_C4VADVECTION_TL, TS_DIF2, UV_ADV, UV_COR, UV_U3HADVECTION, UV_C4VADVECTION, UV_LDRAG, UV_VIS2, VCONVOLUTION</dd><dt><span>NCO :</span></dt><dd>&quot;4.5.2&quot;</dd><dt><span>cdm_data_type :</span></dt><dd>GRID</dd><dt><span>CF%3afeature_type :</span></dt><dd>GRID</dd><dt><span>location :</span></dt><dd>Proto fmrc:CCSRA 2016a Phys ROMS z-level (depth) Aggregation</dd><dt><span>DODS_EXTRA.Unlimited_Dimension :</span></dt><dd>ocean_time</dd></dl></div></li></ul></div></div>"
      ],
      "text/plain": [
       "<xarray.Dataset>\n",
       "Dimensions:      (eta_rho: 181, eta_u: 181, eta_v: 180, ocean_time: 1, time: 3496, xi_rho: 186, xi_u: 185, xi_v: 186, z: 11)\n",
       "Coordinates:\n",
       "    lat_rho      (eta_rho, xi_rho) float64 ...\n",
       "    lat_u        (eta_u, xi_u) float64 ...\n",
       "    lat_v        (eta_v, xi_v) float64 ...\n",
       "    lon_rho      (eta_rho, xi_rho) float64 ...\n",
       "    lon_u        (eta_u, xi_u) float64 ...\n",
       "    lon_v        (eta_v, xi_v) float64 ...\n",
       "  * ocean_time   (ocean_time) datetime64[ns] 2020-03-09\n",
       "  * z            (z) float64 -250.0 -200.0 -150.0 -100.0 ... -10.0 -5.0 -2.0\n",
       "  * time         (time) datetime64[ns] 2011-01-02 2011-01-03 ... 2020-07-28\n",
       "    time_run     (time) datetime64[ns] ...\n",
       "Dimensions without coordinates: eta_rho, eta_u, eta_v, xi_rho, xi_u, xi_v\n",
       "Data variables:\n",
       "    angle        (eta_rho, xi_rho) float64 ...\n",
       "    h            (eta_rho, xi_rho) float64 ...\n",
       "    mask_rho     (eta_rho, xi_rho) float64 ...\n",
       "    mask_u       (eta_u, xi_u) float64 ...\n",
       "    mask_v       (eta_v, xi_v) float64 ...\n",
       "    ubar         (time, eta_u, xi_u) float64 ...\n",
       "    vbar         (time, eta_v, xi_v) float64 ...\n",
       "    zeta         (time, eta_rho, xi_rho) float64 ...\n",
       "    temp         (time, z, eta_rho, xi_rho) float32 ...\n",
       "    salt         (time, z, eta_rho, xi_rho) float32 ...\n",
       "    rho          (time, z, eta_rho, xi_rho) float32 ...\n",
       "    u            (time, z, eta_u, xi_u) float32 ...\n",
       "    v            (time, z, eta_v, xi_v) float32 ...\n",
       "    w            (time, z, eta_rho, xi_rho) float32 ...\n",
       "    time_offset  (time) datetime64[ns] ...\n",
       "Attributes:\n",
       "    file:                            output/da_fwd_002.nc\n",
       "    format:                          netCDF-3 64bit offset file\n",
       "    Conventions:                     CF-1.4, _Coordinates\n",
       "    type:                            ROMS/TOMS history file\n",
       "    title:                           UCSC California Current System, wc12.0_c...\n",
       "    state_vector:                    zeta, ubar, vbar, u, v, temp, salt\n",
       "    rst_file:                        output/da_rst.nc\n",
       "    his_file:                        output/da_fwd_002.nc\n",
       "    grd_file:                        /proj/ocemod_cencoos_1/ccsrt_v0.2_sys/gr...\n",
       "    ini_file:                        ncfiles/wc12.0_ini_20200306.nc\n",
       "    itl_file:                        ncfiles/da_itl.nc\n",
       "    nrm_file:                        ncfiles/wc12_nrm_i_v7.nc.HAJOON.OLDC_sta...\n",
       "    obs_file:                        ncfiles/wc12.0_ssh_cmems_hfradar_ucsd_ss...\n",
       "    frc_file_01:                     /proj/ocemod_cencoos_2/coamps/joined/wc1...\n",
       "    frc_file_02:                     /proj/ocemod_cencoos_2/coamps/joined/wc1...\n",
       "    frc_file_03:                     /proj/ocemod_cencoos_2/coamps/joined/wc1...\n",
       "    frc_file_04:                     /proj/ocemod_cencoos_2/coamps/joined/wc1...\n",
       "    frc_file_05:                     /proj/ocemod_cencoos_2/coamps/joined/wc1...\n",
       "    frc_file_06:                     /proj/ocemod_cencoos_2/coamps/joined/wc1...\n",
       "    frc_file_07:                     /proj/ocemod_cencoos_2/coamps/joined/wc1...\n",
       "    bry_file:                        /proj/ocemod_cencoos_1/ccsrt_v0.2_runs/w...\n",
       "    fwd_file:                        output/da_fwd_001.nc\n",
       "    script_file:                     \n",
       "    apar_file:                       is4dvar_phys_only_737jpm_pauls_setup_as_...\n",
       "    NLM_LBC:                         \\nEDGE:  WEST   SOUTH  EAST   NORTH  \\nz...\n",
       "    ADM_LBC:                         \\nEDGE:  WEST   SOUTH  EAST   NORTH  \\nz...\n",
       "    svn_url:                         https://www.myroms.org/svn/src/trunk\n",
       "    svn_rev:                         exported\n",
       "    code_dir:                        /auto/proj/pmattern/roms/code/roms_737_all\n",
       "    header_dir:                      /proj/ocemod_cencoos_1/ccsrt_v0.2_sys/ro...\n",
       "    header_file:                     wc12_ccsra.h\n",
       "    os:                              Linux\n",
       "    cpu:                             x86_64\n",
       "    compiler_system:                 pgi\n",
       "    compiler_command:                /soft/openmpi_1.10.2/CentOS_6_pgi/bin/mp...\n",
       "    compiler_flags:                   -O3 -Mfree\n",
       "    tiling:                          004x003\n",
       "    history:                         Wed Mar 11 16:26:21 2020: ncks -v ocean_...\n",
       "    ana_file:                        ROMS/Functionals/ana_btflux.h\n",
       "    CPP_options:                     WC12_CCSRA, ADJOINT, ANA_BSFLUX, ANA_BTF...\n",
       "    NCO:                             \"4.5.2\"\n",
       "    cdm_data_type:                   GRID\n",
       "    CF%3afeature_type:               GRID\n",
       "    location:                        Proto fmrc:CCSRA 2016a Phys ROMS z-level...\n",
       "    DODS_EXTRA.Unlimited_Dimension:  ocean_time"
      ]
     },
     "execution_count": 20,
     "metadata": {},
     "output_type": "execute_result"
    }
   ],
   "source": [
    "import xarray as xr\n",
    "\n",
    "url = (\n",
    "    \"http://oceanmodeling.pmc.ucsc.edu:8080/thredds/dodsC/ccsra_2016a_phys_agg_zlevs/\"\n",
    "    \"fmrc/CCSRA_2016a_Phys_ROMS_z-level_(depth)_Aggregation_best.ncd\"\n",
    ")\n",
    "ds = xr.open_dataset(url)\n",
    "ds"
   ]
  },
  {
   "cell_type": "code",
   "execution_count": 21,
   "metadata": {
    "scrolled": true,
    "slideshow": {
     "slide_type": "slide"
    }
   },
   "outputs": [
    {
     "data": {
      "text/html": [
       "<div><svg style=\"position: absolute; width: 0; height: 0; overflow: hidden\">\n",
       "<defs>\n",
       "<symbol id=\"icon-database\" viewBox=\"0 0 32 32\">\n",
       "<path d=\"M16 0c-8.837 0-16 2.239-16 5v4c0 2.761 7.163 5 16 5s16-2.239 16-5v-4c0-2.761-7.163-5-16-5z\"></path>\n",
       "<path d=\"M16 17c-8.837 0-16-2.239-16-5v6c0 2.761 7.163 5 16 5s16-2.239 16-5v-6c0 2.761-7.163 5-16 5z\"></path>\n",
       "<path d=\"M16 26c-8.837 0-16-2.239-16-5v6c0 2.761 7.163 5 16 5s16-2.239 16-5v-6c0 2.761-7.163 5-16 5z\"></path>\n",
       "</symbol>\n",
       "<symbol id=\"icon-file-text2\" viewBox=\"0 0 32 32\">\n",
       "<path d=\"M28.681 7.159c-0.694-0.947-1.662-2.053-2.724-3.116s-2.169-2.030-3.116-2.724c-1.612-1.182-2.393-1.319-2.841-1.319h-15.5c-1.378 0-2.5 1.121-2.5 2.5v27c0 1.378 1.122 2.5 2.5 2.5h23c1.378 0 2.5-1.122 2.5-2.5v-19.5c0-0.448-0.137-1.23-1.319-2.841zM24.543 5.457c0.959 0.959 1.712 1.825 2.268 2.543h-4.811v-4.811c0.718 0.556 1.584 1.309 2.543 2.268zM28 29.5c0 0.271-0.229 0.5-0.5 0.5h-23c-0.271 0-0.5-0.229-0.5-0.5v-27c0-0.271 0.229-0.5 0.5-0.5 0 0 15.499-0 15.5 0v7c0 0.552 0.448 1 1 1h7v19.5z\"></path>\n",
       "<path d=\"M23 26h-14c-0.552 0-1-0.448-1-1s0.448-1 1-1h14c0.552 0 1 0.448 1 1s-0.448 1-1 1z\"></path>\n",
       "<path d=\"M23 22h-14c-0.552 0-1-0.448-1-1s0.448-1 1-1h14c0.552 0 1 0.448 1 1s-0.448 1-1 1z\"></path>\n",
       "<path d=\"M23 18h-14c-0.552 0-1-0.448-1-1s0.448-1 1-1h14c0.552 0 1 0.448 1 1s-0.448 1-1 1z\"></path>\n",
       "</symbol>\n",
       "</defs>\n",
       "</svg>\n",
       "<style>/* CSS stylesheet for displaying xarray objects in jupyterlab.\n",
       " *\n",
       " */\n",
       "\n",
       ":root {\n",
       "  --xr-font-color0: var(--jp-content-font-color0, rgba(0, 0, 0, 1));\n",
       "  --xr-font-color2: var(--jp-content-font-color2, rgba(0, 0, 0, 0.54));\n",
       "  --xr-font-color3: var(--jp-content-font-color3, rgba(0, 0, 0, 0.38));\n",
       "  --xr-border-color: var(--jp-border-color2, #e0e0e0);\n",
       "  --xr-disabled-color: var(--jp-layout-color3, #bdbdbd);\n",
       "  --xr-background-color: var(--jp-layout-color0, white);\n",
       "  --xr-background-color-row-even: var(--jp-layout-color1, white);\n",
       "  --xr-background-color-row-odd: var(--jp-layout-color2, #eeeeee);\n",
       "}\n",
       "\n",
       "html[theme=dark],\n",
       "body.vscode-dark {\n",
       "  --xr-font-color0: rgba(255, 255, 255, 1);\n",
       "  --xr-font-color2: rgba(255, 255, 255, 0.54);\n",
       "  --xr-font-color3: rgba(255, 255, 255, 0.38);\n",
       "  --xr-border-color: #1F1F1F;\n",
       "  --xr-disabled-color: #515151;\n",
       "  --xr-background-color: #111111;\n",
       "  --xr-background-color-row-even: #111111;\n",
       "  --xr-background-color-row-odd: #313131;\n",
       "}\n",
       "\n",
       ".xr-wrap {\n",
       "  display: block;\n",
       "  min-width: 300px;\n",
       "  max-width: 700px;\n",
       "}\n",
       "\n",
       ".xr-text-repr-fallback {\n",
       "  /* fallback to plain text repr when CSS is not injected (untrusted notebook) */\n",
       "  display: none;\n",
       "}\n",
       "\n",
       ".xr-header {\n",
       "  padding-top: 6px;\n",
       "  padding-bottom: 6px;\n",
       "  margin-bottom: 4px;\n",
       "  border-bottom: solid 1px var(--xr-border-color);\n",
       "}\n",
       "\n",
       ".xr-header > div,\n",
       ".xr-header > ul {\n",
       "  display: inline;\n",
       "  margin-top: 0;\n",
       "  margin-bottom: 0;\n",
       "}\n",
       "\n",
       ".xr-obj-type,\n",
       ".xr-array-name {\n",
       "  margin-left: 2px;\n",
       "  margin-right: 10px;\n",
       "}\n",
       "\n",
       ".xr-obj-type {\n",
       "  color: var(--xr-font-color2);\n",
       "}\n",
       "\n",
       ".xr-sections {\n",
       "  padding-left: 0 !important;\n",
       "  display: grid;\n",
       "  grid-template-columns: 150px auto auto 1fr 20px 20px;\n",
       "}\n",
       "\n",
       ".xr-section-item {\n",
       "  display: contents;\n",
       "}\n",
       "\n",
       ".xr-section-item input {\n",
       "  display: none;\n",
       "}\n",
       "\n",
       ".xr-section-item input + label {\n",
       "  color: var(--xr-disabled-color);\n",
       "}\n",
       "\n",
       ".xr-section-item input:enabled + label {\n",
       "  cursor: pointer;\n",
       "  color: var(--xr-font-color2);\n",
       "}\n",
       "\n",
       ".xr-section-item input:enabled + label:hover {\n",
       "  color: var(--xr-font-color0);\n",
       "}\n",
       "\n",
       ".xr-section-summary {\n",
       "  grid-column: 1;\n",
       "  color: var(--xr-font-color2);\n",
       "  font-weight: 500;\n",
       "}\n",
       "\n",
       ".xr-section-summary > span {\n",
       "  display: inline-block;\n",
       "  padding-left: 0.5em;\n",
       "}\n",
       "\n",
       ".xr-section-summary-in:disabled + label {\n",
       "  color: var(--xr-font-color2);\n",
       "}\n",
       "\n",
       ".xr-section-summary-in + label:before {\n",
       "  display: inline-block;\n",
       "  content: '►';\n",
       "  font-size: 11px;\n",
       "  width: 15px;\n",
       "  text-align: center;\n",
       "}\n",
       "\n",
       ".xr-section-summary-in:disabled + label:before {\n",
       "  color: var(--xr-disabled-color);\n",
       "}\n",
       "\n",
       ".xr-section-summary-in:checked + label:before {\n",
       "  content: '▼';\n",
       "}\n",
       "\n",
       ".xr-section-summary-in:checked + label > span {\n",
       "  display: none;\n",
       "}\n",
       "\n",
       ".xr-section-summary,\n",
       ".xr-section-inline-details {\n",
       "  padding-top: 4px;\n",
       "  padding-bottom: 4px;\n",
       "}\n",
       "\n",
       ".xr-section-inline-details {\n",
       "  grid-column: 2 / -1;\n",
       "}\n",
       "\n",
       ".xr-section-details {\n",
       "  display: none;\n",
       "  grid-column: 1 / -1;\n",
       "  margin-bottom: 5px;\n",
       "}\n",
       "\n",
       ".xr-section-summary-in:checked ~ .xr-section-details {\n",
       "  display: contents;\n",
       "}\n",
       "\n",
       ".xr-array-wrap {\n",
       "  grid-column: 1 / -1;\n",
       "  display: grid;\n",
       "  grid-template-columns: 20px auto;\n",
       "}\n",
       "\n",
       ".xr-array-wrap > label {\n",
       "  grid-column: 1;\n",
       "  vertical-align: top;\n",
       "}\n",
       "\n",
       ".xr-preview {\n",
       "  color: var(--xr-font-color3);\n",
       "}\n",
       "\n",
       ".xr-array-preview,\n",
       ".xr-array-data {\n",
       "  padding: 0 5px !important;\n",
       "  grid-column: 2;\n",
       "}\n",
       "\n",
       ".xr-array-data,\n",
       ".xr-array-in:checked ~ .xr-array-preview {\n",
       "  display: none;\n",
       "}\n",
       "\n",
       ".xr-array-in:checked ~ .xr-array-data,\n",
       ".xr-array-preview {\n",
       "  display: inline-block;\n",
       "}\n",
       "\n",
       ".xr-dim-list {\n",
       "  display: inline-block !important;\n",
       "  list-style: none;\n",
       "  padding: 0 !important;\n",
       "  margin: 0;\n",
       "}\n",
       "\n",
       ".xr-dim-list li {\n",
       "  display: inline-block;\n",
       "  padding: 0;\n",
       "  margin: 0;\n",
       "}\n",
       "\n",
       ".xr-dim-list:before {\n",
       "  content: '(';\n",
       "}\n",
       "\n",
       ".xr-dim-list:after {\n",
       "  content: ')';\n",
       "}\n",
       "\n",
       ".xr-dim-list li:not(:last-child):after {\n",
       "  content: ',';\n",
       "  padding-right: 5px;\n",
       "}\n",
       "\n",
       ".xr-has-index {\n",
       "  font-weight: bold;\n",
       "}\n",
       "\n",
       ".xr-var-list,\n",
       ".xr-var-item {\n",
       "  display: contents;\n",
       "}\n",
       "\n",
       ".xr-var-item > div,\n",
       ".xr-var-item label,\n",
       ".xr-var-item > .xr-var-name span {\n",
       "  background-color: var(--xr-background-color-row-even);\n",
       "  margin-bottom: 0;\n",
       "}\n",
       "\n",
       ".xr-var-item > .xr-var-name:hover span {\n",
       "  padding-right: 5px;\n",
       "}\n",
       "\n",
       ".xr-var-list > li:nth-child(odd) > div,\n",
       ".xr-var-list > li:nth-child(odd) > label,\n",
       ".xr-var-list > li:nth-child(odd) > .xr-var-name span {\n",
       "  background-color: var(--xr-background-color-row-odd);\n",
       "}\n",
       "\n",
       ".xr-var-name {\n",
       "  grid-column: 1;\n",
       "}\n",
       "\n",
       ".xr-var-dims {\n",
       "  grid-column: 2;\n",
       "}\n",
       "\n",
       ".xr-var-dtype {\n",
       "  grid-column: 3;\n",
       "  text-align: right;\n",
       "  color: var(--xr-font-color2);\n",
       "}\n",
       "\n",
       ".xr-var-preview {\n",
       "  grid-column: 4;\n",
       "}\n",
       "\n",
       ".xr-var-name,\n",
       ".xr-var-dims,\n",
       ".xr-var-dtype,\n",
       ".xr-preview,\n",
       ".xr-attrs dt {\n",
       "  white-space: nowrap;\n",
       "  overflow: hidden;\n",
       "  text-overflow: ellipsis;\n",
       "  padding-right: 10px;\n",
       "}\n",
       "\n",
       ".xr-var-name:hover,\n",
       ".xr-var-dims:hover,\n",
       ".xr-var-dtype:hover,\n",
       ".xr-attrs dt:hover {\n",
       "  overflow: visible;\n",
       "  width: auto;\n",
       "  z-index: 1;\n",
       "}\n",
       "\n",
       ".xr-var-attrs,\n",
       ".xr-var-data {\n",
       "  display: none;\n",
       "  background-color: var(--xr-background-color) !important;\n",
       "  padding-bottom: 5px !important;\n",
       "}\n",
       "\n",
       ".xr-var-attrs-in:checked ~ .xr-var-attrs,\n",
       ".xr-var-data-in:checked ~ .xr-var-data {\n",
       "  display: block;\n",
       "}\n",
       "\n",
       ".xr-var-data > table {\n",
       "  float: right;\n",
       "}\n",
       "\n",
       ".xr-var-name span,\n",
       ".xr-var-data,\n",
       ".xr-attrs {\n",
       "  padding-left: 25px !important;\n",
       "}\n",
       "\n",
       ".xr-attrs,\n",
       ".xr-var-attrs,\n",
       ".xr-var-data {\n",
       "  grid-column: 1 / -1;\n",
       "}\n",
       "\n",
       "dl.xr-attrs {\n",
       "  padding: 0;\n",
       "  margin: 0;\n",
       "  display: grid;\n",
       "  grid-template-columns: 125px auto;\n",
       "}\n",
       "\n",
       ".xr-attrs dt, dd {\n",
       "  padding: 0;\n",
       "  margin: 0;\n",
       "  float: left;\n",
       "  padding-right: 10px;\n",
       "  width: auto;\n",
       "}\n",
       "\n",
       ".xr-attrs dt {\n",
       "  font-weight: normal;\n",
       "  grid-column: 1;\n",
       "}\n",
       "\n",
       ".xr-attrs dt:hover span {\n",
       "  display: inline-block;\n",
       "  background: var(--xr-background-color);\n",
       "  padding-right: 10px;\n",
       "}\n",
       "\n",
       ".xr-attrs dd {\n",
       "  grid-column: 2;\n",
       "  white-space: pre-wrap;\n",
       "  word-break: break-all;\n",
       "}\n",
       "\n",
       ".xr-icon-database,\n",
       ".xr-icon-file-text2 {\n",
       "  display: inline-block;\n",
       "  vertical-align: middle;\n",
       "  width: 1em;\n",
       "  height: 1.5em !important;\n",
       "  stroke-width: 0;\n",
       "  stroke: currentColor;\n",
       "  fill: currentColor;\n",
       "}\n",
       "</style><pre class='xr-text-repr-fallback'>&lt;xarray.Dataset&gt;\n",
       "Dimensions:      (eta_rho: 181, eta_u: 181, eta_v: 180, ocean_time: 1, xi_rho: 186, xi_u: 185, xi_v: 186)\n",
       "Coordinates:\n",
       "    lat_rho      (eta_rho, xi_rho) float64 30.0 30.0 30.0 ... 48.0 48.0 48.0\n",
       "    lat_u        (eta_u, xi_u) float64 30.0 30.0 30.0 30.0 ... 48.0 48.0 48.0\n",
       "    lat_v        (eta_v, xi_v) float64 30.05 30.05 30.05 ... 47.95 47.95 47.95\n",
       "    lon_rho      (eta_rho, xi_rho) float64 -134.0 -133.9 ... -115.6 -115.5\n",
       "    lon_u        (eta_u, xi_u) float64 -133.9 -133.9 -133.8 ... -115.7 -115.5\n",
       "    lon_v        (eta_v, xi_v) float64 -134.0 -133.9 -133.8 ... -115.6 -115.5\n",
       "  * ocean_time   (ocean_time) datetime64[ns] 2020-03-09\n",
       "    z            float64 -2.0\n",
       "    time         datetime64[ns] 2017-01-01\n",
       "    time_run     datetime64[ns] 2017-01-01\n",
       "Dimensions without coordinates: eta_rho, eta_u, eta_v, xi_rho, xi_u, xi_v\n",
       "Data variables:\n",
       "    angle        (eta_rho, xi_rho) float64 0.0004363 0.0004363 ... 0.0006485\n",
       "    h            (eta_rho, xi_rho) float64 4.497e+03 4.497e+03 ... 10.0 10.0\n",
       "    mask_rho     (eta_rho, xi_rho) float64 1.0 1.0 1.0 1.0 ... 0.0 0.0 0.0 0.0\n",
       "    mask_u       (eta_u, xi_u) float64 1.0 1.0 1.0 1.0 1.0 ... 0.0 0.0 0.0 0.0\n",
       "    mask_v       (eta_v, xi_v) float64 1.0 1.0 1.0 1.0 1.0 ... 0.0 0.0 0.0 0.0\n",
       "    ubar         (eta_u, xi_u) float64 0.08438 0.1415 0.2191 ... nan nan nan\n",
       "    vbar         (eta_v, xi_v) float64 -0.05768 0.008443 0.005363 ... nan nan\n",
       "    zeta         (eta_rho, xi_rho) float64 0.2123 0.2123 0.2216 ... nan nan nan\n",
       "    temp         (eta_rho, xi_rho) float32 nan nan nan nan ... nan nan nan nan\n",
       "    salt         (eta_rho, xi_rho) float32 nan nan nan nan ... nan nan nan nan\n",
       "    rho          (eta_rho, xi_rho) float32 nan nan nan nan ... nan nan nan nan\n",
       "    u            (eta_u, xi_u) float32 nan nan nan nan nan ... nan nan nan nan\n",
       "    v            (eta_v, xi_v) float32 nan nan nan nan nan ... nan nan nan nan\n",
       "    w            (eta_rho, xi_rho) float32 0.00017268072 0.00017268072 ... nan\n",
       "    time_offset  datetime64[ns] 2011-01-02\n",
       "Attributes:\n",
       "    file:                            output/da_fwd_002.nc\n",
       "    format:                          netCDF-3 64bit offset file\n",
       "    Conventions:                     CF-1.4, _Coordinates\n",
       "    type:                            ROMS/TOMS history file\n",
       "    title:                           UCSC California Current System, wc12.0_c...\n",
       "    state_vector:                    zeta, ubar, vbar, u, v, temp, salt\n",
       "    rst_file:                        output/da_rst.nc\n",
       "    his_file:                        output/da_fwd_002.nc\n",
       "    grd_file:                        /proj/ocemod_cencoos_1/ccsrt_v0.2_sys/gr...\n",
       "    ini_file:                        ncfiles/wc12.0_ini_20200306.nc\n",
       "    itl_file:                        ncfiles/da_itl.nc\n",
       "    nrm_file:                        ncfiles/wc12_nrm_i_v7.nc.HAJOON.OLDC_sta...\n",
       "    obs_file:                        ncfiles/wc12.0_ssh_cmems_hfradar_ucsd_ss...\n",
       "    frc_file_01:                     /proj/ocemod_cencoos_2/coamps/joined/wc1...\n",
       "    frc_file_02:                     /proj/ocemod_cencoos_2/coamps/joined/wc1...\n",
       "    frc_file_03:                     /proj/ocemod_cencoos_2/coamps/joined/wc1...\n",
       "    frc_file_04:                     /proj/ocemod_cencoos_2/coamps/joined/wc1...\n",
       "    frc_file_05:                     /proj/ocemod_cencoos_2/coamps/joined/wc1...\n",
       "    frc_file_06:                     /proj/ocemod_cencoos_2/coamps/joined/wc1...\n",
       "    frc_file_07:                     /proj/ocemod_cencoos_2/coamps/joined/wc1...\n",
       "    bry_file:                        /proj/ocemod_cencoos_1/ccsrt_v0.2_runs/w...\n",
       "    fwd_file:                        output/da_fwd_001.nc\n",
       "    script_file:                     \n",
       "    apar_file:                       is4dvar_phys_only_737jpm_pauls_setup_as_...\n",
       "    NLM_LBC:                         \\nEDGE:  WEST   SOUTH  EAST   NORTH  \\nz...\n",
       "    ADM_LBC:                         \\nEDGE:  WEST   SOUTH  EAST   NORTH  \\nz...\n",
       "    svn_url:                         https://www.myroms.org/svn/src/trunk\n",
       "    svn_rev:                         exported\n",
       "    code_dir:                        /auto/proj/pmattern/roms/code/roms_737_all\n",
       "    header_dir:                      /proj/ocemod_cencoos_1/ccsrt_v0.2_sys/ro...\n",
       "    header_file:                     wc12_ccsra.h\n",
       "    os:                              Linux\n",
       "    cpu:                             x86_64\n",
       "    compiler_system:                 pgi\n",
       "    compiler_command:                /soft/openmpi_1.10.2/CentOS_6_pgi/bin/mp...\n",
       "    compiler_flags:                   -O3 -Mfree\n",
       "    tiling:                          004x003\n",
       "    history:                         Wed Mar 11 16:26:21 2020: ncks -v ocean_...\n",
       "    ana_file:                        ROMS/Functionals/ana_btflux.h\n",
       "    CPP_options:                     WC12_CCSRA, ADJOINT, ANA_BSFLUX, ANA_BTF...\n",
       "    NCO:                             &quot;4.5.2&quot;\n",
       "    cdm_data_type:                   GRID\n",
       "    CF%3afeature_type:               GRID\n",
       "    location:                        Proto fmrc:CCSRA 2016a Phys ROMS z-level...\n",
       "    DODS_EXTRA.Unlimited_Dimension:  ocean_time</pre><div class='xr-wrap' hidden><div class='xr-header'><div class='xr-obj-type'>xarray.Dataset</div></div><ul class='xr-sections'><li class='xr-section-item'><input id='section-062f9706-0af1-4b46-9084-8147e4d35a1d' class='xr-section-summary-in' type='checkbox' disabled ><label for='section-062f9706-0af1-4b46-9084-8147e4d35a1d' class='xr-section-summary'  title='Expand/collapse section'>Dimensions:</label><div class='xr-section-inline-details'><ul class='xr-dim-list'><li><span>eta_rho</span>: 181</li><li><span>eta_u</span>: 181</li><li><span>eta_v</span>: 180</li><li><span class='xr-has-index'>ocean_time</span>: 1</li><li><span>xi_rho</span>: 186</li><li><span>xi_u</span>: 185</li><li><span>xi_v</span>: 186</li></ul></div><div class='xr-section-details'></div></li><li class='xr-section-item'><input id='section-e941f403-faf0-4d31-a194-6003558cbb0c' class='xr-section-summary-in' type='checkbox'  checked><label for='section-e941f403-faf0-4d31-a194-6003558cbb0c' class='xr-section-summary' >Coordinates: <span>(10)</span></label><div class='xr-section-inline-details'></div><div class='xr-section-details'><ul class='xr-var-list'><li class='xr-var-item'><div class='xr-var-name'><span>lat_rho</span></div><div class='xr-var-dims'>(eta_rho, xi_rho)</div><div class='xr-var-dtype'>float64</div><div class='xr-var-preview xr-preview'>30.0 30.0 30.0 ... 48.0 48.0 48.0</div><input id='attrs-e23344c9-c626-43e4-b98e-b76b226ecf4e' class='xr-var-attrs-in' type='checkbox' ><label for='attrs-e23344c9-c626-43e4-b98e-b76b226ecf4e' title='Show/Hide attributes'><svg class='icon xr-icon-file-text2'><use xlink:href='#icon-file-text2'></use></svg></label><input id='data-6872a554-da56-4bda-b1df-2262d300a891' class='xr-var-data-in' type='checkbox'><label for='data-6872a554-da56-4bda-b1df-2262d300a891' title='Show/Hide data repr'><svg class='icon xr-icon-database'><use xlink:href='#icon-database'></use></svg></label><div class='xr-var-attrs'><dl class='xr-attrs'><dt><span>units :</span></dt><dd>degrees_north</dd><dt><span>long_name :</span></dt><dd>latitude of RHO-points</dd><dt><span>standard_name :</span></dt><dd>latitude</dd><dt><span>field :</span></dt><dd>lat_rho, scalar</dd><dt><span>_CoordinateAxisType :</span></dt><dd>Lat</dd></dl></div><div class='xr-var-data'><pre>array([[30. , 30. , 30. , ..., 30. , 30. , 30. ],\n",
       "       [30.1, 30.1, 30.1, ..., 30.1, 30.1, 30.1],\n",
       "       [30.2, 30.2, 30.2, ..., 30.2, 30.2, 30.2],\n",
       "       ...,\n",
       "       [47.8, 47.8, 47.8, ..., 47.8, 47.8, 47.8],\n",
       "       [47.9, 47.9, 47.9, ..., 47.9, 47.9, 47.9],\n",
       "       [48. , 48. , 48. , ..., 48. , 48. , 48. ]])</pre></div></li><li class='xr-var-item'><div class='xr-var-name'><span>lat_u</span></div><div class='xr-var-dims'>(eta_u, xi_u)</div><div class='xr-var-dtype'>float64</div><div class='xr-var-preview xr-preview'>30.0 30.0 30.0 ... 48.0 48.0 48.0</div><input id='attrs-ae603e5c-de42-4724-b095-d84b30119466' class='xr-var-attrs-in' type='checkbox' ><label for='attrs-ae603e5c-de42-4724-b095-d84b30119466' title='Show/Hide attributes'><svg class='icon xr-icon-file-text2'><use xlink:href='#icon-file-text2'></use></svg></label><input id='data-5a20844d-9dec-4640-957c-089379734f41' class='xr-var-data-in' type='checkbox'><label for='data-5a20844d-9dec-4640-957c-089379734f41' title='Show/Hide data repr'><svg class='icon xr-icon-database'><use xlink:href='#icon-database'></use></svg></label><div class='xr-var-attrs'><dl class='xr-attrs'><dt><span>units :</span></dt><dd>degrees_north</dd><dt><span>long_name :</span></dt><dd>latitude of U-points</dd><dt><span>standard_name :</span></dt><dd>latitude</dd><dt><span>field :</span></dt><dd>lat_u, scalar</dd><dt><span>_CoordinateAxisType :</span></dt><dd>Lat</dd></dl></div><div class='xr-var-data'><pre>array([[30. , 30. , 30. , ..., 30. , 30. , 30. ],\n",
       "       [30.1, 30.1, 30.1, ..., 30.1, 30.1, 30.1],\n",
       "       [30.2, 30.2, 30.2, ..., 30.2, 30.2, 30.2],\n",
       "       ...,\n",
       "       [47.8, 47.8, 47.8, ..., 47.8, 47.8, 47.8],\n",
       "       [47.9, 47.9, 47.9, ..., 47.9, 47.9, 47.9],\n",
       "       [48. , 48. , 48. , ..., 48. , 48. , 48. ]])</pre></div></li><li class='xr-var-item'><div class='xr-var-name'><span>lat_v</span></div><div class='xr-var-dims'>(eta_v, xi_v)</div><div class='xr-var-dtype'>float64</div><div class='xr-var-preview xr-preview'>30.05 30.05 30.05 ... 47.95 47.95</div><input id='attrs-07e22300-2ef2-484a-a9ef-ca1241d0febc' class='xr-var-attrs-in' type='checkbox' ><label for='attrs-07e22300-2ef2-484a-a9ef-ca1241d0febc' title='Show/Hide attributes'><svg class='icon xr-icon-file-text2'><use xlink:href='#icon-file-text2'></use></svg></label><input id='data-1813c168-aed4-48e8-bc59-6bc2038754cd' class='xr-var-data-in' type='checkbox'><label for='data-1813c168-aed4-48e8-bc59-6bc2038754cd' title='Show/Hide data repr'><svg class='icon xr-icon-database'><use xlink:href='#icon-database'></use></svg></label><div class='xr-var-attrs'><dl class='xr-attrs'><dt><span>units :</span></dt><dd>degrees_north</dd><dt><span>long_name :</span></dt><dd>latitude of V-points</dd><dt><span>standard_name :</span></dt><dd>latitude</dd><dt><span>field :</span></dt><dd>lat_v, scalar</dd><dt><span>_CoordinateAxisType :</span></dt><dd>Lat</dd></dl></div><div class='xr-var-data'><pre>array([[30.05, 30.05, 30.05, ..., 30.05, 30.05, 30.05],\n",
       "       [30.15, 30.15, 30.15, ..., 30.15, 30.15, 30.15],\n",
       "       [30.25, 30.25, 30.25, ..., 30.25, 30.25, 30.25],\n",
       "       ...,\n",
       "       [47.75, 47.75, 47.75, ..., 47.75, 47.75, 47.75],\n",
       "       [47.85, 47.85, 47.85, ..., 47.85, 47.85, 47.85],\n",
       "       [47.95, 47.95, 47.95, ..., 47.95, 47.95, 47.95]])</pre></div></li><li class='xr-var-item'><div class='xr-var-name'><span>lon_rho</span></div><div class='xr-var-dims'>(eta_rho, xi_rho)</div><div class='xr-var-dtype'>float64</div><div class='xr-var-preview xr-preview'>-134.0 -133.9 ... -115.6 -115.5</div><input id='attrs-996d6f37-2217-488e-bb83-f429448f87ed' class='xr-var-attrs-in' type='checkbox' ><label for='attrs-996d6f37-2217-488e-bb83-f429448f87ed' title='Show/Hide attributes'><svg class='icon xr-icon-file-text2'><use xlink:href='#icon-file-text2'></use></svg></label><input id='data-d126853e-f8ef-4057-a5e9-8980f475f7f0' class='xr-var-data-in' type='checkbox'><label for='data-d126853e-f8ef-4057-a5e9-8980f475f7f0' title='Show/Hide data repr'><svg class='icon xr-icon-database'><use xlink:href='#icon-database'></use></svg></label><div class='xr-var-attrs'><dl class='xr-attrs'><dt><span>units :</span></dt><dd>degrees_east</dd><dt><span>long_name :</span></dt><dd>longitude of RHO-points</dd><dt><span>standard_name :</span></dt><dd>longitude</dd><dt><span>field :</span></dt><dd>lon_rho, scalar</dd><dt><span>_CoordinateAxisType :</span></dt><dd>Lon</dd></dl></div><div class='xr-var-data'><pre>array([[-134. , -133.9, -133.8, ..., -115.7, -115.6, -115.5],\n",
       "       [-134. , -133.9, -133.8, ..., -115.7, -115.6, -115.5],\n",
       "       [-134. , -133.9, -133.8, ..., -115.7, -115.6, -115.5],\n",
       "       ...,\n",
       "       [-134. , -133.9, -133.8, ..., -115.7, -115.6, -115.5],\n",
       "       [-134. , -133.9, -133.8, ..., -115.7, -115.6, -115.5],\n",
       "       [-134. , -133.9, -133.8, ..., -115.7, -115.6, -115.5]])</pre></div></li><li class='xr-var-item'><div class='xr-var-name'><span>lon_u</span></div><div class='xr-var-dims'>(eta_u, xi_u)</div><div class='xr-var-dtype'>float64</div><div class='xr-var-preview xr-preview'>-133.9 -133.9 ... -115.7 -115.5</div><input id='attrs-f1a39bc0-4713-4c20-bbc7-11e61a8a291e' class='xr-var-attrs-in' type='checkbox' ><label for='attrs-f1a39bc0-4713-4c20-bbc7-11e61a8a291e' title='Show/Hide attributes'><svg class='icon xr-icon-file-text2'><use xlink:href='#icon-file-text2'></use></svg></label><input id='data-216cc529-a5d1-4394-86f4-7dca0e3d14bd' class='xr-var-data-in' type='checkbox'><label for='data-216cc529-a5d1-4394-86f4-7dca0e3d14bd' title='Show/Hide data repr'><svg class='icon xr-icon-database'><use xlink:href='#icon-database'></use></svg></label><div class='xr-var-attrs'><dl class='xr-attrs'><dt><span>units :</span></dt><dd>degrees_east</dd><dt><span>long_name :</span></dt><dd>longitude of U-points</dd><dt><span>standard_name :</span></dt><dd>longitude</dd><dt><span>field :</span></dt><dd>lon_u, scalar</dd><dt><span>_CoordinateAxisType :</span></dt><dd>Lon</dd></dl></div><div class='xr-var-data'><pre>array([[-133.95, -133.85, -133.75, ..., -115.75, -115.65, -115.55],\n",
       "       [-133.95, -133.85, -133.75, ..., -115.75, -115.65, -115.55],\n",
       "       [-133.95, -133.85, -133.75, ..., -115.75, -115.65, -115.55],\n",
       "       ...,\n",
       "       [-133.95, -133.85, -133.75, ..., -115.75, -115.65, -115.55],\n",
       "       [-133.95, -133.85, -133.75, ..., -115.75, -115.65, -115.55],\n",
       "       [-133.95, -133.85, -133.75, ..., -115.75, -115.65, -115.55]])</pre></div></li><li class='xr-var-item'><div class='xr-var-name'><span>lon_v</span></div><div class='xr-var-dims'>(eta_v, xi_v)</div><div class='xr-var-dtype'>float64</div><div class='xr-var-preview xr-preview'>-134.0 -133.9 ... -115.6 -115.5</div><input id='attrs-b71787f8-498d-4a27-8e40-7c475d7e1b65' class='xr-var-attrs-in' type='checkbox' ><label for='attrs-b71787f8-498d-4a27-8e40-7c475d7e1b65' title='Show/Hide attributes'><svg class='icon xr-icon-file-text2'><use xlink:href='#icon-file-text2'></use></svg></label><input id='data-af6631d7-eff7-4d43-8796-3066c3e03fcd' class='xr-var-data-in' type='checkbox'><label for='data-af6631d7-eff7-4d43-8796-3066c3e03fcd' title='Show/Hide data repr'><svg class='icon xr-icon-database'><use xlink:href='#icon-database'></use></svg></label><div class='xr-var-attrs'><dl class='xr-attrs'><dt><span>units :</span></dt><dd>degrees_east</dd><dt><span>long_name :</span></dt><dd>longitude of V-points</dd><dt><span>standard_name :</span></dt><dd>longitude</dd><dt><span>field :</span></dt><dd>lon_v, scalar</dd><dt><span>_CoordinateAxisType :</span></dt><dd>Lon</dd></dl></div><div class='xr-var-data'><pre>array([[-134. , -133.9, -133.8, ..., -115.7, -115.6, -115.5],\n",
       "       [-134. , -133.9, -133.8, ..., -115.7, -115.6, -115.5],\n",
       "       [-134. , -133.9, -133.8, ..., -115.7, -115.6, -115.5],\n",
       "       ...,\n",
       "       [-134. , -133.9, -133.8, ..., -115.7, -115.6, -115.5],\n",
       "       [-134. , -133.9, -133.8, ..., -115.7, -115.6, -115.5],\n",
       "       [-134. , -133.9, -133.8, ..., -115.7, -115.6, -115.5]])</pre></div></li><li class='xr-var-item'><div class='xr-var-name'><span class='xr-has-index'>ocean_time</span></div><div class='xr-var-dims'>(ocean_time)</div><div class='xr-var-dtype'>datetime64[ns]</div><div class='xr-var-preview xr-preview'>2020-03-09</div><input id='attrs-db03ba64-7446-48f0-8387-23b542de16a4' class='xr-var-attrs-in' type='checkbox' ><label for='attrs-db03ba64-7446-48f0-8387-23b542de16a4' title='Show/Hide attributes'><svg class='icon xr-icon-file-text2'><use xlink:href='#icon-file-text2'></use></svg></label><input id='data-4c05dbb6-a6a5-49f6-92ef-286958e23471' class='xr-var-data-in' type='checkbox'><label for='data-4c05dbb6-a6a5-49f6-92ef-286958e23471' title='Show/Hide data repr'><svg class='icon xr-icon-database'><use xlink:href='#icon-database'></use></svg></label><div class='xr-var-attrs'><dl class='xr-attrs'><dt><span>long_name :</span></dt><dd>time since initialization</dd><dt><span>field :</span></dt><dd>time, scalar, series</dd><dt><span>_CoordinateAxisType :</span></dt><dd>Time</dd></dl></div><div class='xr-var-data'><pre>array([&#x27;2020-03-09T00:00:00.000000000&#x27;], dtype=&#x27;datetime64[ns]&#x27;)</pre></div></li><li class='xr-var-item'><div class='xr-var-name'><span>z</span></div><div class='xr-var-dims'>()</div><div class='xr-var-dtype'>float64</div><div class='xr-var-preview xr-preview'>-2.0</div><input id='attrs-359061ae-a10a-45e5-a143-2f282cbf912a' class='xr-var-attrs-in' type='checkbox' ><label for='attrs-359061ae-a10a-45e5-a143-2f282cbf912a' title='Show/Hide attributes'><svg class='icon xr-icon-file-text2'><use xlink:href='#icon-file-text2'></use></svg></label><input id='data-2f5e6aa0-f71c-4a99-b6a0-e88b1b9f4cf1' class='xr-var-data-in' type='checkbox'><label for='data-2f5e6aa0-f71c-4a99-b6a0-e88b1b9f4cf1' title='Show/Hide data repr'><svg class='icon xr-icon-database'><use xlink:href='#icon-database'></use></svg></label><div class='xr-var-attrs'><dl class='xr-attrs'><dt><span>units :</span></dt><dd>meters</dd><dt><span>long_name :</span></dt><dd>height above free surface</dd><dt><span>positive :</span></dt><dd>up</dd><dt><span>_CoordinateAxisType :</span></dt><dd>Height</dd><dt><span>_CoordinateZisPositive :</span></dt><dd>up</dd></dl></div><div class='xr-var-data'><pre>array(-2.)</pre></div></li><li class='xr-var-item'><div class='xr-var-name'><span>time</span></div><div class='xr-var-dims'>()</div><div class='xr-var-dtype'>datetime64[ns]</div><div class='xr-var-preview xr-preview'>2017-01-01</div><input id='attrs-d3e2eea1-25e8-47cf-a2b2-2ed619acea3c' class='xr-var-attrs-in' type='checkbox' ><label for='attrs-d3e2eea1-25e8-47cf-a2b2-2ed619acea3c' title='Show/Hide attributes'><svg class='icon xr-icon-file-text2'><use xlink:href='#icon-file-text2'></use></svg></label><input id='data-c5b2a7d2-bbc5-45aa-9fab-14799c150cda' class='xr-var-data-in' type='checkbox'><label for='data-c5b2a7d2-bbc5-45aa-9fab-14799c150cda' title='Show/Hide data repr'><svg class='icon xr-icon-database'><use xlink:href='#icon-database'></use></svg></label><div class='xr-var-attrs'><dl class='xr-attrs'><dt><span>long_name :</span></dt><dd>Forecast time for ForecastModelRunCollection</dd><dt><span>standard_name :</span></dt><dd>time</dd><dt><span>_CoordinateAxisType :</span></dt><dd>Time</dd></dl></div><div class='xr-var-data'><pre>array(&#x27;2017-01-01T00:00:00.000000000&#x27;, dtype=&#x27;datetime64[ns]&#x27;)</pre></div></li><li class='xr-var-item'><div class='xr-var-name'><span>time_run</span></div><div class='xr-var-dims'>()</div><div class='xr-var-dtype'>datetime64[ns]</div><div class='xr-var-preview xr-preview'>2017-01-01</div><input id='attrs-d0665aeb-4ae0-44b2-a264-e78d089db52e' class='xr-var-attrs-in' type='checkbox' ><label for='attrs-d0665aeb-4ae0-44b2-a264-e78d089db52e' title='Show/Hide attributes'><svg class='icon xr-icon-file-text2'><use xlink:href='#icon-file-text2'></use></svg></label><input id='data-6d4e9f7e-655e-4dc8-876a-0b5dc0e94b43' class='xr-var-data-in' type='checkbox'><label for='data-6d4e9f7e-655e-4dc8-876a-0b5dc0e94b43' title='Show/Hide data repr'><svg class='icon xr-icon-database'><use xlink:href='#icon-database'></use></svg></label><div class='xr-var-attrs'><dl class='xr-attrs'><dt><span>long_name :</span></dt><dd>run times for coordinate = time</dd><dt><span>standard_name :</span></dt><dd>forecast_reference_time</dd><dt><span>_CoordinateAxisType :</span></dt><dd>RunTime</dd></dl></div><div class='xr-var-data'><pre>array(&#x27;2017-01-01T00:00:00.000000000&#x27;, dtype=&#x27;datetime64[ns]&#x27;)</pre></div></li></ul></div></li><li class='xr-section-item'><input id='section-c78cd241-f838-41bf-8c14-b031058f1dc5' class='xr-section-summary-in' type='checkbox'  ><label for='section-c78cd241-f838-41bf-8c14-b031058f1dc5' class='xr-section-summary' >Data variables: <span>(15)</span></label><div class='xr-section-inline-details'></div><div class='xr-section-details'><ul class='xr-var-list'><li class='xr-var-item'><div class='xr-var-name'><span>angle</span></div><div class='xr-var-dims'>(eta_rho, xi_rho)</div><div class='xr-var-dtype'>float64</div><div class='xr-var-preview xr-preview'>0.0004363 0.0004363 ... 0.0006485</div><input id='attrs-c566e193-b32d-4e11-a7c8-1ac8b449fe12' class='xr-var-attrs-in' type='checkbox' ><label for='attrs-c566e193-b32d-4e11-a7c8-1ac8b449fe12' title='Show/Hide attributes'><svg class='icon xr-icon-file-text2'><use xlink:href='#icon-file-text2'></use></svg></label><input id='data-436d0eb1-4494-42de-b872-426b24d275cf' class='xr-var-data-in' type='checkbox'><label for='data-436d0eb1-4494-42de-b872-426b24d275cf' title='Show/Hide data repr'><svg class='icon xr-icon-database'><use xlink:href='#icon-database'></use></svg></label><div class='xr-var-attrs'><dl class='xr-attrs'><dt><span>units :</span></dt><dd>radians</dd><dt><span>long_name :</span></dt><dd>angle between XI-axis and EAST</dd><dt><span>field :</span></dt><dd>angle, scalar</dd></dl></div><div class='xr-var-data'><pre>array([[0.000436, 0.000436, 0.000436, ..., 0.000436, 0.000436, 0.000436],\n",
       "       [0.000438, 0.000438, 0.000438, ..., 0.000438, 0.000438, 0.000438],\n",
       "       [0.000439, 0.000439, 0.000439, ..., 0.000439, 0.000439, 0.000439],\n",
       "       ...,\n",
       "       [0.000646, 0.000646, 0.000646, ..., 0.000646, 0.000646, 0.000646],\n",
       "       [0.000647, 0.000647, 0.000647, ..., 0.000647, 0.000647, 0.000647],\n",
       "       [0.000649, 0.000649, 0.000649, ..., 0.000649, 0.000649, 0.000649]])</pre></div></li><li class='xr-var-item'><div class='xr-var-name'><span>h</span></div><div class='xr-var-dims'>(eta_rho, xi_rho)</div><div class='xr-var-dtype'>float64</div><div class='xr-var-preview xr-preview'>4.497e+03 4.497e+03 ... 10.0 10.0</div><input id='attrs-f9389b97-387f-42aa-9d03-b482c67ad02c' class='xr-var-attrs-in' type='checkbox' ><label for='attrs-f9389b97-387f-42aa-9d03-b482c67ad02c' title='Show/Hide attributes'><svg class='icon xr-icon-file-text2'><use xlink:href='#icon-file-text2'></use></svg></label><input id='data-37cc456f-a2f7-4f59-904a-6cabdd624908' class='xr-var-data-in' type='checkbox'><label for='data-37cc456f-a2f7-4f59-904a-6cabdd624908' title='Show/Hide data repr'><svg class='icon xr-icon-database'><use xlink:href='#icon-database'></use></svg></label><div class='xr-var-attrs'><dl class='xr-attrs'><dt><span>units :</span></dt><dd>meter</dd><dt><span>long_name :</span></dt><dd>bathymetry at RHO-points</dd><dt><span>field :</span></dt><dd>bath, scalar</dd></dl></div><div class='xr-var-data'><pre>array([[4496.546263, 4496.546263, 4495.655575, ...,   49.742998,   39.021841,\n",
       "          39.021841],\n",
       "       [4496.546263, 4496.546263, 4495.655575, ...,   49.742998,   39.021841,\n",
       "          39.021841],\n",
       "       [4480.911476, 4480.911476, 4478.767786, ...,   44.34183 ,   34.805866,\n",
       "          34.805866],\n",
       "       ...,\n",
       "       [3747.554452, 3747.554452, 3673.049255, ...,   10.      ,   10.      ,\n",
       "          10.      ],\n",
       "       [3731.239302, 3731.239302, 3650.499561, ...,   10.      ,   10.      ,\n",
       "          10.      ],\n",
       "       [3731.239302, 3731.239302, 3650.499561, ...,   10.      ,   10.      ,\n",
       "          10.      ]])</pre></div></li><li class='xr-var-item'><div class='xr-var-name'><span>mask_rho</span></div><div class='xr-var-dims'>(eta_rho, xi_rho)</div><div class='xr-var-dtype'>float64</div><div class='xr-var-preview xr-preview'>1.0 1.0 1.0 1.0 ... 0.0 0.0 0.0 0.0</div><input id='attrs-379ed78b-d6e9-4c1c-951d-b1278a90c3c7' class='xr-var-attrs-in' type='checkbox' ><label for='attrs-379ed78b-d6e9-4c1c-951d-b1278a90c3c7' title='Show/Hide attributes'><svg class='icon xr-icon-file-text2'><use xlink:href='#icon-file-text2'></use></svg></label><input id='data-9a57a072-236e-4e19-85cb-8691f52843c6' class='xr-var-data-in' type='checkbox'><label for='data-9a57a072-236e-4e19-85cb-8691f52843c6' title='Show/Hide data repr'><svg class='icon xr-icon-database'><use xlink:href='#icon-database'></use></svg></label><div class='xr-var-attrs'><dl class='xr-attrs'><dt><span>long_name :</span></dt><dd>mask on RHO-points</dd><dt><span>flag_values :</span></dt><dd>[0. 1.]</dd><dt><span>flag_meanings :</span></dt><dd>land water</dd></dl></div><div class='xr-var-data'><pre>array([[1., 1., 1., ..., 0., 0., 0.],\n",
       "       [1., 1., 1., ..., 0., 0., 0.],\n",
       "       [1., 1., 1., ..., 0., 0., 0.],\n",
       "       ...,\n",
       "       [1., 1., 1., ..., 0., 0., 0.],\n",
       "       [1., 1., 1., ..., 0., 0., 0.],\n",
       "       [1., 1., 1., ..., 0., 0., 0.]])</pre></div></li><li class='xr-var-item'><div class='xr-var-name'><span>mask_u</span></div><div class='xr-var-dims'>(eta_u, xi_u)</div><div class='xr-var-dtype'>float64</div><div class='xr-var-preview xr-preview'>1.0 1.0 1.0 1.0 ... 0.0 0.0 0.0 0.0</div><input id='attrs-1f500c80-ebd4-414d-bfa5-94540ee55c49' class='xr-var-attrs-in' type='checkbox' ><label for='attrs-1f500c80-ebd4-414d-bfa5-94540ee55c49' title='Show/Hide attributes'><svg class='icon xr-icon-file-text2'><use xlink:href='#icon-file-text2'></use></svg></label><input id='data-2723b4c5-2b52-479d-b6a5-ee99acdec8ae' class='xr-var-data-in' type='checkbox'><label for='data-2723b4c5-2b52-479d-b6a5-ee99acdec8ae' title='Show/Hide data repr'><svg class='icon xr-icon-database'><use xlink:href='#icon-database'></use></svg></label><div class='xr-var-attrs'><dl class='xr-attrs'><dt><span>long_name :</span></dt><dd>mask on U-points</dd><dt><span>flag_values :</span></dt><dd>[0. 1.]</dd><dt><span>flag_meanings :</span></dt><dd>land water</dd></dl></div><div class='xr-var-data'><pre>array([[1., 1., 1., ..., 0., 0., 0.],\n",
       "       [1., 1., 1., ..., 0., 0., 0.],\n",
       "       [1., 1., 1., ..., 0., 0., 0.],\n",
       "       ...,\n",
       "       [1., 1., 1., ..., 0., 0., 0.],\n",
       "       [1., 1., 1., ..., 0., 0., 0.],\n",
       "       [1., 1., 1., ..., 0., 0., 0.]])</pre></div></li><li class='xr-var-item'><div class='xr-var-name'><span>mask_v</span></div><div class='xr-var-dims'>(eta_v, xi_v)</div><div class='xr-var-dtype'>float64</div><div class='xr-var-preview xr-preview'>1.0 1.0 1.0 1.0 ... 0.0 0.0 0.0 0.0</div><input id='attrs-38a6a787-2d49-437e-94bc-e24b9c1be4a5' class='xr-var-attrs-in' type='checkbox' ><label for='attrs-38a6a787-2d49-437e-94bc-e24b9c1be4a5' title='Show/Hide attributes'><svg class='icon xr-icon-file-text2'><use xlink:href='#icon-file-text2'></use></svg></label><input id='data-abf4c5b5-d573-436f-8ede-a8b61587aa86' class='xr-var-data-in' type='checkbox'><label for='data-abf4c5b5-d573-436f-8ede-a8b61587aa86' title='Show/Hide data repr'><svg class='icon xr-icon-database'><use xlink:href='#icon-database'></use></svg></label><div class='xr-var-attrs'><dl class='xr-attrs'><dt><span>long_name :</span></dt><dd>mask on V-points</dd><dt><span>flag_values :</span></dt><dd>[0. 1.]</dd><dt><span>flag_meanings :</span></dt><dd>land water</dd></dl></div><div class='xr-var-data'><pre>array([[1., 1., 1., ..., 0., 0., 0.],\n",
       "       [1., 1., 1., ..., 0., 0., 0.],\n",
       "       [1., 1., 1., ..., 0., 0., 0.],\n",
       "       ...,\n",
       "       [1., 1., 1., ..., 0., 0., 0.],\n",
       "       [1., 1., 1., ..., 0., 0., 0.],\n",
       "       [1., 1., 1., ..., 0., 0., 0.]])</pre></div></li><li class='xr-var-item'><div class='xr-var-name'><span>ubar</span></div><div class='xr-var-dims'>(eta_u, xi_u)</div><div class='xr-var-dtype'>float64</div><div class='xr-var-preview xr-preview'>...</div><input id='attrs-3feff972-9e7a-4cde-8100-d06e7b12f37c' class='xr-var-attrs-in' type='checkbox' ><label for='attrs-3feff972-9e7a-4cde-8100-d06e7b12f37c' title='Show/Hide attributes'><svg class='icon xr-icon-file-text2'><use xlink:href='#icon-file-text2'></use></svg></label><input id='data-8ce38f38-fb64-4d83-9645-def84dc4535c' class='xr-var-data-in' type='checkbox'><label for='data-8ce38f38-fb64-4d83-9645-def84dc4535c' title='Show/Hide data repr'><svg class='icon xr-icon-database'><use xlink:href='#icon-database'></use></svg></label><div class='xr-var-attrs'><dl class='xr-attrs'><dt><span>units :</span></dt><dd>meter second-1</dd><dt><span>long_name :</span></dt><dd>vertically integrated u-momentum component</dd><dt><span>time :</span></dt><dd>ocean_time</dd><dt><span>field :</span></dt><dd>ubar-velocity, scalar, series</dd></dl></div><div class='xr-var-data'><pre>array([[ 0.084377,  0.141465,  0.219079, ...,       nan,       nan,       nan],\n",
       "       [ 0.027288,  0.141468,  0.219083, ...,       nan,       nan,       nan],\n",
       "       [ 0.019563,  0.105104,  0.16695 , ...,       nan,       nan,       nan],\n",
       "       ...,\n",
       "       [-0.004469, -0.00178 ,  0.001495, ...,       nan,       nan,       nan],\n",
       "       [-0.00339 ,  0.0066  ,  0.029597, ...,       nan,       nan,       nan],\n",
       "       [ 0.001605,  0.0066  ,  0.029591, ...,       nan,       nan,       nan]])</pre></div></li><li class='xr-var-item'><div class='xr-var-name'><span>vbar</span></div><div class='xr-var-dims'>(eta_v, xi_v)</div><div class='xr-var-dtype'>float64</div><div class='xr-var-preview xr-preview'>...</div><input id='attrs-299e88cf-f790-4191-922d-0cd52ace43b8' class='xr-var-attrs-in' type='checkbox' ><label for='attrs-299e88cf-f790-4191-922d-0cd52ace43b8' title='Show/Hide attributes'><svg class='icon xr-icon-file-text2'><use xlink:href='#icon-file-text2'></use></svg></label><input id='data-c13b137c-d4fc-4be0-b557-fee17fec6e82' class='xr-var-data-in' type='checkbox'><label for='data-c13b137c-d4fc-4be0-b557-fee17fec6e82' title='Show/Hide data repr'><svg class='icon xr-icon-database'><use xlink:href='#icon-database'></use></svg></label><div class='xr-var-attrs'><dl class='xr-attrs'><dt><span>units :</span></dt><dd>meter second-1</dd><dt><span>long_name :</span></dt><dd>vertically integrated v-momentum component</dd><dt><span>time :</span></dt><dd>ocean_time</dd><dt><span>field :</span></dt><dd>vbar-velocity, scalar, series</dd></dl></div><div class='xr-var-data'><pre>array([[-0.057676,  0.008443,  0.005363, ...,       nan,       nan,       nan],\n",
       "       [-0.123794, -0.12379 , -0.085044, ...,       nan,       nan,       nan],\n",
       "       [-0.222685, -0.222676, -0.157104, ...,       nan,       nan,       nan],\n",
       "       ...,\n",
       "       [ 0.032525,  0.03253 ,  0.041018, ...,       nan,       nan,       nan],\n",
       "       [ 0.028625,  0.028627,  0.036441, ...,       nan,       nan,       nan],\n",
       "       [ 0.02128 ,  0.013935,  0.002923, ...,       nan,       nan,       nan]])</pre></div></li><li class='xr-var-item'><div class='xr-var-name'><span>zeta</span></div><div class='xr-var-dims'>(eta_rho, xi_rho)</div><div class='xr-var-dtype'>float64</div><div class='xr-var-preview xr-preview'>...</div><input id='attrs-e3acedec-bcc1-45d1-b3de-4707f8f9abc1' class='xr-var-attrs-in' type='checkbox' ><label for='attrs-e3acedec-bcc1-45d1-b3de-4707f8f9abc1' title='Show/Hide attributes'><svg class='icon xr-icon-file-text2'><use xlink:href='#icon-file-text2'></use></svg></label><input id='data-3afe2937-1e79-43e6-80e6-f20066d3b6c6' class='xr-var-data-in' type='checkbox'><label for='data-3afe2937-1e79-43e6-80e6-f20066d3b6c6' title='Show/Hide data repr'><svg class='icon xr-icon-database'><use xlink:href='#icon-database'></use></svg></label><div class='xr-var-attrs'><dl class='xr-attrs'><dt><span>units :</span></dt><dd>meter</dd><dt><span>long_name :</span></dt><dd>free-surface</dd><dt><span>time :</span></dt><dd>ocean_time</dd><dt><span>field :</span></dt><dd>free-surface, scalar, series</dd></dl></div><div class='xr-var-data'><pre>array([[0.212343, 0.212349, 0.221557, ...,      nan,      nan,      nan],\n",
       "       [0.212337, 0.212275, 0.221491, ...,      nan,      nan,      nan],\n",
       "       [0.208038, 0.207983, 0.238002, ...,      nan,      nan,      nan],\n",
       "       ...,\n",
       "       [0.147744, 0.147756, 0.10836 , ...,      nan,      nan,      nan],\n",
       "       [0.169579, 0.169592, 0.146846, ...,      nan,      nan,      nan],\n",
       "       [0.169576, 0.169573, 0.146828, ...,      nan,      nan,      nan]])</pre></div></li><li class='xr-var-item'><div class='xr-var-name'><span>temp</span></div><div class='xr-var-dims'>(eta_rho, xi_rho)</div><div class='xr-var-dtype'>float32</div><div class='xr-var-preview xr-preview'>...</div><input id='attrs-80cdba66-1efc-44e3-8aec-9ebc5d82a03f' class='xr-var-attrs-in' type='checkbox' ><label for='attrs-80cdba66-1efc-44e3-8aec-9ebc5d82a03f' title='Show/Hide attributes'><svg class='icon xr-icon-file-text2'><use xlink:href='#icon-file-text2'></use></svg></label><input id='data-084562b4-d1e1-42e1-a1ae-f9a968b153a3' class='xr-var-data-in' type='checkbox'><label for='data-084562b4-d1e1-42e1-a1ae-f9a968b153a3' title='Show/Hide data repr'><svg class='icon xr-icon-database'><use xlink:href='#icon-database'></use></svg></label><div class='xr-var-attrs'><dl class='xr-attrs'><dt><span>units :</span></dt><dd>Celsius</dd><dt><span>long_name :</span></dt><dd>potential temperature</dd><dt><span>time :</span></dt><dd>ocean_time</dd><dt><span>field :</span></dt><dd>temperature, scalar, series</dd></dl></div><div class='xr-var-data'><pre>array([[nan, nan, nan, ..., nan, nan, nan],\n",
       "       [nan, nan, nan, ..., nan, nan, nan],\n",
       "       [nan, nan, nan, ..., nan, nan, nan],\n",
       "       ...,\n",
       "       [nan, nan, nan, ..., nan, nan, nan],\n",
       "       [nan, nan, nan, ..., nan, nan, nan],\n",
       "       [nan, nan, nan, ..., nan, nan, nan]], dtype=float32)</pre></div></li><li class='xr-var-item'><div class='xr-var-name'><span>salt</span></div><div class='xr-var-dims'>(eta_rho, xi_rho)</div><div class='xr-var-dtype'>float32</div><div class='xr-var-preview xr-preview'>...</div><input id='attrs-9d5e4f83-c0d1-4a12-80c3-e00eb90a7b34' class='xr-var-attrs-in' type='checkbox' ><label for='attrs-9d5e4f83-c0d1-4a12-80c3-e00eb90a7b34' title='Show/Hide attributes'><svg class='icon xr-icon-file-text2'><use xlink:href='#icon-file-text2'></use></svg></label><input id='data-612ecc58-ca7d-47eb-b646-2514936ff36c' class='xr-var-data-in' type='checkbox'><label for='data-612ecc58-ca7d-47eb-b646-2514936ff36c' title='Show/Hide data repr'><svg class='icon xr-icon-database'><use xlink:href='#icon-database'></use></svg></label><div class='xr-var-attrs'><dl class='xr-attrs'><dt><span>units :</span></dt><dd>PSU</dd><dt><span>long_name :</span></dt><dd>salinity</dd><dt><span>time :</span></dt><dd>ocean_time</dd><dt><span>field :</span></dt><dd>salinity, scalar, series</dd></dl></div><div class='xr-var-data'><pre>array([[nan, nan, nan, ..., nan, nan, nan],\n",
       "       [nan, nan, nan, ..., nan, nan, nan],\n",
       "       [nan, nan, nan, ..., nan, nan, nan],\n",
       "       ...,\n",
       "       [nan, nan, nan, ..., nan, nan, nan],\n",
       "       [nan, nan, nan, ..., nan, nan, nan],\n",
       "       [nan, nan, nan, ..., nan, nan, nan]], dtype=float32)</pre></div></li><li class='xr-var-item'><div class='xr-var-name'><span>rho</span></div><div class='xr-var-dims'>(eta_rho, xi_rho)</div><div class='xr-var-dtype'>float32</div><div class='xr-var-preview xr-preview'>...</div><input id='attrs-ad10a5ea-8fe1-46dd-b580-e413ec562ada' class='xr-var-attrs-in' type='checkbox' ><label for='attrs-ad10a5ea-8fe1-46dd-b580-e413ec562ada' title='Show/Hide attributes'><svg class='icon xr-icon-file-text2'><use xlink:href='#icon-file-text2'></use></svg></label><input id='data-9b8fe4db-9755-4787-bd61-b617b82d06b1' class='xr-var-data-in' type='checkbox'><label for='data-9b8fe4db-9755-4787-bd61-b617b82d06b1' title='Show/Hide data repr'><svg class='icon xr-icon-database'><use xlink:href='#icon-database'></use></svg></label><div class='xr-var-attrs'><dl class='xr-attrs'><dt><span>units :</span></dt><dd>kilogram meter-3</dd><dt><span>long_name :</span></dt><dd>density anomaly</dd><dt><span>time :</span></dt><dd>ocean_time</dd><dt><span>field :</span></dt><dd>density, scalar, series</dd></dl></div><div class='xr-var-data'><pre>array([[nan, nan, nan, ..., nan, nan, nan],\n",
       "       [nan, nan, nan, ..., nan, nan, nan],\n",
       "       [nan, nan, nan, ..., nan, nan, nan],\n",
       "       ...,\n",
       "       [nan, nan, nan, ..., nan, nan, nan],\n",
       "       [nan, nan, nan, ..., nan, nan, nan],\n",
       "       [nan, nan, nan, ..., nan, nan, nan]], dtype=float32)</pre></div></li><li class='xr-var-item'><div class='xr-var-name'><span>u</span></div><div class='xr-var-dims'>(eta_u, xi_u)</div><div class='xr-var-dtype'>float32</div><div class='xr-var-preview xr-preview'>...</div><input id='attrs-7e7183e7-9f7a-4cab-830c-6f388d876247' class='xr-var-attrs-in' type='checkbox' ><label for='attrs-7e7183e7-9f7a-4cab-830c-6f388d876247' title='Show/Hide attributes'><svg class='icon xr-icon-file-text2'><use xlink:href='#icon-file-text2'></use></svg></label><input id='data-1a945a81-bb03-472d-984b-92fbc5291953' class='xr-var-data-in' type='checkbox'><label for='data-1a945a81-bb03-472d-984b-92fbc5291953' title='Show/Hide data repr'><svg class='icon xr-icon-database'><use xlink:href='#icon-database'></use></svg></label><div class='xr-var-attrs'><dl class='xr-attrs'><dt><span>units :</span></dt><dd>meter second-1</dd><dt><span>long_name :</span></dt><dd>u-momentum component</dd><dt><span>time :</span></dt><dd>ocean_time</dd><dt><span>field :</span></dt><dd>u-velocity, scalar, series</dd></dl></div><div class='xr-var-data'><pre>array([[nan, nan, nan, ..., nan, nan, nan],\n",
       "       [nan, nan, nan, ..., nan, nan, nan],\n",
       "       [nan, nan, nan, ..., nan, nan, nan],\n",
       "       ...,\n",
       "       [nan, nan, nan, ..., nan, nan, nan],\n",
       "       [nan, nan, nan, ..., nan, nan, nan],\n",
       "       [nan, nan, nan, ..., nan, nan, nan]], dtype=float32)</pre></div></li><li class='xr-var-item'><div class='xr-var-name'><span>v</span></div><div class='xr-var-dims'>(eta_v, xi_v)</div><div class='xr-var-dtype'>float32</div><div class='xr-var-preview xr-preview'>...</div><input id='attrs-2d41e213-85e9-459a-8259-8a9e65a517de' class='xr-var-attrs-in' type='checkbox' ><label for='attrs-2d41e213-85e9-459a-8259-8a9e65a517de' title='Show/Hide attributes'><svg class='icon xr-icon-file-text2'><use xlink:href='#icon-file-text2'></use></svg></label><input id='data-b6757dbb-60c0-4c09-bb66-2e8b0f73bf6d' class='xr-var-data-in' type='checkbox'><label for='data-b6757dbb-60c0-4c09-bb66-2e8b0f73bf6d' title='Show/Hide data repr'><svg class='icon xr-icon-database'><use xlink:href='#icon-database'></use></svg></label><div class='xr-var-attrs'><dl class='xr-attrs'><dt><span>units :</span></dt><dd>meter second-1</dd><dt><span>long_name :</span></dt><dd>v-momentum component</dd><dt><span>time :</span></dt><dd>ocean_time</dd><dt><span>field :</span></dt><dd>v-velocity, scalar, series</dd></dl></div><div class='xr-var-data'><pre>array([[nan, nan, nan, ..., nan, nan, nan],\n",
       "       [nan, nan, nan, ..., nan, nan, nan],\n",
       "       [nan, nan, nan, ..., nan, nan, nan],\n",
       "       ...,\n",
       "       [nan, nan, nan, ..., nan, nan, nan],\n",
       "       [nan, nan, nan, ..., nan, nan, nan],\n",
       "       [nan, nan, nan, ..., nan, nan, nan]], dtype=float32)</pre></div></li><li class='xr-var-item'><div class='xr-var-name'><span>w</span></div><div class='xr-var-dims'>(eta_rho, xi_rho)</div><div class='xr-var-dtype'>float32</div><div class='xr-var-preview xr-preview'>...</div><input id='attrs-c97a928f-2cf8-4852-a391-9d8e97e47b8e' class='xr-var-attrs-in' type='checkbox' ><label for='attrs-c97a928f-2cf8-4852-a391-9d8e97e47b8e' title='Show/Hide attributes'><svg class='icon xr-icon-file-text2'><use xlink:href='#icon-file-text2'></use></svg></label><input id='data-a18676a3-ec20-4910-968c-64030bc642fa' class='xr-var-data-in' type='checkbox'><label for='data-a18676a3-ec20-4910-968c-64030bc642fa' title='Show/Hide data repr'><svg class='icon xr-icon-database'><use xlink:href='#icon-database'></use></svg></label><div class='xr-var-attrs'><dl class='xr-attrs'><dt><span>units :</span></dt><dd>meter second-1</dd><dt><span>long_name :</span></dt><dd>vertical momentum component</dd><dt><span>time :</span></dt><dd>ocean_time</dd><dt><span>field :</span></dt><dd>w-velocity, scalar, series</dd></dl></div><div class='xr-var-data'><pre>array([[ 1.726807e-04,  1.726807e-04, -1.458236e-04, ...,           nan,\n",
       "                  nan,           nan],\n",
       "       [ 1.726807e-04,  1.726807e-04, -1.458236e-04, ...,           nan,\n",
       "                  nan,           nan],\n",
       "       [-3.729812e-05, -3.729812e-05,  5.139978e-05, ...,           nan,\n",
       "                  nan,           nan],\n",
       "       ...,\n",
       "       [ 1.370292e-05,  1.370292e-05,  2.767204e-06, ...,           nan,\n",
       "                  nan,           nan],\n",
       "       [-4.490403e-05, -4.490403e-05, -3.067760e-05, ...,           nan,\n",
       "                  nan,           nan],\n",
       "       [-4.490403e-05, -4.490403e-05, -3.067760e-05, ...,           nan,\n",
       "                  nan,           nan]], dtype=float32)</pre></div></li><li class='xr-var-item'><div class='xr-var-name'><span>time_offset</span></div><div class='xr-var-dims'>()</div><div class='xr-var-dtype'>datetime64[ns]</div><div class='xr-var-preview xr-preview'>2011-01-02</div><input id='attrs-7fad84eb-56c9-4d6a-9e05-fb59117a4e68' class='xr-var-attrs-in' type='checkbox' ><label for='attrs-7fad84eb-56c9-4d6a-9e05-fb59117a4e68' title='Show/Hide attributes'><svg class='icon xr-icon-file-text2'><use xlink:href='#icon-file-text2'></use></svg></label><input id='data-b7e99dd8-1643-4296-aea6-c721fc8ad7e1' class='xr-var-data-in' type='checkbox'><label for='data-b7e99dd8-1643-4296-aea6-c721fc8ad7e1' title='Show/Hide data repr'><svg class='icon xr-icon-database'><use xlink:href='#icon-database'></use></svg></label><div class='xr-var-attrs'><dl class='xr-attrs'><dt><span>long_name :</span></dt><dd>offset hour from start of run for coordinate = time</dd><dt><span>standard_name :</span></dt><dd>forecast_period</dd></dl></div><div class='xr-var-data'><pre>array(&#x27;2011-01-02T00:00:00.000000000&#x27;, dtype=&#x27;datetime64[ns]&#x27;)</pre></div></li></ul></div></li><li class='xr-section-item'><input id='section-13726819-45c7-41f0-9ddb-acd50a316bd0' class='xr-section-summary-in' type='checkbox'  ><label for='section-13726819-45c7-41f0-9ddb-acd50a316bd0' class='xr-section-summary' >Attributes: <span>(45)</span></label><div class='xr-section-inline-details'></div><div class='xr-section-details'><dl class='xr-attrs'><dt><span>file :</span></dt><dd>output/da_fwd_002.nc</dd><dt><span>format :</span></dt><dd>netCDF-3 64bit offset file</dd><dt><span>Conventions :</span></dt><dd>CF-1.4, _Coordinates</dd><dt><span>type :</span></dt><dd>ROMS/TOMS history file</dd><dt><span>title :</span></dt><dd>UCSC California Current System, wc12.0_coamps_hycom_kpp_v737jpm_ra_tave24_01/phys_only</dd><dt><span>state_vector :</span></dt><dd>zeta, ubar, vbar, u, v, temp, salt</dd><dt><span>rst_file :</span></dt><dd>output/da_rst.nc</dd><dt><span>his_file :</span></dt><dd>output/da_fwd_002.nc</dd><dt><span>grd_file :</span></dt><dd>/proj/ocemod_cencoos_1/ccsrt_v0.2_sys/grids/wc12_grd.nc.0</dd><dt><span>ini_file :</span></dt><dd>ncfiles/wc12.0_ini_20200306.nc</dd><dt><span>itl_file :</span></dt><dd>ncfiles/da_itl.nc</dd><dt><span>nrm_file :</span></dt><dd>ncfiles/wc12_nrm_i_v7.nc.HAJOON.OLDC_start_on_7735.00.nc</dd><dt><span>obs_file :</span></dt><dd>ncfiles/wc12.0_ssh_cmems_hfradar_ucsd_sst_ostia_ts_ucsd_glider_ts_ioos_glider_ts_usgodae_argo_float_merged_resuper_obs_20200306_20200309.nc</dd><dt><span>frc_file_01 :</span></dt><dd>/proj/ocemod_cencoos_2/coamps/joined/wc12.0/joined/coamps_wc12.0_wind_20200305_20200310_tave24.nc</dd><dt><span>frc_file_02 :</span></dt><dd>/proj/ocemod_cencoos_2/coamps/joined/wc12.0/joined/coamps_wc12.0_swrad_20200305_20200310_tave24.nc</dd><dt><span>frc_file_03 :</span></dt><dd>/proj/ocemod_cencoos_2/coamps/joined/wc12.0/joined/coamps_wc12.0_lwrad_down_20200305_20200310_tave24.nc</dd><dt><span>frc_file_04 :</span></dt><dd>/proj/ocemod_cencoos_2/coamps/joined/wc12.0/joined/coamps_wc12.0_Qair_20200305_20200310_tave24.nc</dd><dt><span>frc_file_05 :</span></dt><dd>/proj/ocemod_cencoos_2/coamps/joined/wc12.0/joined/coamps_wc12.0_Tair_20200305_20200310_tave24.nc</dd><dt><span>frc_file_06 :</span></dt><dd>/proj/ocemod_cencoos_2/coamps/joined/wc12.0/joined/coamps_wc12.0_rain_20200305_20200310_tave24.nc</dd><dt><span>frc_file_07 :</span></dt><dd>/proj/ocemod_cencoos_2/coamps/joined/wc12.0/joined/coamps_wc12.0_Pair_20200305_20200310_tave24.nc</dd><dt><span>bry_file :</span></dt><dd>/proj/ocemod_cencoos_1/ccsrt_v0.2_runs/wc12.0/wc12.0_coamps_hycom_kpp_v737jpm_ra_tave24_01/phys_only/20200306_20200309_da/ncfiles/hycom_wc12.0_20200303_20200310_bry.nc</dd><dt><span>fwd_file :</span></dt><dd>output/da_fwd_001.nc</dd><dt><span>script_file :</span></dt><dd></dd><dt><span>apar_file :</span></dt><dd>is4dvar_phys_only_737jpm_pauls_setup_as_of_20150511.in</dd><dt><span>NLM_LBC :</span></dt><dd>\n",
       "EDGE:  WEST   SOUTH  EAST   NORTH  \n",
       "zeta:  Cha    Cha    Clo    Cha    \n",
       "ubar:  Fla    Fla    Clo    Fla    \n",
       "vbar:  Fla    Fla    Clo    Fla    \n",
       "u:     Cla    Cla    Clo    Cla    \n",
       "v:     Cla    Cla    Clo    Cla    \n",
       "temp:  Cla    Cla    Clo    Cla    \n",
       "salt:  Cla    Cla    Clo    Cla</dd><dt><span>ADM_LBC :</span></dt><dd>\n",
       "EDGE:  WEST   SOUTH  EAST   NORTH  \n",
       "zeta:  Cla    Cla    Clo    Cla    \n",
       "ubar:  Cla    Cla    Clo    Cla    \n",
       "vbar:  Cla    Cla    Clo    Cla    \n",
       "u:     Cla    Cla    Clo    Cla    \n",
       "v:     Cla    Cla    Clo    Cla    \n",
       "temp:  Cla    Cla    Clo    Cla    \n",
       "salt:  Cla    Cla    Clo    Cla</dd><dt><span>svn_url :</span></dt><dd>https://www.myroms.org/svn/src/trunk</dd><dt><span>svn_rev :</span></dt><dd>exported</dd><dt><span>code_dir :</span></dt><dd>/auto/proj/pmattern/roms/code/roms_737_all</dd><dt><span>header_dir :</span></dt><dd>/proj/ocemod_cencoos_1/ccsrt_v0.2_sys/roms/compile_roms_737_all_as_pauls_setup</dd><dt><span>header_file :</span></dt><dd>wc12_ccsra.h</dd><dt><span>os :</span></dt><dd>Linux</dd><dt><span>cpu :</span></dt><dd>x86_64</dd><dt><span>compiler_system :</span></dt><dd>pgi</dd><dt><span>compiler_command :</span></dt><dd>/soft/openmpi_1.10.2/CentOS_6_pgi/bin/mpif90</dd><dt><span>compiler_flags :</span></dt><dd> -O3 -Mfree</dd><dt><span>tiling :</span></dt><dd>004x003</dd><dt><span>history :</span></dt><dd>Wed Mar 11 16:26:21 2020: ncks -v ocean_time,angle,h,zeta,ubar,vbar,mask_rho,mask_u,mask_v /proj/ocemod_cencoos_1/ccsrt_v0.2_runs/wc12.0/wc12.0_coamps_hycom_kpp_v737jpm_ra_tave24_01/phys_only/bestDaily/da/2020/20200309/20200309_da_fwd_002.nc /proj/ocemod_cencoos_1/ccsrt_v0.2_runs/wc12.0/wc12.0_coamps_hycom_kpp_v737jpm_ra_tave24_01/phys_only/bestDaily/da/2020/20200309/20200309_da_fwd_002_zlevs.nc.tmp\n",
       "Wed Mar 11 16:10:21 2020: ncks -O -d ocean_time,3 /proj/ocemod_cencoos_1/ccsrt_v0.2_runs/wc12.0/wc12.0_coamps_hycom_kpp_v737jpm_ra_tave24_01/phys_only/20200306_20200309_da/output/da_fwd_002.nc 20200309_da_fwd_002.nc\n",
       "ROMS/TOMS, Version 3.7, Wednesday - March 11, 2020 -  2:28:59 PM ;\n",
       "FMRC Best Dataset</dd><dt><span>ana_file :</span></dt><dd>ROMS/Functionals/ana_btflux.h</dd><dt><span>CPP_options :</span></dt><dd>WC12_CCSRA, ADJOINT, ANA_BSFLUX, ANA_BTFLUX, ASSUMED_SHAPE, BACKGROUND, BULK_FLUXES, CURVGRID, DJ_GRADPS, DOUBLE_PRECISION, EMINUSP, FORWARD_MIXING, FORWARD_READ, FORWARD_WRITE, !FULL_GRID, IMPLICIT_VCONV, IS4DVAR, L4DVAR, !OBS_LOGTRANSFORMED, LMD_BKPP, LMD_CONVEC, LMD_MIXING, LMD_NONLOCAL, LMD_RIMIX, LMD_SHAPIRO, LMD_SKPP, LONGWAVE_OUT, MASKING, MIX_GEO_TS, MIX_S_UV, MPI, NL_BULK_FLUXES, NONLINEAR, NONLIN_EOS, OBSERVATIONS, OBSTHRESH, OUT_DOUBLE, POWER_LAW, PROFILE, !RST_SINGLE, SALINITY, SOLAR_SOURCE, SOLVE3D, SPLINES, TANGENT, TS_U3HADVECTION, TS_U3HADVECTION_TL, TS_C4VADVECTION, TS_C4VADVECTION_TL, TS_DIF2, UV_ADV, UV_COR, UV_U3HADVECTION, UV_C4VADVECTION, UV_LDRAG, UV_VIS2, VCONVOLUTION</dd><dt><span>NCO :</span></dt><dd>&quot;4.5.2&quot;</dd><dt><span>cdm_data_type :</span></dt><dd>GRID</dd><dt><span>CF%3afeature_type :</span></dt><dd>GRID</dd><dt><span>location :</span></dt><dd>Proto fmrc:CCSRA 2016a Phys ROMS z-level (depth) Aggregation</dd><dt><span>DODS_EXTRA.Unlimited_Dimension :</span></dt><dd>ocean_time</dd></dl></div></li></ul></div></div>"
      ],
      "text/plain": [
       "<xarray.Dataset>\n",
       "Dimensions:      (eta_rho: 181, eta_u: 181, eta_v: 180, ocean_time: 1, xi_rho: 186, xi_u: 185, xi_v: 186)\n",
       "Coordinates:\n",
       "    lat_rho      (eta_rho, xi_rho) float64 30.0 30.0 30.0 ... 48.0 48.0 48.0\n",
       "    lat_u        (eta_u, xi_u) float64 30.0 30.0 30.0 30.0 ... 48.0 48.0 48.0\n",
       "    lat_v        (eta_v, xi_v) float64 30.05 30.05 30.05 ... 47.95 47.95 47.95\n",
       "    lon_rho      (eta_rho, xi_rho) float64 -134.0 -133.9 ... -115.6 -115.5\n",
       "    lon_u        (eta_u, xi_u) float64 -133.9 -133.9 -133.8 ... -115.7 -115.5\n",
       "    lon_v        (eta_v, xi_v) float64 -134.0 -133.9 -133.8 ... -115.6 -115.5\n",
       "  * ocean_time   (ocean_time) datetime64[ns] 2020-03-09\n",
       "    z            float64 -2.0\n",
       "    time         datetime64[ns] 2017-01-01\n",
       "    time_run     datetime64[ns] 2017-01-01\n",
       "Dimensions without coordinates: eta_rho, eta_u, eta_v, xi_rho, xi_u, xi_v\n",
       "Data variables:\n",
       "    angle        (eta_rho, xi_rho) float64 0.0004363 0.0004363 ... 0.0006485\n",
       "    h            (eta_rho, xi_rho) float64 4.497e+03 4.497e+03 ... 10.0 10.0\n",
       "    mask_rho     (eta_rho, xi_rho) float64 1.0 1.0 1.0 1.0 ... 0.0 0.0 0.0 0.0\n",
       "    mask_u       (eta_u, xi_u) float64 1.0 1.0 1.0 1.0 1.0 ... 0.0 0.0 0.0 0.0\n",
       "    mask_v       (eta_v, xi_v) float64 1.0 1.0 1.0 1.0 1.0 ... 0.0 0.0 0.0 0.0\n",
       "    ubar         (eta_u, xi_u) float64 ...\n",
       "    vbar         (eta_v, xi_v) float64 ...\n",
       "    zeta         (eta_rho, xi_rho) float64 ...\n",
       "    temp         (eta_rho, xi_rho) float32 ...\n",
       "    salt         (eta_rho, xi_rho) float32 ...\n",
       "    rho          (eta_rho, xi_rho) float32 ...\n",
       "    u            (eta_u, xi_u) float32 ...\n",
       "    v            (eta_v, xi_v) float32 ...\n",
       "    w            (eta_rho, xi_rho) float32 ...\n",
       "    time_offset  datetime64[ns] 2011-01-02\n",
       "Attributes:\n",
       "    file:                            output/da_fwd_002.nc\n",
       "    format:                          netCDF-3 64bit offset file\n",
       "    Conventions:                     CF-1.4, _Coordinates\n",
       "    type:                            ROMS/TOMS history file\n",
       "    title:                           UCSC California Current System, wc12.0_c...\n",
       "    state_vector:                    zeta, ubar, vbar, u, v, temp, salt\n",
       "    rst_file:                        output/da_rst.nc\n",
       "    his_file:                        output/da_fwd_002.nc\n",
       "    grd_file:                        /proj/ocemod_cencoos_1/ccsrt_v0.2_sys/gr...\n",
       "    ini_file:                        ncfiles/wc12.0_ini_20200306.nc\n",
       "    itl_file:                        ncfiles/da_itl.nc\n",
       "    nrm_file:                        ncfiles/wc12_nrm_i_v7.nc.HAJOON.OLDC_sta...\n",
       "    obs_file:                        ncfiles/wc12.0_ssh_cmems_hfradar_ucsd_ss...\n",
       "    frc_file_01:                     /proj/ocemod_cencoos_2/coamps/joined/wc1...\n",
       "    frc_file_02:                     /proj/ocemod_cencoos_2/coamps/joined/wc1...\n",
       "    frc_file_03:                     /proj/ocemod_cencoos_2/coamps/joined/wc1...\n",
       "    frc_file_04:                     /proj/ocemod_cencoos_2/coamps/joined/wc1...\n",
       "    frc_file_05:                     /proj/ocemod_cencoos_2/coamps/joined/wc1...\n",
       "    frc_file_06:                     /proj/ocemod_cencoos_2/coamps/joined/wc1...\n",
       "    frc_file_07:                     /proj/ocemod_cencoos_2/coamps/joined/wc1...\n",
       "    bry_file:                        /proj/ocemod_cencoos_1/ccsrt_v0.2_runs/w...\n",
       "    fwd_file:                        output/da_fwd_001.nc\n",
       "    script_file:                     \n",
       "    apar_file:                       is4dvar_phys_only_737jpm_pauls_setup_as_...\n",
       "    NLM_LBC:                         \\nEDGE:  WEST   SOUTH  EAST   NORTH  \\nz...\n",
       "    ADM_LBC:                         \\nEDGE:  WEST   SOUTH  EAST   NORTH  \\nz...\n",
       "    svn_url:                         https://www.myroms.org/svn/src/trunk\n",
       "    svn_rev:                         exported\n",
       "    code_dir:                        /auto/proj/pmattern/roms/code/roms_737_all\n",
       "    header_dir:                      /proj/ocemod_cencoos_1/ccsrt_v0.2_sys/ro...\n",
       "    header_file:                     wc12_ccsra.h\n",
       "    os:                              Linux\n",
       "    cpu:                             x86_64\n",
       "    compiler_system:                 pgi\n",
       "    compiler_command:                /soft/openmpi_1.10.2/CentOS_6_pgi/bin/mp...\n",
       "    compiler_flags:                   -O3 -Mfree\n",
       "    tiling:                          004x003\n",
       "    history:                         Wed Mar 11 16:26:21 2020: ncks -v ocean_...\n",
       "    ana_file:                        ROMS/Functionals/ana_btflux.h\n",
       "    CPP_options:                     WC12_CCSRA, ADJOINT, ANA_BSFLUX, ANA_BTF...\n",
       "    NCO:                             \"4.5.2\"\n",
       "    cdm_data_type:                   GRID\n",
       "    CF%3afeature_type:               GRID\n",
       "    location:                        Proto fmrc:CCSRA 2016a Phys ROMS z-level...\n",
       "    DODS_EXTRA.Unlimited_Dimension:  ocean_time"
      ]
     },
     "execution_count": 21,
     "metadata": {},
     "output_type": "execute_result"
    }
   ],
   "source": [
    "selection = ds.sel(time=\"2017-01-01\", z=-2.0)\n",
    "selection"
   ]
  },
  {
   "cell_type": "code",
   "execution_count": 22,
   "metadata": {
    "slideshow": {
     "slide_type": "slide"
    }
   },
   "outputs": [
    {
     "data": {
      "image/png": "[encoded data removed]",
      "text/plain": [
       "<Figure size 432x432 with 2 Axes>"
      ]
     },
     "metadata": {
      "needs_background": "light"
     },
     "output_type": "display_data"
    }
   ],
   "source": [
    "selection[\"temp\"].plot(figsize=(6, 6));"
   ]
  },
  {
   "cell_type": "markdown",
   "metadata": {
    "slideshow": {
     "slide_type": "slide"
    }
   },
   "source": [
    "# 3) SOS\n",
    "## Exploring the CO-OPS SOS API\n",
    "\n",
    "### Learning objectives:\n",
    "\n",
    "- Quick explanation on the SOS API."
   ]
  },
  {
   "cell_type": "markdown",
   "metadata": {
    "slideshow": {
     "slide_type": "slide"
    }
   },
   "source": [
    "```python\n",
    "url = (\n",
    "    \"https://opendap.co-ops.nos.noaa.gov/ioos-dif-sos/SOS?\"\n",
    "    \"service=SOS\"\n",
    "    \"&request=GetObservation\"\n",
    "    \"&version=1.0.0\"\n",
    "    \"&observedProperty=water_surface_height_above_reference\"\n",
    "    \"&offering=urn:ioos:station:NOAA.NOS.CO-OPS:8454000\"\n",
    "    \"&responseFormat=text/csv\"\n",
    "    \"&eventTime=2018-07-04T00:00:00Z/2018-07-05T00:00:00Z\"\n",
    "    \"&result=VerticalDatum==urn:ogc:def:datum:epsg::5103\"\n",
    "    \"&dataType=PreliminarySixMinute\"\n",
    ")\n",
    "```"
   ]
  },
  {
   "cell_type": "markdown",
   "metadata": {
    "slideshow": {
     "slide_type": "slide"
    }
   },
   "source": [
    "```python\n",
    "url = (\n",
    "    f\"https://opendap.co-ops.nos.noaa.gov/ioos-dif-sos/SOS?\"\n",
    "    f\"service=SOS&request={request}\"\n",
    "    f\"&version={version}\"\n",
    "    f\"&observedProperty={variable}\"\n",
    "    f\"&offering=urn:ioos:station:NOAA.NOS.CO-OPS:8454000\"\n",
    "    f\"&responseFormat={response}\"\n",
    "    f\"&eventTime={yesterday:%Y-%m-%dT%H:%M:%SZ}/\"\n",
    "    f\"{today:%Y-%m-%dT%H:%M:%SZ}\"\n",
    "    f\"&result=VerticalDatum=={vdatum}\"\n",
    "    f\"&dataType={data_type}\"\n",
    ")\n",
    "```"
   ]
  },
  {
   "cell_type": "code",
   "execution_count": 23,
   "metadata": {
    "slideshow": {
     "slide_type": "slide"
    }
   },
   "outputs": [],
   "source": [
    "from datetime import datetime, timedelta\n",
    "\n",
    "variable = \"water_surface_height_above_reference_datum\"\n",
    "today = datetime.today()\n",
    "yesterday = today - timedelta(days=1)\n",
    "\n",
    "buoy = \"8771450\""
   ]
  },
  {
   "cell_type": "code",
   "execution_count": 24,
   "metadata": {
    "slideshow": {
     "slide_type": "slide"
    }
   },
   "outputs": [
    {
     "name": "stdout",
     "output_type": "stream",
     "text": [
      "https://opendap.co-ops.nos.noaa.gov/ioos-dif-sos/SOS?service=SOS&request=GetObservation&version=1.0.0&observedProperty=water_surface_height_above_reference_datum&offering=urn:ioos:station:NOAA.NOS.CO-OPS:8771450&responseFormat=text/csv&eventTime=2020-07-31T16:38:25Z/2020-08-01T16:38:25Z&result=VerticalDatum==urn:ogc:def:datum:epsg::5103&dataType=PreliminarySixMinute\n"
     ]
    }
   ],
   "source": [
    "url = (\n",
    "    \"https://opendap.co-ops.nos.noaa.gov/ioos-dif-sos/SOS?\"\n",
    "    \"service=SOS\"\n",
    "    \"&request=GetObservation\"\n",
    "    \"&version=1.0.0\"\n",
    "    f\"&observedProperty={variable}\"\n",
    "    f\"&offering=urn:ioos:station:NOAA.NOS.CO-OPS:{buoy}\"\n",
    "    \"&responseFormat=text/csv\"\n",
    "    f\"&eventTime={yesterday:%Y-%m-%dT%H:%M:%SZ}/\"\n",
    "    f\"{today:%Y-%m-%dT%H:%M:%SZ}\"\n",
    "    \"&result=VerticalDatum==urn:ogc:def:datum:epsg::5103\"\n",
    "    \"&dataType=PreliminarySixMinute\"\n",
    ")\n",
    "\n",
    "print(url)"
   ]
  },
  {
   "cell_type": "code",
   "execution_count": 25,
   "metadata": {
    "slideshow": {
     "slide_type": "slide"
    }
   },
   "outputs": [
    {
     "data": {
      "text/html": [
       "<div>\n",
       "<style scoped>\n",
       "    .dataframe tbody tr th:only-of-type {\n",
       "        vertical-align: middle;\n",
       "    }\n",
       "\n",
       "    .dataframe tbody tr th {\n",
       "        vertical-align: top;\n",
       "    }\n",
       "\n",
       "    .dataframe thead th {\n",
       "        text-align: right;\n",
       "    }\n",
       "</style>\n",
       "<table border=\"1\" class=\"dataframe\">\n",
       "  <thead>\n",
       "    <tr style=\"text-align: right;\">\n",
       "      <th></th>\n",
       "      <th>station_id</th>\n",
       "      <th>sensor_id</th>\n",
       "      <th>latitude (degree)</th>\n",
       "      <th>longitude (degree)</th>\n",
       "      <th>water_surface_height_above_reference_datum (m)</th>\n",
       "      <th>datum_id</th>\n",
       "      <th>vertical_position (m)</th>\n",
       "      <th>sigma</th>\n",
       "      <th>quality_flags</th>\n",
       "    </tr>\n",
       "    <tr>\n",
       "      <th>date_time</th>\n",
       "      <th></th>\n",
       "      <th></th>\n",
       "      <th></th>\n",
       "      <th></th>\n",
       "      <th></th>\n",
       "      <th></th>\n",
       "      <th></th>\n",
       "      <th></th>\n",
       "      <th></th>\n",
       "    </tr>\n",
       "  </thead>\n",
       "  <tbody>\n",
       "    <tr>\n",
       "      <th>2020-07-31 16:42:00+00:00</th>\n",
       "      <td>urn:ioos:station:NOAA.NOS.CO-OPS:8771450</td>\n",
       "      <td>urn:ioos:sensor:NOAA.NOS.CO-OPS:8771450:A1</td>\n",
       "      <td>29.31</td>\n",
       "      <td>-94.7933</td>\n",
       "      <td>0.474</td>\n",
       "      <td>urn:ogc:def:datum:epsg::5103</td>\n",
       "      <td>1.43</td>\n",
       "      <td>0.006</td>\n",
       "      <td>1;0;0;0</td>\n",
       "    </tr>\n",
       "    <tr>\n",
       "      <th>2020-07-31 16:48:00+00:00</th>\n",
       "      <td>urn:ioos:station:NOAA.NOS.CO-OPS:8771450</td>\n",
       "      <td>urn:ioos:sensor:NOAA.NOS.CO-OPS:8771450:A1</td>\n",
       "      <td>29.31</td>\n",
       "      <td>-94.7933</td>\n",
       "      <td>0.484</td>\n",
       "      <td>urn:ogc:def:datum:epsg::5103</td>\n",
       "      <td>1.43</td>\n",
       "      <td>0.006</td>\n",
       "      <td>1;0;0;0</td>\n",
       "    </tr>\n",
       "    <tr>\n",
       "      <th>2020-07-31 16:54:00+00:00</th>\n",
       "      <td>urn:ioos:station:NOAA.NOS.CO-OPS:8771450</td>\n",
       "      <td>urn:ioos:sensor:NOAA.NOS.CO-OPS:8771450:A1</td>\n",
       "      <td>29.31</td>\n",
       "      <td>-94.7933</td>\n",
       "      <td>0.489</td>\n",
       "      <td>urn:ogc:def:datum:epsg::5103</td>\n",
       "      <td>1.43</td>\n",
       "      <td>0.004</td>\n",
       "      <td>1;0;0;0</td>\n",
       "    </tr>\n",
       "    <tr>\n",
       "      <th>2020-07-31 17:00:00+00:00</th>\n",
       "      <td>urn:ioos:station:NOAA.NOS.CO-OPS:8771450</td>\n",
       "      <td>urn:ioos:sensor:NOAA.NOS.CO-OPS:8771450:A1</td>\n",
       "      <td>29.31</td>\n",
       "      <td>-94.7933</td>\n",
       "      <td>0.476</td>\n",
       "      <td>urn:ogc:def:datum:epsg::5103</td>\n",
       "      <td>1.43</td>\n",
       "      <td>0.005</td>\n",
       "      <td>1;0;0;0</td>\n",
       "    </tr>\n",
       "    <tr>\n",
       "      <th>2020-07-31 17:06:00+00:00</th>\n",
       "      <td>urn:ioos:station:NOAA.NOS.CO-OPS:8771450</td>\n",
       "      <td>urn:ioos:sensor:NOAA.NOS.CO-OPS:8771450:A1</td>\n",
       "      <td>29.31</td>\n",
       "      <td>-94.7933</td>\n",
       "      <td>0.472</td>\n",
       "      <td>urn:ogc:def:datum:epsg::5103</td>\n",
       "      <td>1.43</td>\n",
       "      <td>0.004</td>\n",
       "      <td>1;0;0;0</td>\n",
       "    </tr>\n",
       "  </tbody>\n",
       "</table>\n",
       "</div>"
      ],
      "text/plain": [
       "                                                         station_id  \\\n",
       "date_time                                                             \n",
       "2020-07-31 16:42:00+00:00  urn:ioos:station:NOAA.NOS.CO-OPS:8771450   \n",
       "2020-07-31 16:48:00+00:00  urn:ioos:station:NOAA.NOS.CO-OPS:8771450   \n",
       "2020-07-31 16:54:00+00:00  urn:ioos:station:NOAA.NOS.CO-OPS:8771450   \n",
       "2020-07-31 17:00:00+00:00  urn:ioos:station:NOAA.NOS.CO-OPS:8771450   \n",
       "2020-07-31 17:06:00+00:00  urn:ioos:station:NOAA.NOS.CO-OPS:8771450   \n",
       "\n",
       "                                                            sensor_id  \\\n",
       "date_time                                                               \n",
       "2020-07-31 16:42:00+00:00  urn:ioos:sensor:NOAA.NOS.CO-OPS:8771450:A1   \n",
       "2020-07-31 16:48:00+00:00  urn:ioos:sensor:NOAA.NOS.CO-OPS:8771450:A1   \n",
       "2020-07-31 16:54:00+00:00  urn:ioos:sensor:NOAA.NOS.CO-OPS:8771450:A1   \n",
       "2020-07-31 17:00:00+00:00  urn:ioos:sensor:NOAA.NOS.CO-OPS:8771450:A1   \n",
       "2020-07-31 17:06:00+00:00  urn:ioos:sensor:NOAA.NOS.CO-OPS:8771450:A1   \n",
       "\n",
       "                           latitude (degree)  longitude (degree)  \\\n",
       "date_time                                                          \n",
       "2020-07-31 16:42:00+00:00              29.31            -94.7933   \n",
       "2020-07-31 16:48:00+00:00              29.31            -94.7933   \n",
       "2020-07-31 16:54:00+00:00              29.31            -94.7933   \n",
       "2020-07-31 17:00:00+00:00              29.31            -94.7933   \n",
       "2020-07-31 17:06:00+00:00              29.31            -94.7933   \n",
       "\n",
       "                           water_surface_height_above_reference_datum (m)  \\\n",
       "date_time                                                                   \n",
       "2020-07-31 16:42:00+00:00                                           0.474   \n",
       "2020-07-31 16:48:00+00:00                                           0.484   \n",
       "2020-07-31 16:54:00+00:00                                           0.489   \n",
       "2020-07-31 17:00:00+00:00                                           0.476   \n",
       "2020-07-31 17:06:00+00:00                                           0.472   \n",
       "\n",
       "                                               datum_id  \\\n",
       "date_time                                                 \n",
       "2020-07-31 16:42:00+00:00  urn:ogc:def:datum:epsg::5103   \n",
       "2020-07-31 16:48:00+00:00  urn:ogc:def:datum:epsg::5103   \n",
       "2020-07-31 16:54:00+00:00  urn:ogc:def:datum:epsg::5103   \n",
       "2020-07-31 17:00:00+00:00  urn:ogc:def:datum:epsg::5103   \n",
       "2020-07-31 17:06:00+00:00  urn:ogc:def:datum:epsg::5103   \n",
       "\n",
       "                           vertical_position (m)  sigma quality_flags  \n",
       "date_time                                                              \n",
       "2020-07-31 16:42:00+00:00                   1.43  0.006       1;0;0;0  \n",
       "2020-07-31 16:48:00+00:00                   1.43  0.006       1;0;0;0  \n",
       "2020-07-31 16:54:00+00:00                   1.43  0.004       1;0;0;0  \n",
       "2020-07-31 17:00:00+00:00                   1.43  0.005       1;0;0;0  \n",
       "2020-07-31 17:06:00+00:00                   1.43  0.004       1;0;0;0  "
      ]
     },
     "execution_count": 25,
     "metadata": {},
     "output_type": "execute_result"
    }
   ],
   "source": [
    "import pandas as pd\n",
    "\n",
    "df = pd.read_csv(url, index_col=\"date_time\", parse_dates=True)\n",
    "df.head()"
   ]
  },
  {
   "cell_type": "code",
   "execution_count": 26,
   "metadata": {
    "slideshow": {
     "slide_type": "slide"
    }
   },
   "outputs": [
    {
     "data": {
      "image/png": "[encoded data removed]",
      "text/plain": [
       "<Figure size 432x288 with 1 Axes>"
      ]
     },
     "metadata": {
      "needs_background": "light"
     },
     "output_type": "display_data"
    }
   ],
   "source": [
    "col = df.columns[df.columns.str.startswith(variable)]\n",
    "ax = df[col].plot.line(legend=False)\n",
    "ax.grid(True)\n",
    "ax.set_title(col.values[0]);"
   ]
  },
  {
   "cell_type": "code",
   "execution_count": 27,
   "metadata": {
    "scrolled": true,
    "slideshow": {
     "slide_type": "slide"
    }
   },
   "outputs": [],
   "source": [
    "from ipyleaflet import Map, Marker\n",
    "\n",
    "location = df[\"latitude (degree)\"].unique()[0], df[\"longitude (degree)\"].unique()[0]\n",
    "m = Map(center=location, zoom_start=12)\n",
    "marker = Marker(location=location)\n",
    "\n",
    "m.add_layer(marker)"
   ]
  },
  {
   "cell_type": "code",
   "execution_count": 28,
   "metadata": {
    "slideshow": {
     "slide_type": "slide"
    }
   },
   "outputs": [
    {
     "data": {
      "application/vnd.jupyter.widget-view+json": {
       "model_id": "a72d88c431dd478eb0fccd1bfcb87e96",
       "version_major": 2,
       "version_minor": 0
      },
      "text/plain": [
       "Map(center=[29.31, -94.7933], controls=(ZoomControl(options=['position', 'zoom_in_text', 'zoom_in_title', 'zoo…"
      ]
     },
     "metadata": {},
     "output_type": "display_data"
    }
   ],
   "source": [
    "m"
   ]
  },
  {
   "cell_type": "markdown",
   "metadata": {
    "slideshow": {
     "slide_type": "slide"
    }
   },
   "source": [
    "# 4) WMS\n",
    "## Creating a \"Hurricane viz widget\"\n",
    "### Learning objectives:\n",
    "\n",
    "- Add a WMS layer to an interactive map."
   ]
  },
  {
   "cell_type": "code",
   "execution_count": 29,
   "metadata": {
    "slideshow": {
     "slide_type": "slide"
    }
   },
   "outputs": [],
   "source": [
    "from ipyleaflet import Map, WMSLayer, basemaps\n",
    "from ipywidgets import SelectionSlider\n",
    "from traitlets import Unicode\n",
    "\n",
    "time_options = [\n",
    "    \"13:00\",\n",
    "    \"13:30\",\n",
    "    \"14:00\",\n",
    "    \"14:30\",\n",
    "    \"15:00\",\n",
    "    \"15:30\",\n",
    "    \"16:00\",\n",
    "    \"16:30\",\n",
    "    \"17:00\",\n",
    "    \"17:30\",\n",
    "    \"18:00\",\n",
    "    \"18:30\",\n",
    "]\n",
    "\n",
    "slider = SelectionSlider(description=\"Time:\", options=time_options)\n",
    "\n",
    "\n",
    "def update_wms(change):\n",
    "    time_wms.time = \"2020-07-25T{}\".format(slider.value)\n",
    "\n",
    "\n",
    "slider.observe(update_wms, \"value\")\n",
    "\n",
    "\n",
    "class TimeWMSLayer(WMSLayer):\n",
    "\n",
    "    time = Unicode(\"\").tag(sync=True, o=True)\n",
    "\n",
    "\n",
    "time_wms = TimeWMSLayer(\n",
    "    url=\"https://mesonet.agron.iastate.edu/cgi-bin/wms/nexrad/n0r-t.cgi?\",\n",
    "    layers=\"nexrad-n0r-wmst\",\n",
    "    time=\"2020-07-25T13:00:00Z\",\n",
    "    format=\"image/png\",\n",
    "    transparent=True,\n",
    "    attribution=\"Weather data © 2012 IEM Nexrad\",\n",
    ")\n",
    "\n",
    "m = Map(basemap=basemaps.CartoDB.Positron, center=(30, -88), zoom=5)\n",
    "\n",
    "m.add_layer(time_wms)"
   ]
  },
  {
   "cell_type": "code",
   "execution_count": 30,
   "metadata": {
    "slideshow": {
     "slide_type": "slide"
    }
   },
   "outputs": [
    {
     "data": {
      "application/vnd.jupyter.widget-view+json": {
       "model_id": "8350050704f94dd8a2561f13a8bbcf72",
       "version_major": 2,
       "version_minor": 0
      },
      "text/plain": [
       "Map(center=[30, -88], controls=(ZoomControl(options=['position', 'zoom_in_text', 'zoom_in_title', 'zoom_out_te…"
      ]
     },
     "metadata": {},
     "output_type": "display_data"
    }
   ],
   "source": [
    "m"
   ]
  },
  {
   "cell_type": "code",
   "execution_count": 31,
   "metadata": {
    "slideshow": {
     "slide_type": "fragment"
    }
   },
   "outputs": [
    {
     "data": {
      "application/vnd.jupyter.widget-view+json": {
       "model_id": "f0b74c3625bd4d61a883a555d73fecc5",
       "version_major": 2,
       "version_minor": 0
      },
      "text/plain": [
       "SelectionSlider(description='Time:', options=('13:00', '13:30', '14:00', '14:30', '15:00', '15:30', '16:00', '…"
      ]
     },
     "metadata": {},
     "output_type": "display_data"
    }
   ],
   "source": [
    "slider"
   ]
  },
  {
   "cell_type": "markdown",
   "metadata": {
    "slideshow": {
     "slide_type": "slide"
    }
   },
   "source": [
    "# 5) Catalog Service Web (CSW)\n",
    "# Is there a canonical source for data?"
   ]
  },
  {
   "cell_type": "markdown",
   "metadata": {
    "slideshow": {
     "slide_type": "fragment"
    }
   },
   "source": [
    "![](https://i.kym-cdn.com/photos/images/newsfeed/001/093/557/142.gif)"
   ]
  },
  {
   "cell_type": "markdown",
   "metadata": {
    "slideshow": {
     "slide_type": "fragment"
    }
   },
   "source": [
    "## Well, kind of... The closet thing is the IOOS CSW catalog.\n",
    "\n",
    "For more info please see [https://data.ioos.us/](https://data.ioos.us/)"
   ]
  },
  {
   "cell_type": "markdown",
   "metadata": {
    "slideshow": {
     "slide_type": "slide"
    }
   },
   "source": [
    "# Catalog Service for the Web (CSW)\n",
    "\n",
    "- A single source to find endpoints\n",
    "- Nice python interface:<br>`owslib.csw.CatalogueServiceWeb`\n",
    "- Advanced filtering:<br>`owslib.fes`"
   ]
  },
  {
   "cell_type": "markdown",
   "metadata": {
    "slideshow": {
     "slide_type": "slide"
    }
   },
   "source": [
    "![](https://raw.githubusercontent.com/ocefpaf/2018-SciPy-talk/gh-pages/images/IOOS.svg)"
   ]
  },
  {
   "cell_type": "code",
   "execution_count": 32,
   "metadata": {
    "slideshow": {
     "slide_type": "slide"
    }
   },
   "outputs": [],
   "source": [
    "from datetime import datetime\n",
    "\n",
    "min_lat, max_lat = 20, 30\n",
    "min_lon, max_lon = -82, -97\n",
    "bbox = [min_lon, min_lat, max_lon, max_lat]\n",
    "crs = \"urn:ogc:def:crs:OGC:1.3:CRS84\"\n",
    "\n",
    "# Temporal range of 1 week.\n",
    "start = datetime(2017, 4, 14, 0, 0, 0)\n",
    "stop = datetime(2017, 4, 21, 0, 0, 0)\n",
    "\n",
    "# Sea surface temperature CF names.\n",
    "cf_names = [\n",
    "    \"sea_water_temperature\",\n",
    "    \"sea_surface_temperature\",\n",
    "    \"sea_water_potential_temperature\",\n",
    "    \"equivalent_potential_temperature\",\n",
    "    \"sea_water_conservative_temperature\",\n",
    "    \"pseudo_equivalent_potential_temperature\",\n",
    "]"
   ]
  },
  {
   "cell_type": "code",
   "execution_count": 33,
   "metadata": {
    "slideshow": {
     "slide_type": "skip"
    }
   },
   "outputs": [],
   "source": [
    "def fes_date_filter(start, stop, constraint=\"overlaps\"):\n",
    "    from owslib import fes\n",
    "\n",
    "    start = start.strftime(\"%Y-%m-%d %H:00\")\n",
    "    stop = stop.strftime(\"%Y-%m-%d %H:00\")\n",
    "    if constraint == \"overlaps\":\n",
    "        propertyname = \"apiso:TempExtent_begin\"\n",
    "        begin = fes.PropertyIsLessThanOrEqualTo(propertyname=propertyname, literal=stop)\n",
    "        propertyname = \"apiso:TempExtent_end\"\n",
    "        end = fes.PropertyIsGreaterThanOrEqualTo(\n",
    "            propertyname=propertyname, literal=start\n",
    "        )\n",
    "    elif constraint == \"within\":\n",
    "        propertyname = \"apiso:TempExtent_begin\"\n",
    "        begin = fes.PropertyIsGreaterThanOrEqualTo(\n",
    "            propertyname=propertyname, literal=start\n",
    "        )\n",
    "        propertyname = \"apiso:TempExtent_end\"\n",
    "        end = fes.PropertyIsLessThanOrEqualTo(propertyname=propertyname, literal=stop)\n",
    "    else:\n",
    "        raise NameError(f\"Unrecognized constraint {constraint}\")\n",
    "    return begin, end"
   ]
  },
  {
   "cell_type": "code",
   "execution_count": 34,
   "metadata": {
    "slideshow": {
     "slide_type": "skip"
    }
   },
   "outputs": [],
   "source": [
    "from owslib import fes\n",
    "\n",
    "kw = dict(wildCard=\"*\", escapeChar=\"\\\\\", singleChar=\"?\", propertyname=\"apiso:AnyText\")\n",
    "\n",
    "or_filt = fes.Or([fes.PropertyIsLike(literal=(\"*%s*\" % val), **kw) for val in cf_names])\n",
    "\n",
    "begin, end = fes_date_filter(start, stop)\n",
    "bbox_crs = fes.BBox(bbox, crs=crs)\n",
    "\n",
    "filter_list = [\n",
    "    fes.And(\n",
    "        [\n",
    "            bbox_crs,\n",
    "            begin,\n",
    "            end,\n",
    "            or_filt,\n",
    "            fes.Not([fes.PropertyIsLike(literal=\"*cdip*\", **kw)]),\n",
    "        ]\n",
    "    )\n",
    "]"
   ]
  },
  {
   "cell_type": "code",
   "execution_count": 35,
   "metadata": {
    "slideshow": {
     "slide_type": "skip"
    }
   },
   "outputs": [],
   "source": [
    "def get_csw_records(csw, filter_list, pagesize=10, maxrecords=1000):\n",
    "    \"\"\"Iterate `maxrecords`/`pagesize` times until the requested value in\n",
    "    `maxrecords` is reached.\n",
    "    \"\"\"\n",
    "    from owslib.fes import SortBy, SortProperty\n",
    "\n",
    "    # Iterate over sorted results.\n",
    "    sortby = SortBy([SortProperty(\"dc:title\", \"ASC\")])\n",
    "    csw_records = {}\n",
    "    startposition = 0\n",
    "    nextrecord = getattr(csw, \"results\", 1)\n",
    "    while nextrecord != 0:\n",
    "        csw.getrecords2(\n",
    "            constraints=filter_list,\n",
    "            startposition=startposition,\n",
    "            maxrecords=pagesize,\n",
    "            sortby=sortby,\n",
    "        )\n",
    "        csw_records.update(csw.records)\n",
    "        if csw.results[\"nextrecord\"] == 0:\n",
    "            break\n",
    "        startposition += pagesize + 1  # Last one is included.\n",
    "        if startposition >= maxrecords:\n",
    "            break\n",
    "    csw.records.update(csw_records)"
   ]
  },
  {
   "cell_type": "code",
   "execution_count": 36,
   "metadata": {
    "slideshow": {
     "slide_type": "slide"
    }
   },
   "outputs": [
    {
     "name": "stdout",
     "output_type": "stream",
     "text": [
      "Found 176 records.\n",
      "\n"
     ]
    }
   ],
   "source": [
    "from owslib.csw import CatalogueServiceWeb\n",
    "\n",
    "endpoint = \"https://data.ioos.us/csw\"\n",
    "csw = CatalogueServiceWeb(endpoint, timeout=60)\n",
    "\n",
    "get_csw_records(csw, filter_list, pagesize=10, maxrecords=1000)\n",
    "records = \"\\n\".join(csw.records.keys())\n",
    "print(\"Found {} records.\\n\".format(len(csw.records.keys())))"
   ]
  },
  {
   "cell_type": "code",
   "execution_count": 37,
   "metadata": {
    "slideshow": {
     "slide_type": "slide"
    }
   },
   "outputs": [
    {
     "name": "stdout",
     "output_type": "stream",
     "text": [
      "NOAA.NOS.CO-OPS Sensor Observation Service (SOS) Server  This station\n",
      "provides the following variables: Direction of sea water velocity,\n",
      "Platform orientation, Platform pitch angle, Platform roll angle, Sea\n",
      "water speed, Sea water temperature\n"
     ]
    }
   ],
   "source": [
    "import textwrap\n",
    "\n",
    "key, value = list(csw.records.items())[-1]\n",
    "print(\"\\n\".join(textwrap.wrap(value.abstract)))"
   ]
  },
  {
   "cell_type": "code",
   "execution_count": 38,
   "metadata": {},
   "outputs": [
    {
     "name": "stdout",
     "output_type": "stream",
     "text": [
      "geolink: OGC:SOS\n",
      "scheme: Old Port Tampa\n",
      "URL: https://opendap.co-ops.nos.noaa.gov/ioos-dif-sos/SOS?request=DescribeSensor&outputFormat=text/xml; subtype=\"sensorML/1.0.1/profiles/ioos_sos/1.0\"&version=1.0.0&procedure=urn:ioos:station:NOAA.NOS.CO-OPS:t02010&service=SOS\n",
      "\n",
      "geolink: OGC:SOS\n",
      "scheme: WWW:LINK - text/csv\n",
      "URL: http://opendap.co-ops.nos.noaa.gov/ioos-dif-sos/SOS?offering=urn:ioos:station:NOAA.NOS.CO-OPS:t02010&version=1.0.0&request=GetObservation&observedProperty=http://mmisw.org/ont/cf/parameter/direction_of_sea_water_velocity&responseFormat=text/csv&eventTime=2020-04-23T16:10:17/2020-04-23T18:10:17&service=SOS\n",
      "\n",
      "geolink: OGC:SOS\n",
      "scheme: WWW:LINK - text/csv\n",
      "URL: http://opendap.co-ops.nos.noaa.gov/ioos-dif-sos/SOS?offering=urn:ioos:station:NOAA.NOS.CO-OPS:t02010&version=1.0.0&request=GetObservation&observedProperty=http://mmisw.org/ont/cf/parameter/platform_orientation&responseFormat=text/csv&eventTime=2020-04-23T16:10:17/2020-04-23T18:10:17&service=SOS\n",
      "\n",
      "geolink: OGC:SOS\n",
      "scheme: WWW:LINK - text/csv\n",
      "URL: http://opendap.co-ops.nos.noaa.gov/ioos-dif-sos/SOS?offering=urn:ioos:station:NOAA.NOS.CO-OPS:t02010&version=1.0.0&request=GetObservation&observedProperty=http://mmisw.org/ont/cf/parameter/platform_pitch_angle&responseFormat=text/csv&eventTime=2020-04-23T16:10:17/2020-04-23T18:10:17&service=SOS\n",
      "\n",
      "geolink: OGC:SOS\n",
      "scheme: WWW:LINK - text/csv\n",
      "URL: http://opendap.co-ops.nos.noaa.gov/ioos-dif-sos/SOS?offering=urn:ioos:station:NOAA.NOS.CO-OPS:t02010&version=1.0.0&request=GetObservation&observedProperty=http://mmisw.org/ont/cf/parameter/platform_roll_angle&responseFormat=text/csv&eventTime=2020-04-23T16:10:17/2020-04-23T18:10:17&service=SOS\n",
      "\n",
      "geolink: OGC:SOS\n",
      "scheme: WWW:LINK - text/csv\n",
      "URL: http://opendap.co-ops.nos.noaa.gov/ioos-dif-sos/SOS?offering=urn:ioos:station:NOAA.NOS.CO-OPS:t02010&version=1.0.0&request=GetObservation&observedProperty=http://mmisw.org/ont/cf/parameter/sea_water_speed&responseFormat=text/csv&eventTime=2020-04-23T16:10:17/2020-04-23T18:10:17&service=SOS\n",
      "\n",
      "geolink: OGC:SOS\n",
      "scheme: WWW:LINK - text/csv\n",
      "URL: http://opendap.co-ops.nos.noaa.gov/ioos-dif-sos/SOS?offering=urn:ioos:station:NOAA.NOS.CO-OPS:t02010&version=1.0.0&request=GetObservation&observedProperty=http://mmisw.org/ont/cf/parameter/sea_water_temperature&responseFormat=text/csv&eventTime=2020-04-23T16:10:17/2020-04-23T18:10:17&service=SOS\n",
      "\n",
      "geolink: OPeNDAP:OPeNDAP\n",
      "scheme: WWW:LINK\n",
      "URL: https://opendap.co-ops.nos.noaa.gov/ioos-dif-sos/images/current_meter.jpg\n",
      "\n",
      "geolink: None\n",
      "scheme: WWW:LINK\n",
      "URL: https://tidesandcurrents.noaa.gov/publications/NOAA_Technical_Report_NOS_CO-OPS_030_QC_requirements_doc(revised)-11102004.pdf\n",
      "\n",
      "geolink: None\n",
      "scheme: WWW:LINK\n",
      "URL: https://tidesandcurrents.noaa.gov\n",
      "\n",
      "geolink: OGC:SOS\n",
      "scheme: OGC:SOS\n",
      "URL: http://opendap.co-ops.nos.noaa.gov/ioos-dif-sos/SOS?request=GetCapabilities&acceptVersions=1.0.0&service=SOS\n",
      "\n"
     ]
    }
   ],
   "source": [
    "from geolinks import sniff_link\n",
    "\n",
    "msg = \"geolink: {geolink}\\nscheme: {scheme}\\nURL: {url}\\n\".format\n",
    "for ref in value.references:\n",
    "    print(msg(geolink=sniff_link(ref[\"url\"]), **ref))"
   ]
  },
  {
   "cell_type": "markdown",
   "metadata": {
    "slideshow": {
     "slide_type": "slide"
    }
   },
   "source": [
    "## For more complex examples on how to find data in the catalog please check the [IOOS code gallery](https://ioos.github.io/notebooks_demos/code_gallery)."
   ]
  },
  {
   "cell_type": "markdown",
   "metadata": {
    "slideshow": {
     "slide_type": "slide"
    }
   },
   "source": [
    "# Where to find data?"
   ]
  },
  {
   "cell_type": "markdown",
   "metadata": {
    "slideshow": {
     "slide_type": "fragment"
    }
   },
   "source": [
    "## Curated list of ERDDAP servers\n",
    "\n",
    "https://github.com/IrishMarineInstitute/awesome-erddap\n",
    "\n",
    "\n",
    "## Environmental Data Service (EDS) model viewer\n",
    "\n",
    "https://eds.ioos.us\n",
    "\n",
    "\n",
    "## Exploring THREDDS servers\n",
    "\n",
    "https://unidata.github.io/siphon/latest"
   ]
  },
  {
   "cell_type": "markdown",
   "metadata": {
    "slideshow": {
     "slide_type": "slide"
    }
   },
   "source": [
    "# Extras: load netCDF files directly from HTTP"
   ]
  },
  {
   "cell_type": "code",
   "execution_count": 39,
   "metadata": {
    "slideshow": {
     "slide_type": "slide"
    }
   },
   "outputs": [
    {
     "name": "stdout",
     "output_type": "stream",
     "text": [
      "[Errno -90] NetCDF: file not found: b'https://noaa-goes16.s3.amazonaws.com/ABI-L2-CMIPC/2019/027/00/OR_ABI-L2-CMIPC-M3C01_G16_s20190270002156_e20190270004529_c20190270004598.nc'\n"
     ]
    }
   ],
   "source": [
    "from netCDF4 import Dataset\n",
    "\n",
    "try:\n",
    "    url = \"https://noaa-goes16.s3.amazonaws.com/ABI-L2-CMIPC/2019/027/00/OR_ABI-L2-CMIPC-M3C01_G16_s20190270002156_e20190270004529_c20190270004598.nc\"\n",
    "    nc = Dataset(url)\n",
    "except OSError as e:\n",
    "    print(e)"
   ]
  },
  {
   "cell_type": "code",
   "execution_count": 40,
   "metadata": {
    "slideshow": {
     "slide_type": "slide"
    }
   },
   "outputs": [
    {
     "name": "stdout",
     "output_type": "stream",
     "text": [
      "Single reflective band Cloud and Moisture Imagery Products are digital maps of clouds, moisture, and atmospheric windows at visible and near-IR bands.\n"
     ]
    }
   ],
   "source": [
    "with Dataset(f\"{url}#mode=bytes\") as nc:\n",
    "    print(nc.summary)"
   ]
  },
  {
   "cell_type": "markdown",
   "metadata": {
    "slideshow": {
     "slide_type": "fragment"
    }
   },
   "source": [
    "![](https://media.giphy.com/media/12NUbkX6p4xOO4/giphy.gif)"
   ]
  },
  {
   "cell_type": "markdown",
   "metadata": {
    "slideshow": {
     "slide_type": "slide"
    }
   },
   "source": [
    "# Extras: custom APIs like CSD\n",
    "\n",
    "For more info see [https://cds.climate.copernicus.eu/api-how-to](https://cds.climate.copernicus.eu/api-how-to)"
   ]
  },
  {
   "cell_type": "code",
   "execution_count": 41,
   "metadata": {
    "slideshow": {
     "slide_type": "slide"
    }
   },
   "outputs": [
    {
     "name": "stderr",
     "output_type": "stream",
     "text": [
      "2020-08-01 16:39:23,575 INFO Welcome to the CDS\n",
      "2020-08-01 16:39:23,576 INFO Sending request to https://cds.climate.copernicus.eu/api/v2/resources/reanalysis-era5-pressure-levels\n",
      "2020-08-01 16:39:26,035 INFO Request is completed\n"
     ]
    }
   ],
   "source": [
    "import cdsapi\n",
    "\n",
    "c = cdsapi.Client()\n",
    "\n",
    "name = \"reanalysis-era5-pressure-levels\"\n",
    "request = {\n",
    "    \"year\": \"2008\",\n",
    "    \"month\": \"01\",\n",
    "    \"day\": \"01\",\n",
    "    \"time\": \"12:00\",\n",
    "    \"variable\": \"temperature\",\n",
    "    \"pressure_level\": \"1000\",\n",
    "    \"product_type\": \"reanalysis\",\n",
    "    \"format\": \"netcdf\",\n",
    "}\n",
    "\n",
    "r = c.retrieve(name, request, None)"
   ]
  },
  {
   "cell_type": "code",
   "execution_count": 42,
   "metadata": {
    "slideshow": {
     "slide_type": "slide"
    }
   },
   "outputs": [
    {
     "data": {
      "text/plain": [
       "'http://136.156.132.236/cache-compute-0007/cache/data3/adaptor.mars.internal-1595873490.7537935-7526-21-250a76f9-7d43-4658-a81b-5149a014806e.nc'"
      ]
     },
     "execution_count": 42,
     "metadata": {},
     "output_type": "execute_result"
    }
   ],
   "source": [
    "r.location"
   ]
  },
  {
   "cell_type": "code",
   "execution_count": 43,
   "metadata": {
    "slideshow": {
     "slide_type": "fragment"
    }
   },
   "outputs": [
    {
     "data": {
      "text/html": [
       "<div><svg style=\"position: absolute; width: 0; height: 0; overflow: hidden\">\n",
       "<defs>\n",
       "<symbol id=\"icon-database\" viewBox=\"0 0 32 32\">\n",
       "<path d=\"M16 0c-8.837 0-16 2.239-16 5v4c0 2.761 7.163 5 16 5s16-2.239 16-5v-4c0-2.761-7.163-5-16-5z\"></path>\n",
       "<path d=\"M16 17c-8.837 0-16-2.239-16-5v6c0 2.761 7.163 5 16 5s16-2.239 16-5v-6c0 2.761-7.163 5-16 5z\"></path>\n",
       "<path d=\"M16 26c-8.837 0-16-2.239-16-5v6c0 2.761 7.163 5 16 5s16-2.239 16-5v-6c0 2.761-7.163 5-16 5z\"></path>\n",
       "</symbol>\n",
       "<symbol id=\"icon-file-text2\" viewBox=\"0 0 32 32\">\n",
       "<path d=\"M28.681 7.159c-0.694-0.947-1.662-2.053-2.724-3.116s-2.169-2.030-3.116-2.724c-1.612-1.182-2.393-1.319-2.841-1.319h-15.5c-1.378 0-2.5 1.121-2.5 2.5v27c0 1.378 1.122 2.5 2.5 2.5h23c1.378 0 2.5-1.122 2.5-2.5v-19.5c0-0.448-0.137-1.23-1.319-2.841zM24.543 5.457c0.959 0.959 1.712 1.825 2.268 2.543h-4.811v-4.811c0.718 0.556 1.584 1.309 2.543 2.268zM28 29.5c0 0.271-0.229 0.5-0.5 0.5h-23c-0.271 0-0.5-0.229-0.5-0.5v-27c0-0.271 0.229-0.5 0.5-0.5 0 0 15.499-0 15.5 0v7c0 0.552 0.448 1 1 1h7v19.5z\"></path>\n",
       "<path d=\"M23 26h-14c-0.552 0-1-0.448-1-1s0.448-1 1-1h14c0.552 0 1 0.448 1 1s-0.448 1-1 1z\"></path>\n",
       "<path d=\"M23 22h-14c-0.552 0-1-0.448-1-1s0.448-1 1-1h14c0.552 0 1 0.448 1 1s-0.448 1-1 1z\"></path>\n",
       "<path d=\"M23 18h-14c-0.552 0-1-0.448-1-1s0.448-1 1-1h14c0.552 0 1 0.448 1 1s-0.448 1-1 1z\"></path>\n",
       "</symbol>\n",
       "</defs>\n",
       "</svg>\n",
       "<style>/* CSS stylesheet for displaying xarray objects in jupyterlab.\n",
       " *\n",
       " */\n",
       "\n",
       ":root {\n",
       "  --xr-font-color0: var(--jp-content-font-color0, rgba(0, 0, 0, 1));\n",
       "  --xr-font-color2: var(--jp-content-font-color2, rgba(0, 0, 0, 0.54));\n",
       "  --xr-font-color3: var(--jp-content-font-color3, rgba(0, 0, 0, 0.38));\n",
       "  --xr-border-color: var(--jp-border-color2, #e0e0e0);\n",
       "  --xr-disabled-color: var(--jp-layout-color3, #bdbdbd);\n",
       "  --xr-background-color: var(--jp-layout-color0, white);\n",
       "  --xr-background-color-row-even: var(--jp-layout-color1, white);\n",
       "  --xr-background-color-row-odd: var(--jp-layout-color2, #eeeeee);\n",
       "}\n",
       "\n",
       "html[theme=dark],\n",
       "body.vscode-dark {\n",
       "  --xr-font-color0: rgba(255, 255, 255, 1);\n",
       "  --xr-font-color2: rgba(255, 255, 255, 0.54);\n",
       "  --xr-font-color3: rgba(255, 255, 255, 0.38);\n",
       "  --xr-border-color: #1F1F1F;\n",
       "  --xr-disabled-color: #515151;\n",
       "  --xr-background-color: #111111;\n",
       "  --xr-background-color-row-even: #111111;\n",
       "  --xr-background-color-row-odd: #313131;\n",
       "}\n",
       "\n",
       ".xr-wrap {\n",
       "  display: block;\n",
       "  min-width: 300px;\n",
       "  max-width: 700px;\n",
       "}\n",
       "\n",
       ".xr-text-repr-fallback {\n",
       "  /* fallback to plain text repr when CSS is not injected (untrusted notebook) */\n",
       "  display: none;\n",
       "}\n",
       "\n",
       ".xr-header {\n",
       "  padding-top: 6px;\n",
       "  padding-bottom: 6px;\n",
       "  margin-bottom: 4px;\n",
       "  border-bottom: solid 1px var(--xr-border-color);\n",
       "}\n",
       "\n",
       ".xr-header > div,\n",
       ".xr-header > ul {\n",
       "  display: inline;\n",
       "  margin-top: 0;\n",
       "  margin-bottom: 0;\n",
       "}\n",
       "\n",
       ".xr-obj-type,\n",
       ".xr-array-name {\n",
       "  margin-left: 2px;\n",
       "  margin-right: 10px;\n",
       "}\n",
       "\n",
       ".xr-obj-type {\n",
       "  color: var(--xr-font-color2);\n",
       "}\n",
       "\n",
       ".xr-sections {\n",
       "  padding-left: 0 !important;\n",
       "  display: grid;\n",
       "  grid-template-columns: 150px auto auto 1fr 20px 20px;\n",
       "}\n",
       "\n",
       ".xr-section-item {\n",
       "  display: contents;\n",
       "}\n",
       "\n",
       ".xr-section-item input {\n",
       "  display: none;\n",
       "}\n",
       "\n",
       ".xr-section-item input + label {\n",
       "  color: var(--xr-disabled-color);\n",
       "}\n",
       "\n",
       ".xr-section-item input:enabled + label {\n",
       "  cursor: pointer;\n",
       "  color: var(--xr-font-color2);\n",
       "}\n",
       "\n",
       ".xr-section-item input:enabled + label:hover {\n",
       "  color: var(--xr-font-color0);\n",
       "}\n",
       "\n",
       ".xr-section-summary {\n",
       "  grid-column: 1;\n",
       "  color: var(--xr-font-color2);\n",
       "  font-weight: 500;\n",
       "}\n",
       "\n",
       ".xr-section-summary > span {\n",
       "  display: inline-block;\n",
       "  padding-left: 0.5em;\n",
       "}\n",
       "\n",
       ".xr-section-summary-in:disabled + label {\n",
       "  color: var(--xr-font-color2);\n",
       "}\n",
       "\n",
       ".xr-section-summary-in + label:before {\n",
       "  display: inline-block;\n",
       "  content: '►';\n",
       "  font-size: 11px;\n",
       "  width: 15px;\n",
       "  text-align: center;\n",
       "}\n",
       "\n",
       ".xr-section-summary-in:disabled + label:before {\n",
       "  color: var(--xr-disabled-color);\n",
       "}\n",
       "\n",
       ".xr-section-summary-in:checked + label:before {\n",
       "  content: '▼';\n",
       "}\n",
       "\n",
       ".xr-section-summary-in:checked + label > span {\n",
       "  display: none;\n",
       "}\n",
       "\n",
       ".xr-section-summary,\n",
       ".xr-section-inline-details {\n",
       "  padding-top: 4px;\n",
       "  padding-bottom: 4px;\n",
       "}\n",
       "\n",
       ".xr-section-inline-details {\n",
       "  grid-column: 2 / -1;\n",
       "}\n",
       "\n",
       ".xr-section-details {\n",
       "  display: none;\n",
       "  grid-column: 1 / -1;\n",
       "  margin-bottom: 5px;\n",
       "}\n",
       "\n",
       ".xr-section-summary-in:checked ~ .xr-section-details {\n",
       "  display: contents;\n",
       "}\n",
       "\n",
       ".xr-array-wrap {\n",
       "  grid-column: 1 / -1;\n",
       "  display: grid;\n",
       "  grid-template-columns: 20px auto;\n",
       "}\n",
       "\n",
       ".xr-array-wrap > label {\n",
       "  grid-column: 1;\n",
       "  vertical-align: top;\n",
       "}\n",
       "\n",
       ".xr-preview {\n",
       "  color: var(--xr-font-color3);\n",
       "}\n",
       "\n",
       ".xr-array-preview,\n",
       ".xr-array-data {\n",
       "  padding: 0 5px !important;\n",
       "  grid-column: 2;\n",
       "}\n",
       "\n",
       ".xr-array-data,\n",
       ".xr-array-in:checked ~ .xr-array-preview {\n",
       "  display: none;\n",
       "}\n",
       "\n",
       ".xr-array-in:checked ~ .xr-array-data,\n",
       ".xr-array-preview {\n",
       "  display: inline-block;\n",
       "}\n",
       "\n",
       ".xr-dim-list {\n",
       "  display: inline-block !important;\n",
       "  list-style: none;\n",
       "  padding: 0 !important;\n",
       "  margin: 0;\n",
       "}\n",
       "\n",
       ".xr-dim-list li {\n",
       "  display: inline-block;\n",
       "  padding: 0;\n",
       "  margin: 0;\n",
       "}\n",
       "\n",
       ".xr-dim-list:before {\n",
       "  content: '(';\n",
       "}\n",
       "\n",
       ".xr-dim-list:after {\n",
       "  content: ')';\n",
       "}\n",
       "\n",
       ".xr-dim-list li:not(:last-child):after {\n",
       "  content: ',';\n",
       "  padding-right: 5px;\n",
       "}\n",
       "\n",
       ".xr-has-index {\n",
       "  font-weight: bold;\n",
       "}\n",
       "\n",
       ".xr-var-list,\n",
       ".xr-var-item {\n",
       "  display: contents;\n",
       "}\n",
       "\n",
       ".xr-var-item > div,\n",
       ".xr-var-item label,\n",
       ".xr-var-item > .xr-var-name span {\n",
       "  background-color: var(--xr-background-color-row-even);\n",
       "  margin-bottom: 0;\n",
       "}\n",
       "\n",
       ".xr-var-item > .xr-var-name:hover span {\n",
       "  padding-right: 5px;\n",
       "}\n",
       "\n",
       ".xr-var-list > li:nth-child(odd) > div,\n",
       ".xr-var-list > li:nth-child(odd) > label,\n",
       ".xr-var-list > li:nth-child(odd) > .xr-var-name span {\n",
       "  background-color: var(--xr-background-color-row-odd);\n",
       "}\n",
       "\n",
       ".xr-var-name {\n",
       "  grid-column: 1;\n",
       "}\n",
       "\n",
       ".xr-var-dims {\n",
       "  grid-column: 2;\n",
       "}\n",
       "\n",
       ".xr-var-dtype {\n",
       "  grid-column: 3;\n",
       "  text-align: right;\n",
       "  color: var(--xr-font-color2);\n",
       "}\n",
       "\n",
       ".xr-var-preview {\n",
       "  grid-column: 4;\n",
       "}\n",
       "\n",
       ".xr-var-name,\n",
       ".xr-var-dims,\n",
       ".xr-var-dtype,\n",
       ".xr-preview,\n",
       ".xr-attrs dt {\n",
       "  white-space: nowrap;\n",
       "  overflow: hidden;\n",
       "  text-overflow: ellipsis;\n",
       "  padding-right: 10px;\n",
       "}\n",
       "\n",
       ".xr-var-name:hover,\n",
       ".xr-var-dims:hover,\n",
       ".xr-var-dtype:hover,\n",
       ".xr-attrs dt:hover {\n",
       "  overflow: visible;\n",
       "  width: auto;\n",
       "  z-index: 1;\n",
       "}\n",
       "\n",
       ".xr-var-attrs,\n",
       ".xr-var-data {\n",
       "  display: none;\n",
       "  background-color: var(--xr-background-color) !important;\n",
       "  padding-bottom: 5px !important;\n",
       "}\n",
       "\n",
       ".xr-var-attrs-in:checked ~ .xr-var-attrs,\n",
       ".xr-var-data-in:checked ~ .xr-var-data {\n",
       "  display: block;\n",
       "}\n",
       "\n",
       ".xr-var-data > table {\n",
       "  float: right;\n",
       "}\n",
       "\n",
       ".xr-var-name span,\n",
       ".xr-var-data,\n",
       ".xr-attrs {\n",
       "  padding-left: 25px !important;\n",
       "}\n",
       "\n",
       ".xr-attrs,\n",
       ".xr-var-attrs,\n",
       ".xr-var-data {\n",
       "  grid-column: 1 / -1;\n",
       "}\n",
       "\n",
       "dl.xr-attrs {\n",
       "  padding: 0;\n",
       "  margin: 0;\n",
       "  display: grid;\n",
       "  grid-template-columns: 125px auto;\n",
       "}\n",
       "\n",
       ".xr-attrs dt, dd {\n",
       "  padding: 0;\n",
       "  margin: 0;\n",
       "  float: left;\n",
       "  padding-right: 10px;\n",
       "  width: auto;\n",
       "}\n",
       "\n",
       ".xr-attrs dt {\n",
       "  font-weight: normal;\n",
       "  grid-column: 1;\n",
       "}\n",
       "\n",
       ".xr-attrs dt:hover span {\n",
       "  display: inline-block;\n",
       "  background: var(--xr-background-color);\n",
       "  padding-right: 10px;\n",
       "}\n",
       "\n",
       ".xr-attrs dd {\n",
       "  grid-column: 2;\n",
       "  white-space: pre-wrap;\n",
       "  word-break: break-all;\n",
       "}\n",
       "\n",
       ".xr-icon-database,\n",
       ".xr-icon-file-text2 {\n",
       "  display: inline-block;\n",
       "  vertical-align: middle;\n",
       "  width: 1em;\n",
       "  height: 1.5em !important;\n",
       "  stroke-width: 0;\n",
       "  stroke: currentColor;\n",
       "  fill: currentColor;\n",
       "}\n",
       "</style><pre class='xr-text-repr-fallback'>&lt;xarray.Dataset&gt;\n",
       "Dimensions:    (latitude: 721, longitude: 1440, time: 1)\n",
       "Coordinates:\n",
       "  * longitude  (longitude) float32 0.0 0.25 0.5 0.75 ... 359.25 359.5 359.75\n",
       "  * latitude   (latitude) float32 90.0 89.75 89.5 89.25 ... -89.5 -89.75 -90.0\n",
       "  * time       (time) datetime64[ns] 2008-01-01T12:00:00\n",
       "Data variables:\n",
       "    t          (time, latitude, longitude) float32 ...\n",
       "Attributes:\n",
       "    Conventions:  CF-1.6\n",
       "    history:      2020-07-27 18:11:31 GMT by grib_to_netcdf-2.16.0: /opt/ecmw...</pre><div class='xr-wrap' hidden><div class='xr-header'><div class='xr-obj-type'>xarray.Dataset</div></div><ul class='xr-sections'><li class='xr-section-item'><input id='section-dc5648d5-0e29-4913-95e3-b0eda04ed26c' class='xr-section-summary-in' type='checkbox' disabled ><label for='section-dc5648d5-0e29-4913-95e3-b0eda04ed26c' class='xr-section-summary'  title='Expand/collapse section'>Dimensions:</label><div class='xr-section-inline-details'><ul class='xr-dim-list'><li><span class='xr-has-index'>latitude</span>: 721</li><li><span class='xr-has-index'>longitude</span>: 1440</li><li><span class='xr-has-index'>time</span>: 1</li></ul></div><div class='xr-section-details'></div></li><li class='xr-section-item'><input id='section-89cf14b6-2094-4a47-9543-ee559a00615b' class='xr-section-summary-in' type='checkbox'  checked><label for='section-89cf14b6-2094-4a47-9543-ee559a00615b' class='xr-section-summary' >Coordinates: <span>(3)</span></label><div class='xr-section-inline-details'></div><div class='xr-section-details'><ul class='xr-var-list'><li class='xr-var-item'><div class='xr-var-name'><span class='xr-has-index'>longitude</span></div><div class='xr-var-dims'>(longitude)</div><div class='xr-var-dtype'>float32</div><div class='xr-var-preview xr-preview'>0.0 0.25 0.5 ... 359.5 359.75</div><input id='attrs-1912eb4f-32fc-4c1f-8d6d-0781980c0e9a' class='xr-var-attrs-in' type='checkbox' ><label for='attrs-1912eb4f-32fc-4c1f-8d6d-0781980c0e9a' title='Show/Hide attributes'><svg class='icon xr-icon-file-text2'><use xlink:href='#icon-file-text2'></use></svg></label><input id='data-595997f4-d8a2-4156-9205-4671d0092839' class='xr-var-data-in' type='checkbox'><label for='data-595997f4-d8a2-4156-9205-4671d0092839' title='Show/Hide data repr'><svg class='icon xr-icon-database'><use xlink:href='#icon-database'></use></svg></label><div class='xr-var-attrs'><dl class='xr-attrs'><dt><span>units :</span></dt><dd>degrees_east</dd><dt><span>long_name :</span></dt><dd>longitude</dd></dl></div><div class='xr-var-data'><pre>array([0.0000e+00, 2.5000e-01, 5.0000e-01, ..., 3.5925e+02, 3.5950e+02,\n",
       "       3.5975e+02], dtype=float32)</pre></div></li><li class='xr-var-item'><div class='xr-var-name'><span class='xr-has-index'>latitude</span></div><div class='xr-var-dims'>(latitude)</div><div class='xr-var-dtype'>float32</div><div class='xr-var-preview xr-preview'>90.0 89.75 89.5 ... -89.75 -90.0</div><input id='attrs-d882e55c-7276-4788-b6ea-114f2bf3a5ee' class='xr-var-attrs-in' type='checkbox' ><label for='attrs-d882e55c-7276-4788-b6ea-114f2bf3a5ee' title='Show/Hide attributes'><svg class='icon xr-icon-file-text2'><use xlink:href='#icon-file-text2'></use></svg></label><input id='data-3b16d18b-911a-4a1a-8d77-6ba41cefa3f7' class='xr-var-data-in' type='checkbox'><label for='data-3b16d18b-911a-4a1a-8d77-6ba41cefa3f7' title='Show/Hide data repr'><svg class='icon xr-icon-database'><use xlink:href='#icon-database'></use></svg></label><div class='xr-var-attrs'><dl class='xr-attrs'><dt><span>units :</span></dt><dd>degrees_north</dd><dt><span>long_name :</span></dt><dd>latitude</dd></dl></div><div class='xr-var-data'><pre>array([ 90.  ,  89.75,  89.5 , ..., -89.5 , -89.75, -90.  ], dtype=float32)</pre></div></li><li class='xr-var-item'><div class='xr-var-name'><span class='xr-has-index'>time</span></div><div class='xr-var-dims'>(time)</div><div class='xr-var-dtype'>datetime64[ns]</div><div class='xr-var-preview xr-preview'>2008-01-01T12:00:00</div><input id='attrs-cba4c22b-df3b-4a95-8ad6-acdee96eacf6' class='xr-var-attrs-in' type='checkbox' ><label for='attrs-cba4c22b-df3b-4a95-8ad6-acdee96eacf6' title='Show/Hide attributes'><svg class='icon xr-icon-file-text2'><use xlink:href='#icon-file-text2'></use></svg></label><input id='data-7b447237-df81-45a1-88f7-8774ac135cde' class='xr-var-data-in' type='checkbox'><label for='data-7b447237-df81-45a1-88f7-8774ac135cde' title='Show/Hide data repr'><svg class='icon xr-icon-database'><use xlink:href='#icon-database'></use></svg></label><div class='xr-var-attrs'><dl class='xr-attrs'><dt><span>long_name :</span></dt><dd>time</dd></dl></div><div class='xr-var-data'><pre>array([&#x27;2008-01-01T12:00:00.000000000&#x27;], dtype=&#x27;datetime64[ns]&#x27;)</pre></div></li></ul></div></li><li class='xr-section-item'><input id='section-eca46d61-779d-4bc8-8cc0-2135df6ec5a6' class='xr-section-summary-in' type='checkbox'  checked><label for='section-eca46d61-779d-4bc8-8cc0-2135df6ec5a6' class='xr-section-summary' >Data variables: <span>(1)</span></label><div class='xr-section-inline-details'></div><div class='xr-section-details'><ul class='xr-var-list'><li class='xr-var-item'><div class='xr-var-name'><span>t</span></div><div class='xr-var-dims'>(time, latitude, longitude)</div><div class='xr-var-dtype'>float32</div><div class='xr-var-preview xr-preview'>...</div><input id='attrs-a25c27be-1718-45e6-945a-9fd0c4b12541' class='xr-var-attrs-in' type='checkbox' ><label for='attrs-a25c27be-1718-45e6-945a-9fd0c4b12541' title='Show/Hide attributes'><svg class='icon xr-icon-file-text2'><use xlink:href='#icon-file-text2'></use></svg></label><input id='data-1e4c0d60-4a53-42f4-a36b-aa7a66c2c891' class='xr-var-data-in' type='checkbox'><label for='data-1e4c0d60-4a53-42f4-a36b-aa7a66c2c891' title='Show/Hide data repr'><svg class='icon xr-icon-database'><use xlink:href='#icon-database'></use></svg></label><div class='xr-var-attrs'><dl class='xr-attrs'><dt><span>units :</span></dt><dd>K</dd><dt><span>long_name :</span></dt><dd>Temperature</dd><dt><span>standard_name :</span></dt><dd>air_temperature</dd></dl></div><div class='xr-var-data'><pre>[1038240 values with dtype=float32]</pre></div></li></ul></div></li><li class='xr-section-item'><input id='section-1cdc0caa-7444-44c7-bdc2-56a5ae8cdfbe' class='xr-section-summary-in' type='checkbox'  checked><label for='section-1cdc0caa-7444-44c7-bdc2-56a5ae8cdfbe' class='xr-section-summary' >Attributes: <span>(2)</span></label><div class='xr-section-inline-details'></div><div class='xr-section-details'><dl class='xr-attrs'><dt><span>Conventions :</span></dt><dd>CF-1.6</dd><dt><span>history :</span></dt><dd>2020-07-27 18:11:31 GMT by grib_to_netcdf-2.16.0: /opt/ecmwf/eccodes/bin/grib_to_netcdf -S param -o /cache/data3/adaptor.mars.internal-1595873490.7537935-7526-21-250a76f9-7d43-4658-a81b-5149a014806e.nc /cache/tmp/250a76f9-7d43-4658-a81b-5149a014806e-adaptor.mars.internal-1595873490.7543585-7526-5-tmp.grib</dd></dl></div></li></ul></div></div>"
      ],
      "text/plain": [
       "<xarray.Dataset>\n",
       "Dimensions:    (latitude: 721, longitude: 1440, time: 1)\n",
       "Coordinates:\n",
       "  * longitude  (longitude) float32 0.0 0.25 0.5 0.75 ... 359.25 359.5 359.75\n",
       "  * latitude   (latitude) float32 90.0 89.75 89.5 89.25 ... -89.5 -89.75 -90.0\n",
       "  * time       (time) datetime64[ns] 2008-01-01T12:00:00\n",
       "Data variables:\n",
       "    t          (time, latitude, longitude) float32 ...\n",
       "Attributes:\n",
       "    Conventions:  CF-1.6\n",
       "    history:      2020-07-27 18:11:31 GMT by grib_to_netcdf-2.16.0: /opt/ecmw..."
      ]
     },
     "execution_count": 43,
     "metadata": {},
     "output_type": "execute_result"
    }
   ],
   "source": [
    "import xarray as xr\n",
    "\n",
    "ds = xr.open_dataset(f\"{r.location}#mode=bytes\")\n",
    "ds"
   ]
  },
  {
   "cell_type": "code",
   "execution_count": 44,
   "metadata": {
    "slideshow": {
     "slide_type": "slide"
    }
   },
   "outputs": [
    {
     "data": {
      "text/plain": [
       "<matplotlib.collections.QuadMesh at 0x7fdb04078670>"
      ]
     },
     "execution_count": 44,
     "metadata": {},
     "output_type": "execute_result"
    },
    {
     "data": {
      "image/png": "[encoded data removed]",
      "text/plain": [
       "<Figure size 432x432 with 2 Axes>"
      ]
     },
     "metadata": {
      "needs_background": "light"
     },
     "output_type": "display_data"
    }
   ],
   "source": [
    "temp = ds[\"t\"].squeeze()\n",
    "temp.plot(figsize=(6, 6))"
   ]
  },
  {
   "cell_type": "markdown",
   "metadata": {
    "slideshow": {
     "slide_type": "slide"
    }
   },
   "source": [
    "# Extras: how does this all work?"
   ]
  },
  {
   "cell_type": "markdown",
   "metadata": {
    "slideshow": {
     "slide_type": "fragment"
    }
   },
   "source": [
    "## Standards!\n",
    "\n",
    "![](https://imgs.xkcd.com/comics/standards.png)"
   ]
  },
  {
   "cell_type": "markdown",
   "metadata": {
    "slideshow": {
     "slide_type": "slide"
    }
   },
   "source": [
    "# Bad example"
   ]
  },
  {
   "cell_type": "code",
   "execution_count": 45,
   "metadata": {
    "slideshow": {
     "slide_type": "fragment"
    }
   },
   "outputs": [],
   "source": [
    "import cftime\n",
    "import nc_time_axis\n",
    "from netCDF4 import Dataset\n",
    "\n",
    "url = \"http://goosbrasil.org:8080/pirata/B19s34w.nc\"\n",
    "nc = Dataset(url)\n",
    "\n",
    "temp = nc[\"temperature\"][:]\n",
    "times = nc[\"time\"]\n",
    "temp[temp <= -9999] = np.NaN\n",
    "t = cftime.num2date(times[:], times.units, calendar=times.calendar,)"
   ]
  },
  {
   "cell_type": "code",
   "execution_count": 46,
   "metadata": {
    "slideshow": {
     "slide_type": "slide"
    }
   },
   "outputs": [
    {
     "data": {
      "text/plain": [
       "[<matplotlib.lines.Line2D at 0x7fdafffafcd0>]"
      ]
     },
     "execution_count": 46,
     "metadata": {},
     "output_type": "execute_result"
    },
    {
     "data": {
      "image/png": "[encoded data removed]",
      "text/plain": [
       "<Figure size 432x288 with 1 Axes>"
      ]
     },
     "metadata": {
      "needs_background": "light"
     },
     "output_type": "display_data"
    }
   ],
   "source": [
    "fig, ax = plt.subplots()\n",
    "ax.plot(t, temp[:, 0], \".\")"
   ]
  },
  {
   "cell_type": "markdown",
   "metadata": {
    "slideshow": {
     "slide_type": "slide"
    }
   },
   "source": [
    "# Good example"
   ]
  },
  {
   "cell_type": "code",
   "execution_count": 47,
   "metadata": {
    "slideshow": {
     "slide_type": "slide"
    }
   },
   "outputs": [
    {
     "data": {
      "image/png": "[encoded data removed]",
      "text/plain": [
       "<Figure size 432x288 with 1 Axes>"
      ]
     },
     "metadata": {
      "needs_background": "light"
     },
     "output_type": "display_data"
    }
   ],
   "source": [
    "import xarray as xr\n",
    "\n",
    "ds = xr.open_dataset(url)\n",
    "temp = ds[\"temperature\"]\n",
    "\n",
    "temp.sel(depth_t=1.0, time=\"2008\").plot();"
   ]
  }
 ],
 "metadata": {
  "celltoolbar": "Slideshow",
  "kernelspec": {
   "display_name": "Python 3",
   "language": "python",
   "name": "python3"
  },
  "language_info": {
   "codemirror_mode": {
    "name": "ipython",
    "version": 3
   },
   "file_extension": ".py",
   "mimetype": "text/x-python",
   "name": "python",
   "nbconvert_exporter": "python",
   "pygments_lexer": "ipython3",
   "version": "3.8.5"
  },
  "livereveal": {
   "auto_select": "none",
   "autolaunch": "false",
   "footer": " ",
   "header": "<script src='static/theme/reveal.js'></script>",
   "start_slideshow_at": "selected"
  }
 },
 "nbformat": 4,
 "nbformat_minor": 2
}
