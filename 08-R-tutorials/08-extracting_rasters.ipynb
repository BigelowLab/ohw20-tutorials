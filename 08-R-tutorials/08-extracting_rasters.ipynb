{
 "cells": [
  {
   "cell_type": "markdown",
   "metadata": {},
   "source": [
    "## Install and load packages"
   ]
  },
  {
   "cell_type": "code",
   "execution_count": 8,
   "metadata": {},
   "outputs": [
    {
     "data": {
      "text/html": [
       "FALSE"
      ],
      "text/latex": [
       "FALSE"
      ],
      "text/markdown": [
       "FALSE"
      ],
      "text/plain": [
       "[1] FALSE"
      ]
     },
     "metadata": {},
     "output_type": "display_data"
    }
   ],
   "source": [
    "library(dplyr, warn.conflicts = FALSE)\n",
    "x <- installed.packages() %>% dplyr::as_tibble() %>% dplyr::select(Package, Version)\n",
    "\"rgdal\" %in% x$Package"
   ]
  },
  {
   "cell_type": "code",
   "execution_count": 1,
   "metadata": {
    "Rmd_chunk_options": "load_libraries, message=FALSE",
    "kernel": "R",
    "tags": [
     "report_cell"
    ]
   },
   "outputs": [
    {
     "name": "stderr",
     "output_type": "stream",
     "text": [
      "── \u001b[1mAttaching packages\u001b[22m ─────────────────────────────────────── tidyverse 1.3.0 ──\n",
      "\n",
      "\u001b[32m✔\u001b[39m \u001b[34mggplot2\u001b[39m 3.3.2     \u001b[32m✔\u001b[39m \u001b[34mpurrr  \u001b[39m 0.3.4\n",
      "\u001b[32m✔\u001b[39m \u001b[34mtibble \u001b[39m 3.0.3     \u001b[32m✔\u001b[39m \u001b[34mdplyr  \u001b[39m 1.0.1\n",
      "\u001b[32m✔\u001b[39m \u001b[34mtidyr  \u001b[39m 1.1.1     \u001b[32m✔\u001b[39m \u001b[34mstringr\u001b[39m 1.4.0\n",
      "\u001b[32m✔\u001b[39m \u001b[34mreadr  \u001b[39m 1.3.1     \u001b[32m✔\u001b[39m \u001b[34mforcats\u001b[39m 0.5.0\n",
      "\n",
      "── \u001b[1mConflicts\u001b[22m ────────────────────────────────────────── tidyverse_conflicts() ──\n",
      "\u001b[31m✖\u001b[39m \u001b[34mdplyr\u001b[39m::\u001b[32mfilter()\u001b[39m masks \u001b[34mstats\u001b[39m::filter()\n",
      "\u001b[31m✖\u001b[39m \u001b[34mdplyr\u001b[39m::\u001b[32mlag()\u001b[39m    masks \u001b[34mstats\u001b[39m::lag()\n",
      "\n",
      "Loading required package: sp\n",
      "\n",
      "code for methods in class “Rcpp_SpExtent” was not checked for suspicious field assignments (recommended package ‘codetools’ not available?)\n",
      "\n",
      "code for methods in class “Rcpp_SpExtent” was not checked for suspicious field assignments (recommended package ‘codetools’ not available?)\n",
      "\n",
      "code for methods in class “Rcpp_SpPoly” was not checked for suspicious field assignments (recommended package ‘codetools’ not available?)\n",
      "\n",
      "code for methods in class “Rcpp_SpPoly” was not checked for suspicious field assignments (recommended package ‘codetools’ not available?)\n",
      "\n",
      "code for methods in class “Rcpp_SpPolyPart” was not checked for suspicious field assignments (recommended package ‘codetools’ not available?)\n",
      "\n",
      "code for methods in class “Rcpp_SpPolyPart” was not checked for suspicious field assignments (recommended package ‘codetools’ not available?)\n",
      "\n",
      "code for methods in class “Rcpp_SpPolygons” was not checked for suspicious field assignments (recommended package ‘codetools’ not available?)\n",
      "\n",
      "code for methods in class “Rcpp_SpPolygons” was not checked for suspicious field assignments (recommended package ‘codetools’ not available?)\n",
      "\n",
      "\n",
      "Attaching package: ‘raster’\n",
      "\n",
      "\n",
      "The following object is masked from ‘package:dplyr’:\n",
      "\n",
      "    select\n",
      "\n",
      "\n",
      "The following object is masked from ‘package:tidyr’:\n",
      "\n",
      "    extract\n",
      "\n",
      "\n",
      "\n",
      "Attaching package: ‘lubridate’\n",
      "\n",
      "\n",
      "The following objects are masked from ‘package:raster’:\n",
      "\n",
      "    intersect, union\n",
      "\n",
      "\n",
      "The following objects are masked from ‘package:base’:\n",
      "\n",
      "    date, intersect, setdiff, union\n",
      "\n",
      "\n"
     ]
    }
   ],
   "source": [
    "# Load libraries\n",
    "library(tidyverse)\n",
    "library(raster)\n",
    "library(ggplot2)\n",
    "library(leaflet)\n",
    "library(dplyr)\n",
    "library(remotes)\n",
    "library(lubridate)\n",
    "# Install ohwobpg package\n",
    "remotes::install_github(\"BigelowLab/ohwobpg\", force = TRUE, quiet = TRUE)\n",
    "# Load ohwobpg package\n",
    "library(ohwobpg)"
   ]
  },
  {
   "cell_type": "markdown",
   "metadata": {},
   "source": [
    "## Initialize raster for visualization"
   ]
  },
  {
   "cell_type": "markdown",
   "metadata": {},
   "source": [
    "Once the necessary packages are loaded, we will start by creating a raster object from a pre-loaded ohwobpg database.  Specifically, we will be creating a raster object of sea surface temperature (SST) data for 2018."
   ]
  },
  {
   "cell_type": "code",
   "execution_count": 4,
   "metadata": {
    "Rmd_chunk_options": "init_raster, message=FALSE, warning=FALSE",
    "kernel": "R",
    "tags": [
     "report_cell"
    ]
   },
   "outputs": [
    {
     "ename": "ERROR",
     "evalue": "Error in .rasterObjectFromFile(x, band = band, objecttype = \"RasterLayer\", : Cannot create RasterLayer object from this file; perhaps you need to install rgdal first\n",
     "output_type": "error",
     "traceback": [
      "Error in .rasterObjectFromFile(x, band = band, objecttype = \"RasterLayer\", : Cannot create RasterLayer object from this file; perhaps you need to install rgdal first\nTraceback:\n",
      "1. par_db %>% as_filename(path = path) %>% raster::stack()",
      "2. withVisible(eval(quote(`_fseq`(`_lhs`)), env, env))",
      "3. eval(quote(`_fseq`(`_lhs`)), env, env)",
      "4. eval(quote(`_fseq`(`_lhs`)), env, env)",
      "5. `_fseq`(`_lhs`)",
      "6. freduce(value, `_function_list`)",
      "7. withVisible(function_list[[k]](value))",
      "8. function_list[[k]](value)",
      "9. raster::stack(.)",
      "10. raster::stack(.)",
      "11. .local(x, ...)",
      "12. stack(rlist, bands = bands, native = native, RAT = RAT)",
      "13. stack(rlist, bands = bands, native = native, RAT = RAT)",
      "14. .local(x, ...)",
      "15. raster(x[[1]], native = native, RAT = RAT, ...)",
      "16. raster(x[[1]], native = native, RAT = RAT, ...)",
      "17. .local(x, ...)",
      "18. .rasterObjectFromFile(x, band = band, objecttype = \"RasterLayer\", \n  .     ...)",
      "19. stop(\"Cannot create RasterLayer object from this file; perhaps you need to install rgdal first\")"
     ]
    }
   ],
   "source": [
    "# Load database\n",
    "path <- system.file(\"gom\", package = \"ohwobpg\")\n",
    "db <- read_database(path)\n",
    "\n",
    "# Subset database\n",
    "par_db <- db %>%\n",
    "  dplyr::filter(param == \"sst\" &\n",
    "                per == \"MO\" &\n",
    "                dplyr::between(date, as.Date(\"2018-05-15\"), as.Date(\"2018-09-26\")))\n",
    "\n",
    "# Create raster stack\n",
    "sat <- par_db %>%                # start with the subset database\n",
    "  as_filename(path = path) %>%   # build filenames and append to the path\n",
    "  raster::stack()                # read them into a stack of images\n",
    "\n",
    "# Name layers\n",
    "names(sat) <- format(par_db$date, \"%b\")\n",
    "\n",
    "# Read in buoy data\n",
    "buoy <- read_buoy(buoy = \"M01\")\n",
    "# Name layers\n",
    "names(buoy) <- c(\"time\", \"sal\", \"sigma_t\", \"conductivity\", \"temp\")\n",
    "\n",
    "# Read in buoy locations\n",
    "buoy_loc <- buoy_locations()[, c(\"lon\", \"lat\")]"
   ]
  },
  {
   "cell_type": "markdown",
   "metadata": {},
   "source": [
    "## Extract buoy location from satellite data"
   ]
  },
  {
   "cell_type": "markdown",
   "metadata": {},
   "source": [
    "The buoy location is extracted from the satellite data raster using the code below.  For more examples of extracting point data from rasters and other raster manipulations, see https://mgimond.github.io/megug2017/#raster-manipulation-basics."
   ]
  },
  {
   "cell_type": "code",
   "execution_count": 3,
   "metadata": {
    "Rmd_chunk_options": "base_plot, message=FALSE, warning=FALSE",
    "kernel": "R",
    "tags": [
     "report_cell"
    ]
   },
   "outputs": [
    {
     "ename": "ERROR",
     "evalue": "Error in raster::extract(sat, buoy_loc): object 'sat' not found\n",
     "output_type": "error",
     "traceback": [
      "Error in raster::extract(sat, buoy_loc): object 'sat' not found\nTraceback:\n",
      "1. raster::extract(sat, buoy_loc)"
     ]
    }
   ],
   "source": [
    "raster::extract(sat, buoy_loc)"
   ]
  },
  {
   "cell_type": "markdown",
   "metadata": {},
   "source": [
    "## Plot buoy location and satellite data using leaflet"
   ]
  },
  {
   "cell_type": "markdown",
   "metadata": {},
   "source": [
    "Finally, we will plot the satellite data and the buoy location on a leaflet interactive map.  The leaflet::addRasterImage() function allows the user to plot raster objects on the map.  The leaflet::addCircles() function allows the user to plot point data on the map.  For a more detailed example, see https://rstudio.github.io/leaflet/raster.html."
   ]
  },
  {
   "cell_type": "code",
   "execution_count": 5,
   "metadata": {
    "Rmd_chunk_options": "leaflet, message=FALSE, warning=FALSE",
    "kernel": "R",
    "tags": [
     "report_cell"
    ]
   },
   "outputs": [],
   "source": [
    "leaflet::leaflet() %>% leaflet::addTiles(group = \"Standard\") %>%\n",
    "            # Add satellite imagery\n",
    "            leaflet::addProviderTiles('Esri.WorldImagery', group = \"Satellite\") %>%\n",
    "            # Define bounds\n",
    "            leaflet::fitBounds(lng1 = xmin(sat),\n",
    "                               lat1 = ymin(sat),\n",
    "                               lng2 = xmax(sat),\n",
    "                               lat2 = ymax(sat)) %>%\n",
    "            # Add raster data\n",
    "            leaflet::addRasterImage(sat$Jul) %>%\n",
    "            # Add buoy data\n",
    "            leaflet::addCircles(lng = buoy_loc$lon, lat = buoy_loc$lat)"
   ]
  },
  {
   "cell_type": "markdown",
   "metadata": {},
   "source": [
    "## Plot time series of buoy and satellite data"
   ]
  },
  {
   "cell_type": "markdown",
   "metadata": {},
   "source": [
    "Finally, we plot a time series of the buoy data and satellite data.  Both datasets are formatted to plot using the ggplot2 package."
   ]
  },
  {
   "cell_type": "code",
   "execution_count": 6,
   "metadata": {
    "Rmd_chunk_options": "time_series, message=FALSE, warning=FALSE",
    "kernel": "R",
    "tags": [
     "report_cell"
    ]
   },
   "outputs": [],
   "source": [
    "# Format satellite data\n",
    "sat_df <- tidyr::gather(as.data.frame(raster::extract(sat, buoy_loc)), month, value, Jun:Sep) %>%\n",
    "  dplyr::mutate(month_num = 6:9)\n",
    "\n",
    "# Format buoy data\n",
    "buoy_df <- buoy %>%\n",
    "  dplyr::mutate(month_num = lubridate::month(time)) %>%\n",
    "  dplyr::group_by(month_num) %>%\n",
    "  # Compute monthly average\n",
    "  dplyr::summarise(mean = mean(temp))\n",
    "\n",
    "# Initialize colors\n",
    "colors <- c(\"Satellite\" = \"red\", \"Buoy\" = \"blue\")\n",
    "# Plot time series of buoy and satellite data\n",
    "ggplot(data = sat_df, mapping = aes(x = month_num, y = value, color = \"Satellite\")) +\n",
    "  geom_path() +\n",
    "  geom_path(data = buoy_df, aes(x = month_num, y = mean, color = \"Buoy\")) +\n",
    "  labs(x = \"Month\",\n",
    "       y = \"Temp (°C)\",\n",
    "       color = \"\")"
   ]
  }
 ],
 "metadata": {
  "Rmd_chunk_options": {
   "author": "Camille Ross",
   "date": "8/4/2020",
   "output": "html_document",
   "title": "Extracting rasters"
  },
  "kernelspec": {
   "display_name": "R",
   "language": "R",
   "name": "ir"
  },
  "language_info": {
   "codemirror_mode": "r",
   "file_extension": ".r",
   "mimetype": "text/x-r-source",
   "name": "R",
   "pygments_lexer": "r",
   "version": "3.6.3"
  },
  "sos": {
   "kernels": [
    [
     "SoS",
     "sos",
     "",
     ""
    ],
    [
     "R",
     "ir",
     "",
     ""
    ]
   ]
  }
 },
 "nbformat": 4,
 "nbformat_minor": 4
}
