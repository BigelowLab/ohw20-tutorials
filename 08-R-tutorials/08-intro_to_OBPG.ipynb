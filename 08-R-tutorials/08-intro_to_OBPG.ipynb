{
 "cells": [
  {
   "cell_type": "code",
   "execution_count": 1,
   "metadata": {
    "Rmd_chunk_options": "setup, include=FALSE",
    "jupyter": {
     "output_hidden": true,
     "source_hidden": true
    },
    "kernel": "R",
    "tags": [
     "scratch"
    ]
   },
   "outputs": [],
   "source": [
    "knitr::opts_chunk$set(echo = TRUE)"
   ]
  },
  {
   "cell_type": "markdown",
   "metadata": {},
   "source": [
    "# [OBPG](https://oceancolor.gsfc.nasa.gov/) for [Ocean Hack Week 2020](https://oceanhackweek.github.io/)"
   ]
  },
  {
   "cell_type": "markdown",
   "metadata": {},
   "source": [
    "Ocean Color Processing Group (OPBG) serves satellite data via [OPeNDAP](https://www.opendap.org/).  This packages provides simple tools in [R language](https://www.r-project.org/) for downloading subsets of global data files, and proposes a simple method for storing and managing the datasets.\n",
    "\n",
    "This package is deminstrates working with [Level 3](https://oceancolor.gsfc.nasa.gov/products/) (simple global grids) specifically from the [AQUA_MODIS](https://oceancolor.gsfc.nasa.gov/data/aqua/) instrumentation.  The package may be adaptable for other products/instruments, but we haven't tried anything other than AQUA_MODIS Level 3 mapped images.\n",
    "\n",
    "OBPG managers are migrating from an old-style [naming convention](https://oceancolor.gsfc.nasa.gov/docs/filenaming-convention/) to a new-style. Currently, only recently reprocessed data (SST) are served in the new-style. That means this code attemtps to handle either convention seamlessly while navigating the system. Eventually, all products will be served in the new-style filenaming format, so we have kept that in mind when proposing a local storage and management system."
   ]
  },
  {
   "cell_type": "markdown",
   "metadata": {},
   "source": [
    "## Storing data"
   ]
  },
  {
   "cell_type": "markdown",
   "metadata": {},
   "source": [
    "OBPG data naturally organize under a simple heirarchy `<root>/region/yyyy/mmdd/files`. We find that allowing the end user to specify the `<root>/region` while autmatically enforcing the remainder `yyyy/mmdd/files` works really well. For example, suppose you are going to download daily SST and CHLOR_A from AQUA_MODIS covering the Gulf of Maine in 2018.  We suggest that you create the root path like the following shows - a simple directory in you home directory (but whatever works for you works for us.)"
   ]
  },
  {
   "cell_type": "code",
   "execution_count": 2,
   "metadata": {
    "kernel": "R",
    "tags": [
     "report_cell"
    ]
   },
   "outputs": [],
   "source": [
    "library(ohwobpg)\n",
    "path <- \"~/gom\"\n",
    "dir.create(path, recursive = TRUE)"
   ]
  },
  {
   "cell_type": "markdown",
   "metadata": {},
   "source": [
    "Any data you subsequently download using this package will automatically create subdirectories that are required. Below is an example from our own lab where `<root>/region` is `/mnt/ecocast/coredata/obpg2/nwa/AQUA_MODIS/L3m` and the automatically generated subdirectories, `yyyy/mmdd`, are `2018/0101`.\n",
    "\n",
    "```\n",
    "/mnt/ecocast/coredata/obpg2/nwa/AQUA_MODIS/L3m/2018/0101\n",
    "  ├── AQUA_MODIS.20180101.L3m.16DR.CHL.chlor_a.4km.tif\n",
    "  ├── AQUA_MODIS.20180101.L3m.32DR.CHL.chlor_a.4km.tif\n",
    "  ├── AQUA_MODIS.20180101.L3m.8DR.CHL.chlor_a.4km.tif\n",
    "  ├── AQUA_MODIS.20180101.L3m.8DR.PAR.par.4km.tif\n",
    "  ├── AQUA_MODIS.20180101.L3m.8DR.PIC.pic.4km.tif\n",
    "  ├── AQUA_MODIS.20180101.L3m.8DR.POC.poc.4km.tif\n",
    "  ├── AQUA_MODIS.20180101.L3m.8DR.SST.sst.4km.tif\n",
    "  ├── AQUA_MODIS.20180101.L3m.8DR.SST.sst_slope.4km.tif\n",
    "  ├── AQUA_MODIS.20180101.L3m.DAY.CHL.chlor_a.4km.tif\n",
    "  ├── AQUA_MODIS.20180101.L3m.DAY.CHL.chlor_a_cum.4km.tif\n",
    "  ├── AQUA_MODIS.20180101.L3m.DAY.CHL.chlor_a_fill.4km.tif\n",
    "  ├── AQUA_MODIS.20180101.L3m.DAY.PAR.par.4km.tif\n",
    "  ├── AQUA_MODIS.20180101.L3m.DAY.PIC.pic.4km.tif\n",
    "  ├── AQUA_MODIS.20180101.L3m.DAY.POC.poc.4km.tif\n",
    "  └── AQUA_MODIS.20180101.L3m.DAY.SST.sst.4km.tif\n",
    "```"
   ]
  },
  {
   "cell_type": "markdown",
   "metadata": {},
   "source": [
    "## Downloading example"
   ]
  },
  {
   "cell_type": "markdown",
   "metadata": {},
   "source": [
    "Let's download 2018 monthly CHLOR_A data at 9km resoltion just for the Gulf of Maine region. First we build a series of URLs for the data using `obpg_build_url()`.  The function has a number of arguments, but we'll just focus on what we need and accept the default values for the others.  Complete documentation is available by typing at the console, `?obpg_build_url`."
   ]
  },
  {
   "cell_type": "code",
   "execution_count": 3,
   "metadata": {
    "kernel": "R",
    "tags": [
     "report_cell"
    ]
   },
   "outputs": [],
   "source": [
    "library(ohwobpg)\n",
    "\n",
    "\n",
    "# and define our bounding box [west, east, south, north]\n",
    "BB <- c(-72, -63, 39, 46)\n",
    "\n",
    "# we need a sequence of dates\n",
    "dates <- seq(\n",
    "  from = as.Date(\"2018-01-01\"),\n",
    "  to = as.Date(\"2018-12-01\"),\n",
    "  by = \"month\")\n",
    "\n",
    "# then we build the URLs\n",
    "urls <- obpg_build_url(\n",
    "  dates = dates,\n",
    "  param = \"chlor_a\",\n",
    "  suite = \"CHL\",\n",
    "  period = \"MO\",\n",
    "  res = \"9km\")\n",
    "head(urls)"
   ]
  },
  {
   "cell_type": "markdown",
   "metadata": {},
   "source": [
    "Now we'll open just the first NCDF resource.  From that we'll build a simple list of items we need to successfully navigate the remainder of the URLs. Then we can close the NCDF resource."
   ]
  },
  {
   "cell_type": "code",
   "execution_count": 4,
   "metadata": {
    "kernel": "R",
    "tags": [
     "report_cell"
    ]
   },
   "outputs": [],
   "source": [
    "nc1 <- obpg_open(urls[1])\n",
    "nav <- obpg_nc_nav(nc1,\n",
    "  bb = BB,\n",
    "  res = obpg_res(what = \"9km\"),\n",
    "  varname = \"chlor_a\")\n",
    "obpg_close(nc1)"
   ]
  },
  {
   "cell_type": "markdown",
   "metadata": {},
   "source": [
    "Now we simply need to iterate through the dates - downloading the subset data and storing in our path."
   ]
  },
  {
   "cell_type": "code",
   "execution_count": 5,
   "metadata": {
    "kernel": "R",
    "tags": [
     "report_cell"
    ]
   },
   "outputs": [],
   "source": [
    "for (this_url in urls){\n",
    "  cat(\"fetching\", basename(this_url), \"\\n\")\n",
    "  new_data <- obpg_fetch(this_url, nav, outpath = path)\n",
    "}"
   ]
  },
  {
   "cell_type": "markdown",
   "metadata": {},
   "source": [
    "> **Note** We have downloaded a larger dataset of sst, par and chlor_a for the Gulf of Maine which we will work with later.  The script we used for downloading can be found [here](https://github.com/BigelowLab/ohwobpg/blob/master/inst/scripts/fetch_ohw_obpg.R)."
   ]
  },
  {
   "cell_type": "markdown",
   "metadata": {},
   "source": [
    "## Make a database and save it"
   ]
  },
  {
   "cell_type": "markdown",
   "metadata": {},
   "source": [
    "It is easy to create a database by first creating a list of files, then parsing to the database format.  We actually have that list of files in hand already in our URLs, but for the sake of example, let's do a listing by file search instead.  Note that we use the pipe operator `%>%`, provided to us by the [dplyr](https://CRAN.R-project.org/package=dplyr) package, to pipe the output of one function to the the input of the next. There are [boat loads](https://rseek.org/?q=dplyr+tutorial) of tutorials on using dplyr available to you."
   ]
  },
  {
   "cell_type": "code",
   "execution_count": 6,
   "metadata": {
    "kernel": "R",
    "tags": [
     "report_cell"
    ]
   },
   "outputs": [],
   "source": [
    "library(dplyr, warn.conflicts = FALSE)\n",
    "\n",
    "db <- list.files(path, pattern = glob2rx(\"*.tif\"), full.names = TRUE, recursive = TRUE) %>%\n",
    "  as_database() %>%\n",
    "  write_database(path)\n",
    "db"
   ]
  },
  {
   "cell_type": "markdown",
   "metadata": {},
   "source": [
    "## The database contents"
   ]
  },
  {
   "cell_type": "markdown",
   "metadata": {},
   "source": [
    "The database is a very simple table (data frame) build from various elements of a filename. All of the parts could be compute as-needed which would make the file smaller to store on disk, but the ease of parsing and saving is worth the extra bit of disk required.  The OBPG filenames have all of the necessary information to uniquely identify each file - details can found in the documentation `?as_database`.  For now, let's just print it out and look at it.\n",
    "\n",
    "> **Note** The nrt column refers to \"near real time\" data. OBPG group first publishes it data flagged as \"nrt\".  Some time later (weeks? months?), after quality review and adjustments, the data is republished without the \"nrt\" flag. For this tutorial we'll ignore it, but one could use that to identify local files suitable for updating when OBPG updates."
   ]
  },
  {
   "cell_type": "code",
   "execution_count": 7,
   "metadata": {
    "jupyter": {
     "source_hidden": true
    },
    "kernel": "Markdown",
    "tags": [
     "report_output"
    ]
   },
   "outputs": [],
   "source": [
    "%expand `r ` --in R\n",
    "Use the `read_database(path)` and `write_database(db, path)` functions for input and output."
   ]
  },
  {
   "cell_type": "markdown",
   "metadata": {},
   "source": [
    "## A larger dataset"
   ]
  },
  {
   "cell_type": "markdown",
   "metadata": {},
   "source": [
    "We provide with the [ohwobpg](https://github.com/BigelowLab/ohwobpg) package a slightly larger and more complex dataset. This will save the need for each participant to download from the OBPG servers.  The larger dataset includes ...\n",
    "\n",
    "  + monthly sst, chlor_a and par data from 2018 in the Gulf of Maine\n",
    "\n",
    "  + daily sst data from August 2018 in the Gulf of Maine\n",
    "\n",
    "The path must now be redefined, and then we can read in the new associated database."
   ]
  },
  {
   "cell_type": "code",
   "execution_count": 8,
   "metadata": {
    "kernel": "R",
    "tags": [
     "report_cell"
    ]
   },
   "outputs": [],
   "source": [
    "path <- system.file(\"gom\", package = \"ohwobpg\")\n",
    "db <- read_database(path)"
   ]
  },
  {
   "cell_type": "markdown",
   "metadata": {},
   "source": [
    "We can do a quick summary by counting the records by period and parameter."
   ]
  },
  {
   "cell_type": "code",
   "execution_count": 9,
   "metadata": {
    "kernel": "R",
    "tags": [
     "report_cell"
    ]
   },
   "outputs": [],
   "source": [
    "db %>%                       # start with the database\n",
    "  dplyr::count(per, param)   # count instance first by period then by parameter"
   ]
  },
  {
   "cell_type": "markdown",
   "metadata": {},
   "source": [
    "> **Note** almost every function in R comes from a package - it can be hard to remember where each comes from.  To help jog one's memory it can be helpful to prepend the package name to the function - for instance, instead of writing `count(...)` note that we wrote `dplyr::count(...)`.  In this case, there is no difference between the two other than it is easy to recall to which package `count()` belongs."
   ]
  },
  {
   "cell_type": "markdown",
   "metadata": {},
   "source": [
    "## Using the database to select files to read"
   ]
  },
  {
   "cell_type": "markdown",
   "metadata": {},
   "source": [
    "The database can be easily filtered to chose just the images needed; for this task we continue leveraging the tools in the [dplyr](https://CRAN.R-project.org/package=dplyr) package.  Let's grab par monthly data between May and September of 2018. First we filter the database to a smaller subset, then convert it to a set of filenames, and finally load it into a raster stack."
   ]
  },
  {
   "cell_type": "code",
   "execution_count": 10,
   "metadata": {
    "kernel": "R",
    "tags": [
     "report_cell"
    ]
   },
   "outputs": [],
   "source": [
    "library(raster)\n",
    "\n",
    "par_db <- db %>%\n",
    "  dplyr::filter(param == \"sst\" &\n",
    "                per == \"MO\" &\n",
    "                dplyr::between(date, as.Date(\"2018-05-15\"), as.Date(\"2018-09-26\")))\n",
    "par_db"
   ]
  },
  {
   "cell_type": "markdown",
   "metadata": {},
   "source": [
    "Using the filtered database we then read in a subset of records into a raster stack of images.  By default each layer's name is assigned the filename from which it came, but that can make for really names.  We know that each layer is one month, so we will assign each a new name: \"Jun\", \"Jul\", \"Aug\", \"Sep\".  You can lean more about formatting dates here `?strftime`. The are many [raster tutorials](https://rseek.org/?q=raster+tutorial) available and a handy [cheatsheet](https://rpubs.com/etiennebr/visualraster)."
   ]
  },
  {
   "cell_type": "code",
   "execution_count": 11,
   "metadata": {
    "kernel": "R",
    "tags": [
     "report_cell"
    ]
   },
   "outputs": [],
   "source": [
    "par <- par_db %>%                # start with the subset database\n",
    "  as_filename(path = path) %>%   # build filenames and append to the path\n",
    "  raster::stack()                # read them into a stack of images\n",
    "\n",
    "names(par) <- format(par_db$date, \"%b\")\n",
    "\n",
    "par"
   ]
  },
  {
   "cell_type": "markdown",
   "metadata": {},
   "source": [
    "## Drawing rasters"
   ]
  },
  {
   "cell_type": "markdown",
   "metadata": {},
   "source": [
    "There are lots of ways to draw a raster.  We show three simple ones in a [brief tutorial](https://github.com/BigelowLab/ohwobpg/blob/master/inst/tutorials/plotting_rasters.Rmd).\n",
    "\n",
    "> **Note** If you [clone](https://github.com/git-guides/git-clone) the package to your lcoal computer you can easily view these tutorials from within an RStudio session."
   ]
  },
  {
   "cell_type": "markdown",
   "metadata": {},
   "source": [
    "## Extracting data from a stack of rasters"
   ]
  },
  {
   "cell_type": "markdown",
   "metadata": {},
   "source": [
    "Extracting from a stack at a point, a patch of points, or a polygon is very staright forward. See this [tutorial for an example](https://github.com/BigelowLab/ohwobpg/blob/master/inst/tutorials/extracting_rasters.Rmd)."
   ]
  },
  {
   "cell_type": "markdown",
   "metadata": {},
   "source": [
    "## Deriving new rasters - raster math!"
   ]
  },
  {
   "cell_type": "markdown",
   "metadata": {},
   "source": [
    "Creating a derived stack is easy with raster math - see this [page for an example](https://github.com/BigelowLab/ohwobpg/blob/master/inst/tutorials/deriving_rasters.md)."
   ]
  }
 ],
 "metadata": {
  "Rmd_chunk_options": {
   "author": "btupper",
   "date": "8/5/2020",
   "output": "html_document",
   "title": "08-Intro-to-OBPG"
  },
  "kernelspec": {
   "display_name": "SoS",
   "language": "sos",
   "name": "sos"
  },
  "language_info": {
   "file_extension": ".sos",
   "mimetype": "text/x-sos",
   "name": "sos",
   "nbconvert_exporter": "sos_notebook.converter.SoS_Exporter",
   "pygments_lexer": "python"
  },
  "sos": {
   "kernels": [
    [
     "SoS",
     "sos",
     "",
     ""
    ],
    [
     "R",
     "ir",
     "",
     ""
    ],
    [
     "Markdown",
     "markdown",
     "",
     ""
    ]
   ]
  }
 },
 "nbformat": 4,
 "nbformat_minor": 4
}
