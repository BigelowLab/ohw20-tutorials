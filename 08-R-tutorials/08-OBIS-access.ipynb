{
 "cells": [
  {
   "cell_type": "markdown",
   "metadata": {},
   "source": [
    "# R OBIS\n",
    "\n",
    "This notebook was adapted from [a manual on robis](https://obis.org/manual/accessr/) on the [obis](obis.org) site. Some of the mapping functions weren't working properly, so we've put in some simple ggplot mapping and plotting examples.\n",
    "\n",
    "## Loading robis\n",
    "\n",
    "Installing the robis packages requires devtools. Use the following (this code won't run within the notebook.)"
   ]
  },
  {
   "cell_type": "code",
   "execution_count": 1,
   "metadata": {},
   "outputs": [
    {
     "name": "stderr",
     "output_type": "stream",
     "text": [
      "Using github PAT from envvar GITHUB_PAT\n",
      "\n",
      "Downloading GitHub repo iobis/robis@HEAD\n",
      "\n"
     ]
    },
    {
     "name": "stdout",
     "output_type": "stream",
     "text": [
      "KernSmooth   (NA -> 2.23-17 ) [CRAN]\n",
      "class        (NA -> 7.3-17  ) [CRAN]\n",
      "e1071        (NA -> 1.7-3   ) [CRAN]\n",
      "BH           (NA -> 1.72.0-3) [CRAN]\n",
      "commonmark   (NA -> 1.7     ) [CRAN]\n",
      "fastmap      (NA -> 1.0.1   ) [CRAN]\n",
      "sourcetools  (NA -> 0.1.7   ) [CRAN]\n",
      "xtable       (NA -> 1.8-4   ) [CRAN]\n",
      "httpuv       (NA -> 1.5.4   ) [CRAN]\n",
      "units        (NA -> 0.6-7   ) [CRAN]\n",
      "classInt     (NA -> 0.4-3   ) [CRAN]\n",
      "shiny        (NA -> 1.5.0   ) [CRAN]\n",
      "systemfonts  (NA -> 0.2.3   ) [CRAN]\n",
      "gdtools      (NA -> 0.2.2   ) [CRAN]\n",
      "svglite      (NA -> 1.2.3.2 ) [CRAN]\n",
      "brew         (NA -> 1.0-6   ) [CRAN]\n",
      "webshot      (NA -> 0.5.2   ) [CRAN]\n",
      "sf           (NA -> 0.9-5   ) [CRAN]\n",
      "satellite    (NA -> 1.0.2   ) [CRAN]\n",
      "leafpop      (NA -> 0.0.5   ) [CRAN]\n",
      "leafem       (NA -> 0.1.3   ) [CRAN]\n",
      "miniUI       (NA -> 0.1.1.1 ) [CRAN]\n",
      "mapview      (NA -> 2.7.8   ) [CRAN]\n",
      "leafpm       (NA -> 0.1.0   ) [CRAN]\n",
      "leaflet.e... (NA -> 1.0.0   ) [CRAN]\n",
      "mapedit      (NA -> 0.6.0   ) [CRAN]\n",
      "httpcache    (NA -> 1.1.0   ) [CRAN]\n"
     ]
    },
    {
     "name": "stderr",
     "output_type": "stream",
     "text": [
      "Installing 27 packages: KernSmooth, class, e1071, BH, commonmark, fastmap, sourcetools, xtable, httpuv, units, classInt, shiny, systemfonts, gdtools, svglite, brew, webshot, sf, satellite, leafpop, leafem, miniUI, mapview, leafpm, leaflet.extras, mapedit, httpcache\n",
      "\n"
     ]
    },
    {
     "ename": "ERROR",
     "evalue": "Error: Failed to install 'robis' from GitHub:\n  (converted from warning) installation of package ‘systemfonts’ had non-zero exit status\n",
     "output_type": "error",
     "traceback": [
      "Error: Failed to install 'robis' from GitHub:\n  (converted from warning) installation of package ‘systemfonts’ had non-zero exit status\nTraceback:\n",
      "1. remotes::install_github(\"iobis/robis\")   # at line 4 of file <text>",
      "2. install_remotes(remotes, auth_token = auth_token, host = host, \n .     dependencies = dependencies, upgrade = upgrade, force = force, \n .     quiet = quiet, build = build, build_opts = build_opts, build_manual = build_manual, \n .     build_vignettes = build_vignettes, repos = repos, type = type, \n .     ...)",
      "3. tryCatch(res[[i]] <- install_remote(remotes[[i]], ...), error = function(e) {\n .     stop(remote_install_error(remotes[[i]], e))\n . })",
      "4. tryCatchList(expr, classes, parentenv, handlers)",
      "5. tryCatchOne(expr, names, parentenv, handlers[[1L]])",
      "6. value[[3L]](cond)"
     ]
    }
   ],
   "source": [
    "installed <- rownames(installed.packages())\n",
    "if ( !(\"robis\" %in% installed) ){\n",
    "   if ( !(\"remotes\" %in% installed) )install.packages(\"remotes\")\n",
    "   remotes::install_github(\"iobis/robis\")\n",
    "}"
   ]
  },
  {
   "cell_type": "markdown",
   "metadata": {},
   "source": [
    "Once installed, load the robis package."
   ]
  },
  {
   "cell_type": "code",
   "execution_count": null,
   "metadata": {},
   "outputs": [],
   "source": [
    "library(robis)"
   ]
  },
  {
   "cell_type": "markdown",
   "metadata": {},
   "source": [
    "## Fetching occurences\n",
    "\n",
    "OBIS contains global location data for marine taxa. \n",
    "\n",
    "To fetch all occurrences for a taxon, pass a taxon name or vector of taxon names to the occurrence() function. The names() function will give a list of the column names, so you know what data is included. You can see that there is quite a lot of information for each sample."
   ]
  },
  {
   "cell_type": "code",
   "execution_count": null,
   "metadata": {},
   "outputs": [],
   "source": [
    "E.glacialis <- occurrence(\"Eubalaena glacialis\")\n",
    "names(E.glacialis)"
   ]
  }
 ],
 "metadata": {
  "kernelspec": {
   "display_name": "R",
   "language": "R",
   "name": "ir"
  },
  "language_info": {
   "codemirror_mode": "r",
   "file_extension": ".r",
   "mimetype": "text/x-r-source",
   "name": "R",
   "pygments_lexer": "r",
   "version": "3.6.3"
  }
 },
 "nbformat": 4,
 "nbformat_minor": 4
}
