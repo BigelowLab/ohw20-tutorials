{
 "cells": [
  {
   "cell_type": "markdown",
   "metadata": {},
   "source": [
    "## Deriving rasters from other rasters"
   ]
  },
  {
   "cell_type": "markdown",
   "metadata": {},
   "source": [
    "It is not uncommon to need to derive one set of rasters from another.  [Raster math](https://rspatial.org/raster/spatial/8-rastermanip.html#) is pretty easy, but sometimes the steps required can be tricky.  This trickiness includes computing a cumulative series, like cumulative SST.\n",
    "\n",
    "Here we'll make a cumulative series of CHLOR_A values from our monthly 2018 dataset from the Gulf of Maine. There are a number of ways to do this, but we describe here a very simple approach. First we load packages from our library, then we load our database and filter it to just monthly CHLOR_A in 2018."
   ]
  },
  {
   "cell_type": "code",
   "execution_count": 1,
   "metadata": {
    "kernel": "R",
    "tags": [
     "report_cell"
    ]
   },
   "outputs": [],
   "source": [
    "library(ohwobpg)\n",
    "library(raster)\n",
    "library(dplyr, warn.conflicts = FALSE)\n",
    "\n",
    "path <- system.file(\"gom\", package = \"ohwobpg\")\n",
    "db <- read_database(path) %>%\n",
    "  dplyr::filter(per == 'MO' &\n",
    "                param == 'chlor_a')\n",
    "db"
   ]
  },
  {
   "cell_type": "markdown",
   "metadata": {},
   "source": [
    "So now we have our 12 records.  Let's read them into a raster stack, `chl`."
   ]
  },
  {
   "cell_type": "code",
   "execution_count": 2,
   "metadata": {
    "kernel": "R",
    "tags": [
     "report_cell"
    ]
   },
   "outputs": [],
   "source": [
    "chl <- raster::stack(as_filename(db, path))"
   ]
  },
  {
   "cell_type": "markdown",
   "metadata": {},
   "source": [
    "Next we iterate through layers 2 through 12, computing the cumulative sum as we go. Afterwards, we'll give the layers more meaningful names."
   ]
  },
  {
   "cell_type": "code",
   "execution_count": 3,
   "metadata": {
    "kernel": "R",
    "tags": [
     "report_cell"
    ]
   },
   "outputs": [],
   "source": [
    "for (i in seq(from = 2, to = raster::nlayers(chl))){\n",
    "  chl[[i]] <- chl[[i]] + chl[[i-1]]\n",
    "}\n",
    "names(chl) <- format(db$date, \"%b\")\n",
    "chl"
   ]
  },
  {
   "cell_type": "markdown",
   "metadata": {},
   "source": [
    "Now we can do a simple plot for all 12 months.  Note how missing data data propagates forward in time. We'll use the [rasterVis](https://CRAN.R-project.org/package=rasterVis) package to draw, but if it isn't installed we'll just do a simple base-R plot that is similar."
   ]
  },
  {
   "cell_type": "code",
   "execution_count": 4,
   "metadata": {
    "kernel": "R",
    "tags": [
     "report_cell"
    ]
   },
   "outputs": [],
   "source": [
    "installed <- rownames(installed.packages())\n",
    "if (\"rasterVis\" %in% installed){\n",
    "  rasterVis::levelplot(log10(chl))\n",
    "} else {\n",
    "  breaks <- seq(from = -1, to = 2.5, by = 0.5)\n",
    "  # adapted from the [viridisLite]() package\n",
    "  # pal <- viridisLite::magma(length(breaks) - 1)\n",
    "  pal <- c(\"#000004FF\", \"#1D1147FF\", \"#51127CFF\", \"#822681FF\", \"#B63679FF\",\n",
    "           \"#E65164FF\", \"#FB8861FF\", \"#FEC287FF\", \"#FCFDBFFF\")\n",
    "  plot(log10(chl), col = pal, breaks = breaks)\n",
    "}"
   ]
  },
  {
   "cell_type": "markdown",
   "metadata": {},
   "source": [
    "![Derived raster images using rasterVis::levelplot()](deriving_rasters.png)"
   ]
  }
 ],
 "metadata": {
  "Rmd_chunk_options": {
   "author": "btupper",
   "date": "8/6/2020",
   "output": "html_document",
   "title": "deriving_rasters"
  },
  "kernelspec": {
   "display_name": "SoS",
   "language": "sos",
   "name": "sos"
  },
  "language_info": {
   "file_extension": ".sos",
   "mimetype": "text/x-sos",
   "name": "sos",
   "nbconvert_exporter": "sos_notebook.converter.SoS_Exporter",
   "pygments_lexer": "python"
  },
  "sos": {
   "kernels": [
    [
     "SoS",
     "sos",
     "",
     ""
    ],
    [
     "R",
     "ir",
     "",
     ""
    ]
   ]
  }
 },
 "nbformat": 4,
 "nbformat_minor": 4
}
