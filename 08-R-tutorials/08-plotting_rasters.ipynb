{
 "cells": [
  {
   "cell_type": "code",
   "execution_count": 1,
   "metadata": {
    "Rmd_chunk_options": "setup, include=FALSE",
    "jupyter": {
     "output_hidden": true,
     "source_hidden": true
    },
    "kernel": "R",
    "tags": [
     "scratch"
    ]
   },
   "outputs": [],
   "source": [
    "knitr::opts_chunk$set(echo = TRUE)"
   ]
  },
  {
   "cell_type": "markdown",
   "metadata": {},
   "source": [
    "## Install and load packages"
   ]
  },
  {
   "cell_type": "code",
   "execution_count": 2,
   "metadata": {
    "Rmd_chunk_options": "load_libraries, message=FALSE",
    "kernel": "R",
    "tags": [
     "report_cell"
    ]
   },
   "outputs": [],
   "source": [
    "# Load libraries\n",
    "library(raster)\n",
    "library(ggplot2)\n",
    "library(leaflet)\n",
    "library(dplyr)\n",
    "library(remotes)\n",
    "# Install ohwobpg package\n",
    "remotes::install_github(\"BigelowLab/ohwobpg\", quiet = TRUE)\n",
    "# Load ohwobpg package\n",
    "library(ohwobpg)"
   ]
  },
  {
   "cell_type": "markdown",
   "metadata": {},
   "source": [
    "## Initialize raster for visualization"
   ]
  },
  {
   "cell_type": "markdown",
   "metadata": {},
   "source": [
    "Once the necessary packages are loaded, we will start by creating a raster object from a pre-loaded ohwobpg database.  Specifically, we will be creating a raster object of sea surface temperature (SST) data for June of 2018."
   ]
  },
  {
   "cell_type": "code",
   "execution_count": 3,
   "metadata": {
    "Rmd_chunk_options": "init_raster, message=FALSE, warning=FALSE",
    "kernel": "R",
    "tags": [
     "report_cell"
    ]
   },
   "outputs": [],
   "source": [
    "# Load database\n",
    "path <- system.file(\"gom\", package = \"ohwobpg\")\n",
    "db <- read_database(path)\n",
    "\n",
    "# Subset database\n",
    "par_db <- db %>%\n",
    "  dplyr::filter(param == \"sst\" &\n",
    "                per == \"MO\" &\n",
    "                dplyr::between(date, as.Date(\"2018-05-15\"), as.Date(\"2018-09-26\")))\n",
    "\n",
    "# Create raster stack\n",
    "par <- par_db %>%                # start with the subset database\n",
    "  as_filename(path = path) %>%   # build filenames and append to the path\n",
    "  raster::stack()                # read them into a stack of images\n",
    "\n",
    "# Name layers\n",
    "names(par) <- format(par_db$date, \"%b\")\n",
    "\n",
    "# Isolate June\n",
    "r <- par$Jun"
   ]
  },
  {
   "cell_type": "markdown",
   "metadata": {},
   "source": [
    "## Plot rasters using base plot"
   ]
  },
  {
   "cell_type": "markdown",
   "metadata": {},
   "source": [
    "Next, we will plot the June 2018 SST raster object using the base R plot() function.  We simply call the plot() function with the raster object as the argument.  For more options to make fancier plots with base plot and a more detailed example, see https://www.neonscience.org/dc-plot-raster-data-r."
   ]
  },
  {
   "cell_type": "code",
   "execution_count": 4,
   "metadata": {
    "Rmd_chunk_options": "base_plot, message=FALSE, warning=FALSE",
    "kernel": "R",
    "tags": [
     "report_cell"
    ]
   },
   "outputs": [],
   "source": [
    "plot(r)"
   ]
  },
  {
   "cell_type": "markdown",
   "metadata": {},
   "source": [
    "## Plot rasters using ggplot2"
   ]
  },
  {
   "cell_type": "markdown",
   "metadata": {},
   "source": [
    "Next, we will plot the same raster object using the package ggplot2.  First, the user needs to convert the raster object to a dataframe with coordinates, using as.data.frame(*raster*, xy = TRUE).  Next, the dataframe can be plotted using geom_tile().  For an in-depth example of how to plot a raster using ggplot2 and geom_tile(), see https://ggplot2.tidyverse.org/reference/geom_tile.html."
   ]
  },
  {
   "cell_type": "code",
   "execution_count": 5,
   "metadata": {
    "Rmd_chunk_options": "ggplot2, message=FALSE, warning=FALSE",
    "kernel": "R",
    "tags": [
     "report_cell"
    ]
   },
   "outputs": [],
   "source": [
    "# Convert raster to dataframe\n",
    "r_df <- as.data.frame(r, xy = TRUE)\n",
    "# Plot dataframe using ggplot2\n",
    "ggplot(data = r_df, mapping = aes(x = x, y = y, color = Jun, fill = Jun)) +\n",
    "  # Add raster data\n",
    "  geom_tile() +\n",
    "  # Change NA fill color to white\n",
    "  scale_fill_continuous(na.value = \"white\") +\n",
    "  scale_color_continuous(na.value = \"white\") +\n",
    "  # Add axes labels\n",
    "  labs(x = \"Lon\",\n",
    "       y = \"Lat\")"
   ]
  },
  {
   "cell_type": "markdown",
   "metadata": {},
   "source": [
    "## Plot rasters using leaflet"
   ]
  },
  {
   "cell_type": "markdown",
   "metadata": {},
   "source": [
    "Finally, we will plot the raster object on a leaflet interactive map.  The leaflet::addRasterImage() function allows the user to plot raster objects on the map.  For a more detailed example, see https://rstudio.github.io/leaflet/raster.html."
   ]
  },
  {
   "cell_type": "code",
   "execution_count": 6,
   "metadata": {
    "Rmd_chunk_options": "leaflet, message=FALSE, warning=FALSE",
    "kernel": "R",
    "tags": [
     "report_cell"
    ]
   },
   "outputs": [],
   "source": [
    "leaflet::leaflet() %>% leaflet::addTiles(group = \"Standard\") %>%\n",
    "            # Add satellite imagery\n",
    "            leaflet::addProviderTiles('Esri.WorldImagery', group = \"Satellite\") %>%\n",
    "            # Define bounds\n",
    "            leaflet::fitBounds(lng1 = min(r_df$x),\n",
    "                               lat1 = min(r_df$y),\n",
    "                               lng2 = max(r_df$x),\n",
    "                               lat2 = max(r_df$y)) %>%\n",
    "            # Add raster data\n",
    "            leaflet::addRasterImage(r)"
   ]
  }
 ],
 "metadata": {
  "Rmd_chunk_options": {
   "author": "Camille Ross",
   "date": "8/4/2020",
   "output": "html_document",
   "title": "Plotting rasters"
  },
  "kernelspec": {
   "display_name": "SoS",
   "language": "sos",
   "name": "sos"
  },
  "language_info": {
   "file_extension": ".sos",
   "mimetype": "text/x-sos",
   "name": "sos",
   "nbconvert_exporter": "sos_notebook.converter.SoS_Exporter",
   "pygments_lexer": "python"
  },
  "sos": {
   "kernels": [
    [
     "SoS",
     "sos",
     "",
     ""
    ],
    [
     "R",
     "ir",
     "",
     ""
    ]
   ]
  }
 },
 "nbformat": 4,
 "nbformat_minor": 4
}
